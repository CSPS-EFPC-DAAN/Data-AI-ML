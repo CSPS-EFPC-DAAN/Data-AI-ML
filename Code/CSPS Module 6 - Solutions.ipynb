{
 "cells": [
  {
   "cell_type": "markdown",
   "metadata": {},
   "source": [
    "# Module 6 - Solutions <a name=\"top\"></a>\n",
    "\n",
    "1. [Sampling](#sampling)\n",
    "2. [Data Wrangling](#wrangling)\n",
    "\n",
    "---\n",
    "[Back to top](#top)"
   ]
  },
  {
   "cell_type": "markdown",
   "metadata": {},
   "source": [
    "## SAMPLING <a name=\"sampling\"></a>\n",
    "\n",
    "*Exercise:* You are charged with estimating the yearly salary of data scientists in Canada. Identify potential: \n",
    "- populations (target, study, respondent, sampling frames)\n",
    "- samples (intended, achieved)\n",
    "- unit information (unit, response variate, population attribute)\n",
    "- sources of bias (coverage, nonresponse, sampling, measurement) and variability (sampling, measurement).  \n",
    "\n",
    "*Solution:* here are some possible answers.\n",
    "- **Target Population:** all data scientists in Canada (is that a well-defined population?)\n",
    "- **Study Population:** this one poses a big challenge as there is no professional association of data scientists in Canada which is likely to contain even a fair number of data scientists (at least, none that we are aware/members of). Perhaps we could use membership lists of the Statistical Society of Canada? Or scrape social platforms like [LinkedIn](http://www.linkedin.com) for Canadian data scientists? \n",
    "- **Sampling Frame:** SSC membership directory, or the scraped LinkedIn data.\n",
    "- **Intended Sample:** a sample of SSC members or LinkedIn account holders who have been identified as data scientists.\n",
    "- **Respondent Population:** those SSC members or LinkedIn-identified data scientists who would respond if selected to participate.\n",
    "- **Unit:** a data scientists.\n",
    "- **Response Variate:** the salary of a data scientist.\n",
    "- **Population Attribute:** the average salary of all data scientists in the population.\n",
    "- **Coverage Bias:** in terms of salary, SSC members or LinkedIn-identified data scientists might not be representative of all data scientists in Canada. \n",
    "- **Nonresponse Bias:** in terms of salary, SSC members or LinkedIn-identified data scientists who would respond if selected might not be representative of all data scientists in Canada. \n",
    "- **Sampling Bias:** for those SSC members or LinkedIn-identified data scientists who would respond if selected, it could be that those that are sampled are not representative (in terms of salary) of all who would have responded if selected.\n",
    "- **Measurement Bias:** for some or all of the SSC members or LinkedIn-identified data scientists who participated in the study, the actual salaries might not have been assessed correctly. \n",
    "- **Sampling Variability:** different samples of SSC members or LinkedIn-identified data scientists who would respond if selected might produce different results in terms of salary. \n",
    "- **Measurement Variability:** for those SSC members or LinkedIn-identified data scientists who participated in the survey, reapeatedly asking an individual about their salary could produce a number of different responses. \n",
    "\n",
    "*Exercise:* The file `cities.txt` contains population information for a country’s cities. A city is classified as \"small\" if its population is below 75K, as \"medium\" if it falls between 75K and 1M, and as \"large\" otherwise. \n",
    "1. Locate and load the file into the workspace of your choice. How many cities are there? How many in each group? \n",
    "2. Display summary population statistics for the cities, both overall and by group.\n",
    "3. Compute a 95% C.I. for the 1999 population mean using a SRS of size $n=10$.  \n",
    "4. Compute a 95% C.I. for the 1999 population mean using a StS of size $(n_s,n_m,n_l)=(5,3,2).$\n",
    "5. Compare the estimates with the true value. Are the results surprising? If not, could they have been?   \n",
    "\n",
    "*Solution:* \n",
    "The file is located in the `Data` folder. It can be loaded using the regular functionality, and investigated at a high-level using the `str()` and `summary()` call. \n"
   ]
  },
  {
   "cell_type": "code",
   "execution_count": 64,
   "metadata": {
    "collapsed": false
   },
   "outputs": [
    {
     "name": "stdout",
     "output_type": "stream",
     "text": [
      "'data.frame':\t37 obs. of  3 variables:\n",
      " $ category       : Factor w/ 3 levels \"large\",\"medium\",..: 3 3 3 3 3 3 3 3 3 3 ...\n",
      " $ population_1999: int  4590 5210 6030 6580 7300 7940 7960 8430 8750 9080 ...\n",
      " $ population_2019: int  5090 7090 7710 8120 7320 6780 10050 11060 12140 12480 ...\n"
     ]
    },
    {
     "data": {
      "text/plain": [
       "   category  population_1999   population_2019  \n",
       " large : 2   Min.   :   4590   Min.   :   5090  \n",
       " medium: 6   1st Qu.:   9080   1st Qu.:  12480  \n",
       " small :29   Median :  29500   Median :  31160  \n",
       "             Mean   : 201091   Mean   : 249796  \n",
       "             3rd Qu.:  43360   3rd Qu.:  52250  \n",
       "             Max.   :3009490   Max.   :3742940  "
      ]
     },
     "metadata": {},
     "output_type": "display_data"
    },
    {
     "data": {},
     "metadata": {},
     "output_type": "display_data"
    },
    {
     "data": {
      "image/png": "[encoded data removed]",
      "text/plain": [
       "plot without title"
      ]
     },
     "metadata": {},
     "output_type": "display_data"
    }
   ],
   "source": [
    "cities <- read.csv('Data/cities.txt',sep=\"\\t\") # what happens if the +++,sep=\"\\t\"+++ option is removed?  \n",
    "str(cities)\n",
    "summary(cities)\n",
    "library(ggplot2)\n",
    "qplot(population_1999,population_2019,data=cities) "
   ]
  },
  {
   "cell_type": "markdown",
   "metadata": {
    "collapsed": false
   },
   "source": [
    "Evidently, the dataset consists of the populations of 37 cities, in 1999 and in 2019; 2 of which are classified as **large**, 6 as **medium** and 29 as **small**. Does this make sense to you? Are the classifications constant over the 20 year interval? \n",
    "\n",
    "Summary statistics can also be gleamed from the `describe()` function (loaded with the `psych` package). "
   ]
  },
  {
   "cell_type": "code",
   "execution_count": 5,
   "metadata": {
    "collapsed": false
   },
   "outputs": [
    {
     "name": "stderr",
     "output_type": "stream",
     "text": [
      "\n",
      "Attaching package: ‘psych’\n",
      "\n",
      "The following object is masked _by_ ‘.GlobalEnv’:\n",
      "\n",
      "    cities\n",
      "\n"
     ]
    },
    {
     "data": {
      "text/html": [
       "<table>\n",
       "<thead><tr><th></th><th scope=col>vars</th><th scope=col>n</th><th scope=col>mean</th><th scope=col>sd</th><th scope=col>median</th><th scope=col>trimmed</th><th scope=col>mad</th><th scope=col>min</th><th scope=col>max</th><th scope=col>range</th><th scope=col>skew</th><th scope=col>kurtosis</th><th scope=col>se</th></tr></thead>\n",
       "<tbody>\n",
       "\t<tr><th scope=row>population_1999</th><td>1       </td><td>37      </td><td>201090.8</td><td>666239.4</td><td>29500   </td><td>41693.23</td><td>30274.69</td><td>4590    </td><td>3009490 </td><td>3004900 </td><td>3.744705</td><td>12.49076</td><td>109529.1</td></tr>\n",
       "\t<tr><th scope=row>population_2019</th><td>2       </td><td>37      </td><td>249796.5</td><td>838340.9</td><td>31160   </td><td>49518.39</td><td>28199.05</td><td>5090    </td><td>3742940 </td><td>3737850 </td><td>3.746101</td><td>12.48192</td><td>137822.4</td></tr>\n",
       "</tbody>\n",
       "</table>\n"
      ],
      "text/latex": [
       "\\begin{tabular}{r|lllllllllllll}\n",
       "  & vars & n & mean & sd & median & trimmed & mad & min & max & range & skew & kurtosis & se\\\\\n",
       "\\hline\n",
       "\tpopulation\\_1999 & 1        & 37       & 201090.8 & 666239.4 & 29500    & 41693.23 & 30274.69 & 4590     & 3009490  & 3004900  & 3.744705 & 12.49076 & 109529.1\\\\\n",
       "\tpopulation\\_2019 & 2        & 37       & 249796.5 & 838340.9 & 31160    & 49518.39 & 28199.05 & 5090     & 3742940  & 3737850  & 3.746101 & 12.48192 & 137822.4\\\\\n",
       "\\end{tabular}\n"
      ],
      "text/markdown": [
       "\n",
       "| <!--/--> | vars | n | mean | sd | median | trimmed | mad | min | max | range | skew | kurtosis | se | \n",
       "|---|---|\n",
       "| population_1999 | 1        | 37       | 201090.8 | 666239.4 | 29500    | 41693.23 | 30274.69 | 4590     | 3009490  | 3004900  | 3.744705 | 12.49076 | 109529.1 | \n",
       "| population_2019 | 2        | 37       | 249796.5 | 838340.9 | 31160    | 49518.39 | 28199.05 | 5090     | 3742940  | 3737850  | 3.746101 | 12.48192 | 137822.4 | \n",
       "\n",
       "\n"
      ],
      "text/plain": [
       "                vars n  mean     sd       median trimmed  mad      min  max    \n",
       "population_1999 1    37 201090.8 666239.4 29500  41693.23 30274.69 4590 3009490\n",
       "population_2019 2    37 249796.5 838340.9 31160  49518.39 28199.05 5090 3742940\n",
       "                range   skew     kurtosis se      \n",
       "population_1999 3004900 3.744705 12.49076 109529.1\n",
       "population_2019 3737850 3.746101 12.48192 137822.4"
      ]
     },
     "metadata": {},
     "output_type": "display_data"
    }
   ],
   "source": [
    "library(psych)\n",
    "describe(cities[,2:3])"
   ]
  },
  {
   "cell_type": "markdown",
   "metadata": {
    "collapsed": false
   },
   "source": [
    "The statistics by groups can be obtained by first separating the data into 3 subsets (that's not the only way to do this, of course... we'll re-visit at a later stage in this module):"
   ]
  },
  {
   "cell_type": "code",
   "execution_count": 16,
   "metadata": {
    "collapsed": false
   },
   "outputs": [
    {
     "data": {
      "text/plain": [
       "   category population_1999   population_2019  \n",
       " large :2   Min.   :2869350   Min.   :3652020  \n",
       " medium:0   1st Qu.:2904385   1st Qu.:3674750  \n",
       " small :0   Median :2939420   Median :3697480  \n",
       "            Mean   :2939420   Mean   :3697480  \n",
       "            3rd Qu.:2974455   3rd Qu.:3720210  \n",
       "            Max.   :3009490   Max.   :3742940  "
      ]
     },
     "metadata": {},
     "output_type": "display_data"
    },
    {
     "data": {
      "text/html": [
       "<table>\n",
       "<thead><tr><th></th><th scope=col>vars</th><th scope=col>n</th><th scope=col>mean</th><th scope=col>sd</th><th scope=col>median</th><th scope=col>trimmed</th><th scope=col>mad</th><th scope=col>min</th><th scope=col>max</th><th scope=col>range</th><th scope=col>skew</th><th scope=col>kurtosis</th><th scope=col>se</th></tr></thead>\n",
       "<tbody>\n",
       "\t<tr><th scope=row>population_1999</th><td>1       </td><td>2       </td><td>2939420 </td><td>99093.94</td><td>2939420 </td><td>2939420 </td><td>103885.8</td><td>2869350 </td><td>3009490 </td><td>140140  </td><td>0       </td><td>-2.75   </td><td>70070   </td></tr>\n",
       "\t<tr><th scope=row>population_2019</th><td>2       </td><td>2       </td><td>3697480 </td><td>64290.15</td><td>3697480 </td><td>3697480 </td><td> 67399.0</td><td>3652020 </td><td>3742940 </td><td> 90920  </td><td>0       </td><td>-2.75   </td><td>45460   </td></tr>\n",
       "</tbody>\n",
       "</table>\n"
      ],
      "text/latex": [
       "\\begin{tabular}{r|lllllllllllll}\n",
       "  & vars & n & mean & sd & median & trimmed & mad & min & max & range & skew & kurtosis & se\\\\\n",
       "\\hline\n",
       "\tpopulation\\_1999 & 1        & 2        & 2939420  & 99093.94 & 2939420  & 2939420  & 103885.8 & 2869350  & 3009490  & 140140   & 0        & -2.75    & 70070   \\\\\n",
       "\tpopulation\\_2019 & 2        & 2        & 3697480  & 64290.15 & 3697480  & 3697480  &  67399.0 & 3652020  & 3742940  &  90920   & 0        & -2.75    & 45460   \\\\\n",
       "\\end{tabular}\n"
      ],
      "text/markdown": [
       "\n",
       "| <!--/--> | vars | n | mean | sd | median | trimmed | mad | min | max | range | skew | kurtosis | se | \n",
       "|---|---|\n",
       "| population_1999 | 1        | 2        | 2939420  | 99093.94 | 2939420  | 2939420  | 103885.8 | 2869350  | 3009490  | 140140   | 0        | -2.75    | 70070    | \n",
       "| population_2019 | 2        | 2        | 3697480  | 64290.15 | 3697480  | 3697480  |  67399.0 | 3652020  | 3742940  |  90920   | 0        | -2.75    | 45460    | \n",
       "\n",
       "\n"
      ],
      "text/plain": [
       "                vars n mean    sd       median  trimmed mad      min    \n",
       "population_1999 1    2 2939420 99093.94 2939420 2939420 103885.8 2869350\n",
       "population_2019 2    2 3697480 64290.15 3697480 3697480  67399.0 3652020\n",
       "                max     range  skew kurtosis se   \n",
       "population_1999 3009490 140140 0    -2.75    70070\n",
       "population_2019 3742940  90920 0    -2.75    45460"
      ]
     },
     "metadata": {},
     "output_type": "display_data"
    }
   ],
   "source": [
    "cities_large <- subset(cities, category==\"large\") # note the \"==\", instead of simply \"=\"\n",
    "summary(cities_large)\n",
    "describe(cities_large[,2:3])"
   ]
  },
  {
   "cell_type": "code",
   "execution_count": 17,
   "metadata": {
    "collapsed": false
   },
   "outputs": [
    {
     "data": {
      "text/plain": [
       "   category population_1999  population_2019 \n",
       " large :0   Min.   : 80720   Min.   : 81750  \n",
       " medium:6   1st Qu.: 93658   1st Qu.:107170  \n",
       " small :0   Median :148265   Median :176750  \n",
       "            Mean   :152875   Mean   :179953  \n",
       "            3rd Qu.:195575   3rd Qu.:244448  \n",
       "            Max.   :253200   Max.   :293480  "
      ]
     },
     "metadata": {},
     "output_type": "display_data"
    },
    {
     "data": {
      "text/html": [
       "<table>\n",
       "<thead><tr><th></th><th scope=col>vars</th><th scope=col>n</th><th scope=col>mean</th><th scope=col>sd</th><th scope=col>median</th><th scope=col>trimmed</th><th scope=col>mad</th><th scope=col>min</th><th scope=col>max</th><th scope=col>range</th><th scope=col>skew</th><th scope=col>kurtosis</th><th scope=col>se</th></tr></thead>\n",
       "<tbody>\n",
       "\t<tr><th scope=row>population_1999</th><td>1         </td><td>6         </td><td>152875.0  </td><td>70933.87  </td><td>148265    </td><td>152875.0  </td><td> 78459.19 </td><td>80720     </td><td>253200    </td><td>172480    </td><td>0.19463840</td><td>-1.973643 </td><td>28958.63  </td></tr>\n",
       "\t<tr><th scope=row>population_2019</th><td>2         </td><td>6         </td><td>179953.3  </td><td>90642.84  </td><td>176750    </td><td>179953.3  </td><td>102751.59 </td><td>81750     </td><td>293480    </td><td>211730    </td><td>0.06759059</td><td>-2.144774 </td><td>37004.78  </td></tr>\n",
       "</tbody>\n",
       "</table>\n"
      ],
      "text/latex": [
       "\\begin{tabular}{r|lllllllllllll}\n",
       "  & vars & n & mean & sd & median & trimmed & mad & min & max & range & skew & kurtosis & se\\\\\n",
       "\\hline\n",
       "\tpopulation\\_1999 & 1          & 6          & 152875.0   & 70933.87   & 148265     & 152875.0   &  78459.19  & 80720      & 253200     & 172480     & 0.19463840 & -1.973643  & 28958.63  \\\\\n",
       "\tpopulation\\_2019 & 2          & 6          & 179953.3   & 90642.84   & 176750     & 179953.3   & 102751.59  & 81750      & 293480     & 211730     & 0.06759059 & -2.144774  & 37004.78  \\\\\n",
       "\\end{tabular}\n"
      ],
      "text/markdown": [
       "\n",
       "| <!--/--> | vars | n | mean | sd | median | trimmed | mad | min | max | range | skew | kurtosis | se | \n",
       "|---|---|\n",
       "| population_1999 | 1          | 6          | 152875.0   | 70933.87   | 148265     | 152875.0   |  78459.19  | 80720      | 253200     | 172480     | 0.19463840 | -1.973643  | 28958.63   | \n",
       "| population_2019 | 2          | 6          | 179953.3   | 90642.84   | 176750     | 179953.3   | 102751.59  | 81750      | 293480     | 211730     | 0.06759059 | -2.144774  | 37004.78   | \n",
       "\n",
       "\n"
      ],
      "text/plain": [
       "                vars n mean     sd       median trimmed  mad       min   max   \n",
       "population_1999 1    6 152875.0 70933.87 148265 152875.0  78459.19 80720 253200\n",
       "population_2019 2    6 179953.3 90642.84 176750 179953.3 102751.59 81750 293480\n",
       "                range  skew       kurtosis  se      \n",
       "population_1999 172480 0.19463840 -1.973643 28958.63\n",
       "population_2019 211730 0.06759059 -2.144774 37004.78"
      ]
     },
     "metadata": {},
     "output_type": "display_data"
    }
   ],
   "source": [
    "cities_medium <- subset(cities, category==\"medium\")\n",
    "summary(cities_medium)\n",
    "describe(cities_medium[,2:3])"
   ]
  },
  {
   "cell_type": "code",
   "execution_count": 18,
   "metadata": {
    "collapsed": false
   },
   "outputs": [
    {
     "data": {
      "text/plain": [
       "   category  population_1999 population_2019\n",
       " large : 0   Min.   : 4590   Min.   : 5090  \n",
       " medium: 0   1st Qu.: 8430   1st Qu.:11060  \n",
       " small :29   Median :20520   Median :25000  \n",
       "             Mean   :22216   Mean   :26476  \n",
       "             3rd Qu.:30900   3rd Qu.:37120  \n",
       "             Max.   :58080   Max.   :63730  "
      ]
     },
     "metadata": {},
     "output_type": "display_data"
    },
    {
     "data": {
      "text/html": [
       "<table>\n",
       "<thead><tr><th></th><th scope=col>vars</th><th scope=col>n</th><th scope=col>mean</th><th scope=col>sd</th><th scope=col>median</th><th scope=col>trimmed</th><th scope=col>mad</th><th scope=col>min</th><th scope=col>max</th><th scope=col>range</th><th scope=col>skew</th><th scope=col>kurtosis</th><th scope=col>se</th></tr></thead>\n",
       "<tbody>\n",
       "\t<tr><th scope=row>population_1999</th><td>1         </td><td>29        </td><td>22216.21  </td><td>14378.98  </td><td>20520     </td><td>21321.2   </td><td>17924.63  </td><td>4590      </td><td>58080     </td><td>53490     </td><td>0.5562011 </td><td>-0.6781139</td><td>2670.110  </td></tr>\n",
       "\t<tr><th scope=row>population_2019</th><td>2         </td><td>29        </td><td>26475.52  </td><td>16402.64  </td><td>25000     </td><td>25597.6   </td><td>20667.44  </td><td>5090      </td><td>63730     </td><td>58640     </td><td>0.4088084 </td><td>-0.9556398</td><td>3045.894  </td></tr>\n",
       "</tbody>\n",
       "</table>\n"
      ],
      "text/latex": [
       "\\begin{tabular}{r|lllllllllllll}\n",
       "  & vars & n & mean & sd & median & trimmed & mad & min & max & range & skew & kurtosis & se\\\\\n",
       "\\hline\n",
       "\tpopulation\\_1999 & 1          & 29         & 22216.21   & 14378.98   & 20520      & 21321.2    & 17924.63   & 4590       & 58080      & 53490      & 0.5562011  & -0.6781139 & 2670.110  \\\\\n",
       "\tpopulation\\_2019 & 2          & 29         & 26475.52   & 16402.64   & 25000      & 25597.6    & 20667.44   & 5090       & 63730      & 58640      & 0.4088084  & -0.9556398 & 3045.894  \\\\\n",
       "\\end{tabular}\n"
      ],
      "text/markdown": [
       "\n",
       "| <!--/--> | vars | n | mean | sd | median | trimmed | mad | min | max | range | skew | kurtosis | se | \n",
       "|---|---|\n",
       "| population_1999 | 1          | 29         | 22216.21   | 14378.98   | 20520      | 21321.2    | 17924.63   | 4590       | 58080      | 53490      | 0.5562011  | -0.6781139 | 2670.110   | \n",
       "| population_2019 | 2          | 29         | 26475.52   | 16402.64   | 25000      | 25597.6    | 20667.44   | 5090       | 63730      | 58640      | 0.4088084  | -0.9556398 | 3045.894   | \n",
       "\n",
       "\n"
      ],
      "text/plain": [
       "                vars n  mean     sd       median trimmed mad      min  max  \n",
       "population_1999 1    29 22216.21 14378.98 20520  21321.2 17924.63 4590 58080\n",
       "population_2019 2    29 26475.52 16402.64 25000  25597.6 20667.44 5090 63730\n",
       "                range skew      kurtosis   se      \n",
       "population_1999 53490 0.5562011 -0.6781139 2670.110\n",
       "population_2019 58640 0.4088084 -0.9556398 3045.894"
      ]
     },
     "metadata": {},
     "output_type": "display_data"
    }
   ],
   "source": [
    "cities_small <- subset(cities, category==\"small\")\n",
    "summary(cities_small)\n",
    "describe(cities_small[,2:3])"
   ]
  },
  {
   "cell_type": "markdown",
   "metadata": {},
   "source": [
    "Let's start by picking a sample of size 10 for the data. "
   ]
  },
  {
   "cell_type": "code",
   "execution_count": 53,
   "metadata": {
    "collapsed": false
   },
   "outputs": [
    {
     "data": {
      "text/html": [
       "<table>\n",
       "<thead><tr><th></th><th scope=col>category</th><th scope=col>population_1999</th><th scope=col>population_2019</th></tr></thead>\n",
       "<tbody>\n",
       "\t<tr><th scope=row>7</th><td>small  </td><td>   7960</td><td>  10050</td></tr>\n",
       "\t<tr><th scope=row>26</th><td>small  </td><td>  40940</td><td>  49040</td></tr>\n",
       "\t<tr><th scope=row>21</th><td>small  </td><td>  29930</td><td>  31160</td></tr>\n",
       "\t<tr><th scope=row>6</th><td>small  </td><td>   7940</td><td>   6780</td></tr>\n",
       "\t<tr><th scope=row>32</th><td>medium </td><td> 103190</td><td> 110110</td></tr>\n",
       "\t<tr><th scope=row>31</th><td>medium </td><td>  90480</td><td> 106190</td></tr>\n",
       "\t<tr><th scope=row>5</th><td>small  </td><td>   7300</td><td>   7320</td></tr>\n",
       "\t<tr><th scope=row>36</th><td>large  </td><td>2869350</td><td>3652020</td></tr>\n",
       "\t<tr><th scope=row>14</th><td>small  </td><td>  18990</td><td>  23170</td></tr>\n",
       "\t<tr><th scope=row>16</th><td>small  </td><td>  21130</td><td>  27840</td></tr>\n",
       "</tbody>\n",
       "</table>\n"
      ],
      "text/latex": [
       "\\begin{tabular}{r|lll}\n",
       "  & category & population\\_1999 & population\\_2019\\\\\n",
       "\\hline\n",
       "\t7 & small   &    7960 &   10050\\\\\n",
       "\t26 & small   &   40940 &   49040\\\\\n",
       "\t21 & small   &   29930 &   31160\\\\\n",
       "\t6 & small   &    7940 &    6780\\\\\n",
       "\t32 & medium  &  103190 &  110110\\\\\n",
       "\t31 & medium  &   90480 &  106190\\\\\n",
       "\t5 & small   &    7300 &    7320\\\\\n",
       "\t36 & large   & 2869350 & 3652020\\\\\n",
       "\t14 & small   &   18990 &   23170\\\\\n",
       "\t16 & small   &   21130 &   27840\\\\\n",
       "\\end{tabular}\n"
      ],
      "text/markdown": [
       "\n",
       "| <!--/--> | category | population_1999 | population_2019 | \n",
       "|---|---|---|---|---|---|---|---|---|---|\n",
       "| 7 | small   |    7960 |   10050 | \n",
       "| 26 | small   |   40940 |   49040 | \n",
       "| 21 | small   |   29930 |   31160 | \n",
       "| 6 | small   |    7940 |    6780 | \n",
       "| 32 | medium  |  103190 |  110110 | \n",
       "| 31 | medium  |   90480 |  106190 | \n",
       "| 5 | small   |    7300 |    7320 | \n",
       "| 36 | large   | 2869350 | 3652020 | \n",
       "| 14 | small   |   18990 |   23170 | \n",
       "| 16 | small   |   21130 |   27840 | \n",
       "\n",
       "\n"
      ],
      "text/plain": [
       "   category population_1999 population_2019\n",
       "7  small       7960           10050        \n",
       "26 small      40940           49040        \n",
       "21 small      29930           31160        \n",
       "6  small       7940            6780        \n",
       "32 medium    103190          110110        \n",
       "31 medium     90480          106190        \n",
       "5  small       7300            7320        \n",
       "36 large    2869350         3652020        \n",
       "14 small      18990           23170        \n",
       "16 small      21130           27840        "
      ]
     },
     "metadata": {},
     "output_type": "display_data"
    }
   ],
   "source": [
    "set.seed(2)\n",
    "N=dim(cities)[1]\n",
    "n=10\n",
    "(cities_SRS = cities[sample(1:N,n, replace=FALSE),])"
   ]
  },
  {
   "cell_type": "markdown",
   "metadata": {},
   "source": [
    "For each year, the SRS estimate for $\\mu$ is given simply by computing the mean of the population in the sample: "
   ]
  },
  {
   "cell_type": "code",
   "execution_count": 48,
   "metadata": {
    "collapsed": false
   },
   "outputs": [
    {
     "data": {
      "text/html": [
       "<dl class=dl-horizontal>\n",
       "\t<dt>population_1999</dt>\n",
       "\t\t<dd>319721</dd>\n",
       "\t<dt>population_2019</dt>\n",
       "\t\t<dd>402368</dd>\n",
       "</dl>\n"
      ],
      "text/latex": [
       "\\begin{description*}\n",
       "\\item[population\\textbackslash{}\\_1999] 319721\n",
       "\\item[population\\textbackslash{}\\_2019] 402368\n",
       "\\end{description*}\n"
      ],
      "text/markdown": [
       "population_1999\n",
       ":   319721population_2019\n",
       ":   402368\n",
       "\n"
      ],
      "text/plain": [
       "population_1999 population_2019 \n",
       "         319721          402368 "
      ]
     },
     "metadata": {},
     "output_type": "display_data"
    }
   ],
   "source": [
    "(mean_SRS=sapply(Filter(is.numeric, cities_SRS), mean))"
   ]
  },
  {
   "cell_type": "markdown",
   "metadata": {},
   "source": [
    "Under SRS, the bound on the error is given by $$B=2\\sqrt{\\frac{s^2}{n}(1-\\frac{n}{N})},$$ where $s$ is the standard deviation of the sample, $n$ the sample size, and $N$ the population size:"
   ]
  },
  {
   "cell_type": "markdown",
   "metadata": {},
   "source": [
    "(sd_SRS=sapply(Filter(is.numeric, cities_SRS), sd))\n",
    "(bound_SRS = 2*sqrt(sd_SRS^2/n*(1-n/N)))"
   ]
  },
  {
   "cell_type": "markdown",
   "metadata": {
    "collapsed": false
   },
   "source": [
    "Finally, the 95% C.I. is given by `mean_SRS` $\\pm$ `bound_SRS`, which yields: "
   ]
  },
  {
   "cell_type": "code",
   "execution_count": 60,
   "metadata": {
    "collapsed": false
   },
   "outputs": [
    {
     "data": {
      "text/html": [
       "<table>\n",
       "<tbody>\n",
       "\t<tr><th scope=row>population_1999</th><td>-164629.1</td><td> 804071.1</td></tr>\n",
       "\t<tr><th scope=row>population_2019</th><td>-214858.7</td><td>1019594.7</td></tr>\n",
       "</tbody>\n",
       "</table>\n"
      ],
      "text/latex": [
       "\\begin{tabular}{r|ll}\n",
       "\tpopulation\\_1999 & -164629.1 &  804071.1\\\\\n",
       "\tpopulation\\_2019 & -214858.7 & 1019594.7\\\\\n",
       "\\end{tabular}\n"
      ],
      "text/markdown": [
       "\n",
       "| population_1999 | -164629.1 |  804071.1 | \n",
       "| population_2019 | -214858.7 | 1019594.7 | \n",
       "\n",
       "\n"
      ],
      "text/plain": [
       "                [,1]      [,2]     \n",
       "population_1999 -164629.1  804071.1\n",
       "population_2019 -214858.7 1019594.7"
      ]
     },
     "metadata": {},
     "output_type": "display_data"
    }
   ],
   "source": [
    "(CI_SRS = cbind(mean_SRS-bound_SRS,mean_SRS+bound_SRS))"
   ]
  },
  {
   "cell_type": "markdown",
   "metadata": {
    "collapsed": false
   },
   "source": [
    "That is, we would expect the mean population of the cities to fall between the lower bound and the upper bound obtained this way roughly 19 times out of every 20 times we sampled the data using SRS. \n",
    "\n",
    "This is undeniably the case with this sample (the true means were 201,091 in 1999 and 249,796 in 2019), but it lacks  entirely on the information scale (the confidence intervals are so wide as to include negative values!)\n",
    "\n",
    "A tighter confidence interval can be built using **stratified random sampling** (StS); as advised, we shall pick a sample of size $n=10$ but we will allocate it according to the following rule: $(n_s,n_m,n_l)=(5,3,2)$ (this has the effect of guaranteeing that both large cities are selected in the sample). Note that we have $(N_s,N_m,N_l)=(29,6,2)$."
   ]
  },
  {
   "cell_type": "code",
   "execution_count": 63,
   "metadata": {
    "collapsed": false
   },
   "outputs": [
    {
     "data": {
      "text/html": [
       "<dl class=dl-horizontal>\n",
       "\t<dt>population_1999</dt>\n",
       "\t\t<dd>213199.945945946</dd>\n",
       "\t<dt>population_2019</dt>\n",
       "\t\t<dd>267332.648648649</dd>\n",
       "</dl>\n"
      ],
      "text/latex": [
       "\\begin{description*}\n",
       "\\item[population\\textbackslash{}\\_1999] 213199.945945946\n",
       "\\item[population\\textbackslash{}\\_2019] 267332.648648649\n",
       "\\end{description*}\n"
      ],
      "text/markdown": [
       "population_1999\n",
       ":   213199.945945946population_2019\n",
       ":   267332.648648649\n",
       "\n"
      ],
      "text/plain": [
       "population_1999 population_2019 \n",
       "       213199.9        267332.6 "
      ]
     },
     "metadata": {},
     "output_type": "display_data"
    },
    {
     "data": {
      "text/html": [
       "<table>\n",
       "<tbody>\n",
       "\t<tr><th scope=row>population_1999</th><td>199130.4</td><td>227269.5</td></tr>\n",
       "\t<tr><th scope=row>population_2019</th><td>249192.2</td><td>285473.1</td></tr>\n",
       "</tbody>\n",
       "</table>\n"
      ],
      "text/latex": [
       "\\begin{tabular}{r|ll}\n",
       "\tpopulation\\_1999 & 199130.4 & 227269.5\\\\\n",
       "\tpopulation\\_2019 & 249192.2 & 285473.1\\\\\n",
       "\\end{tabular}\n"
      ],
      "text/markdown": [
       "\n",
       "| population_1999 | 199130.4 | 227269.5 | \n",
       "| population_2019 | 249192.2 | 285473.1 | \n",
       "\n",
       "\n"
      ],
      "text/plain": [
       "                [,1]     [,2]    \n",
       "population_1999 199130.4 227269.5\n",
       "population_2019 249192.2 285473.1"
      ]
     },
     "metadata": {},
     "output_type": "display_data"
    }
   ],
   "source": [
    "# compute the estimate and bound components from the \"large\" stratum\n",
    "n_l=2\n",
    "N_l=2\n",
    "cities_large_StS = cities_large[sample(1:N_l,n_l, replace=FALSE),]\n",
    "mean_large_SRS = sapply(Filter(is.numeric, cities_large_StS), mean)\n",
    "sd_large_SRS = sapply(Filter(is.numeric, cities_large_StS), sd)\n",
    "bound_large_SRS = 1/N^2*N_l^2*sd_large_SRS^2/n_l*(1-n_l/N_l)\n",
    "\n",
    "# compute the estimate and bound components from the \"medium\" stratum\n",
    "n_m=3\n",
    "N_m=6\n",
    "cities_medium_StS = cities_medium[sample(1:N_m,n_m, replace=FALSE),]\n",
    "mean_medium_SRS = sapply(Filter(is.numeric, cities_medium_StS), mean)\n",
    "sd_medium_SRS = sapply(Filter(is.numeric, cities_medium_StS), sd)\n",
    "bound_medium_SRS = 1/N^2*N_m^2*sd_medium_SRS^2/n_m*(1-n_m/N_m)\n",
    "\n",
    "# compute the estimate and bound components from the \"small\" stratum\n",
    "n_s=5\n",
    "N_s=29\n",
    "cities_small_StS = cities_small[sample(1:N_s,n_s, replace=FALSE),]\n",
    "mean_small_SRS = sapply(Filter(is.numeric, cities_small_StS), mean)\n",
    "sd_small_SRS = sapply(Filter(is.numeric, cities_small_StS), sd)\n",
    "bound_small_SRS = 1/N^2*N_s^2*sd_small_SRS^2/n_s*(1-n_s/N_s)\n",
    "\n",
    "# compute the StS esimate and bound\n",
    "(mean_StS = N_l/N*mean_large_SRS + N_m/N*mean_medium_SRS + N_s/N*mean_small_SRS)\n",
    "bound_StS = 2*sqrt(bound_large_SRS + bound_medium_SRS + bound_small_SRS)\n",
    "\n",
    "# derive the StS 95% CI\n",
    "(CI_StS = cbind(mean_StS-bound_StS,mean_StS+bound_StS))"
   ]
  },
  {
   "cell_type": "markdown",
   "metadata": {
    "collapsed": false
   },
   "source": [
    "The 95% C.I. are much tighter (and incidentally, provide estimates that are closer to the true value, although that is secondary to the tightness of the intervals). "
   ]
  },
  {
   "cell_type": "markdown",
   "metadata": {},
   "source": [
    "---\n",
    "[Back to top](#top)\n",
    "\n",
    "## Data Wrangling <a name=\"wrangling\"></a>\n",
    "\n",
    "*EXERCISE:* What would the following dataset look like in a tidy format?"
   ]
  },
  {
   "cell_type": "code",
   "execution_count": 86,
   "metadata": {
    "collapsed": false
   },
   "outputs": [
    {
     "data": {
      "text/html": [
       "<table>\n",
       "<thead><tr><th scope=col>storm</th><th scope=col>stat</th><th scope=col>value</th></tr></thead>\n",
       "<tbody>\n",
       "\t<tr><td>Alex    </td><td>wind    </td><td> 68     </td></tr>\n",
       "\t<tr><td>Alex    </td><td>pressure</td><td>130     </td></tr>\n",
       "\t<tr><td>Allison </td><td>wind    </td><td> 55     </td></tr>\n",
       "\t<tr><td>Allison </td><td>pressure</td><td>121     </td></tr>\n",
       "\t<tr><td>Bobbie  </td><td>wind    </td><td> 72     </td></tr>\n",
       "\t<tr><td>Bobbie  </td><td>pressure</td><td>118     </td></tr>\n",
       "</tbody>\n",
       "</table>\n"
      ],
      "text/latex": [
       "\\begin{tabular}{r|lll}\n",
       " storm & stat & value\\\\\n",
       "\\hline\n",
       "\t Alex     & wind     &  68     \\\\\n",
       "\t Alex     & pressure & 130     \\\\\n",
       "\t Allison  & wind     &  55     \\\\\n",
       "\t Allison  & pressure & 121     \\\\\n",
       "\t Bobbie   & wind     &  72     \\\\\n",
       "\t Bobbie   & pressure & 118     \\\\\n",
       "\\end{tabular}\n"
      ],
      "text/markdown": [
       "\n",
       "storm | stat | value | \n",
       "|---|---|---|---|---|---|\n",
       "| Alex     | wind     |  68      | \n",
       "| Alex     | pressure | 130      | \n",
       "| Allison  | wind     |  55      | \n",
       "| Allison  | pressure | 121      | \n",
       "| Bobbie   | wind     |  72      | \n",
       "| Bobbie   | pressure | 118      | \n",
       "\n",
       "\n"
      ],
      "text/plain": [
       "  storm   stat     value\n",
       "1 Alex    wind      68  \n",
       "2 Alex    pressure 130  \n",
       "3 Allison wind      55  \n",
       "4 Allison pressure 121  \n",
       "5 Bobbie  wind      72  \n",
       "6 Bobbie  pressure 118  "
      ]
     },
     "metadata": {},
     "output_type": "display_data"
    },
    {
     "name": "stdout",
     "output_type": "stream",
     "text": [
      "'data.frame':\t6 obs. of  3 variables:\n",
      " $ storm: Factor w/ 3 levels \"Alex\",\"Allison\",..: 1 1 2 2 3 3\n",
      " $ stat : Factor w/ 2 levels \"pressure\",\"wind\": 2 1 2 1 2 1\n",
      " $ value: num  68 130 55 121 72 118\n"
     ]
    }
   ],
   "source": [
    "data = data.frame(cbind(c(\"Alex\",\"Alex\",\"Allison\",\"Allison\",\"Bobbie\",\"Bobbie\"),\n",
    "                        c(\"wind\",\"pressure\",\"wind\",\"pressure\",\"wind\",\"pressure\")))\n",
    "\n",
    "data = cbind(data,c(68,130,55,121,72,118))\n",
    "\n",
    "colnames(data)=c(\"storm\",\"stat\",\"value\")\n",
    "data\n",
    "str(data)"
   ]
  },
  {
   "cell_type": "markdown",
   "metadata": {},
   "source": [
    "*SOLUTION:* Tidy data is a structure for which each observation is in a row, and each variable in its own column. \n",
    "\n",
    "This can best be achieved using the `tidyr` function `spread()` (see section 9 of notebook `CSPS 04 R Basics.ipynb`) for details."
   ]
  },
  {
   "cell_type": "code",
   "execution_count": 75,
   "metadata": {
    "collapsed": false
   },
   "outputs": [
    {
     "data": {
      "text/html": [
       "<table>\n",
       "<thead><tr><th scope=col>storm</th><th scope=col>pressure</th><th scope=col>wind</th></tr></thead>\n",
       "<tbody>\n",
       "\t<tr><td>Alex   </td><td>130    </td><td>68     </td></tr>\n",
       "\t<tr><td>Allison</td><td>121    </td><td>55     </td></tr>\n",
       "\t<tr><td>Bobbie </td><td>118    </td><td>72     </td></tr>\n",
       "</tbody>\n",
       "</table>\n"
      ],
      "text/latex": [
       "\\begin{tabular}{r|lll}\n",
       " storm & pressure & wind\\\\\n",
       "\\hline\n",
       "\t Alex    & 130     & 68     \\\\\n",
       "\t Allison & 121     & 55     \\\\\n",
       "\t Bobbie  & 118     & 72     \\\\\n",
       "\\end{tabular}\n"
      ],
      "text/markdown": [
       "\n",
       "storm | pressure | wind | \n",
       "|---|---|---|\n",
       "| Alex    | 130     | 68      | \n",
       "| Allison | 121     | 55      | \n",
       "| Bobbie  | 118     | 72      | \n",
       "\n",
       "\n"
      ],
      "text/plain": [
       "  storm   pressure wind\n",
       "1 Alex    130      68  \n",
       "2 Allison 121      55  \n",
       "3 Bobbie  118      72  "
      ]
     },
     "metadata": {},
     "output_type": "display_data"
    }
   ],
   "source": [
    "library(tidyr)\n",
    "(data_tidy <- spread(data,stat,value))"
   ]
  },
  {
   "cell_type": "markdown",
   "metadata": {},
   "source": [
    "*EXERCISE:* Provide a pivot table for the mean and standard deviation of the `wind` and the `pressure` variables.\n",
    "\n",
    "*SOLUTION:* This can be done using the `dplyr` function `summarise()`. "
   ]
  },
  {
   "cell_type": "code",
   "execution_count": 90,
   "metadata": {
    "collapsed": false
   },
   "outputs": [
    {
     "data": {
      "text/html": [
       "<table>\n",
       "<thead><tr><th scope=col>stat</th><th scope=col>mean</th><th scope=col>sd</th></tr></thead>\n",
       "<tbody>\n",
       "\t<tr><td>wind    </td><td> 65     </td><td>8.888194</td></tr>\n",
       "\t<tr><td>pressure</td><td>123     </td><td>6.244998</td></tr>\n",
       "</tbody>\n",
       "</table>\n"
      ],
      "text/latex": [
       "\\begin{tabular}{r|lll}\n",
       " stat & mean & sd\\\\\n",
       "\\hline\n",
       "\t wind     &  65      & 8.888194\\\\\n",
       "\t pressure & 123      & 6.244998\\\\\n",
       "\\end{tabular}\n"
      ],
      "text/markdown": [
       "\n",
       "stat | mean | sd | \n",
       "|---|---|\n",
       "| wind     |  65      | 8.888194 | \n",
       "| pressure | 123      | 6.244998 | \n",
       "\n",
       "\n"
      ],
      "text/plain": [
       "  stat     mean sd      \n",
       "1 wind      65  8.888194\n",
       "2 pressure 123  6.244998"
      ]
     },
     "metadata": {},
     "output_type": "display_data"
    }
   ],
   "source": [
    "library(dplyr)\n",
    "\n",
    "wind = summarise(data_tidy, mean=mean(as.numeric(wind)), sd=sd(as.numeric(wind)))\n",
    "pressure = summarise(data_tidy, mean=mean(as.numeric(pressure)), sd=sd(as.numeric(pressure)))\n",
    "\n",
    "pivot = rbind(wind,pressure)\n",
    "pivot = cbind(c(\"wind\",\"pressure\"),pivot)\n",
    "\n",
    "colnames(pivot)[1] = \"stat\"\n",
    "\n",
    "pivot"
   ]
  },
  {
   "cell_type": "markdown",
   "metadata": {},
   "source": [
    "*EXERCISES:* Turn the data found in `cities.txt` into a tidy dataset. \n",
    "\n",
    "*SOLUTIONS:* The `cities.txt` data is not in a tidy format since population values are found in two different columns; `tidyr`'s `gather()` (whose syntax is a little bit daunting) can help. \n",
    "\n"
   ]
  },
  {
   "cell_type": "code",
   "execution_count": 101,
   "metadata": {
    "collapsed": false
   },
   "outputs": [
    {
     "name": "stdout",
     "output_type": "stream",
     "text": [
      "'data.frame':\t37 obs. of  4 variables:\n",
      " $ city    : int  1 2 3 4 5 6 7 8 9 10 ...\n",
      " $ category: Factor w/ 3 levels \"large\",\"medium\",..: 3 3 3 3 3 3 3 3 3 3 ...\n",
      " $ 1999    : int  4590 5210 6030 6580 7300 7940 7960 8430 8750 9080 ...\n",
      " $ 2019    : int  5090 7090 7710 8120 7320 6780 10050 11060 12140 12480 ...\n"
     ]
    },
    {
     "data": {
      "text/html": [
       "<table>\n",
       "<thead><tr><th scope=col>city</th><th scope=col>category</th><th scope=col>year</th><th scope=col>population</th></tr></thead>\n",
       "<tbody>\n",
       "\t<tr><td> 1    </td><td>small </td><td>1999  </td><td> 4590 </td></tr>\n",
       "\t<tr><td> 2    </td><td>small </td><td>1999  </td><td> 5210 </td></tr>\n",
       "\t<tr><td> 3    </td><td>small </td><td>1999  </td><td> 6030 </td></tr>\n",
       "\t<tr><td> 4    </td><td>small </td><td>1999  </td><td> 6580 </td></tr>\n",
       "\t<tr><td> 5    </td><td>small </td><td>1999  </td><td> 7300 </td></tr>\n",
       "\t<tr><td> 6    </td><td>small </td><td>1999  </td><td> 7940 </td></tr>\n",
       "\t<tr><td> 7    </td><td>small </td><td>1999  </td><td> 7960 </td></tr>\n",
       "\t<tr><td> 8    </td><td>small </td><td>1999  </td><td> 8430 </td></tr>\n",
       "\t<tr><td> 9    </td><td>small </td><td>1999  </td><td> 8750 </td></tr>\n",
       "\t<tr><td>10    </td><td>small </td><td>1999  </td><td> 9080 </td></tr>\n",
       "\t<tr><td>11    </td><td>small </td><td>1999  </td><td>17330 </td></tr>\n",
       "\t<tr><td>12    </td><td>small </td><td>1999  </td><td>17470 </td></tr>\n",
       "\t<tr><td>13    </td><td>small </td><td>1999  </td><td>17660 </td></tr>\n",
       "\t<tr><td>14    </td><td>small </td><td>1999  </td><td>18990 </td></tr>\n",
       "\t<tr><td>15    </td><td>small </td><td>1999  </td><td>20520 </td></tr>\n",
       "\t<tr><td>16    </td><td>small </td><td>1999  </td><td>21130 </td></tr>\n",
       "\t<tr><td>17    </td><td>small </td><td>1999  </td><td>21220 </td></tr>\n",
       "\t<tr><td>18    </td><td>small </td><td>1999  </td><td>21640 </td></tr>\n",
       "\t<tr><td>19    </td><td>small </td><td>1999  </td><td>29500 </td></tr>\n",
       "\t<tr><td>20    </td><td>small </td><td>1999  </td><td>29830 </td></tr>\n",
       "\t<tr><td>21    </td><td>small </td><td>1999  </td><td>29930 </td></tr>\n",
       "\t<tr><td>22    </td><td>small </td><td>1999  </td><td>30900 </td></tr>\n",
       "\t<tr><td>23    </td><td>small </td><td>1999  </td><td>35520 </td></tr>\n",
       "\t<tr><td>24    </td><td>small </td><td>1999  </td><td>35520 </td></tr>\n",
       "\t<tr><td>25    </td><td>small </td><td>1999  </td><td>39980 </td></tr>\n",
       "\t<tr><td>26    </td><td>small </td><td>1999  </td><td>40940 </td></tr>\n",
       "\t<tr><td>27    </td><td>small </td><td>1999  </td><td>42880 </td></tr>\n",
       "\t<tr><td>28    </td><td>small </td><td>1999  </td><td>43360 </td></tr>\n",
       "\t<tr><td>29    </td><td>small </td><td>1999  </td><td>58080 </td></tr>\n",
       "\t<tr><td>30    </td><td>medium</td><td>1999  </td><td>80720 </td></tr>\n",
       "\t<tr><td>⋮</td><td>⋮</td><td>⋮</td><td>⋮</td></tr>\n",
       "\t<tr><td> 8     </td><td>small  </td><td>2019   </td><td>  11060</td></tr>\n",
       "\t<tr><td> 9     </td><td>small  </td><td>2019   </td><td>  12140</td></tr>\n",
       "\t<tr><td>10     </td><td>small  </td><td>2019   </td><td>  12480</td></tr>\n",
       "\t<tr><td>11     </td><td>small  </td><td>2019   </td><td>  21740</td></tr>\n",
       "\t<tr><td>12     </td><td>small  </td><td>2019   </td><td>  22640</td></tr>\n",
       "\t<tr><td>13     </td><td>small  </td><td>2019   </td><td>  25000</td></tr>\n",
       "\t<tr><td>14     </td><td>small  </td><td>2019   </td><td>  23170</td></tr>\n",
       "\t<tr><td>15     </td><td>small  </td><td>2019   </td><td>  27710</td></tr>\n",
       "\t<tr><td>16     </td><td>small  </td><td>2019   </td><td>  27840</td></tr>\n",
       "\t<tr><td>17     </td><td>small  </td><td>2019   </td><td>  22650</td></tr>\n",
       "\t<tr><td>18     </td><td>small  </td><td>2019   </td><td>  25000</td></tr>\n",
       "\t<tr><td>19     </td><td>small  </td><td>2019   </td><td>  37120</td></tr>\n",
       "\t<tr><td>20     </td><td>small  </td><td>2019   </td><td>  39120</td></tr>\n",
       "\t<tr><td>21     </td><td>small  </td><td>2019   </td><td>  31160</td></tr>\n",
       "\t<tr><td>22     </td><td>small  </td><td>2019   </td><td>  34100</td></tr>\n",
       "\t<tr><td>23     </td><td>small  </td><td>2019   </td><td>  45800</td></tr>\n",
       "\t<tr><td>24     </td><td>small  </td><td>2019   </td><td>  48280</td></tr>\n",
       "\t<tr><td>25     </td><td>small  </td><td>2019   </td><td>  37120</td></tr>\n",
       "\t<tr><td>26     </td><td>small  </td><td>2019   </td><td>  49040</td></tr>\n",
       "\t<tr><td>27     </td><td>small  </td><td>2019   </td><td>  52250</td></tr>\n",
       "\t<tr><td>28     </td><td>small  </td><td>2019   </td><td>  46480</td></tr>\n",
       "\t<tr><td>29     </td><td>small  </td><td>2019   </td><td>  63730</td></tr>\n",
       "\t<tr><td>30     </td><td>medium </td><td>2019   </td><td>  81750</td></tr>\n",
       "\t<tr><td>31     </td><td>medium </td><td>2019   </td><td> 106190</td></tr>\n",
       "\t<tr><td>32     </td><td>medium </td><td>2019   </td><td> 110110</td></tr>\n",
       "\t<tr><td>33     </td><td>medium </td><td>2019   </td><td> 243390</td></tr>\n",
       "\t<tr><td>34     </td><td>medium </td><td>2019   </td><td> 293480</td></tr>\n",
       "\t<tr><td>35     </td><td>medium </td><td>2019   </td><td> 244800</td></tr>\n",
       "\t<tr><td>36     </td><td>large  </td><td>2019   </td><td>3652020</td></tr>\n",
       "\t<tr><td>37     </td><td>large  </td><td>2019   </td><td>3742940</td></tr>\n",
       "</tbody>\n",
       "</table>\n"
      ],
      "text/latex": [
       "\\begin{tabular}{r|llll}\n",
       " city & category & year & population\\\\\n",
       "\\hline\n",
       "\t  1     & small  & 1999   &  4590 \\\\\n",
       "\t  2     & small  & 1999   &  5210 \\\\\n",
       "\t  3     & small  & 1999   &  6030 \\\\\n",
       "\t  4     & small  & 1999   &  6580 \\\\\n",
       "\t  5     & small  & 1999   &  7300 \\\\\n",
       "\t  6     & small  & 1999   &  7940 \\\\\n",
       "\t  7     & small  & 1999   &  7960 \\\\\n",
       "\t  8     & small  & 1999   &  8430 \\\\\n",
       "\t  9     & small  & 1999   &  8750 \\\\\n",
       "\t 10     & small  & 1999   &  9080 \\\\\n",
       "\t 11     & small  & 1999   & 17330 \\\\\n",
       "\t 12     & small  & 1999   & 17470 \\\\\n",
       "\t 13     & small  & 1999   & 17660 \\\\\n",
       "\t 14     & small  & 1999   & 18990 \\\\\n",
       "\t 15     & small  & 1999   & 20520 \\\\\n",
       "\t 16     & small  & 1999   & 21130 \\\\\n",
       "\t 17     & small  & 1999   & 21220 \\\\\n",
       "\t 18     & small  & 1999   & 21640 \\\\\n",
       "\t 19     & small  & 1999   & 29500 \\\\\n",
       "\t 20     & small  & 1999   & 29830 \\\\\n",
       "\t 21     & small  & 1999   & 29930 \\\\\n",
       "\t 22     & small  & 1999   & 30900 \\\\\n",
       "\t 23     & small  & 1999   & 35520 \\\\\n",
       "\t 24     & small  & 1999   & 35520 \\\\\n",
       "\t 25     & small  & 1999   & 39980 \\\\\n",
       "\t 26     & small  & 1999   & 40940 \\\\\n",
       "\t 27     & small  & 1999   & 42880 \\\\\n",
       "\t 28     & small  & 1999   & 43360 \\\\\n",
       "\t 29     & small  & 1999   & 58080 \\\\\n",
       "\t 30     & medium & 1999   & 80720 \\\\\n",
       "\t ⋮ & ⋮ & ⋮ & ⋮\\\\\n",
       "\t  8      & small   & 2019    &   11060\\\\\n",
       "\t  9      & small   & 2019    &   12140\\\\\n",
       "\t 10      & small   & 2019    &   12480\\\\\n",
       "\t 11      & small   & 2019    &   21740\\\\\n",
       "\t 12      & small   & 2019    &   22640\\\\\n",
       "\t 13      & small   & 2019    &   25000\\\\\n",
       "\t 14      & small   & 2019    &   23170\\\\\n",
       "\t 15      & small   & 2019    &   27710\\\\\n",
       "\t 16      & small   & 2019    &   27840\\\\\n",
       "\t 17      & small   & 2019    &   22650\\\\\n",
       "\t 18      & small   & 2019    &   25000\\\\\n",
       "\t 19      & small   & 2019    &   37120\\\\\n",
       "\t 20      & small   & 2019    &   39120\\\\\n",
       "\t 21      & small   & 2019    &   31160\\\\\n",
       "\t 22      & small   & 2019    &   34100\\\\\n",
       "\t 23      & small   & 2019    &   45800\\\\\n",
       "\t 24      & small   & 2019    &   48280\\\\\n",
       "\t 25      & small   & 2019    &   37120\\\\\n",
       "\t 26      & small   & 2019    &   49040\\\\\n",
       "\t 27      & small   & 2019    &   52250\\\\\n",
       "\t 28      & small   & 2019    &   46480\\\\\n",
       "\t 29      & small   & 2019    &   63730\\\\\n",
       "\t 30      & medium  & 2019    &   81750\\\\\n",
       "\t 31      & medium  & 2019    &  106190\\\\\n",
       "\t 32      & medium  & 2019    &  110110\\\\\n",
       "\t 33      & medium  & 2019    &  243390\\\\\n",
       "\t 34      & medium  & 2019    &  293480\\\\\n",
       "\t 35      & medium  & 2019    &  244800\\\\\n",
       "\t 36      & large   & 2019    & 3652020\\\\\n",
       "\t 37      & large   & 2019    & 3742940\\\\\n",
       "\\end{tabular}\n"
      ],
      "text/markdown": [
       "\n",
       "city | category | year | population | \n",
       "|---|---|---|---|---|---|---|---|---|---|---|---|---|---|---|---|---|---|---|---|---|---|---|---|---|---|---|---|---|---|---|---|---|---|---|---|---|---|---|---|---|---|---|---|---|---|---|---|---|---|---|---|---|---|---|---|---|---|---|---|---|\n",
       "|  1     | small  | 1999   |  4590  | \n",
       "|  2     | small  | 1999   |  5210  | \n",
       "|  3     | small  | 1999   |  6030  | \n",
       "|  4     | small  | 1999   |  6580  | \n",
       "|  5     | small  | 1999   |  7300  | \n",
       "|  6     | small  | 1999   |  7940  | \n",
       "|  7     | small  | 1999   |  7960  | \n",
       "|  8     | small  | 1999   |  8430  | \n",
       "|  9     | small  | 1999   |  8750  | \n",
       "| 10     | small  | 1999   |  9080  | \n",
       "| 11     | small  | 1999   | 17330  | \n",
       "| 12     | small  | 1999   | 17470  | \n",
       "| 13     | small  | 1999   | 17660  | \n",
       "| 14     | small  | 1999   | 18990  | \n",
       "| 15     | small  | 1999   | 20520  | \n",
       "| 16     | small  | 1999   | 21130  | \n",
       "| 17     | small  | 1999   | 21220  | \n",
       "| 18     | small  | 1999   | 21640  | \n",
       "| 19     | small  | 1999   | 29500  | \n",
       "| 20     | small  | 1999   | 29830  | \n",
       "| 21     | small  | 1999   | 29930  | \n",
       "| 22     | small  | 1999   | 30900  | \n",
       "| 23     | small  | 1999   | 35520  | \n",
       "| 24     | small  | 1999   | 35520  | \n",
       "| 25     | small  | 1999   | 39980  | \n",
       "| 26     | small  | 1999   | 40940  | \n",
       "| 27     | small  | 1999   | 42880  | \n",
       "| 28     | small  | 1999   | 43360  | \n",
       "| 29     | small  | 1999   | 58080  | \n",
       "| 30     | medium | 1999   | 80720  | \n",
       "| ⋮ | ⋮ | ⋮ | ⋮ | \n",
       "|  8      | small   | 2019    |   11060 | \n",
       "|  9      | small   | 2019    |   12140 | \n",
       "| 10      | small   | 2019    |   12480 | \n",
       "| 11      | small   | 2019    |   21740 | \n",
       "| 12      | small   | 2019    |   22640 | \n",
       "| 13      | small   | 2019    |   25000 | \n",
       "| 14      | small   | 2019    |   23170 | \n",
       "| 15      | small   | 2019    |   27710 | \n",
       "| 16      | small   | 2019    |   27840 | \n",
       "| 17      | small   | 2019    |   22650 | \n",
       "| 18      | small   | 2019    |   25000 | \n",
       "| 19      | small   | 2019    |   37120 | \n",
       "| 20      | small   | 2019    |   39120 | \n",
       "| 21      | small   | 2019    |   31160 | \n",
       "| 22      | small   | 2019    |   34100 | \n",
       "| 23      | small   | 2019    |   45800 | \n",
       "| 24      | small   | 2019    |   48280 | \n",
       "| 25      | small   | 2019    |   37120 | \n",
       "| 26      | small   | 2019    |   49040 | \n",
       "| 27      | small   | 2019    |   52250 | \n",
       "| 28      | small   | 2019    |   46480 | \n",
       "| 29      | small   | 2019    |   63730 | \n",
       "| 30      | medium  | 2019    |   81750 | \n",
       "| 31      | medium  | 2019    |  106190 | \n",
       "| 32      | medium  | 2019    |  110110 | \n",
       "| 33      | medium  | 2019    |  243390 | \n",
       "| 34      | medium  | 2019    |  293480 | \n",
       "| 35      | medium  | 2019    |  244800 | \n",
       "| 36      | large   | 2019    | 3652020 | \n",
       "| 37      | large   | 2019    | 3742940 | \n",
       "\n",
       "\n"
      ],
      "text/plain": [
       "   city category year population\n",
       "1   1   small    1999  4590     \n",
       "2   2   small    1999  5210     \n",
       "3   3   small    1999  6030     \n",
       "4   4   small    1999  6580     \n",
       "5   5   small    1999  7300     \n",
       "6   6   small    1999  7940     \n",
       "7   7   small    1999  7960     \n",
       "8   8   small    1999  8430     \n",
       "9   9   small    1999  8750     \n",
       "10 10   small    1999  9080     \n",
       "11 11   small    1999 17330     \n",
       "12 12   small    1999 17470     \n",
       "13 13   small    1999 17660     \n",
       "14 14   small    1999 18990     \n",
       "15 15   small    1999 20520     \n",
       "16 16   small    1999 21130     \n",
       "17 17   small    1999 21220     \n",
       "18 18   small    1999 21640     \n",
       "19 19   small    1999 29500     \n",
       "20 20   small    1999 29830     \n",
       "21 21   small    1999 29930     \n",
       "22 22   small    1999 30900     \n",
       "23 23   small    1999 35520     \n",
       "24 24   small    1999 35520     \n",
       "25 25   small    1999 39980     \n",
       "26 26   small    1999 40940     \n",
       "27 27   small    1999 42880     \n",
       "28 28   small    1999 43360     \n",
       "29 29   small    1999 58080     \n",
       "30 30   medium   1999 80720     \n",
       "⋮  ⋮    ⋮        ⋮    ⋮         \n",
       "45  8   small    2019   11060   \n",
       "46  9   small    2019   12140   \n",
       "47 10   small    2019   12480   \n",
       "48 11   small    2019   21740   \n",
       "49 12   small    2019   22640   \n",
       "50 13   small    2019   25000   \n",
       "51 14   small    2019   23170   \n",
       "52 15   small    2019   27710   \n",
       "53 16   small    2019   27840   \n",
       "54 17   small    2019   22650   \n",
       "55 18   small    2019   25000   \n",
       "56 19   small    2019   37120   \n",
       "57 20   small    2019   39120   \n",
       "58 21   small    2019   31160   \n",
       "59 22   small    2019   34100   \n",
       "60 23   small    2019   45800   \n",
       "61 24   small    2019   48280   \n",
       "62 25   small    2019   37120   \n",
       "63 26   small    2019   49040   \n",
       "64 27   small    2019   52250   \n",
       "65 28   small    2019   46480   \n",
       "66 29   small    2019   63730   \n",
       "67 30   medium   2019   81750   \n",
       "68 31   medium   2019  106190   \n",
       "69 32   medium   2019  110110   \n",
       "70 33   medium   2019  243390   \n",
       "71 34   medium   2019  293480   \n",
       "72 35   medium   2019  244800   \n",
       "73 36   large    2019 3652020   \n",
       "74 37   large    2019 3742940   "
      ]
     },
     "metadata": {},
     "output_type": "display_data"
    }
   ],
   "source": [
    "cities <- read.csv('Data/cities.txt',sep=\"\\t\")\n",
    "cities = cbind(1:37,cities) # to identify the cities\n",
    "colnames(cities) <- c(\"city\",\"category\",\"1999\",\"2019\") # to improve readabilit \n",
    "str(cities) # to get one last look at the data in non-tidy format\n",
    "\n",
    "library(tidyr)\n",
    "(cities_tidy <- gather(cities,key=\"year\", value=\"population\", 3:4)) \n",
    "                # gather the information from the city dataset found in the 3rd and 4th column (1999, 2019)"
   ]
  },
  {
   "cell_type": "code",
   "execution_count": null,
   "metadata": {
    "collapsed": true
   },
   "outputs": [],
   "source": []
  }
 ],
 "metadata": {
  "hide_input": false,
  "kernelspec": {
   "display_name": "R",
   "language": "R",
   "name": "ir"
  },
  "language_info": {
   "codemirror_mode": "r",
   "file_extension": ".r",
   "mimetype": "text/x-r-source",
   "name": "R",
   "pygments_lexer": "r",
   "version": "3.3.1"
  }
 },
 "nbformat": 4,
 "nbformat_minor": 1
}
