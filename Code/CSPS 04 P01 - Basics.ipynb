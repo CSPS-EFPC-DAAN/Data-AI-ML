{
 "cells": [
  {
   "cell_type": "markdown",
   "metadata": {
    "collapsed": false
   },
   "source": [
    "# Preface\n",
    "\n",
    "These notebooks are intended to help data analysts who are familiar with doing data analysis using other tools (such as R) to get started on doing it in Python. They are not designed to teach programming in Python. Instead, they illustrate typical tasks through examples. For a comprehensive introduction to Python, please consult the free book [*A Whirlwind Tour of Python*](https://github.com/jakevdp/WhirlwindTourOfPython).\n",
    "\n",
    "Note that these notebooks require Python 3.5 or higher."
   ]
  },
  {
   "cell_type": "markdown",
   "metadata": {
    "collapsed": false
   },
   "source": [
    "# Using Python as a scientific calculator\n",
    "\n",
    "Mathematical expressions can be easily evaluated numerically in Python. For scientific calculations, one should import the `math` module which contains many [mathematical functions](https://docs.python.org/3.5/library/math.html). It is important to note that Python also provides facilities for integer arithmetic which will be covered later. In this section, only floating-point calculations will be used."
   ]
  },
  {
   "cell_type": "code",
   "execution_count": 1,
   "metadata": {
    "collapsed": false
   },
   "outputs": [
   ],
   "source": [
    "import math # Import the math module for the rest of the notebook"
   ]
  },
  {
   "cell_type": "markdown",
   "metadata": {
    "collapsed": false
   },
   "source": [
    "The next three cells evaluate the following:\n",
    "\n",
    "- $\\cos ( \\sqrt{ \\pi } )$\n",
    "- $\\arctan ( 2^5/3 )$\n",
    "- $\\ln ( 1 + e^4 )$"
   ]
  },
  {
   "cell_type": "code",
   "execution_count": 2,
   "metadata": {
    "collapsed": false
   },
   "outputs": [
    {
     "data": {
      "text/plain": [
       "-0.20029354112337366"
      ]
     },
     "execution_count": 2,
     "metadata": {
     },
     "output_type": "execute_result"
    }
   ],
   "source": [
    "math.cos( math.sqrt( math.pi ) ) # Note that each function/object in math must be prefixed with \"math.\""
   ]
  },
  {
   "cell_type": "code",
   "execution_count": 3,
   "metadata": {
    "collapsed": false
   },
   "outputs": [
    {
     "data": {
      "text/plain": [
       "1.477319545636307"
      ]
     },
     "execution_count": 3,
     "metadata": {
     },
     "output_type": "execute_result"
    }
   ],
   "source": [
    "math.atan( 2**5 / 3 ) # Note the use of ** for exponentiation"
   ]
  },
  {
   "cell_type": "code",
   "execution_count": 4,
   "metadata": {
    "collapsed": false
   },
   "outputs": [
    {
     "data": {
      "text/plain": [
       "4.0181499279178094"
      ]
     },
     "execution_count": 4,
     "metadata": {
     },
     "output_type": "execute_result"
    }
   ],
   "source": [
    "math.log( 1 + math.exp(4) )"
   ]
  },
  {
   "cell_type": "markdown",
   "metadata": {
    "collapsed": false
   },
   "source": [
    "## Exercise\n",
    "\n",
    "Evaluate each the following:\n",
    "\n",
    "- $\\lfloor 1000^{1/4} \\rfloor$\n",
    "- $\\arcsin( \\pi/4 )$"
   ]
  },
  {
   "cell_type": "code",
   "execution_count": 5,
   "metadata": {
    "collapsed": false
   },
   "outputs": [
   ],
   "source": [
    "# Enter your code here"
   ]
  },
  {
   "cell_type": "markdown",
   "metadata": {
    "collapsed": false
   },
   "source": [
    "# Using variables to hold intermediate results\n",
    "\n",
    "For complex calculations, it is helpful to break them down into smaller steps.  Variables can be used to store intermediate results.  We will see later on how variables are used in algorithmic settings.\n",
    "\n",
    "In the next cell, we have the following:\n",
    "\n",
    "- $x = \\sqrt{2}$\n",
    "- $y = \\sin( x + 2 )$\n",
    "- $z = e^y$\n",
    "\n",
    "Hence, $z$ is the value of $e^{\\sin(\\sqrt{2} +2)}$.\n",
    "\n"
   ]
  },
  {
   "cell_type": "code",
   "execution_count": 6,
   "metadata": {
    "collapsed": false
   },
   "outputs": [
    {
     "data": {
      "text/plain": [
       "(1.4142135623730951, -0.26925647329402774, 0.7639472984402832)"
      ]
     },
     "execution_count": 6,
     "metadata": {
     },
     "output_type": "execute_result"
    }
   ],
   "source": [
    "x = math.sqrt(2)\n",
    "y = math.sin(x+2)\n",
    "z = math.exp(y)\n",
    "\n",
    "# The following line shows the values of x, y, and z as a 3-tuple\n",
    "# Without it, the values of x, y, z will not be shown.\n",
    "x,y,z"
   ]
  },
  {
   "cell_type": "markdown",
   "metadata": {
    "collapsed": false
   },
   "source": [
    "## Exercise\n",
    "\n",
    "Obtain the value of $s$ in the following:\n",
    "\n",
    "- $a = \\pi( 1 + \\ln 5 )$\n",
    "- $b = \\frac{1}{3+\\sqrt{4}}$\n",
    "- $s = a + b$"
   ]
  },
  {
   "cell_type": "code",
   "execution_count": 7,
   "metadata": {
    "collapsed": false
   },
   "outputs": [
   ],
   "source": [
    "# Enter your code here"
   ]
  },
  {
   "cell_type": "markdown",
   "metadata": {
    "collapsed": false
   },
   "source": [
    "# Numbers as formatted strings\n",
    "\n",
    "Quite often, one wants to control the way numbers are displayed which can be handy in reporting results.  For example, one might want to display no more than 4 decimal places.  One might want to have zero-padded numbers of a given width.  The following cell illustrates a number of ways to obtain formatted strings of the number $12.3456789$.  For more details on the format specification mini-language, please consult the [documentation](https://docs.python.org/3/library/string.html#format-specification-mini-language).  Note that a string must be enclosed within double quotes or single quotes. A future notebook will illustrate more general operations involving strings."
   ]
  },
  {
   "cell_type": "code",
   "execution_count": 8,
   "metadata": {
    "collapsed": false
   },
   "outputs": [
    {
     "data": {
      "text/plain": [
       "'     12.35'"
      ]
     },
     "execution_count": 8,
     "metadata": {
     },
     "output_type": "execute_result"
    }
   ],
   "source": [
    "x = 12.3456789\n",
    "\n",
    "\"{:10.2f}\".format(x) # x as a string of width 10 with 2 decimal places."
   ]
  },
  {
   "cell_type": "code",
   "execution_count": 9,
   "metadata": {
    "collapsed": false
   },
   "outputs": [
    {
     "data": {
      "text/plain": [
       "'12.3457'"
      ]
     },
     "execution_count": 9,
     "metadata": {
     },
     "output_type": "execute_result"
    }
   ],
   "source": [
    "\"{:.4f}\".format(x) # x as a string with 4 decimal places."
   ]
  },
  {
   "cell_type": "code",
   "execution_count": 10,
   "metadata": {
    "collapsed": false
   },
   "outputs": [
    {
     "data": {
      "text/plain": [
       "'00012'"
      ]
     },
     "execution_count": 10,
     "metadata": {
     },
     "output_type": "execute_result"
    }
   ],
   "source": [
    "\"{:05.0f}\".format(x) # zero-padded string of width 5 with zero decimal place"
   ]
  },
  {
   "cell_type": "markdown",
   "metadata": {
    "collapsed": false
   },
   "source": [
    "## Exercise\n",
    "\n",
    "Obtain a formatted string of $\\sin( \\pi^2 )$ of width 8 with 5 decimal places."
   ]
  },
  {
   "cell_type": "code",
   "execution_count": 11,
   "metadata": {
    "collapsed": false
   },
   "outputs": [
   ],
   "source": [
    "# Enter your code here"
   ]
  },
  {
   "cell_type": "markdown",
   "metadata": {
    "collapsed": false
   },
   "source": [
    "# Fixed decimals\n",
    "\n",
    "In business applications (especially in accounting), one may encounter fixed decimals.  Floating-point numbers are usually shunned because they are inherently inexact.  For example, the following gives \"3.3000000000000003\" instead of \"3.3\" as the answer:"
   ]
  },
  {
   "cell_type": "code",
   "execution_count": 12,
   "metadata": {
    "collapsed": false
   },
   "outputs": [
    {
     "data": {
      "text/plain": [
       "3.3000000000000003"
      ]
     },
     "execution_count": 12,
     "metadata": {
     },
     "output_type": "execute_result"
    }
   ],
   "source": [
    "2.2+1.1"
   ]
  },
  {
   "cell_type": "markdown",
   "metadata": {
    "collapsed": false
   },
   "source": [
    "Python `decimal` module allows one to express decimal numbers exactly.  For more information, see the [documentation](https://docs.python.org/3.5/library/decimal.html).\n",
    "\n",
    "Here, we illustrate working with decimals via examples."
   ]
  },
  {
   "cell_type": "code",
   "execution_count": 13,
   "metadata": {
    "collapsed": false
   },
   "outputs": [
    {
     "name": "stdout",
     "output_type": "stream",
     "text": [
      "3.3\n",
      "2\n",
      "1.331\n",
      "3.300000000000000266453525910\n"
     ]
    }
   ],
   "source": [
    "import decimal  # Need to import the decimal module\n",
    "\n",
    "x = decimal.Decimal(\"1.1\") # Define x as the decimal value 1.1. Note that the number must be a string.\n",
    "y = decimal.Decimal(\"2.2\") # Define y as the decimal value 2.2\n",
    "\n",
    "print( x+y )\n",
    "print( y/x )\n",
    "print( x**decimal.Decimal(\"3\") ) \n",
    "\n",
    "\n",
    "x = decimal.Decimal(1.1) # This is an incorrect way to define a decimal as 1.1 will be treated as\n",
    "                         # a floating-point and then converted to a string!\n",
    "y = decimal.Decimal(2.2)\n",
    "\n",
    "print( x+y ) # This will be different from what is shown by the first print statement above."
   ]
  },
  {
   "cell_type": "code",
   "execution_count": 14,
   "metadata": {
    "collapsed": false
   },
   "outputs": [
    {
     "data": {
      "text/plain": [
       "Decimal('3.142')"
      ]
     },
     "execution_count": 14,
     "metadata": {
     },
     "output_type": "execute_result"
    }
   ],
   "source": [
    "z = decimal.Decimal(\"3.1416\")\n",
    "round( z, 3 )  # Round a to 3 decimal places"
   ]
  },
  {
   "cell_type": "markdown",
   "metadata": {
    "collapsed": false
   },
   "source": [
    "Once fixed decimals are used, one must use mathematical functions provided by the `decimal` module to stay within `Decimal`.  Unfortunately, trigonmetric functions are not available."
   ]
  },
  {
   "cell_type": "code",
   "execution_count": 15,
   "metadata": {
    "collapsed": false
   },
   "outputs": [
    {
     "name": "stdout",
     "output_type": "stream",
     "text": [
      "0.4\n",
      "-1.832581463748310130367054424\n",
      "-0.7958800173440752191450444211\n"
     ]
    }
   ],
   "source": [
    "a = decimal.Decimal(\"0.16\")\n",
    "print( a.sqrt() )\n",
    "print( a.ln() )  # Natural log of a\n",
    "print( a.log10())"
   ]
  },
  {
   "cell_type": "markdown",
   "metadata": {
    "collapsed": false
   },
   "source": [
    "## Exercise\n",
    "\n",
    "Turn the value of $\\sqrt{3}$ into a fixed decimal with 8 decimal places."
   ]
  },
  {
   "cell_type": "code",
   "execution_count": 0,
   "metadata": {
    "collapsed": false
   },
   "outputs": [
   ],
   "source": [
    "# Your code here"
   ]
  },
  {
   "cell_type": "code",
   "execution_count": 0,
   "metadata": {
    "collapsed": false
   },
   "outputs": [
   ],
   "source": [
   ]
  }
 ],
 "metadata": {
  "hide_input": false,
  "kernelspec": {
   "display_name": "Python 3 (Ubuntu Linux)",
   "language": "python",
   "name": "python3"
  },
  "language_info": {
   "codemirror_mode": {
    "name": "ipython",
    "version": 3
   },
   "file_extension": ".py",
   "mimetype": "text/x-python",
   "name": "python",
   "nbconvert_exporter": "python",
   "pygments_lexer": "ipython3",
   "version": "3.6.7"
  }
 },
 "nbformat": 4,
 "nbformat_minor": 0
}