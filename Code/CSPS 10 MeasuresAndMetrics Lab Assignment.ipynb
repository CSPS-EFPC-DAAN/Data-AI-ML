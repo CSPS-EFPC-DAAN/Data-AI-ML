{
 "cells": [
  {
   "cell_type": "markdown",
   "metadata": {
    "collapsed": false
   },
   "source": [
    "# Measures and Metrics Lab\n",
    "\n",
    "Work in groups of three. There should be at least one person in your group that you have not yet worked with.\n",
    "\n",
    "For each of the following datasets, consider the following questions (if you prefer to focus on just one or two of the datasets for the duration of this lab, that's also fine):\n",
    "\n",
    "1. Is this a 'good' dataset for developing metrics? In what ways yes? In what ways no?\n",
    "\n",
    "2. What kind of specialized (domain specific)knowledge would be desirable in order to create meaningful metrics for this dataset? What additional data might be useful?\n",
    "\n",
    "3. What are some metrics you might construct out of the variables provided in this dataset? Generate some of these metrics in R and add them as new columns in the dataset.\n"
   ]
  },
  {
   "cell_type": "code",
   "execution_count": 0,
   "metadata": {
    "collapsed": false
   },
   "outputs": [
   ],
   "source": [
    "#Dataset 1 - the vehicle collision dataset (2016collisionsfinal.csv)"
   ]
  },
  {
   "cell_type": "code",
   "execution_count": 0,
   "metadata": {
    "collapsed": false
   },
   "outputs": [
   ],
   "source": [
    "#Dataset 2 - the algae bloom dataset (algae_blooms.csv)"
   ]
  },
  {
   "cell_type": "code",
   "execution_count": 0,
   "metadata": {
    "collapsed": false
   },
   "outputs": [
   ],
   "source": [
   ]
  },
  {
   "cell_type": "code",
   "execution_count": 0,
   "metadata": {
    "collapsed": false
   },
   "outputs": [
   ],
   "source": [
    "#Dataset 3 - the cities dataset (citydataformetrics.csv)\n",
    "\n",
    "#Some information about the dataset columns:\n",
    "#GlobalCityRanking: https://en.wikipedia.org/wiki/Global_city, https://www.lboro.ac.uk/gawc/world2018t.html\n",
    "#GlobalPowerCityCat: http://www.mori-m-foundation.or.jp/english/ius2/gpci2/index.shtml\n",
    "#Data.Contributor.Ranking: An approximate measure of the level of contribution people have made towards a city's statistics on \n",
    "#Numbeo - https://www.numbeo.com/cost-of-living/"
   ]
  }
 ],
 "metadata": {
  "kernelspec": {
   "display_name": "R (R-Project)",
   "language": "r",
   "name": "ir"
  },
  "language_info": {
   "codemirror_mode": "r",
   "file_extension": ".r",
   "mimetype": "text/x-r-source",
   "name": "R",
   "pygments_lexer": "r",
   "version": "3.4.4"
  }
 },
 "nbformat": 4,
 "nbformat_minor": 0
}