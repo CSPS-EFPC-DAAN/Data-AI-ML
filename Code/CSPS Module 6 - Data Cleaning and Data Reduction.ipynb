{
 "cells": [
  {
   "cell_type": "markdown",
   "metadata": {},
   "source": [
    "# DATA CLEANING AND DATA REDUCTION<a name=\"top\"></a>\n",
    "(based on a Case Study by L.Torgo)\n",
    "\n",
    "**Data cleaning** is an essential (but not overly exciting) part of the analytical process. In this notebook, we show how such a task could be accomplished using the *Algae Blooms Dataset*, which we will revisit in notebooks DS 03 and DS 07.  \n",
    "\n",
    "We will also show how to run a **Principal Component Analysis** and a **Feature Selection** on this dataset. \n",
    "\n",
    "---\n",
    "\n",
    "### OUTLINE\n",
    "- [Problem Description](#desc)\n",
    "- [Loading the Data](#load)\n",
    "- [Data Cleaning](#clean)\n",
    "- [Data Reduction and Feature Selection](#redux)\n",
    "- [Exercises](#exer)"
   ]
  },
  {
   "cell_type": "markdown",
   "metadata": {},
   "source": [
    "---\n",
    "[Back to top](#top)\n",
    "## PROBLEM DESCRIPTION <a name=\"load\"></a>\n",
    "The ability to monitor and perform early forecasts of various river algae blooms is crucial to  control the ecological harm they can cause.   \n",
    "\n",
    "The dataset which is used to train the learning model consists of:\n",
    "- chemical properties of various water samples of European rivers\n",
    "- the quantity of seven algae in each of the samples, and \n",
    "- the characteristics of the collection process for each sample.  \n",
    "\n",
    "For now, we assume that we have already explored the data (see notebooks DS 03 and DS 07).  "
   ]
  },
  {
   "cell_type": "markdown",
   "metadata": {},
   "source": [
    "---\n",
    "[Back to top](#top)\n",
    "## LOADING THE DATA <a name=\"load\"></a>\n",
    "Before we can take a look at the data and begin the process in earnest, we need to load it in the in the R workspace.\n",
    "\n",
    "The dataset is stored in the CSV file `algae_blooms.csv` (in the `Data` directory).\n",
    "\n"
   ]
  },
  {
   "cell_type": "code",
   "execution_count": 1,
   "metadata": {
    "collapsed": false
   },
   "outputs": [],
   "source": [
    "algae_blooms<-read.csv(\"Data/algae_blooms.csv\", sep=\",\", header=TRUE)"
   ]
  },
  {
   "cell_type": "markdown",
   "metadata": {},
   "source": [
    "We can get an idea of the data frame's structure by calling the `str` function.  "
   ]
  },
  {
   "cell_type": "code",
   "execution_count": 2,
   "metadata": {
    "collapsed": false
   },
   "outputs": [
    {
     "name": "stdout",
     "output_type": "stream",
     "text": [
      "'data.frame':\t340 obs. of  18 variables:\n",
      " $ season: Factor w/ 4 levels \"autumn\",\"spring\",..: 4 2 1 2 1 4 3 1 4 4 ...\n",
      " $ size  : Factor w/ 3 levels \"large\",\"medium\",..: 3 3 3 3 3 3 3 3 3 3 ...\n",
      " $ speed : Factor w/ 3 levels \"high\",\"low\",\"medium\": 3 3 3 3 3 1 1 1 3 1 ...\n",
      " $ mxPH  : num  8 8.35 8.1 8.07 8.06 8.25 8.15 8.05 8.7 7.93 ...\n",
      " $ mnO2  : num  9.8 8 11.4 4.8 9 13.1 10.3 10.6 3.4 9.9 ...\n",
      " $ Cl    : num  60.8 57.8 40 77.4 55.4 ...\n",
      " $ NO3   : num  6.24 1.29 5.33 2.3 10.42 ...\n",
      " $ NH4   : num  578 370 346.7 98.2 233.7 ...\n",
      " $ oPO4  : num  105 428.8 125.7 61.2 58.2 ...\n",
      " $ PO4   : num  170 558.8 187.1 138.7 97.6 ...\n",
      " $ Chla  : num  50 1.3 15.6 1.4 10.5 ...\n",
      " $ a1    : num  0 1.4 3.3 3.1 9.2 15.1 2.4 18.2 25.4 17 ...\n",
      " $ a2    : num  0 7.6 53.6 41 2.9 14.6 1.2 1.6 5.4 0 ...\n",
      " $ a3    : num  0 4.8 1.9 18.9 7.5 1.4 3.2 0 2.5 0 ...\n",
      " $ a4    : num  0 1.9 0 0 0 0 3.9 0 0 2.9 ...\n",
      " $ a5    : num  34.2 6.7 0 1.4 7.5 22.5 5.8 5.5 0 0 ...\n",
      " $ a6    : num  8.3 0 0 0 4.1 12.6 6.8 8.7 0 0 ...\n",
      " $ a7    : num  0 2.1 9.7 1.4 1 2.9 0 0 0 1.7 ...\n"
     ]
    }
   ],
   "source": [
    "str(algae_blooms)"
   ]
  },
  {
   "cell_type": "markdown",
   "metadata": {},
   "source": [
    "Evidently, `algae_blooms` is a data frame with 340 observations of 18 variables each. \n",
    "\n",
    "**Notes:**\n",
    "- 3 of the fields are categorical (`season`, `size`, `speed`, which refer to the data collection process)\n",
    "- of the numerical fields, 8 have names that sound vaguely \"chemical\"\n",
    "- presumably, the remaining fields refer to the algae blooms\n",
    "\n",
    "We can get a better feel for the data frame by observing it in its natural habitat, so to speak, using the `head` or `tail` functions.  "
   ]
  },
  {
   "cell_type": "code",
   "execution_count": 3,
   "metadata": {
    "collapsed": false
   },
   "outputs": [
    {
     "data": {
      "text/html": [
       "<table>\n",
       "<thead><tr><th scope=col>season</th><th scope=col>size</th><th scope=col>speed</th><th scope=col>mxPH</th><th scope=col>mnO2</th><th scope=col>Cl</th><th scope=col>NO3</th><th scope=col>NH4</th><th scope=col>oPO4</th><th scope=col>PO4</th><th scope=col>Chla</th><th scope=col>a1</th><th scope=col>a2</th><th scope=col>a3</th><th scope=col>a4</th><th scope=col>a5</th><th scope=col>a6</th><th scope=col>a7</th></tr></thead>\n",
       "<tbody>\n",
       "\t<tr><td>winter </td><td>small  </td><td>medium </td><td>8.00   </td><td> 9.8   </td><td>60.800 </td><td> 6.238 </td><td>578.000</td><td>105.000</td><td>170.000</td><td>50.0   </td><td> 0.0   </td><td> 0.0   </td><td> 0.0   </td><td>0.0    </td><td>34.2   </td><td> 8.3   </td><td>0.0    </td></tr>\n",
       "\t<tr><td>spring </td><td>small  </td><td>medium </td><td>8.35   </td><td> 8.0   </td><td>57.750 </td><td> 1.288 </td><td>370.000</td><td>428.750</td><td>558.750</td><td> 1.3   </td><td> 1.4   </td><td> 7.6   </td><td> 4.8   </td><td>1.9    </td><td> 6.7   </td><td> 0.0   </td><td>2.1    </td></tr>\n",
       "\t<tr><td>autumn </td><td>small  </td><td>medium </td><td>8.10   </td><td>11.4   </td><td>40.020 </td><td> 5.330 </td><td>346.667</td><td>125.667</td><td>187.057</td><td>15.6   </td><td> 3.3   </td><td>53.6   </td><td> 1.9   </td><td>0.0    </td><td> 0.0   </td><td> 0.0   </td><td>9.7    </td></tr>\n",
       "\t<tr><td>spring </td><td>small  </td><td>medium </td><td>8.07   </td><td> 4.8   </td><td>77.364 </td><td> 2.302 </td><td> 98.182</td><td> 61.182</td><td>138.700</td><td> 1.4   </td><td> 3.1   </td><td>41.0   </td><td>18.9   </td><td>0.0    </td><td> 1.4   </td><td> 0.0   </td><td>1.4    </td></tr>\n",
       "\t<tr><td>autumn </td><td>small  </td><td>medium </td><td>8.06   </td><td> 9.0   </td><td>55.350 </td><td>10.416 </td><td>233.700</td><td> 58.222</td><td> 97.580</td><td>10.5   </td><td> 9.2   </td><td> 2.9   </td><td> 7.5   </td><td>0.0    </td><td> 7.5   </td><td> 4.1   </td><td>1.0    </td></tr>\n",
       "\t<tr><td>winter </td><td>small  </td><td>high   </td><td>8.25   </td><td>13.1   </td><td>65.750 </td><td> 9.248 </td><td>430.000</td><td> 18.250</td><td> 56.667</td><td>28.4   </td><td>15.1   </td><td>14.6   </td><td> 1.4   </td><td>0.0    </td><td>22.5   </td><td>12.6   </td><td>2.9    </td></tr>\n",
       "</tbody>\n",
       "</table>\n"
      ],
      "text/latex": [
       "\\begin{tabular}{r|llllllllllllllllll}\n",
       " season & size & speed & mxPH & mnO2 & Cl & NO3 & NH4 & oPO4 & PO4 & Chla & a1 & a2 & a3 & a4 & a5 & a6 & a7\\\\\n",
       "\\hline\n",
       "\t winter  & small   & medium  & 8.00    &  9.8    & 60.800  &  6.238  & 578.000 & 105.000 & 170.000 & 50.0    &  0.0    &  0.0    &  0.0    & 0.0     & 34.2    &  8.3    & 0.0    \\\\\n",
       "\t spring  & small   & medium  & 8.35    &  8.0    & 57.750  &  1.288  & 370.000 & 428.750 & 558.750 &  1.3    &  1.4    &  7.6    &  4.8    & 1.9     &  6.7    &  0.0    & 2.1    \\\\\n",
       "\t autumn  & small   & medium  & 8.10    & 11.4    & 40.020  &  5.330  & 346.667 & 125.667 & 187.057 & 15.6    &  3.3    & 53.6    &  1.9    & 0.0     &  0.0    &  0.0    & 9.7    \\\\\n",
       "\t spring  & small   & medium  & 8.07    &  4.8    & 77.364  &  2.302  &  98.182 &  61.182 & 138.700 &  1.4    &  3.1    & 41.0    & 18.9    & 0.0     &  1.4    &  0.0    & 1.4    \\\\\n",
       "\t autumn  & small   & medium  & 8.06    &  9.0    & 55.350  & 10.416  & 233.700 &  58.222 &  97.580 & 10.5    &  9.2    &  2.9    &  7.5    & 0.0     &  7.5    &  4.1    & 1.0    \\\\\n",
       "\t winter  & small   & high    & 8.25    & 13.1    & 65.750  &  9.248  & 430.000 &  18.250 &  56.667 & 28.4    & 15.1    & 14.6    &  1.4    & 0.0     & 22.5    & 12.6    & 2.9    \\\\\n",
       "\\end{tabular}\n"
      ],
      "text/markdown": [
       "\n",
       "season | size | speed | mxPH | mnO2 | Cl | NO3 | NH4 | oPO4 | PO4 | Chla | a1 | a2 | a3 | a4 | a5 | a6 | a7 | \n",
       "|---|---|---|---|---|---|\n",
       "| winter  | small   | medium  | 8.00    |  9.8    | 60.800  |  6.238  | 578.000 | 105.000 | 170.000 | 50.0    |  0.0    |  0.0    |  0.0    | 0.0     | 34.2    |  8.3    | 0.0     | \n",
       "| spring  | small   | medium  | 8.35    |  8.0    | 57.750  |  1.288  | 370.000 | 428.750 | 558.750 |  1.3    |  1.4    |  7.6    |  4.8    | 1.9     |  6.7    |  0.0    | 2.1     | \n",
       "| autumn  | small   | medium  | 8.10    | 11.4    | 40.020  |  5.330  | 346.667 | 125.667 | 187.057 | 15.6    |  3.3    | 53.6    |  1.9    | 0.0     |  0.0    |  0.0    | 9.7     | \n",
       "| spring  | small   | medium  | 8.07    |  4.8    | 77.364  |  2.302  |  98.182 |  61.182 | 138.700 |  1.4    |  3.1    | 41.0    | 18.9    | 0.0     |  1.4    |  0.0    | 1.4     | \n",
       "| autumn  | small   | medium  | 8.06    |  9.0    | 55.350  | 10.416  | 233.700 |  58.222 |  97.580 | 10.5    |  9.2    |  2.9    |  7.5    | 0.0     |  7.5    |  4.1    | 1.0     | \n",
       "| winter  | small   | high    | 8.25    | 13.1    | 65.750  |  9.248  | 430.000 |  18.250 |  56.667 | 28.4    | 15.1    | 14.6    |  1.4    | 0.0     | 22.5    | 12.6    | 2.9     | \n",
       "\n",
       "\n"
      ],
      "text/plain": [
       "  season size  speed  mxPH mnO2 Cl     NO3    NH4     oPO4    PO4     Chla a1  \n",
       "1 winter small medium 8.00  9.8 60.800  6.238 578.000 105.000 170.000 50.0  0.0\n",
       "2 spring small medium 8.35  8.0 57.750  1.288 370.000 428.750 558.750  1.3  1.4\n",
       "3 autumn small medium 8.10 11.4 40.020  5.330 346.667 125.667 187.057 15.6  3.3\n",
       "4 spring small medium 8.07  4.8 77.364  2.302  98.182  61.182 138.700  1.4  3.1\n",
       "5 autumn small medium 8.06  9.0 55.350 10.416 233.700  58.222  97.580 10.5  9.2\n",
       "6 winter small high   8.25 13.1 65.750  9.248 430.000  18.250  56.667 28.4 15.1\n",
       "  a2   a3   a4  a5   a6   a7 \n",
       "1  0.0  0.0 0.0 34.2  8.3 0.0\n",
       "2  7.6  4.8 1.9  6.7  0.0 2.1\n",
       "3 53.6  1.9 0.0  0.0  0.0 9.7\n",
       "4 41.0 18.9 0.0  1.4  0.0 1.4\n",
       "5  2.9  7.5 0.0  7.5  4.1 1.0\n",
       "6 14.6  1.4 0.0 22.5 12.6 2.9"
      ]
     },
     "metadata": {},
     "output_type": "display_data"
    }
   ],
   "source": [
    "head(algae_blooms)"
   ]
  },
  {
   "cell_type": "markdown",
   "metadata": {},
   "source": [
    "---\n",
    "[Back to top](#top)\n",
    "## DATA CLEANING<a name=\"clean\"></a>\n",
    "\n",
    "We found some anomalies in the data when we explored the dataset (see notebooks DS 03 and DS 07); let's take some time to clean it up (somewhat). \n",
    "\n",
    "Anomalies come in various flavours; in this section we'll handle **missing values** (outlying behaviour is tackled in notebook DS 07)."
   ]
  },
  {
   "cell_type": "code",
   "execution_count": 4,
   "metadata": {
    "collapsed": false
   },
   "outputs": [
    {
     "name": "stderr",
     "output_type": "stream",
     "text": [
      "\n",
      "Attaching package: ‘dplyr’\n",
      "\n",
      "The following objects are masked from ‘package:stats’:\n",
      "\n",
      "    filter, lag\n",
      "\n",
      "The following objects are masked from ‘package:base’:\n",
      "\n",
      "    intersect, setdiff, setequal, union\n",
      "\n"
     ]
    }
   ],
   "source": [
    "library(dplyr)"
   ]
  },
  {
   "cell_type": "markdown",
   "metadata": {},
   "source": [
    "The function `complete.cases` lists the observations for which every field is present (note that it says nothing about the **validity** of the case)."
   ]
  },
  {
   "cell_type": "code",
   "execution_count": 5,
   "metadata": {
    "collapsed": false
   },
   "outputs": [
    {
     "data": {
      "text/plain": [
       "\n",
       "FALSE  TRUE \n",
       "   34   306 "
      ]
     },
     "metadata": {},
     "output_type": "display_data"
    }
   ],
   "source": [
    "table(complete.cases(algae_blooms))"
   ]
  },
  {
   "cell_type": "markdown",
   "metadata": {},
   "source": [
    "The vast majority of observations do not have missing cases, but a few still do. Let's take a look at them to see if there is anything special about them? Are the values missing completely at random?"
   ]
  },
  {
   "cell_type": "code",
   "execution_count": 6,
   "metadata": {
    "collapsed": false
   },
   "outputs": [
    {
     "name": "stdout",
     "output_type": "stream",
     "text": [
      "'data.frame':\t34 obs. of  18 variables:\n",
      " $ season: Factor w/ 4 levels \"autumn\",\"spring\",..: 1 2 4 4 2 1 2 3 1 2 ...\n",
      " $ size  : Factor w/ 3 levels \"large\",\"medium\",..: 3 3 3 3 3 3 3 3 3 3 ...\n",
      " $ speed : Factor w/ 3 levels \"high\",\"low\",\"medium\": 1 1 2 1 3 3 1 1 3 3 ...\n",
      " $ mxPH  : num  6.8 8 NA 6.6 5.6 5.7 6.6 6.6 6.6 6.5 ...\n",
      " $ mnO2  : num  11.1 NA 12.6 10.8 11.8 10.8 9.5 10.8 11.3 10.4 ...\n",
      " $ Cl    : num  9 1.45 9 NA NA NA NA NA NA NA ...\n",
      " $ NO3   : num  0.63 0.81 0.23 3.25 2.22 ...\n",
      " $ NH4   : num  20 10 10 10 5 10 20 10 10 10 ...\n",
      " $ oPO4  : num  4 2.5 5 1 1 1 1 2 1 2 ...\n",
      " $ PO4   : num  NA 3 6 6.5 1 4 6 11 6 14 ...\n",
      " $ Chla  : num  2.7 0.3 1.1 NA NA NA NA NA NA NA ...\n",
      " $ a1    : num  30.3 75.8 35.5 24.3 82.7 16.8 46.8 46.9 47.1 66.9 ...\n",
      " $ a2    : num  1.9 0 0 0 0 4.6 0 0 0 0 ...\n",
      " $ a3    : num  0 0 0 0 0 3.9 0 0 0 0 ...\n",
      " $ a4    : num  0 0 0 0 0 11.5 28.8 13.4 0 0 ...\n",
      " $ a5    : num  2.1 0 0 0 0 0 0 0 0 0 ...\n",
      " $ a6    : num  1.4 0 0 0 0 0 0 0 1.2 0 ...\n",
      " $ a7    : num  2.1 0 0 0 0 0 0 0 0 0 ...\n"
     ]
    },
    {
     "data": {
      "text/plain": [
       "    season       size       speed         mxPH            mnO2       \n",
       " autumn: 8   large : 7   high  :17   Min.   :5.600   Min.   : 5.700  \n",
       " spring: 7   medium: 1   low   : 4   1st Qu.:6.600   1st Qu.: 9.275  \n",
       " summer: 6   small :26   medium:13   Median :7.225   Median :10.800  \n",
       " winter:13                           Mean   :7.344   Mean   :10.192  \n",
       "                                     3rd Qu.:8.000   3rd Qu.:11.300  \n",
       "                                     Max.   :9.700   Max.   :12.600  \n",
       "                                     NA's   :2       NA's   :2       \n",
       "       Cl              NO3               NH4              oPO4        \n",
       " Min.   : 0.222   Min.   : 0.2300   Min.   :  5.00   Min.   :  1.000  \n",
       " 1st Qu.: 4.562   1st Qu.: 0.8025   1st Qu.: 10.00   1st Qu.:  1.000  \n",
       " Median : 9.027   Median : 1.4440   Median : 11.84   Median :  3.667  \n",
       " Mean   :19.312   Mean   : 2.1684   Mean   : 62.03   Mean   : 25.676  \n",
       " 3rd Qu.:25.238   3rd Qu.: 2.5725   3rd Qu.: 46.38   3rd Qu.: 20.250  \n",
       " Max.   :71.000   Max.   :11.0200   Max.   :500.00   Max.   :295.667  \n",
       " NA's   :16       NA's   :2         NA's   :2        NA's   :2        \n",
       "      PO4              Chla             a1              a2        \n",
       " Min.   :  1.00   Min.   : 0.30   Min.   : 0.00   Min.   : 0.000  \n",
       " 1st Qu.:  6.00   1st Qu.: 1.78   1st Qu.:16.80   1st Qu.: 0.000  \n",
       " Median : 10.83   Median : 4.00   Median :30.30   Median : 0.000  \n",
       " Mean   : 34.58   Mean   :13.97   Mean   :36.02   Mean   : 4.503  \n",
       " 3rd Qu.: 19.23   3rd Qu.:12.22   3rd Qu.:54.38   3rd Qu.: 3.400  \n",
       " Max.   :380.00   Max.   :68.05   Max.   :83.00   Max.   :36.500  \n",
       " NA's   :7        NA's   :23                                      \n",
       "       a3               a4               a5               a6        \n",
       " Min.   : 0.000   Min.   : 0.000   Min.   : 0.000   Min.   : 0.000  \n",
       " 1st Qu.: 0.000   1st Qu.: 0.000   1st Qu.: 0.000   1st Qu.: 0.000  \n",
       " Median : 0.000   Median : 0.000   Median : 0.000   Median : 0.000  \n",
       " Mean   : 1.418   Mean   : 2.335   Mean   : 1.544   Mean   : 1.138  \n",
       " 3rd Qu.: 1.125   3rd Qu.: 1.975   3rd Qu.: 0.900   3rd Qu.: 0.000  \n",
       " Max.   :14.600   Max.   :28.800   Max.   :21.100   Max.   :14.500  \n",
       "                                                                    \n",
       "       a7        \n",
       " Min.   : 0.000  \n",
       " 1st Qu.: 0.000  \n",
       " Median : 0.000  \n",
       " Mean   : 1.676  \n",
       " 3rd Qu.: 1.575  \n",
       " Max.   :28.000  \n",
       "                 "
      ]
     },
     "metadata": {},
     "output_type": "display_data"
    }
   ],
   "source": [
    "str(filter(algae_blooms, !complete.cases(algae_blooms)))\n",
    "summary(filter(algae_blooms, !complete.cases(algae_blooms)))"
   ]
  },
  {
   "cell_type": "markdown",
   "metadata": {},
   "source": [
    "Right off the bat, missing cases seem to be over-represented in `small` rivers and under-represented in `low`-speed rivers. But upon further investigation (that is, comparing with the original dataset), the under-representation of `low`-speed rivers is not problematic as it is in-line with the numbers in the larger dataset (by which I mean that `low`-speed rivers don't seem to have a systematic missing value problem, rather than the under-representation of `low`-speed rivers in the original dataset is not problematic).\n",
    "\n",
    "I will assume for now (in the interest of efficiency) that the fact that small rivers have a lot of missing cases (mostly `Cl` and `Chla`) is also not a problem (YOU SHOULD PROBABLY VERIFY IF THAT IS INDEED THE CASE...)\n",
    "\n",
    "And the bulk of the missing values seem to come from either `Cl`, `Chla`, or `PO4`. There also seems to be 2 observations for which we have very little information, but we can't use that smmary to determine if it's always the same two observations.\n",
    "\n",
    "For instance, let's see what observations have missing `NH4` values. "
   ]
  },
  {
   "cell_type": "code",
   "execution_count": 7,
   "metadata": {
    "collapsed": false
   },
   "outputs": [
    {
     "data": {
      "text/html": [
       "<table>\n",
       "<thead><tr><th></th><th scope=col>season</th><th scope=col>size</th><th scope=col>speed</th><th scope=col>mxPH</th><th scope=col>mnO2</th><th scope=col>Cl</th><th scope=col>NO3</th><th scope=col>NH4</th><th scope=col>oPO4</th><th scope=col>PO4</th><th scope=col>Chla</th><th scope=col>a1</th><th scope=col>a2</th><th scope=col>a3</th><th scope=col>a4</th><th scope=col>a5</th><th scope=col>a6</th><th scope=col>a7</th></tr></thead>\n",
       "<tbody>\n",
       "\t<tr><th scope=row>62</th><td>summer</td><td>small </td><td>medium</td><td>6.4   </td><td> NA   </td><td>NA    </td><td>NA    </td><td>NA    </td><td>NA    </td><td>14    </td><td>NA    </td><td>19.4  </td><td> 0.0  </td><td>0.0   </td><td>2     </td><td>0     </td><td>3.9   </td><td>1.7   </td></tr>\n",
       "\t<tr><th scope=row>199</th><td>winter</td><td>large </td><td>medium</td><td>8.0   </td><td>7.6   </td><td>NA    </td><td>NA    </td><td>NA    </td><td>NA    </td><td>NA    </td><td>NA    </td><td> 0.0  </td><td>12.5  </td><td>3.7   </td><td>1     </td><td>0     </td><td>0.0   </td><td>4.9   </td></tr>\n",
       "</tbody>\n",
       "</table>\n"
      ],
      "text/latex": [
       "\\begin{tabular}{r|llllllllllllllllll}\n",
       "  & season & size & speed & mxPH & mnO2 & Cl & NO3 & NH4 & oPO4 & PO4 & Chla & a1 & a2 & a3 & a4 & a5 & a6 & a7\\\\\n",
       "\\hline\n",
       "\t62 & summer & small  & medium & 6.4    &  NA    & NA     & NA     & NA     & NA     & 14     & NA     & 19.4   &  0.0   & 0.0    & 2      & 0      & 3.9    & 1.7   \\\\\n",
       "\t199 & winter & large  & medium & 8.0    & 7.6    & NA     & NA     & NA     & NA     & NA     & NA     &  0.0   & 12.5   & 3.7    & 1      & 0      & 0.0    & 4.9   \\\\\n",
       "\\end{tabular}\n"
      ],
      "text/markdown": [
       "\n",
       "| <!--/--> | season | size | speed | mxPH | mnO2 | Cl | NO3 | NH4 | oPO4 | PO4 | Chla | a1 | a2 | a3 | a4 | a5 | a6 | a7 | \n",
       "|---|---|\n",
       "| 62 | summer | small  | medium | 6.4    |  NA    | NA     | NA     | NA     | NA     | 14     | NA     | 19.4   |  0.0   | 0.0    | 2      | 0      | 3.9    | 1.7    | \n",
       "| 199 | winter | large  | medium | 8.0    | 7.6    | NA     | NA     | NA     | NA     | NA     | NA     |  0.0   | 12.5   | 3.7    | 1      | 0      | 0.0    | 4.9    | \n",
       "\n",
       "\n"
      ],
      "text/plain": [
       "    season size  speed  mxPH mnO2 Cl NO3 NH4 oPO4 PO4 Chla a1   a2   a3  a4 a5\n",
       "62  summer small medium 6.4   NA  NA NA  NA  NA   14  NA   19.4  0.0 0.0 2  0 \n",
       "199 winter large medium 8.0  7.6  NA NA  NA  NA   NA  NA    0.0 12.5 3.7 1  0 \n",
       "    a6  a7 \n",
       "62  3.9 1.7\n",
       "199 0.0 4.9"
      ]
     },
     "metadata": {},
     "output_type": "display_data"
    }
   ],
   "source": [
    "algae_blooms[which(is.na(algae_blooms$NH4)),]"
   ]
  },
  {
   "cell_type": "markdown",
   "metadata": {},
   "source": [
    "While these observations also have missing values in other fields, they do have some non-missing fields as well. \n",
    "\n",
    "But they're both missing 6 of the predictor variables. How useful could they be in training a predictive model? (that depends on the model, of course....)\n",
    "\n",
    "We can write a function that will compute how many missing cases there are for each observation. "
   ]
  },
  {
   "cell_type": "code",
   "execution_count": 8,
   "metadata": {
    "collapsed": false
   },
   "outputs": [
    {
     "data": {
      "text/plain": [
       "\n",
       "  0   1   2   6 \n",
       "306  20  12   2 "
      ]
     },
     "metadata": {},
     "output_type": "display_data"
    }
   ],
   "source": [
    "table(apply(algae_blooms[,1:11],1, function(x) sum(is.na(x)))) # 1 for rows, 2 for columns"
   ]
  },
  {
   "cell_type": "code",
   "execution_count": 9,
   "metadata": {
    "collapsed": false
   },
   "outputs": [
    {
     "data": {
      "text/html": [
       "<ol class=list-inline>\n",
       "\t<li>62</li>\n",
       "\t<li>199</li>\n",
       "</ol>\n"
      ],
      "text/latex": [
       "\\begin{enumerate*}\n",
       "\\item 62\n",
       "\\item 199\n",
       "\\end{enumerate*}\n"
      ],
      "text/markdown": [
       "1. 62\n",
       "2. 199\n",
       "\n",
       "\n"
      ],
      "text/plain": [
       "[1]  62 199"
      ]
     },
     "metadata": {},
     "output_type": "display_data"
    }
   ],
   "source": [
    "which(apply(algae_blooms[,1:11],1, function(x) sum(is.na(x)))>2)"
   ]
  },
  {
   "cell_type": "markdown",
   "metadata": {},
   "source": [
    "Most observations have no missing cases, which is great, and there are a few with 1 or 2, but observations 62 and 199 are **wild cards**, with 6 missing predictors (out of 11). \n",
    "\n",
    "Based on the small number of such wild cards, we elect to remove them from the analysis. \n",
    "\n",
    "**IMPORTANT NOTES:**\n",
    "- If you decide to remove observations for any reason whatsoever, you need to document the process that lead you to eliminate it, and make that available.\n",
    "- Why do we remove the ones with 6 missing cases, but not the ones with 2 missing cases? If there'd been observations with 4 missing cases, what would you have done? What factors influence your decision? \n",
    "\n",
    "---\n",
    "Our new dataset still contains observations with missing cases, however. "
   ]
  },
  {
   "cell_type": "code",
   "execution_count": 10,
   "metadata": {
    "collapsed": false
   },
   "outputs": [
    {
     "data": {
      "text/html": [
       "<ol class=list-inline>\n",
       "\t<li>338</li>\n",
       "\t<li>18</li>\n",
       "</ol>\n"
      ],
      "text/latex": [
       "\\begin{enumerate*}\n",
       "\\item 338\n",
       "\\item 18\n",
       "\\end{enumerate*}\n"
      ],
      "text/markdown": [
       "1. 338\n",
       "2. 18\n",
       "\n",
       "\n"
      ],
      "text/plain": [
       "[1] 338  18"
      ]
     },
     "metadata": {},
     "output_type": "display_data"
    }
   ],
   "source": [
    "algae_blooms.sna = algae_blooms[-which(apply(algae_blooms[,1:11],1, function(x) sum(is.na(x)))>2),]\n",
    "dim(algae_blooms.sna)"
   ]
  },
  {
   "cell_type": "markdown",
   "metadata": {},
   "source": [
    "What can we do with the other observations for which values are missing?\n",
    "\n",
    "One possibility is to use the set of complete observations to compute a **correlation matrix**, and to see if any numerical field is strongly correlated with annother field. That way, if there is a missing value in the first field, the second could be used to impute it.\n",
    "\n",
    "**IMPORTANT NOTE:**\n",
    "- this approach only works for variables that are linearly correlated to a single other variable. Non-linear correlations and multi-variate associations will not be uncovered. "
   ]
  },
  {
   "cell_type": "code",
   "execution_count": 11,
   "metadata": {
    "collapsed": false
   },
   "outputs": [
    {
     "data": {
      "text/plain": [
       "     mP mO Cl NO NH o P Ch a1 a2 a3 a4 a5 a6 a7\n",
       "mxPH 1                                         \n",
       "mnO2    1                                      \n",
       "Cl         1                                   \n",
       "NO3           1                                \n",
       "NH4           .  1                             \n",
       "oPO4             .  1                          \n",
       "PO4     .  .     .  * 1                        \n",
       "Chla .                  1                      \n",
       "a1         .        . .    1                   \n",
       "a2                            1                \n",
       "a3                               1             \n",
       "a4      .        .  . .             1          \n",
       "a5                                     1       \n",
       "a6            .                        .  1    \n",
       "a7                                           1 \n",
       "attr(,\"legend\")\n",
       "[1] 0 ‘ ’ 0.3 ‘.’ 0.6 ‘,’ 0.8 ‘+’ 0.9 ‘*’ 0.95 ‘B’ 1"
      ]
     },
     "metadata": {},
     "output_type": "display_data"
    }
   ],
   "source": [
    "symnum(cor(algae_blooms.sna[,4:18], use=\"complete.obs\"))"
   ]
  },
  {
   "cell_type": "markdown",
   "metadata": {},
   "source": [
    "This might be a bit hard to read. We can use the `corrplot` library to visualize the (linear) correlations. "
   ]
  },
  {
   "cell_type": "code",
   "execution_count": 12,
   "metadata": {
    "collapsed": true
   },
   "outputs": [],
   "source": [
    "library(corrplot)"
   ]
  },
  {
   "cell_type": "code",
   "execution_count": 13,
   "metadata": {
    "collapsed": false
   },
   "outputs": [
    {
     "data": {
      "image/png": "[encoded data removed]",
      "text/plain": [
       "Plot with title “”"
      ]
     },
     "metadata": {},
     "output_type": "display_data"
    }
   ],
   "source": [
    "corrplot(cor(algae_blooms.sna[,4:18], use=\"complete.obs\"),type=\"upper\",tl.pos=\"d\")"
   ]
  },
  {
   "cell_type": "markdown",
   "metadata": {},
   "source": [
    "The correlation between `PO4` (which has missing cases) and `oPO4` (which does not, anymore) is clear. \n",
    "\n",
    "What is the nature of the relation? We'll use the set of complete cases to find it."
   ]
  },
  {
   "cell_type": "code",
   "execution_count": 14,
   "metadata": {
    "collapsed": false
   },
   "outputs": [],
   "source": [
    "algae_blooms.nona <- algae_blooms.sna[-which(apply(algae_blooms.sna,1, function(x) sum(is.na(x)))>0),]"
   ]
  },
  {
   "cell_type": "code",
   "execution_count": 15,
   "metadata": {
    "collapsed": false
   },
   "outputs": [
    {
     "data": {
      "text/html": [
       "<ol class=list-inline>\n",
       "\t<li>306</li>\n",
       "\t<li>18</li>\n",
       "</ol>\n"
      ],
      "text/latex": [
       "\\begin{enumerate*}\n",
       "\\item 306\n",
       "\\item 18\n",
       "\\end{enumerate*}\n"
      ],
      "text/markdown": [
       "1. 306\n",
       "2. 18\n",
       "\n",
       "\n"
      ],
      "text/plain": [
       "[1] 306  18"
      ]
     },
     "metadata": {},
     "output_type": "display_data"
    }
   ],
   "source": [
    "dim(algae_blooms.nona)"
   ]
  },
  {
   "cell_type": "code",
   "execution_count": 16,
   "metadata": {
    "collapsed": false
   },
   "outputs": [
    {
     "data": {
      "text/plain": [
       "\n",
       "Call:\n",
       "lm(formula = PO4 ~ oPO4, data = algae_blooms.nona)\n",
       "\n",
       "Coefficients:\n",
       "(Intercept)         oPO4  \n",
       "     51.811        1.203  \n"
      ]
     },
     "metadata": {},
     "output_type": "display_data"
    }
   ],
   "source": [
    "PO4.oPO4.model = lm(PO4 ~ oPO4, data=algae_blooms.nona)\n",
    "PO4.oPO4.model"
   ]
  },
  {
   "cell_type": "markdown",
   "metadata": {},
   "source": [
    "The regression function is `PO4`$=51.811+1.203$`oPO4`. (note that I'm not really interested in the fit statistics)"
   ]
  },
  {
   "cell_type": "code",
   "execution_count": 17,
   "metadata": {
    "collapsed": false
   },
   "outputs": [],
   "source": [
    "Intercept = PO4.oPO4.model$coefficients[[1]]\n",
    "Slope = PO4.oPO4.model$coefficients[[2]]"
   ]
  },
  {
   "cell_type": "markdown",
   "metadata": {},
   "source": [
    "What are the observations for which `PO4` is missing? "
   ]
  },
  {
   "cell_type": "code",
   "execution_count": 18,
   "metadata": {
    "collapsed": false
   },
   "outputs": [
    {
     "data": {
      "text/html": [
       "<ol class=list-inline>\n",
       "\t<li>28</li>\n",
       "\t<li>221</li>\n",
       "\t<li>291</li>\n",
       "\t<li>326</li>\n",
       "\t<li>331</li>\n",
       "\t<li>335</li>\n",
       "</ol>\n"
      ],
      "text/latex": [
       "\\begin{enumerate*}\n",
       "\\item 28\n",
       "\\item 221\n",
       "\\item 291\n",
       "\\item 326\n",
       "\\item 331\n",
       "\\item 335\n",
       "\\end{enumerate*}\n"
      ],
      "text/markdown": [
       "1. 28\n",
       "2. 221\n",
       "3. 291\n",
       "4. 326\n",
       "5. 331\n",
       "6. 335\n",
       "\n",
       "\n"
      ],
      "text/plain": [
       "[1]  28 221 291 326 331 335"
      ]
     },
     "metadata": {},
     "output_type": "display_data"
    }
   ],
   "source": [
    "which(is.na(algae_blooms.sna$PO4)==TRUE)"
   ]
  },
  {
   "cell_type": "markdown",
   "metadata": {},
   "source": [
    "Let's use the regression function to impute the missing `PO4` values."
   ]
  },
  {
   "cell_type": "code",
   "execution_count": 19,
   "metadata": {
    "collapsed": false
   },
   "outputs": [],
   "source": [
    "algae_blooms.sna2 <- algae_blooms.sna\n",
    "algae_blooms.sna2$PO4 <- ifelse(is.na(algae_blooms.sna2$PO4),max(Intercept + Slope*algae_blooms.sna2$oPO4,0),algae_blooms.sna2$PO4)"
   ]
  },
  {
   "cell_type": "markdown",
   "metadata": {},
   "source": [
    "We can clearly see that no values of `PO4` are missing anymore."
   ]
  },
  {
   "cell_type": "code",
   "execution_count": 20,
   "metadata": {
    "collapsed": false
   },
   "outputs": [
    {
     "data": {
      "text/html": [],
      "text/latex": [],
      "text/markdown": [],
      "text/plain": [
       "integer(0)"
      ]
     },
     "metadata": {},
     "output_type": "display_data"
    }
   ],
   "source": [
    "which(is.na(algae_blooms.sna2$PO4)==TRUE)"
   ]
  },
  {
   "cell_type": "markdown",
   "metadata": {},
   "source": [
    "That takes care of the missing values with strong linear correlation to another field. Where do we stand now?"
   ]
  },
  {
   "cell_type": "code",
   "execution_count": 21,
   "metadata": {
    "collapsed": false
   },
   "outputs": [
    {
     "data": {
      "text/plain": [
       "    season       size        speed          mxPH            mnO2       \n",
       " autumn:80   large : 82   high  :142   Min.   :5.600   Min.   : 1.500  \n",
       " spring:84   medium:136   low   : 58   1st Qu.:7.750   1st Qu.: 8.000  \n",
       " summer:85   small :120   medium:138   Median :8.055   Median : 9.700  \n",
       " winter:89                             Mean   :8.002   Mean   : 9.161  \n",
       "                                       3rd Qu.:8.400   3rd Qu.:10.800  \n",
       "                                       Max.   :9.700   Max.   :13.400  \n",
       "                                       NA's   :2       NA's   :1       \n",
       "       Cl               NO3              NH4                oPO4        \n",
       " Min.   :  0.222   Min.   : 0.000   Min.   :    5.00   Min.   :   1.00  \n",
       " 1st Qu.: 10.994   1st Qu.: 1.147   1st Qu.:   37.86   1st Qu.:  13.00  \n",
       " Median : 32.470   Median : 2.356   Median :  107.36   Median :  37.24  \n",
       " Mean   : 42.517   Mean   : 3.121   Mean   :  471.73   Mean   :  73.09  \n",
       " 3rd Qu.: 57.750   3rd Qu.: 4.147   3rd Qu.:  244.90   3rd Qu.:  88.11  \n",
       " Max.   :391.500   Max.   :45.650   Max.   :24064.00   Max.   :1435.00  \n",
       " NA's   :14                                                             \n",
       "      PO4               Chla               a1              a2        \n",
       " Min.   :   1.00   Min.   :  0.200   Min.   : 0.00   Min.   : 0.000  \n",
       " 1st Qu.:  40.75   1st Qu.:  2.133   1st Qu.: 1.50   1st Qu.: 0.000  \n",
       " Median : 104.86   Median :  5.111   Median : 7.10   Median : 2.800  \n",
       " Mean   : 166.18   Mean   : 12.796   Mean   :16.74   Mean   : 7.207  \n",
       " 3rd Qu.: 206.12   3rd Qu.: 17.200   3rd Qu.:25.32   3rd Qu.:10.025  \n",
       " Max.   :1777.93   Max.   :110.456   Max.   :89.80   Max.   :72.600  \n",
       "                   NA's   :21                                        \n",
       "       a3               a4               a5               a6        \n",
       " Min.   : 0.000   Min.   : 0.000   Min.   : 0.000   Min.   : 0.000  \n",
       " 1st Qu.: 0.000   1st Qu.: 0.000   1st Qu.: 0.000   1st Qu.: 0.000  \n",
       " Median : 1.400   Median : 0.000   Median : 2.200   Median : 0.000  \n",
       " Mean   : 3.917   Mean   : 1.812   Mean   : 5.548   Mean   : 6.438  \n",
       " 3rd Qu.: 4.675   3rd Qu.: 2.300   3rd Qu.: 8.000   3rd Qu.: 7.075  \n",
       " Max.   :42.800   Max.   :44.600   Max.   :61.100   Max.   :77.600  \n",
       "                                                                    \n",
       "       a7      \n",
       " Min.   : 0.0  \n",
       " 1st Qu.: 0.0  \n",
       " Median : 0.0  \n",
       " Mean   : 2.2  \n",
       " 3rd Qu.: 2.2  \n",
       " Max.   :31.6  \n",
       "               "
      ]
     },
     "metadata": {},
     "output_type": "display_data"
    }
   ],
   "source": [
    "summary(algae_blooms.sna2)"
   ]
  },
  {
   "cell_type": "markdown",
   "metadata": {},
   "source": [
    "Alright, so we don't have as many missing values as before, but we still have some. And the correlation trick isn't going to work this time. \n",
    "\n",
    "What can we do? There are many ways to tackle the problem, but we will use $k$NN imputation. The principle is simple. Using some similarity/distance metric (typically based on the Euclidean distance between points), we start by identifying the $k$ nearest (complete) neighbours of each observation with a missing case. We then compute the mean value of the missing case in the $k-$group of complete observations, and use *that* value as the imputed value.\n",
    "\n",
    "**IMPORTANT NOTES:**\n",
    "- as we have seen when we were discussing, we often suggest **scaling** the data when dealing with distance metrics. I elected not to scale the data explicitely here. How much of an effect can that have?  \n",
    "- we are going to be using `DMwR`s implementation of `knnImputation` (below). How would you go about determining if the routine scales the data internally?\n",
    "\n"
   ]
  },
  {
   "cell_type": "code",
   "execution_count": 22,
   "metadata": {
    "collapsed": false
   },
   "outputs": [
    {
     "name": "stderr",
     "output_type": "stream",
     "text": [
      "Loading required package: lattice\n",
      "Loading required package: grid\n"
     ]
    }
   ],
   "source": [
    "library(DMwR)"
   ]
  },
  {
   "cell_type": "code",
   "execution_count": 23,
   "metadata": {
    "collapsed": true
   },
   "outputs": [],
   "source": [
    "algae_blooms.sna2 <- knnImputation(algae_blooms.sna2,k=10) # the choice of k=10 is arbitrary here. "
   ]
  },
  {
   "cell_type": "markdown",
   "metadata": {},
   "source": [
    "Sure enough, there are no further observations with incomplete cases."
   ]
  },
  {
   "cell_type": "code",
   "execution_count": 24,
   "metadata": {
    "collapsed": false
   },
   "outputs": [
    {
     "data": {
      "text/plain": [
       "    season       size        speed          mxPH            mnO2       \n",
       " autumn:80   large : 82   high  :142   Min.   :5.600   Min.   : 1.500  \n",
       " spring:84   medium:136   low   : 58   1st Qu.:7.754   1st Qu.: 8.000  \n",
       " summer:85   small :120   medium:138   Median :8.045   Median : 9.750  \n",
       " winter:89                             Mean   :8.001   Mean   : 9.165  \n",
       "                                       3rd Qu.:8.393   3rd Qu.:10.800  \n",
       "                                       Max.   :9.700   Max.   :13.400  \n",
       "       Cl               NO3              NH4                oPO4        \n",
       " Min.   :  0.222   Min.   : 0.000   Min.   :    5.00   Min.   :   1.00  \n",
       " 1st Qu.: 10.514   1st Qu.: 1.147   1st Qu.:   37.86   1st Qu.:  13.00  \n",
       " Median : 31.233   Median : 2.356   Median :  107.36   Median :  37.24  \n",
       " Mean   : 41.342   Mean   : 3.121   Mean   :  471.73   Mean   :  73.09  \n",
       " 3rd Qu.: 57.291   3rd Qu.: 4.147   3rd Qu.:  244.90   3rd Qu.:  88.11  \n",
       " Max.   :391.500   Max.   :45.650   Max.   :24064.00   Max.   :1435.00  \n",
       "      PO4               Chla               a1              a2        \n",
       " Min.   :   1.00   Min.   :  0.200   Min.   : 0.00   Min.   : 0.000  \n",
       " 1st Qu.:  40.75   1st Qu.:  2.102   1st Qu.: 1.50   1st Qu.: 0.000  \n",
       " Median : 104.86   Median :  5.042   Median : 7.10   Median : 2.800  \n",
       " Mean   : 166.18   Mean   : 12.303   Mean   :16.74   Mean   : 7.207  \n",
       " 3rd Qu.: 206.12   3rd Qu.: 16.021   3rd Qu.:25.32   3rd Qu.:10.025  \n",
       " Max.   :1777.93   Max.   :110.456   Max.   :89.80   Max.   :72.600  \n",
       "       a3               a4               a5               a6        \n",
       " Min.   : 0.000   Min.   : 0.000   Min.   : 0.000   Min.   : 0.000  \n",
       " 1st Qu.: 0.000   1st Qu.: 0.000   1st Qu.: 0.000   1st Qu.: 0.000  \n",
       " Median : 1.400   Median : 0.000   Median : 2.200   Median : 0.000  \n",
       " Mean   : 3.917   Mean   : 1.812   Mean   : 5.548   Mean   : 6.438  \n",
       " 3rd Qu.: 4.675   3rd Qu.: 2.300   3rd Qu.: 8.000   3rd Qu.: 7.075  \n",
       " Max.   :42.800   Max.   :44.600   Max.   :61.100   Max.   :77.600  \n",
       "       a7      \n",
       " Min.   : 0.0  \n",
       " 1st Qu.: 0.0  \n",
       " Median : 0.0  \n",
       " Mean   : 2.2  \n",
       " 3rd Qu.: 2.2  \n",
       " Max.   :31.6  "
      ]
     },
     "metadata": {},
     "output_type": "display_data"
    },
    {
     "data": {
      "text/plain": [
       "\n",
       "  0 \n",
       "338 "
      ]
     },
     "metadata": {},
     "output_type": "display_data"
    }
   ],
   "source": [
    "summary(algae_blooms.sna2)\n",
    "table(apply(algae_blooms.sna2,1, function(x) sum(is.na(x)))) # 1 for rows, 2 for columns"
   ]
  },
  {
   "cell_type": "markdown",
   "metadata": {
    "collapsed": true
   },
   "source": [
    "---\n",
    "[Back to top](#top)\n",
    "## DATA REDUCTION AND FEATURE SELECTION <a name=redux></a>\n",
    "\n",
    "**PCA** is typically used on the (numeric) predictor variables. Methods exist to combine numeric and categorical variables, but for the purposes of this example, we will neglect the effect of the categorical fields.  "
   ]
  },
  {
   "cell_type": "code",
   "execution_count": 34,
   "metadata": {
    "collapsed": true
   },
   "outputs": [],
   "source": [
    "pca.algae = algae_blooms.sna2[,4:11]"
   ]
  },
  {
   "cell_type": "code",
   "execution_count": 35,
   "metadata": {
    "collapsed": false
   },
   "outputs": [
    {
     "data": {
      "text/html": [
       "<table>\n",
       "<thead><tr><th scope=col>mxPH</th><th scope=col>mnO2</th><th scope=col>Cl</th><th scope=col>NO3</th><th scope=col>NH4</th><th scope=col>oPO4</th><th scope=col>PO4</th><th scope=col>Chla</th></tr></thead>\n",
       "<tbody>\n",
       "\t<tr><td>8.00   </td><td> 9.8   </td><td>60.800 </td><td> 6.238 </td><td>578.000</td><td>105.000</td><td>170.000</td><td>50.0   </td></tr>\n",
       "\t<tr><td>8.35   </td><td> 8.0   </td><td>57.750 </td><td> 1.288 </td><td>370.000</td><td>428.750</td><td>558.750</td><td> 1.3   </td></tr>\n",
       "\t<tr><td>8.10   </td><td>11.4   </td><td>40.020 </td><td> 5.330 </td><td>346.667</td><td>125.667</td><td>187.057</td><td>15.6   </td></tr>\n",
       "\t<tr><td>8.07   </td><td> 4.8   </td><td>77.364 </td><td> 2.302 </td><td> 98.182</td><td> 61.182</td><td>138.700</td><td> 1.4   </td></tr>\n",
       "\t<tr><td>8.06   </td><td> 9.0   </td><td>55.350 </td><td>10.416 </td><td>233.700</td><td> 58.222</td><td> 97.580</td><td>10.5   </td></tr>\n",
       "\t<tr><td>8.25   </td><td>13.1   </td><td>65.750 </td><td> 9.248 </td><td>430.000</td><td> 18.250</td><td> 56.667</td><td>28.4   </td></tr>\n",
       "</tbody>\n",
       "</table>\n"
      ],
      "text/latex": [
       "\\begin{tabular}{r|llllllll}\n",
       " mxPH & mnO2 & Cl & NO3 & NH4 & oPO4 & PO4 & Chla\\\\\n",
       "\\hline\n",
       "\t 8.00    &  9.8    & 60.800  &  6.238  & 578.000 & 105.000 & 170.000 & 50.0   \\\\\n",
       "\t 8.35    &  8.0    & 57.750  &  1.288  & 370.000 & 428.750 & 558.750 &  1.3   \\\\\n",
       "\t 8.10    & 11.4    & 40.020  &  5.330  & 346.667 & 125.667 & 187.057 & 15.6   \\\\\n",
       "\t 8.07    &  4.8    & 77.364  &  2.302  &  98.182 &  61.182 & 138.700 &  1.4   \\\\\n",
       "\t 8.06    &  9.0    & 55.350  & 10.416  & 233.700 &  58.222 &  97.580 & 10.5   \\\\\n",
       "\t 8.25    & 13.1    & 65.750  &  9.248  & 430.000 &  18.250 &  56.667 & 28.4   \\\\\n",
       "\\end{tabular}\n"
      ],
      "text/markdown": [
       "\n",
       "mxPH | mnO2 | Cl | NO3 | NH4 | oPO4 | PO4 | Chla | \n",
       "|---|---|---|---|---|---|\n",
       "| 8.00    |  9.8    | 60.800  |  6.238  | 578.000 | 105.000 | 170.000 | 50.0    | \n",
       "| 8.35    |  8.0    | 57.750  |  1.288  | 370.000 | 428.750 | 558.750 |  1.3    | \n",
       "| 8.10    | 11.4    | 40.020  |  5.330  | 346.667 | 125.667 | 187.057 | 15.6    | \n",
       "| 8.07    |  4.8    | 77.364  |  2.302  |  98.182 |  61.182 | 138.700 |  1.4    | \n",
       "| 8.06    |  9.0    | 55.350  | 10.416  | 233.700 |  58.222 |  97.580 | 10.5    | \n",
       "| 8.25    | 13.1    | 65.750  |  9.248  | 430.000 |  18.250 |  56.667 | 28.4    | \n",
       "\n",
       "\n"
      ],
      "text/plain": [
       "  mxPH mnO2 Cl     NO3    NH4     oPO4    PO4     Chla\n",
       "1 8.00  9.8 60.800  6.238 578.000 105.000 170.000 50.0\n",
       "2 8.35  8.0 57.750  1.288 370.000 428.750 558.750  1.3\n",
       "3 8.10 11.4 40.020  5.330 346.667 125.667 187.057 15.6\n",
       "4 8.07  4.8 77.364  2.302  98.182  61.182 138.700  1.4\n",
       "5 8.06  9.0 55.350 10.416 233.700  58.222  97.580 10.5\n",
       "6 8.25 13.1 65.750  9.248 430.000  18.250  56.667 28.4"
      ]
     },
     "metadata": {},
     "output_type": "display_data"
    }
   ],
   "source": [
    "head(pca.algae)"
   ]
  },
  {
   "cell_type": "code",
   "execution_count": 36,
   "metadata": {
    "collapsed": false
   },
   "outputs": [
    {
     "data": {
      "text/plain": [
       "Importance of components:\n",
       "                          Comp.1    Comp.2    Comp.3    Comp.4     Comp.5\n",
       "Standard deviation     1.5336242 1.2024904 1.0904850 0.9332851 0.87505325\n",
       "Proportion of Variance 0.2948728 0.1812842 0.1490858 0.1092007 0.09599879\n",
       "Cumulative Proportion  0.2948728 0.4761570 0.6252428 0.7344435 0.83044232\n",
       "                           Comp.6     Comp.7    Comp.8\n",
       "Standard deviation     0.80694070 0.65454458 0.5223661\n",
       "Proportion of Variance 0.08163569 0.05371249 0.0342095\n",
       "Cumulative Proportion  0.91207801 0.96579050 1.0000000"
      ]
     },
     "metadata": {},
     "output_type": "display_data"
    }
   ],
   "source": [
    "pca.1 = princomp(scale(pca.algae))\n",
    "summary(pca.1)"
   ]
  },
  {
   "cell_type": "markdown",
   "metadata": {},
   "source": [
    "If we can live with 75% of the variance being explained, than we can reduce the dimension by 4. "
   ]
  },
  {
   "cell_type": "code",
   "execution_count": 27,
   "metadata": {
    "collapsed": true
   },
   "outputs": [],
   "source": [
    "reduced.algae = data.frame(algae_blooms.sna2[,1:3],pca.1$scores[,1:4],algae_blooms.sna2[12:17])"
   ]
  },
  {
   "cell_type": "code",
   "execution_count": 28,
   "metadata": {
    "collapsed": false
   },
   "outputs": [
    {
     "data": {
      "text/html": [
       "<table>\n",
       "<thead><tr><th scope=col>season</th><th scope=col>size</th><th scope=col>speed</th><th scope=col>Comp.1</th><th scope=col>Comp.2</th><th scope=col>Comp.3</th><th scope=col>Comp.4</th><th scope=col>a1</th><th scope=col>a2</th><th scope=col>a3</th><th scope=col>a4</th><th scope=col>a5</th><th scope=col>a6</th></tr></thead>\n",
       "<tbody>\n",
       "\t<tr><td>winter     </td><td>small      </td><td>medium     </td><td>-1.0661365 </td><td> 0.2935418 </td><td>-1.6244909 </td><td> 0.25675003</td><td> 0.0       </td><td> 0.0       </td><td> 0.0       </td><td>0.0        </td><td>34.2       </td><td> 8.3       </td></tr>\n",
       "\t<tr><td>spring     </td><td>small      </td><td>medium     </td><td>-2.1794809 </td><td> 0.5833227 </td><td> 2.1276634 </td><td> 1.07976441</td><td> 1.4       </td><td> 7.6       </td><td> 4.8       </td><td>1.9        </td><td> 6.7       </td><td> 0.0       </td></tr>\n",
       "\t<tr><td>autumn     </td><td>small      </td><td>medium     </td><td>-0.2103252 </td><td>-0.4203469 </td><td>-0.6241264 </td><td> 0.52127220</td><td> 3.3       </td><td>53.6       </td><td> 1.9       </td><td>0.0        </td><td> 0.0       </td><td> 0.0       </td></tr>\n",
       "\t<tr><td>spring     </td><td>small      </td><td>medium     </td><td>-0.5207613 </td><td> 0.7902160 </td><td> 1.0067742 </td><td>-1.46278872</td><td> 3.1       </td><td>41.0       </td><td>18.9       </td><td>0.0        </td><td> 1.4       </td><td> 0.0       </td></tr>\n",
       "\t<tr><td>autumn     </td><td>small      </td><td>medium     </td><td>-0.6481582 </td><td>-0.8537094 </td><td>-1.1413495 </td><td>-0.78051917</td><td> 9.2       </td><td> 2.9       </td><td> 7.5       </td><td>0.0        </td><td> 7.5       </td><td> 4.1       </td></tr>\n",
       "\t<tr><td>winter     </td><td>small      </td><td>high       </td><td>-0.1728099 </td><td>-0.6972178 </td><td>-2.4364155 </td><td> 0.01722848</td><td>15.1       </td><td>14.6       </td><td> 1.4       </td><td>0.0        </td><td>22.5       </td><td>12.6       </td></tr>\n",
       "</tbody>\n",
       "</table>\n"
      ],
      "text/latex": [
       "\\begin{tabular}{r|lllllllllllll}\n",
       " season & size & speed & Comp.1 & Comp.2 & Comp.3 & Comp.4 & a1 & a2 & a3 & a4 & a5 & a6\\\\\n",
       "\\hline\n",
       "\t winter      & small       & medium      & -1.0661365  &  0.2935418  & -1.6244909  &  0.25675003 &  0.0        &  0.0        &  0.0        & 0.0         & 34.2        &  8.3       \\\\\n",
       "\t spring      & small       & medium      & -2.1794809  &  0.5833227  &  2.1276634  &  1.07976441 &  1.4        &  7.6        &  4.8        & 1.9         &  6.7        &  0.0       \\\\\n",
       "\t autumn      & small       & medium      & -0.2103252  & -0.4203469  & -0.6241264  &  0.52127220 &  3.3        & 53.6        &  1.9        & 0.0         &  0.0        &  0.0       \\\\\n",
       "\t spring      & small       & medium      & -0.5207613  &  0.7902160  &  1.0067742  & -1.46278872 &  3.1        & 41.0        & 18.9        & 0.0         &  1.4        &  0.0       \\\\\n",
       "\t autumn      & small       & medium      & -0.6481582  & -0.8537094  & -1.1413495  & -0.78051917 &  9.2        &  2.9        &  7.5        & 0.0         &  7.5        &  4.1       \\\\\n",
       "\t winter      & small       & high        & -0.1728099  & -0.6972178  & -2.4364155  &  0.01722848 & 15.1        & 14.6        &  1.4        & 0.0         & 22.5        & 12.6       \\\\\n",
       "\\end{tabular}\n"
      ],
      "text/markdown": [
       "\n",
       "season | size | speed | Comp.1 | Comp.2 | Comp.3 | Comp.4 | a1 | a2 | a3 | a4 | a5 | a6 | \n",
       "|---|---|---|---|---|---|\n",
       "| winter      | small       | medium      | -1.0661365  |  0.2935418  | -1.6244909  |  0.25675003 |  0.0        |  0.0        |  0.0        | 0.0         | 34.2        |  8.3        | \n",
       "| spring      | small       | medium      | -2.1794809  |  0.5833227  |  2.1276634  |  1.07976441 |  1.4        |  7.6        |  4.8        | 1.9         |  6.7        |  0.0        | \n",
       "| autumn      | small       | medium      | -0.2103252  | -0.4203469  | -0.6241264  |  0.52127220 |  3.3        | 53.6        |  1.9        | 0.0         |  0.0        |  0.0        | \n",
       "| spring      | small       | medium      | -0.5207613  |  0.7902160  |  1.0067742  | -1.46278872 |  3.1        | 41.0        | 18.9        | 0.0         |  1.4        |  0.0        | \n",
       "| autumn      | small       | medium      | -0.6481582  | -0.8537094  | -1.1413495  | -0.78051917 |  9.2        |  2.9        |  7.5        | 0.0         |  7.5        |  4.1        | \n",
       "| winter      | small       | high        | -0.1728099  | -0.6972178  | -2.4364155  |  0.01722848 | 15.1        | 14.6        |  1.4        | 0.0         | 22.5        | 12.6        | \n",
       "\n",
       "\n"
      ],
      "text/plain": [
       "  season size  speed  Comp.1     Comp.2     Comp.3     Comp.4      a1   a2  \n",
       "1 winter small medium -1.0661365  0.2935418 -1.6244909  0.25675003  0.0  0.0\n",
       "2 spring small medium -2.1794809  0.5833227  2.1276634  1.07976441  1.4  7.6\n",
       "3 autumn small medium -0.2103252 -0.4203469 -0.6241264  0.52127220  3.3 53.6\n",
       "4 spring small medium -0.5207613  0.7902160  1.0067742 -1.46278872  3.1 41.0\n",
       "5 autumn small medium -0.6481582 -0.8537094 -1.1413495 -0.78051917  9.2  2.9\n",
       "6 winter small high   -0.1728099 -0.6972178 -2.4364155  0.01722848 15.1 14.6\n",
       "  a3   a4  a5   a6  \n",
       "1  0.0 0.0 34.2  8.3\n",
       "2  4.8 1.9  6.7  0.0\n",
       "3  1.9 0.0  0.0  0.0\n",
       "4 18.9 0.0  1.4  0.0\n",
       "5  7.5 0.0  7.5  4.1\n",
       "6  1.4 0.0 22.5 12.6"
      ]
     },
     "metadata": {},
     "output_type": "display_data"
    }
   ],
   "source": [
    "head(reduced.algae)"
   ]
  },
  {
   "cell_type": "markdown",
   "metadata": {},
   "source": [
    "Whether this will prove useful or not remains to be seen. \n",
    "\n",
    "---"
   ]
  },
  {
   "cell_type": "markdown",
   "metadata": {},
   "source": [
    "We will use `CORElearn`'s metrics to illustrate the **feature selection** process. \n",
    "\n",
    "For supervised problems with numeric target (such as is the case for with trying to predict `a1`-`a7`), several metrics are available.  "
   ]
  },
  {
   "cell_type": "code",
   "execution_count": 37,
   "metadata": {
    "collapsed": false
   },
   "outputs": [
    {
     "data": {
      "text/html": [
       "<ol class=list-inline>\n",
       "\t<li>'RReliefFequalK'</li>\n",
       "\t<li>'RReliefFexpRank'</li>\n",
       "\t<li>'RReliefFbestK'</li>\n",
       "\t<li>'RReliefFwithMSE'</li>\n",
       "\t<li>'MSEofMean'</li>\n",
       "\t<li>'MSEofModel'</li>\n",
       "\t<li>'MAEofModel'</li>\n",
       "\t<li>'RReliefFdistance'</li>\n",
       "\t<li>'RReliefFsqrDistance'</li>\n",
       "</ol>\n"
      ],
      "text/latex": [
       "\\begin{enumerate*}\n",
       "\\item 'RReliefFequalK'\n",
       "\\item 'RReliefFexpRank'\n",
       "\\item 'RReliefFbestK'\n",
       "\\item 'RReliefFwithMSE'\n",
       "\\item 'MSEofMean'\n",
       "\\item 'MSEofModel'\n",
       "\\item 'MAEofModel'\n",
       "\\item 'RReliefFdistance'\n",
       "\\item 'RReliefFsqrDistance'\n",
       "\\end{enumerate*}\n"
      ],
      "text/markdown": [
       "1. 'RReliefFequalK'\n",
       "2. 'RReliefFexpRank'\n",
       "3. 'RReliefFbestK'\n",
       "4. 'RReliefFwithMSE'\n",
       "5. 'MSEofMean'\n",
       "6. 'MSEofModel'\n",
       "7. 'MAEofModel'\n",
       "8. 'RReliefFdistance'\n",
       "9. 'RReliefFsqrDistance'\n",
       "\n",
       "\n"
      ],
      "text/plain": [
       "[1] \"RReliefFequalK\"      \"RReliefFexpRank\"     \"RReliefFbestK\"      \n",
       "[4] \"RReliefFwithMSE\"     \"MSEofMean\"           \"MSEofModel\"         \n",
       "[7] \"MAEofModel\"          \"RReliefFdistance\"    \"RReliefFsqrDistance\""
      ]
     },
     "metadata": {},
     "output_type": "display_data"
    }
   ],
   "source": [
    "library(CORElearn)\n",
    "infoCore(what=\"attrEvalReg\") # what metrics are available for regression problems"
   ]
  },
  {
   "cell_type": "markdown",
   "metadata": {
    "collapsed": false
   },
   "source": [
    "The feature selection process is dependent on the target variable. For the sake of simplification, we will use `a1` as our target variable.  "
   ]
  },
  {
   "cell_type": "code",
   "execution_count": 30,
   "metadata": {
    "collapsed": false
   },
   "outputs": [
    {
     "data": {
      "text/html": [
       "<dl class=dl-horizontal>\n",
       "\t<dt>season</dt>\n",
       "\t\t<dd>-439.712822454146</dd>\n",
       "\t<dt>size</dt>\n",
       "\t\t<dd>-382.604452517959</dd>\n",
       "\t<dt>speed</dt>\n",
       "\t\t<dd>-408.270408716033</dd>\n",
       "\t<dt>mxPH</dt>\n",
       "\t\t<dd>-389.960161152543</dd>\n",
       "\t<dt>mnO2</dt>\n",
       "\t\t<dd>-399.432862151813</dd>\n",
       "\t<dt>Cl</dt>\n",
       "\t\t<dd>-272.088314911243</dd>\n",
       "\t<dt>NO3</dt>\n",
       "\t\t<dd>-356.852045520935</dd>\n",
       "\t<dt>NH4</dt>\n",
       "\t\t<dd>-306.470906340799</dd>\n",
       "\t<dt>oPO4</dt>\n",
       "\t\t<dd>-280.522253335189</dd>\n",
       "\t<dt>PO4</dt>\n",
       "\t\t<dd>-278.188506561979</dd>\n",
       "\t<dt>Chla</dt>\n",
       "\t\t<dd>-325.062809872314</dd>\n",
       "</dl>\n"
      ],
      "text/latex": [
       "\\begin{description*}\n",
       "\\item[season] -439.712822454146\n",
       "\\item[size] -382.604452517959\n",
       "\\item[speed] -408.270408716033\n",
       "\\item[mxPH] -389.960161152543\n",
       "\\item[mnO2] -399.432862151813\n",
       "\\item[Cl] -272.088314911243\n",
       "\\item[NO3] -356.852045520935\n",
       "\\item[NH4] -306.470906340799\n",
       "\\item[oPO4] -280.522253335189\n",
       "\\item[PO4] -278.188506561979\n",
       "\\item[Chla] -325.062809872314\n",
       "\\end{description*}\n"
      ],
      "text/markdown": [
       "season\n",
       ":   -439.712822454146size\n",
       ":   -382.604452517959speed\n",
       ":   -408.270408716033mxPH\n",
       ":   -389.960161152543mnO2\n",
       ":   -399.432862151813Cl\n",
       ":   -272.088314911243NO3\n",
       ":   -356.852045520935NH4\n",
       ":   -306.470906340799oPO4\n",
       ":   -280.522253335189PO4\n",
       ":   -278.188506561979Chla\n",
       ":   -325.062809872314\n",
       "\n"
      ],
      "text/plain": [
       "   season      size     speed      mxPH      mnO2        Cl       NO3       NH4 \n",
       "-439.7128 -382.6045 -408.2704 -389.9602 -399.4329 -272.0883 -356.8520 -306.4709 \n",
       "     oPO4       PO4      Chla \n",
       "-280.5223 -278.1885 -325.0628 "
      ]
     },
     "metadata": {},
     "output_type": "display_data"
    }
   ],
   "source": [
    "attrEval(a1 ~ .,algae_blooms.sna2[,1:12],estimator=\"MSEofMean\")"
   ]
  },
  {
   "cell_type": "markdown",
   "metadata": {},
   "source": [
    "Alright, they're all negative... is this supposed to happen? Are we looking for features that are very negative or only a little bit negative? (For classification problems, important features would be those for which the outputs would be near 1). \n",
    "\n",
    "We could look at the documentation (and we should, at some point!), but let's see if we can't get the answer some other way. \n",
    "\n",
    "We'll create a dataset for which the target variable is one of the predictor variables. No matter what kind of method is used, we would suspect that the associated value would be optimal. \n",
    "\n",
    "For instance, let's re-create the analysis by replacing `a1` with `mxPH`. "
   ]
  },
  {
   "cell_type": "code",
   "execution_count": 31,
   "metadata": {
    "collapsed": false
   },
   "outputs": [
    {
     "data": {
      "text/html": [
       "<dl class=dl-horizontal>\n",
       "\t<dt>season</dt>\n",
       "\t\t<dd>-0.323277981675178</dd>\n",
       "\t<dt>size</dt>\n",
       "\t\t<dd>-0.263473257482716</dd>\n",
       "\t<dt>speed</dt>\n",
       "\t\t<dd>-0.307962183412441</dd>\n",
       "\t<dt>mxPH</dt>\n",
       "\t\t<dd>-0.14284501311908</dd>\n",
       "\t<dt>mnO2</dt>\n",
       "\t\t<dd>-0.313805494681032</dd>\n",
       "\t<dt>Cl</dt>\n",
       "\t\t<dd>-0.290221225045402</dd>\n",
       "\t<dt>NO3</dt>\n",
       "\t\t<dd>-0.317083595946649</dd>\n",
       "\t<dt>NH4</dt>\n",
       "\t\t<dd>-0.295932359827829</dd>\n",
       "\t<dt>oPO4</dt>\n",
       "\t\t<dd>-0.232440271729733</dd>\n",
       "\t<dt>PO4</dt>\n",
       "\t\t<dd>-0.282604143637144</dd>\n",
       "\t<dt>Chla</dt>\n",
       "\t\t<dd>-0.285260259250797</dd>\n",
       "</dl>\n"
      ],
      "text/latex": [
       "\\begin{description*}\n",
       "\\item[season] -0.323277981675178\n",
       "\\item[size] -0.263473257482716\n",
       "\\item[speed] -0.307962183412441\n",
       "\\item[mxPH] -0.14284501311908\n",
       "\\item[mnO2] -0.313805494681032\n",
       "\\item[Cl] -0.290221225045402\n",
       "\\item[NO3] -0.317083595946649\n",
       "\\item[NH4] -0.295932359827829\n",
       "\\item[oPO4] -0.232440271729733\n",
       "\\item[PO4] -0.282604143637144\n",
       "\\item[Chla] -0.285260259250797\n",
       "\\end{description*}\n"
      ],
      "text/markdown": [
       "season\n",
       ":   -0.323277981675178size\n",
       ":   -0.263473257482716speed\n",
       ":   -0.307962183412441mxPH\n",
       ":   -0.14284501311908mnO2\n",
       ":   -0.313805494681032Cl\n",
       ":   -0.290221225045402NO3\n",
       ":   -0.317083595946649NH4\n",
       ":   -0.295932359827829oPO4\n",
       ":   -0.232440271729733PO4\n",
       ":   -0.282604143637144Chla\n",
       ":   -0.285260259250797\n",
       "\n"
      ],
      "text/plain": [
       "    season       size      speed       mxPH       mnO2         Cl        NO3 \n",
       "-0.3232780 -0.2634733 -0.3079622 -0.1428450 -0.3138055 -0.2902212 -0.3170836 \n",
       "       NH4       oPO4        PO4       Chla \n",
       "-0.2959324 -0.2324403 -0.2826041 -0.2852603 "
      ]
     },
     "metadata": {},
     "output_type": "display_data"
    }
   ],
   "source": [
    "test = algae_blooms.sna2[,1:11]\n",
    "what = test$mxPH\n",
    "test = cbind(test,what)\n",
    "\n",
    "attrEval(what ~ .,test,estimator=\"MSEofMean\")"
   ]
  },
  {
   "cell_type": "markdown",
   "metadata": {},
   "source": [
    "The value of `mxPH` is closest to 0, which seems to imply that we're looking for values close to 0 (at least for the `MSEofMean` estimator). In particular, `Cl`, `oPO4` and `PO4` seem to be the best features at explaining `a1` in the MSE of Mean framework. \n",
    "\n",
    "Is that also the case for the other estimators?"
   ]
  },
  {
   "cell_type": "code",
   "execution_count": 32,
   "metadata": {
    "collapsed": false
   },
   "outputs": [
    {
     "data": {
      "text/html": [
       "<dl class=dl-horizontal>\n",
       "\t<dt>season</dt>\n",
       "\t\t<dd>-12.188784827537</dd>\n",
       "\t<dt>size</dt>\n",
       "\t\t<dd>-11.9288057075918</dd>\n",
       "\t<dt>speed</dt>\n",
       "\t\t<dd>-11.9014145376364</dd>\n",
       "\t<dt>mxPH</dt>\n",
       "\t\t<dd>-11.8116614494438</dd>\n",
       "\t<dt>mnO2</dt>\n",
       "\t\t<dd>-11.8235350487018</dd>\n",
       "\t<dt>Cl</dt>\n",
       "\t\t<dd>-10.0942162036284</dd>\n",
       "\t<dt>NO3</dt>\n",
       "\t\t<dd>-11.3441292841346</dd>\n",
       "\t<dt>NH4</dt>\n",
       "\t\t<dd>-10.6723206687144</dd>\n",
       "\t<dt>oPO4</dt>\n",
       "\t\t<dd>-10.1882411598679</dd>\n",
       "\t<dt>PO4</dt>\n",
       "\t\t<dd>-10.3690732107613</dd>\n",
       "\t<dt>Chla</dt>\n",
       "\t\t<dd>-11.0110774196722</dd>\n",
       "</dl>\n"
      ],
      "text/latex": [
       "\\begin{description*}\n",
       "\\item[season] -12.188784827537\n",
       "\\item[size] -11.9288057075918\n",
       "\\item[speed] -11.9014145376364\n",
       "\\item[mxPH] -11.8116614494438\n",
       "\\item[mnO2] -11.8235350487018\n",
       "\\item[Cl] -10.0942162036284\n",
       "\\item[NO3] -11.3441292841346\n",
       "\\item[NH4] -10.6723206687144\n",
       "\\item[oPO4] -10.1882411598679\n",
       "\\item[PO4] -10.3690732107613\n",
       "\\item[Chla] -11.0110774196722\n",
       "\\end{description*}\n"
      ],
      "text/markdown": [
       "season\n",
       ":   -12.188784827537size\n",
       ":   -11.9288057075918speed\n",
       ":   -11.9014145376364mxPH\n",
       ":   -11.8116614494438mnO2\n",
       ":   -11.8235350487018Cl\n",
       ":   -10.0942162036284NO3\n",
       ":   -11.3441292841346NH4\n",
       ":   -10.6723206687144oPO4\n",
       ":   -10.1882411598679PO4\n",
       ":   -10.3690732107613Chla\n",
       ":   -11.0110774196722\n",
       "\n"
      ],
      "text/plain": [
       "   season      size     speed      mxPH      mnO2        Cl       NO3       NH4 \n",
       "-12.18878 -11.92881 -11.90141 -11.81166 -11.82354 -10.09422 -11.34413 -10.67232 \n",
       "     oPO4       PO4      Chla \n",
       "-10.18824 -10.36907 -11.01108 "
      ]
     },
     "metadata": {},
     "output_type": "display_data"
    }
   ],
   "source": [
    "attrEval(a1 ~ .,algae_blooms.sna2[,1:12],estimator=\"MAEofModel\")"
   ]
  },
  {
   "cell_type": "code",
   "execution_count": 33,
   "metadata": {
    "collapsed": false
   },
   "outputs": [
    {
     "data": {
      "text/html": [
       "<dl class=dl-horizontal>\n",
       "\t<dt>season</dt>\n",
       "\t\t<dd>-279.545110202072</dd>\n",
       "\t<dt>size</dt>\n",
       "\t\t<dd>-269.476951898383</dd>\n",
       "\t<dt>speed</dt>\n",
       "\t\t<dd>-274.168330974046</dd>\n",
       "\t<dt>mxPH</dt>\n",
       "\t\t<dd>-265.03753356405</dd>\n",
       "\t<dt>mnO2</dt>\n",
       "\t\t<dd>-266.844748122685</dd>\n",
       "\t<dt>Cl</dt>\n",
       "\t\t<dd>-217.41821719074</dd>\n",
       "\t<dt>NO3</dt>\n",
       "\t\t<dd>-254.807162677512</dd>\n",
       "\t<dt>NH4</dt>\n",
       "\t\t<dd>-231.491250900572</dd>\n",
       "\t<dt>oPO4</dt>\n",
       "\t\t<dd>-226.744976620032</dd>\n",
       "\t<dt>PO4</dt>\n",
       "\t\t<dd>-229.788526017188</dd>\n",
       "\t<dt>Chla</dt>\n",
       "\t\t<dd>-246.902727747496</dd>\n",
       "</dl>\n"
      ],
      "text/latex": [
       "\\begin{description*}\n",
       "\\item[season] -279.545110202072\n",
       "\\item[size] -269.476951898383\n",
       "\\item[speed] -274.168330974046\n",
       "\\item[mxPH] -265.03753356405\n",
       "\\item[mnO2] -266.844748122685\n",
       "\\item[Cl] -217.41821719074\n",
       "\\item[NO3] -254.807162677512\n",
       "\\item[NH4] -231.491250900572\n",
       "\\item[oPO4] -226.744976620032\n",
       "\\item[PO4] -229.788526017188\n",
       "\\item[Chla] -246.902727747496\n",
       "\\end{description*}\n"
      ],
      "text/markdown": [
       "season\n",
       ":   -279.545110202072size\n",
       ":   -269.476951898383speed\n",
       ":   -274.168330974046mxPH\n",
       ":   -265.03753356405mnO2\n",
       ":   -266.844748122685Cl\n",
       ":   -217.41821719074NO3\n",
       ":   -254.807162677512NH4\n",
       ":   -231.491250900572oPO4\n",
       ":   -226.744976620032PO4\n",
       ":   -229.788526017188Chla\n",
       ":   -246.902727747496\n",
       "\n"
      ],
      "text/plain": [
       "   season      size     speed      mxPH      mnO2        Cl       NO3       NH4 \n",
       "-279.5451 -269.4770 -274.1683 -265.0375 -266.8447 -217.4182 -254.8072 -231.4913 \n",
       "     oPO4       PO4      Chla \n",
       "-226.7450 -229.7885 -246.9027 "
      ]
     },
     "metadata": {},
     "output_type": "display_data"
    }
   ],
   "source": [
    "attrEval(a1 ~ .,algae_blooms.sna2[,1:12],estimator=\"MSEofModel\")"
   ]
  },
  {
   "cell_type": "markdown",
   "metadata": {},
   "source": [
    "The results are somewhat consistent (for the 3 estimators that were chosen). \n",
    "\n",
    "The only thing I will add here is that there is an awful lot more we could have said about feature selection. It is an important sub-field of data science, and you've barely been introduced to the topic (we could probably fill a full graduate course on the topic). \n",
    "\n",
    "In many applications, the subset of retained features has a **marked effect** on analysis results, and thus plays an important role in their interpretation and eventual use in decision-making. \n",
    "\n",
    "Please keep this in mind. "
   ]
  },
  {
   "cell_type": "markdown",
   "metadata": {},
   "source": [
    "---\n",
    "[Back to top](#top)\n",
    "## EXERCISES <a name=exer></a>\n",
    "- Run a feature selection on `algae_blooms.sna2` for the target variables `a2`-`a7`. Are there features that are consistently retained (compare with `a1`) \n",
    "- Run a feature selection (GainRatio, InfGain, Gini, MDL) and a principal component analysis on the `iris` dataset. "
   ]
  },
  {
   "cell_type": "code",
   "execution_count": null,
   "metadata": {
    "collapsed": true
   },
   "outputs": [],
   "source": []
  }
 ],
 "metadata": {
  "hide_input": false,
  "kernelspec": {
   "display_name": "R",
   "language": "R",
   "name": "ir"
  },
  "language_info": {
   "codemirror_mode": "r",
   "file_extension": ".r",
   "mimetype": "text/x-r-source",
   "name": "R",
   "pygments_lexer": "r",
   "version": "3.3.1"
  }
 },
 "nbformat": 4,
 "nbformat_minor": 1
}
