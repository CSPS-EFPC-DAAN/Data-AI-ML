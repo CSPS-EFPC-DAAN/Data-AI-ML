{
 "cells": [
  {
   "cell_type": "markdown",
   "metadata": {
    "collapsed": false
   },
   "source": [
    "To see the markdown code, double click on the cell to edit it."
   ]
  },
  {
   "cell_type": "markdown",
   "metadata": {
    "collapsed": false
   },
   "source": [
    "# Some Headings\n",
    "# Level 1 Heading\n",
    "## Level 2 Heading\n",
    "### Level 3 Heading\n",
    "#### Level 4 Heading"
   ]
  },
  {
   "cell_type": "markdown",
   "metadata": {
    "collapsed": false
   },
   "source": [
    "### Some Lists\n",
    "\n",
    "Numbered List:\n",
    "1. Item One\n",
    "2. Item Two\n",
    "\n",
    "Bulleted List:\n",
    "* A bullet list item\n",
    "* Another bullet list item\n",
    "\n",
    "Nested List:\n",
    "* This is a nested list\n",
    "    * It has this indented list item\n",
    "    * And this indented list item\n",
    "* Another item at the main list level would be nice"
   ]
  },
  {
   "cell_type": "markdown",
   "metadata": {
    "collapsed": false
   },
   "source": [
    "### Some Blockquotes\n",
    "\n",
    "> “Talk is cheap. Show me the code.” \n",
    "\n",
    "(Linus Torvalds)"
   ]
  },
  {
   "cell_type": "code",
   "execution_count": 0,
   "metadata": {
    "collapsed": false
   },
   "outputs": [
   ],
   "source": [
   ]
  }
 ],
 "metadata": {
  "kernelspec": {
   "display_name": "R (R-Project)",
   "language": "r",
   "name": "ir"
  },
  "language_info": {
   "codemirror_mode": "r",
   "file_extension": ".r",
   "mimetype": "text/x-r-source",
   "name": "R",
   "pygments_lexer": "r",
   "version": "3.4.4"
  }
 },
 "nbformat": 4,
 "nbformat_minor": 0
}