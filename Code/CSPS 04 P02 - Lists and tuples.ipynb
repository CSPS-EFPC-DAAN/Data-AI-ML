{
 "cells": [
  {
   "cell_type": "markdown",
   "metadata": {
    "collapsed": false
   },
   "source": [
    "# Lists and tuples\n",
    "\n",
    "Lists and tuples are important objects in general Python programming. Even though we will be mostly using `numpy` arrays and certain `pandas` objects instead of lists later on, it is useful to learn the basics of lists as some of the concepts are transferrable.\n"
   ]
  },
  {
   "cell_type": "markdown",
   "metadata": {
    "collapsed": false
   },
   "source": [
    "## List creation\n",
    "\n",
    "A list holds a sequence of objects.  The objects do not all have to be the same type.\n",
    "\n",
    "One way to create a list is to enclose with square brackets the list of elements separated by commas."
   ]
  },
  {
   "cell_type": "code",
   "execution_count": 1,
   "metadata": {
    "collapsed": false
   },
   "outputs": [
    {
     "name": "stdout",
     "output_type": "stream",
     "text": [
      "<class 'int'>\n",
      "<class 'str'>\n",
      "<class 'float'>\n"
     ]
    }
   ],
   "source": [
    "x = [3,'a',5.1]  # Define x as a list of three objects.\n",
    "\n",
    "print( type(x[0]) ) # Print type of the first element of the list - should be 'int'\n",
    "print( type(x[1]) ) # Print type of the second element of the list - should be 'str'\n",
    "print( type(x[2]) ) # Print type of the third element of the list - should be 'float'"
   ]
  },
  {
   "cell_type": "code",
   "execution_count": 2,
   "metadata": {
    "collapsed": false
   },
   "outputs": [
    {
     "data": {
      "text/plain": [
       "['Ho', 'Ho', 'Ho', 'Ho', 'Ho', 'Ho', 'Ho', 'Ho', 'Ho', 'Ho']"
      ]
     },
     "execution_count": 2,
     "metadata": {
     },
     "output_type": "execute_result"
    }
   ],
   "source": [
    "['Ho']*10 # Creates a list of ten copies of \"Ho\""
   ]
  },
  {
   "cell_type": "code",
   "execution_count": 3,
   "metadata": {
    "collapsed": false
   },
   "outputs": [
    {
     "data": {
      "text/plain": [
       "[0, 1, 2, 3, 4]"
      ]
     },
     "execution_count": 3,
     "metadata": {
     },
     "output_type": "execute_result"
    }
   ],
   "source": [
    "n = 5\n",
    "list( range(n) ) # Creates a list of integers from 0 to n"
   ]
  },
  {
   "cell_type": "code",
   "execution_count": 4,
   "metadata": {
    "collapsed": false
   },
   "outputs": [
    {
     "data": {
      "text/plain": [
       "[4, 5, 6]"
      ]
     },
     "execution_count": 4,
     "metadata": {
     },
     "output_type": "execute_result"
    }
   ],
   "source": [
    "a = 4\n",
    "b = 7\n",
    "list( range(a, b) ) # Creates a list of integers from a to b-1"
   ]
  },
  {
   "cell_type": "markdown",
   "metadata": {
    "collapsed": false
   },
   "source": [
    "# Exercise\n",
    "\n",
    "Creates a list of integers from $-10$ to $5$"
   ]
  },
  {
   "cell_type": "code",
   "execution_count": 5,
   "metadata": {
    "collapsed": false
   },
   "outputs": [
   ],
   "source": [
    "# Your code here"
   ]
  },
  {
   "cell_type": "markdown",
   "metadata": {
    "collapsed": false
   },
   "source": [
    "## Tuples\n",
    "\n",
    "Tuples are like lists but with the following differences:\n",
    "    \n",
    "1. They are defined with parentheses instead of square brackets.  (Sometimes, the parentheses can be omitted.)\n",
    "2. They are immutable (i.e. they cannot be changed.)"
   ]
  },
  {
   "cell_type": "code",
   "execution_count": 6,
   "metadata": {
    "collapsed": false
   },
   "outputs": [
    {
     "name": "stdout",
     "output_type": "stream",
     "text": [
      "3\n",
      "a\n"
     ]
    }
   ],
   "source": [
    "t = (1,'a',4.5)\n",
    "print( len(t) ) # Prints the length of t\n",
    "print( t[1] ) # Prints the second element of t\n",
    "\n",
    "# The following are illegal\n",
    "# t[2] = 1\n",
    "# t.append(5)"
   ]
  },
  {
   "cell_type": "markdown",
   "metadata": {
    "collapsed": false
   },
   "source": [
    "## Another way to extract components from a tuple\n",
    "\n",
    "If we know the dimension of a tuple `t`, we can also use an extract pattern to extract the individual components as the following examples illustrate."
   ]
  },
  {
   "cell_type": "code",
   "execution_count": 7,
   "metadata": {
    "collapsed": false
   },
   "outputs": [
    {
     "name": "stdout",
     "output_type": "stream",
     "text": [
      "1 two 3.0\n",
      "two\n",
      "Sun is represented by 0\n",
      "Mon is represented by 1\n",
      "Tue is represented by 2\n",
      "Wed is represented by 3\n",
      "Thu is represented by 4\n",
      "Fri is represented by 5\n",
      "Sat is represented by 6\n"
     ]
    }
   ],
   "source": [
    "t = (1, 'two', 3.0)\n",
    "\n",
    "fst, snd, trd = t\n",
    "print( fst, snd, trd )\n",
    "\n",
    "_, s, _ = t # This extracts only the second component. The underscore is simply a place holder.\n",
    "print(s)\n",
    "\n",
    "days = [(0,\"Sun\"), (1, \"Mon\"), (2, \"Tue\"), (3, \"Wed\"), (4, \"Thu\"), (5, \"Fri\"), (6, \"Sat\")]\n",
    "\n",
    "for n, d in days:\n",
    "    print(d+\" is represented by \" + str(n))"
   ]
  },
  {
   "cell_type": "markdown",
   "metadata": {
    "collapsed": false
   },
   "source": [
    "## List comprehension and iterable\n",
    "\n",
    "List comprehension is a powerful way to create lists.  Before we get into the technical details, let us look at some examples."
   ]
  },
  {
   "cell_type": "code",
   "execution_count": 8,
   "metadata": {
    "collapsed": false
   },
   "outputs": [
    {
     "name": "stdout",
     "output_type": "stream",
     "text": [
      "[1, 16, 81, 256]\n",
      "[3.0, 4.0]\n",
      "[0, 1, 2, 3, 4, 5, 6, 7, 8, 9]\n"
     ]
    }
   ],
   "source": [
    "from math import sqrt # Import just the sqrt function from the math module.\n",
    "                      # Doing so won't require the prefix \"math.\" in order to invoke sqrt.\n",
    "\n",
    "x = [1, 4, 9, 16]\n",
    "y = [ a**2 for a in x ] # Creates a list of squares of elements of x\n",
    "z = [ sqrt(b) for b in x if (b > 4)] # Creates a list of the square roots of elements of x greater than 4\n",
    "u = [ c for c in range(10) ] # This is equivalent to list( range(10) )\n",
    "print(y)\n",
    "print(z)\n",
    "print(u)"
   ]
  },
  {
   "cell_type": "markdown",
   "metadata": {
    "collapsed": false
   },
   "source": [
    "The most basic form of list comprehension is `[ f(x) for x in l]` where `l` is a list or an interable and `f(x)` is an expression in `x`.  It will create a list obtained by applying `f` to each element or iterate in `l`.  (An example of an iterable is `range`.  One way to think of an iterable is that it provides a mechanism of generating a sequence of elements one at a time.  The benefit is that `range(100000)`, for example, does not take up much computation time since no actual element is generated until it is iterated over.)\n",
    "\n",
    "An optional conditional (details on conditionals will be discussed later) can also be present, giving the form `[ f(x) for x in l if g(x)]` for some boolean expression `g` where generation of the list elements only applies to elements that satisfy the boolean expression.\n",
    "\n",
    "Multiple lists or iterables can be specified in list comprehension.  For example, the following creates a list of all possible tuples `(x,y,z)` such that `x` is `True` or `False`, `y` is from 4 to 6, and `z` is a string equal to either  `'math'` or `'stat'`."
   ]
  },
  {
   "cell_type": "code",
   "execution_count": 9,
   "metadata": {
    "collapsed": false
   },
   "outputs": [
    {
     "data": {
      "text/plain": [
       "[(True, 4, 'math'),\n",
       " (True, 4, 'stat'),\n",
       " (True, 5, 'math'),\n",
       " (True, 5, 'stat'),\n",
       " (True, 6, 'math'),\n",
       " (True, 6, 'stat'),\n",
       " (False, 4, 'math'),\n",
       " (False, 4, 'stat'),\n",
       " (False, 5, 'math'),\n",
       " (False, 5, 'stat'),\n",
       " (False, 6, 'math'),\n",
       " (False, 6, 'stat')]"
      ]
     },
     "execution_count": 9,
     "metadata": {
     },
     "output_type": "execute_result"
    }
   ],
   "source": [
    "[ (x,y,z) for x in [True, False] for y in range(4,7) for z in ['math','stat'] ]"
   ]
  },
  {
   "cell_type": "markdown",
   "metadata": {
    "collapsed": false
   },
   "source": [
    "List comprehension can be mimicked using a loop which will be discussed later.  However, list creation using list comprenension is generally much more efficient and should be the method of choice whenever possible."
   ]
  },
  {
   "cell_type": "markdown",
   "metadata": {
    "collapsed": false
   },
   "source": [
    "## Exercises\n",
    "\n",
    "- Use list comprehension to create a list of `(x,y)` so that `x+y > 8` where `x` can be any nonnegative integer at most 10 and `y` can be any positive integer at most 7.\n",
    "\n",
    "- Use list comprehension to create a list of `(x,y)` so that `y` is the square of `x` and `x` is from 1 to 10."
   ]
  },
  {
   "cell_type": "code",
   "execution_count": 10,
   "metadata": {
    "collapsed": false
   },
   "outputs": [
   ],
   "source": [
    "# Your code here"
   ]
  },
  {
   "cell_type": "markdown",
   "metadata": {
    "collapsed": false
   },
   "source": [
    "## List operations\n",
    "\n",
    "We illustrate various operations that can be performed on lists in the cells below.\n",
    "\n",
    "Note that list elements are zero-indexed.  That is, the first element in the list has index 0."
   ]
  },
  {
   "cell_type": "code",
   "execution_count": 11,
   "metadata": {
    "collapsed": false
   },
   "outputs": [
    {
     "name": "stdout",
     "output_type": "stream",
     "text": [
      "5\n",
      "[1, 7, 2]\n",
      "[3, 4, 7, 2, 5]\n",
      "[3, 4, 7, 2, 6]\n",
      "[3, 4, 1, 2, 6]\n",
      "[1, 2, 3, 4, 6]\n"
     ]
    }
   ],
   "source": [
    "x = [3,1,7,2,5]\n",
    "print( len(x) ) # Print the length of x\n",
    "\n",
    "print( x[1:4] ) # Print the sublist from the second element to the fourth element\n",
    "\n",
    "x[1] = 4 # Changes the second element to 4\n",
    "print(x)\n",
    "\n",
    "x[-1] = 6 # Changes the last element to 6\n",
    "print(x)\n",
    "\n",
    "x[-3] = 1 # Changes the third-last element to 1\n",
    "print(x)\n",
    "\n",
    "x.sort() # Sort the list\n",
    "print(x)"
   ]
  },
  {
   "cell_type": "code",
   "execution_count": 12,
   "metadata": {
    "collapsed": false
   },
   "outputs": [
    {
     "name": "stdout",
     "output_type": "stream",
     "text": [
      "[3, True, False, 5]\n",
      "[1, 2, 3, 4, 6, 3, True, False, 5]\n"
     ]
    }
   ],
   "source": [
    "y = [3, True, False] # True and False are boolean values\n",
    "y.append(5) # Appends 5 to the end of y\n",
    "print(y)\n",
    "\n",
    "z = x + y # Concatenate the lists x and y\n",
    "print(z)"
   ]
  },
  {
   "cell_type": "code",
   "execution_count": 13,
   "metadata": {
    "collapsed": false
   },
   "outputs": [
    {
     "name": "stdout",
     "output_type": "stream",
     "text": [
      "[1, 2, 3, 4, 6, 3, True, False]\n",
      "[1, 2, True, False]\n"
     ]
    }
   ],
   "source": [
    "del z[-1] # Delete the last element from z\n",
    "print(z)\n",
    "\n",
    "del z[2:6] # Delete elements 3 to 6 from the z that remains\n",
    "print(z)"
   ]
  },
  {
   "cell_type": "markdown",
   "metadata": {
    "collapsed": false
   },
   "source": [
    "## Exercise\n",
    "\n",
    "In the following, write one line of code that returns a list obtained from `x` by moving all the elements of type `str` to the end of the list. (Hint: Use list comprehension and concatenation.  To check if `a` is of type `str`, use `type(a) is str`.  To check if `a` is not of type `str`, use `type(a) is not str`.  The result should be\n",
    "`[2, 3, 5, 6, 8, 9, 10, 12, 13, 'one', 'four', 'seven', 'eleven', 'fourteen']`."
   ]
  },
  {
   "cell_type": "code",
   "execution_count": 14,
   "metadata": {
    "collapsed": false
   },
   "outputs": [
   ],
   "source": [
    "x = ['one', 2, 3, 'four', 5, 6, 'seven', 8, 9, 10, 'eleven', 12, 13, 'fourteen']"
   ]
  }
 ],
 "metadata": {
  "kernelspec": {
   "display_name": "Python 3 (Ubuntu Linux)",
   "language": "python",
   "name": "python3"
  },
  "language_info": {
   "codemirror_mode": {
    "name": "ipython",
    "version": 3
   },
   "file_extension": ".py",
   "mimetype": "text/x-python",
   "name": "python",
   "nbconvert_exporter": "python",
   "pygments_lexer": "ipython3",
   "version": "3.6.7"
  }
 },
 "nbformat": 4,
 "nbformat_minor": 0
}