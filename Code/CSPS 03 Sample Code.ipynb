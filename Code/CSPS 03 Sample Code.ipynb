{
 "cells": [
  {
   "cell_type": "markdown",
   "metadata": {
    "collapsed": false
   },
   "source": [
    "---\n",
    "### The following three code snippets were created by Matt Zeunert and are available at http://www.rexamples.com/1/R%20Basics"
   ]
  },
  {
   "cell_type": "code",
   "execution_count": 1,
   "metadata": {
    "collapsed": false
   },
   "outputs": [
    {
     "name": "stdout",
     "output_type": "stream",
     "text": [
      "[1] 42\n"
     ]
    },
    {
     "name": "stdout",
     "output_type": "stream",
     "text": [
      "84 \n"
     ]
    },
    {
     "name": "stdout",
     "output_type": "stream",
     "text": [
      "84 > 42 \n"
     ]
    }
   ],
   "source": [
    "a <- 42\n",
    "A <- a * 2  # R is case sensitive\n",
    "print(a)\n",
    "cat(A, \"\\n\") # \"84\" is concatenated with \"\\n\"\n",
    "if(A>a) # true, 84 > 42\n",
    "{\n",
    "  cat(A, \">\", a, \"\\n\")\n",
    "}"
   ]
  },
  {
   "cell_type": "code",
   "execution_count": 2,
   "metadata": {
    "collapsed": false
   },
   "outputs": [
    {
     "name": "stdout",
     "output_type": "stream",
     "text": [
      "[1] 16\n"
     ]
    },
    {
     "name": "stdout",
     "output_type": "stream",
     "text": [
      "[1] 16\n"
     ]
    }
   ],
   "source": [
    "Square <- function(x) {\n",
    "  return(x^2)\n",
    "}\n",
    "\n",
    "print(Square(4))\n",
    "print(Square(x=4)) # same thing"
   ]
  },
  {
   "cell_type": "code",
   "execution_count": 3,
   "metadata": {
    "collapsed": false
   },
   "outputs": [
    {
     "data": {
      "text/html": [
       "45"
      ]
     },
     "execution_count": 3,
     "metadata": {
     },
     "output_type": "execute_result"
    },
    {
     "data": {
      "text/html": [
       "<ol class=list-inline>\n",
       "\t<li>'A'</li>\n",
       "\t<li>'B'</li>\n",
       "\t<li>'C'</li>\n",
       "\t<li>'D'</li>\n",
       "\t<li>'E'</li>\n",
       "\t<li>'F'</li>\n",
       "\t<li>'G'</li>\n",
       "\t<li>'H'</li>\n",
       "\t<li>'I'</li>\n",
       "\t<li>'J'</li>\n",
       "\t<li>'K'</li>\n",
       "\t<li>'L'</li>\n",
       "\t<li>'M'</li>\n",
       "\t<li>'n'</li>\n",
       "\t<li>'o'</li>\n",
       "\t<li>'p'</li>\n",
       "\t<li>'q'</li>\n",
       "\t<li>'r'</li>\n",
       "\t<li>'s'</li>\n",
       "\t<li>'t'</li>\n",
       "\t<li>'u'</li>\n",
       "\t<li>'v'</li>\n",
       "\t<li>'w'</li>\n",
       "\t<li>'x'</li>\n",
       "\t<li>'y'</li>\n",
       "\t<li>'z'</li>\n",
       "</ol>\n"
      ]
     },
     "execution_count": 3,
     "metadata": {
     },
     "output_type": "execute_result"
    },
    {
     "data": {
      "text/html": [
       "<ol class=list-inline>\n",
       "\t<li>2</li>\n",
       "\t<li>12</li>\n",
       "\t<li>8</li>\n",
       "\t<li>18</li>\n",
       "</ol>\n"
      ]
     },
     "execution_count": 3,
     "metadata": {
     },
     "output_type": "execute_result"
    },
    {
     "data": {
      "text/html": [
       "3"
      ]
     },
     "execution_count": 3,
     "metadata": {
     },
     "output_type": "execute_result"
    }
   ],
   "source": [
    "sum(0:9)\n",
    "append(LETTERS[1:13],letters[14:26])\n",
    "c(1,6,4,9)*2\n",
    "something <- c(1,4,letters[2])  # indices start at one, you get (1,4,\"b\")\n",
    "length(something)"
   ]
  },
  {
   "cell_type": "markdown",
   "metadata": {
    "collapsed": false
   },
   "source": [
    "---\n",
    "### Some additional code snippets you might find useful."
   ]
  },
  {
   "cell_type": "code",
   "execution_count": 16,
   "metadata": {
    "collapsed": false,
    "scrolled": true
   },
   "outputs": [
    {
     "data": {
      "text/html": [
       "<table>\n",
       "<thead><tr><th scope=col>Record</th><th scope=col>Location</th><th scope=col>X</th><th scope=col>Y</th><th scope=col>Date</th><th scope=col>Time</th><th scope=col>Environment</th><th scope=col>Road_Surface</th><th scope=col>Traffic_Control</th><th scope=col>Collision_Location</th><th scope=col>Light</th><th scope=col>Collision_Classification</th><th scope=col>Impact_type</th></tr></thead>\n",
       "<tbody>\n",
       "\t<tr><td>1                                       </td><td>105 S OF COMMISSIONER ST @ ALBERT ST    </td><td>366666.2747                             </td><td>5030879.415                             </td><td>8/4/16                                  </td><td>17:03                                   </td><td>01 - Clear                              </td><td>01 - Dry                                </td><td>01 - Traffic signal                     </td><td>02 - Intersection related               </td><td>01 - Daylight                           </td><td>03 - P.D. only                          </td><td>04 - Sideswipe                          </td></tr>\n",
       "\t<tr><td>2                                       </td><td>210 W OF MERIVALE RD @ WEST HUNT CLUB RD</td><td>365431.439                              </td><td>5021830.23                              </td><td>3/30/16                                 </td><td>15:44                                   </td><td>01 - Clear                              </td><td>01 - Dry                                </td><td>01 - Traffic signal                     </td><td>03 - At intersection                    </td><td>01 - Daylight                           </td><td>02 - Non-fatal injury                   </td><td>05 - Turning movement                   </td></tr>\n",
       "</tbody>\n",
       "</table>\n"
      ]
     },
     "execution_count": 16,
     "metadata": {
     },
     "output_type": "execute_result"
    }
   ],
   "source": [
    "data <- read.csv(file=\"Data/2016collisionsfinal.csv\", header=TRUE, sep=\",\", stringsAsFactors=FALSE)\n",
    "head(data, n=2)"
   ]
  },
  {
   "cell_type": "code",
   "execution_count": 5,
   "metadata": {
    "collapsed": false,
    "scrolled": true
   },
   "outputs": [
    {
     "data": {
      "text/html": [
       "14023"
      ]
     },
     "execution_count": 5,
     "metadata": {
     },
     "output_type": "execute_result"
    }
   ],
   "source": [
    "#jupyter notebooks remember variables from previous cells\n",
    "length(data[,3])\n"
   ]
  },
  {
   "cell_type": "code",
   "execution_count": 18,
   "metadata": {
    "collapsed": false,
    "scrolled": true
   },
   "outputs": [
    {
     "data": {
      "text/html": [
       "'105 S OF COMMISSIONER ST @ ALBERT ST'"
      ]
     },
     "execution_count": 18,
     "metadata": {
     },
     "output_type": "execute_result"
    },
    {
     "data": {
      "text/html": [
       "<ol class=list-inline>\n",
       "\t<li>'366666.2747'</li>\n",
       "\t<li>'365431.439'</li>\n",
       "\t<li>'365432.2342'</li>\n",
       "\t<li>'365430.7265'</li>\n",
       "\t<li>'365430.6658'</li>\n",
       "\t<li>'365431.8358'</li>\n",
       "</ol>\n"
      ]
     },
     "execution_count": 18,
     "metadata": {
     },
     "output_type": "execute_result"
    }
   ],
   "source": [
    "data[1,2]\n",
    "head(data[,3])"
   ]
  },
  {
   "cell_type": "code",
   "execution_count": 0,
   "metadata": {
    "collapsed": false
   },
   "outputs": [
   ],
   "source": [
   ]
  }
 ],
 "metadata": {
  "kernelspec": {
   "display_name": "R (R-Project)",
   "language": "r",
   "name": "ir"
  },
  "language_info": {
   "codemirror_mode": "r",
   "file_extension": ".r",
   "mimetype": "text/x-r-source",
   "name": "R",
   "pygments_lexer": "r",
   "version": "3.4.4"
  }
 },
 "nbformat": 4,
 "nbformat_minor": 0
}