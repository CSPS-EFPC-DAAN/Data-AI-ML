{
 "cells": [
  {
   "cell_type": "markdown",
   "metadata": {
    "collapsed": false
   },
   "source": [
    "# Strings\n",
    "\n",
    "String manipulation is an important part of data cleaning. Often, the raw data contains string fields that do not quite follow an expected format.  For example, proper nouns could be incorrectly capitalized.  Dates could have been entered under different conventions.  Fortunately, Python offers many tools that make string manipulation rather painless.  In this notebook, we will look at some of the commonly-performed operations on strings."
   ]
  },
  {
   "cell_type": "markdown",
   "metadata": {
    "collapsed": false
   },
   "source": [
    "## Defining strings\n",
    "\n",
    "Strings can be defined between single or double quotes.\n",
    "\n",
    "Note that Python strings support unicode."
   ]
  },
  {
   "cell_type": "code",
   "execution_count": 1,
   "metadata": {
    "collapsed": false
   },
   "outputs": [
    {
     "name": "stdout",
     "output_type": "stream",
     "text": [
      "<class 'str'> <class 'str'> 您は신\n"
     ]
    }
   ],
   "source": [
    "# The following are strings\n",
    "\n",
    "a = 'First string'\n",
    "\n",
    "b = \"Second string\"\n",
    "\n",
    "cjk = '您は신'\n",
    "\n",
    "print( type(a), type(b), cjk)"
   ]
  },
  {
   "cell_type": "markdown",
   "metadata": {
    "collapsed": false
   },
   "source": [
    "## Replication\n",
    "\n",
    "We can use multiplication syntax to define a string made up of identical copies of another string as illustrated below:"
   ]
  },
  {
   "cell_type": "code",
   "execution_count": 2,
   "metadata": {
    "collapsed": false
   },
   "outputs": [
    {
     "name": "stdout",
     "output_type": "stream",
     "text": [
      "**********\n",
      "PythonPythonPython\n"
     ]
    }
   ],
   "source": [
    "r1 = '*'*10\n",
    "r2 = 'Python'*3\n",
    "\n",
    "print(r1)\n",
    "print(r2)"
   ]
  },
  {
   "cell_type": "markdown",
   "metadata": {
    "collapsed": false
   },
   "source": [
    "## Concatenation\n",
    "\n",
    "If `a` and `b` are strings, they can be concatenated via `a+b`."
   ]
  },
  {
   "cell_type": "code",
   "execution_count": 3,
   "metadata": {
    "collapsed": false
   },
   "outputs": [
    {
     "name": "stdout",
     "output_type": "stream",
     "text": [
      "First stringSecond string\n"
     ]
    }
   ],
   "source": [
    "c = a + b\n",
    "\n",
    "print(c)"
   ]
  },
  {
   "cell_type": "markdown",
   "metadata": {
    "collapsed": false
   },
   "source": [
    "## Exercise\n",
    "\n",
    "Complete the definition of the function `myRep` with arguments `x`, `y`, and `n`, where `x` and `y` can be assumed to be strings and `n` can be assumed to be a nonnegative integer, that returns the string `x+y` repeated `n` times."
   ]
  },
  {
   "cell_type": "code",
   "execution_count": 4,
   "metadata": {
    "collapsed": false
   },
   "outputs": [
   ],
   "source": [
    "def myRep(x, y, n):\n",
    "    res = ''\n",
    "    # Your code here\n",
    "    \n",
    "    return res\n",
    "\n",
    "# Uncomment the following lines to test if myRep passes the assert statements\n",
    "# assert(myRep('a','b',3) == 'ababab')\n",
    "# assert(myRep('Python','C',0) == '')"
   ]
  },
  {
   "cell_type": "markdown",
   "metadata": {
    "collapsed": false
   },
   "source": [
    "## Indexing\n",
    "\n",
    "The character in position `i` of the string `a` can be accessed via `a[i]`.  Note that the first character has index 0.\n",
    "\n",
    "Negative indices can also be used. For example, `a[-4]` returns the fourth character from the end."
   ]
  },
  {
   "cell_type": "code",
   "execution_count": 5,
   "metadata": {
    "collapsed": false
   },
   "outputs": [
    {
     "name": "stdout",
     "output_type": "stream",
     "text": [
      "F s g r\n"
     ]
    }
   ],
   "source": [
    "print(a[0], a[6], a[-1], a[-4])  # Print the first, seventh, last, and fourth-last characters of a"
   ]
  },
  {
   "cell_type": "markdown",
   "metadata": {
    "collapsed": false
   },
   "source": [
    "## Exercise\n",
    "\n",
    "Complete the definition of the function `posOfi` with argument `s` and returns a list of indices at which `s` contains the letter 'i'.  (Hint: use the [`enumerate` function](https://docs.python.org/3.5/library/functions.html#enumerate).)"
   ]
  },
  {
   "cell_type": "code",
   "execution_count": 6,
   "metadata": {
    "collapsed": false
   },
   "outputs": [
    {
     "name": "stdout",
     "output_type": "stream",
     "text": [
      "None\n"
     ]
    }
   ],
   "source": [
    "def posOfi(s):\n",
    "    # Your code here\n",
    "    return None\n",
    "\n",
    "print(posOfi('Missisippi'))  # Should print [1,4,6,9]"
   ]
  },
  {
   "cell_type": "markdown",
   "metadata": {
    "collapsed": false
   },
   "source": [
    "## Substring\n",
    "\n",
    "We can obtain a substring of a string `a` using the syntax `a[i:j]` where `i` specifies the starting index and `j-1` the ending index.  Note that `a[:j]` is equivalent to `a[0:j]` and `a[i:]` is the substring starting from index `i` to the end."
   ]
  },
  {
   "cell_type": "code",
   "execution_count": 7,
   "metadata": {
    "collapsed": false
   },
   "outputs": [
    {
     "name": "stdout",
     "output_type": "stream",
     "text": [
      "rs\n",
      "Fir\n",
      "string\n"
     ]
    }
   ],
   "source": [
    "print(a[2:4])\n",
    "print(a[:3])\n",
    "print(a[6:])"
   ]
  },
  {
   "cell_type": "markdown",
   "metadata": {
    "collapsed": false
   },
   "source": [
    "## Splitting\n",
    "\n",
    "For a string `a`, `a.split()` splits the string into a list of words separated by space by default.  Note that a contiguous sequence of space characters including newline (`\\n`), carriage return (`\\r`), and tab `\\t` is considered one space.\n",
    "\n",
    "We can also specify what separating characters to use for the splitting.  For example, `a.split(',')` splits on the comma and `a.split('--')` splits on '--'."
   ]
  },
  {
   "cell_type": "code",
   "execution_count": 8,
   "metadata": {
    "collapsed": false
   },
   "outputs": [
    {
     "name": "stdout",
     "output_type": "stream",
     "text": [
      "['This', 'is', 'a', 'long', 'sentence', 'with', 'weird', 'spaces', 'separating', 'the', 'words.']\n",
      "['One', 'two', ' three ', 'four']\n",
      "['Five', 'six', 'ninety-four']\n"
     ]
    }
   ],
   "source": [
    "print('This is  a  \\n\\n   long   sentence with  \\r \\t weird spaces separating the words.'.split())\n",
    "\n",
    "print('One,two, three ,four'.split(',')) # Note that ` three ` is one of the words after separation.\n",
    "\n",
    "print('Five--six--ninety-four'.split('--'))"
   ]
  },
  {
   "cell_type": "markdown",
   "metadata": {
    "collapsed": false
   },
   "source": [
    "## Whitespace stripping\n",
    "\n",
    "In some case, it is helpful to remove leading and trailing space characters."
   ]
  },
  {
   "cell_type": "code",
   "execution_count": 9,
   "metadata": {
    "collapsed": false
   },
   "outputs": [
    {
     "name": "stdout",
     "output_type": "stream",
     "text": [
      "  time   \n",
      "time\n"
     ]
    }
   ],
   "source": [
    "s = '  time   '\n",
    "print(s)\n",
    "print(s.strip())"
   ]
  },
  {
   "cell_type": "markdown",
   "metadata": {
    "collapsed": false
   },
   "source": [
    "It is common to combine `strip` after splitting on the comma."
   ]
  },
  {
   "cell_type": "code",
   "execution_count": 10,
   "metadata": {
    "collapsed": false
   },
   "outputs": [
    {
     "name": "stdout",
     "output_type": "stream",
     "text": [
      "['One', 'two', 'three']\n"
     ]
    }
   ],
   "source": [
    "cs = 'One   , two,  three  '\n",
    "\n",
    "print( [ s.strip() for s in cs.split(',') ])"
   ]
  },
  {
   "cell_type": "markdown",
   "metadata": {
    "collapsed": false
   },
   "source": [
    "## Stripping a combination of characters\n",
    "\n",
    "The `strip` function can accept a string consisting of all characters to be stripped in any combination."
   ]
  },
  {
   "cell_type": "code",
   "execution_count": 11,
   "metadata": {
    "collapsed": false
   },
   "outputs": [
    {
     "name": "stdout",
     "output_type": "stream",
     "text": [
      "Hel#lo!?\n"
     ]
    }
   ],
   "source": [
    "tostrip = '&#-.!'\n",
    "\n",
    "t = '###.Hel#lo!?!&-'\n",
    "\n",
    "print(t.strip(tostrip)) # Strips leading and trailing characters that are listed in tostrip"
   ]
  },
  {
   "cell_type": "markdown",
   "metadata": {
    "collapsed": false
   },
   "source": [
    "## Exercise\n",
    "\n",
    "Complete the following function which takes a string consisting of a paragraph of sentences ending with a period and returns a list of all the sentences, with leading and trailing spaces stripped.  The last line should return\n",
    "`True`.  You may assume that every period ends a proper sentence and there are no sentences not ending in a period."
   ]
  },
  {
   "cell_type": "code",
   "execution_count": 12,
   "metadata": {
    "collapsed": false
   },
   "outputs": [
    {
     "data": {
      "text/plain": [
       "False"
      ]
     },
     "execution_count": 12,
     "metadata": {
     },
     "output_type": "execute_result"
    }
   ],
   "source": [
    "def sentences(p):\n",
    "    # Your code here\n",
    "    return None\n",
    "\n",
    "p = 'The essence of Python.  One can sense. But not learn.'\n",
    "\n",
    "sentences(p) == ['The essence of Python.', 'One can sense.', 'But not learn.']"
   ]
  },
  {
   "cell_type": "markdown",
   "metadata": {
    "collapsed": false
   },
   "source": [
    "## Altering cases\n",
    "\n",
    "The functions `upper`, `lower`, and `title` are useful for altering cases.  The following examples illustrate what they do."
   ]
  },
  {
   "cell_type": "code",
   "execution_count": 13,
   "metadata": {
    "collapsed": false
   },
   "outputs": [
    {
     "name": "stdout",
     "output_type": "stream",
     "text": [
      "GARBAGE COLLECTION\n",
      "garbage collection\n",
      "Garbage Collection\n"
     ]
    }
   ],
   "source": [
    "x = \"gArbagE collECtion\"\n",
    "\n",
    "print( x.upper() )\n",
    "print( x.lower() )\n",
    "print( x.title() )"
   ]
  },
  {
   "cell_type": "markdown",
   "metadata": {
    "collapsed": false
   },
   "source": [
    "The following example illustrates a function that takes a phrase and turns it into an acronym by concatenating the first letters of the words and capitalize all the letters."
   ]
  },
  {
   "cell_type": "code",
   "execution_count": 14,
   "metadata": {
    "collapsed": false
   },
   "outputs": [
    {
     "data": {
      "text/plain": [
       "('BRB', 'YMMV')"
      ]
     },
     "execution_count": 14,
     "metadata": {
     },
     "output_type": "execute_result"
    }
   ],
   "source": [
    "def acronymize(phrase):\n",
    "    a = ''\n",
    "    for w in phrase.split():\n",
    "        a += w[0]\n",
    "    return a.upper()\n",
    "\n",
    "acronymize(\"Be right back\"), acronymize(\"Your mileage might vary\")"
   ]
  },
  {
   "cell_type": "markdown",
   "metadata": {
    "collapsed": false
   },
   "source": [
    "## Conversion between strings and numbers\n",
    "\n",
    "It is often useful to convert a string representing a number to a number type and vice versa.  The following examples illustrate how these tasks can be achieved."
   ]
  },
  {
   "cell_type": "code",
   "execution_count": 15,
   "metadata": {
    "collapsed": false
   },
   "outputs": [
    {
     "name": "stdout",
     "output_type": "stream",
     "text": [
      "12.345 <class 'str'>\n",
      "12.345 <class 'float'>\n",
      "345 <class 'int'>\n"
     ]
    }
   ],
   "source": [
    "number = 12.345\n",
    "\n",
    "s = str(number)\n",
    "\n",
    "print( s, type(s))\n",
    "\n",
    "f = float(s)\n",
    "\n",
    "print(f, type(f))\n",
    "\n",
    "i = int('345')\n",
    "print(i, type(i))"
   ]
  },
  {
   "cell_type": "markdown",
   "metadata": {
    "collapsed": false
   },
   "source": [
    "## Exercise\n",
    "\n",
    "Complete the following function which takes a list of full names as argument an returns a list of names that are not properly capitalized.  For example, for the argument `['John Doe', 'JANE Kelly', 'nicole dunn', 'David Huang']`, the function returns `['JANE Kelly, 'nicole Dunn']`."
   ]
  },
  {
   "cell_type": "code",
   "execution_count": 16,
   "metadata": {
    "collapsed": false
   },
   "outputs": [
   ],
   "source": [
    "def badNames(names):\n",
    "    # Your code here\n",
    "    return None"
   ]
  },
  {
   "cell_type": "markdown",
   "metadata": {
    "collapsed": false
   },
   "source": [
    "## Simple pattern matching\n",
    "\n",
    "We can check if a string `t` is a substring of another string `s` via `t in s`."
   ]
  },
  {
   "cell_type": "code",
   "execution_count": 17,
   "metadata": {
    "collapsed": false
   },
   "outputs": [
    {
     "name": "stdout",
     "output_type": "stream",
     "text": [
      "True\n",
      "False\n"
     ]
    }
   ],
   "source": [
    "t1 = \"is\"\n",
    "t2 = \"has\"\n",
    "\n",
    "s = \"This is my car.\"\n",
    "\n",
    "print( t1 in s )\n",
    "print( t2 in s )"
   ]
  },
  {
   "cell_type": "markdown",
   "metadata": {
    "collapsed": false
   },
   "source": [
    "If we want to obtain the index at which a substring begins, we can use the `find` function.  If the substring is not found, `-1` is returned."
   ]
  },
  {
   "cell_type": "code",
   "execution_count": 18,
   "metadata": {
    "collapsed": false
   },
   "outputs": [
    {
     "name": "stdout",
     "output_type": "stream",
     "text": [
      "2\n",
      "-1\n"
     ]
    }
   ],
   "source": [
    "print( s.find(t1) )\n",
    "print( s.find(t2) )"
   ]
  },
  {
   "cell_type": "markdown",
   "metadata": {
    "collapsed": false
   },
   "source": [
    "## Exercise\n",
    "\n",
    "Complete the following function which takes a list `l` of strings as argument and returns a list consisting of the strings in `l` not containing the symbol `-`.  For example, given the argument `['Hi', 'Good-bye', 'Ciao', 'Twenty-one']`, the function should return `['Hi', 'Ciao']`."
   ]
  },
  {
   "cell_type": "code",
   "execution_count": 19,
   "metadata": {
    "collapsed": false
   },
   "outputs": [
   ],
   "source": [
    "def filterList(l):\n",
    "    # Your code here\n",
    "    return None"
   ]
  }
 ],
 "metadata": {
  "kernelspec": {
   "display_name": "Python 3 (Ubuntu Linux)",
   "language": "python",
   "name": "python3"
  },
  "language_info": {
   "codemirror_mode": {
    "name": "ipython",
    "version": 3
   },
   "file_extension": ".py",
   "mimetype": "text/x-python",
   "name": "python",
   "nbconvert_exporter": "python",
   "pygments_lexer": "ipython3",
   "version": "3.6.7"
  }
 },
 "nbformat": 4,
 "nbformat_minor": 0
}