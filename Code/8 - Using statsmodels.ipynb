{
 "cells": [
  {
   "cell_type": "markdown",
   "metadata": {},
   "source": [
    "# Statistics in Python\n",
    "\n",
    "Unlike R, there is no standard package for doing statistics in Python. For instance, NumPy already allows one to obtain summary statistics such as mean, standard, deviation and correlation coefficient. As of Aug 2018, [Statsmodels](http://www.statsmodels.org/stable/) seems to be quit popular. Perhaps its biggest advantage is that it has a set of API that supports R-style formulas via [patsy](https://patsy.readthedocs.io/en/latest/index.html).\n",
    "\n",
    "In this notebook, we take a quick dive into the API that supports R-style formulas and perform some exploratory data analysis.  More examples can be found [here](http://www.statsmodels.org/stable/examples/index.html)."
   ]
  },
  {
   "cell_type": "code",
   "execution_count": 1,
   "metadata": {},
   "outputs": [],
   "source": [
    "import statsmodels.formula.api as smf  # Import the API that supports R formulas\n",
    "import pandas as pd\n",
    "import numpy as np"
   ]
  },
  {
   "cell_type": "markdown",
   "metadata": {},
   "source": [
    "We load the math scores data set in `mathscores.csv` and take a look at the first few records."
   ]
  },
  {
   "cell_type": "code",
   "execution_count": 2,
   "metadata": {},
   "outputs": [
    {
     "data": {
      "text/html": [
       "<div>\n",
       "<style scoped>\n",
       "    .dataframe tbody tr th:only-of-type {\n",
       "        vertical-align: middle;\n",
       "    }\n",
       "\n",
       "    .dataframe tbody tr th {\n",
       "        vertical-align: top;\n",
       "    }\n",
       "\n",
       "    .dataframe thead th {\n",
       "        text-align: right;\n",
       "    }\n",
       "</style>\n",
       "<table border=\"1\" class=\"dataframe\">\n",
       "  <thead>\n",
       "    <tr style=\"text-align: right;\">\n",
       "      <th></th>\n",
       "      <th>ID</th>\n",
       "      <th>Section</th>\n",
       "      <th>Year</th>\n",
       "      <th>CGPA</th>\n",
       "      <th>Final.A</th>\n",
       "      <th>Final.B</th>\n",
       "      <th>Quizzes</th>\n",
       "      <th>Assignments</th>\n",
       "    </tr>\n",
       "  </thead>\n",
       "  <tbody>\n",
       "    <tr>\n",
       "      <th>0</th>\n",
       "      <td>1</td>\n",
       "      <td>V</td>\n",
       "      <td>3</td>\n",
       "      <td>5.23</td>\n",
       "      <td>17</td>\n",
       "      <td>0.0</td>\n",
       "      <td>3.5</td>\n",
       "      <td>14.5</td>\n",
       "    </tr>\n",
       "    <tr>\n",
       "      <th>1</th>\n",
       "      <td>2</td>\n",
       "      <td>V</td>\n",
       "      <td>3</td>\n",
       "      <td>3.78</td>\n",
       "      <td>20</td>\n",
       "      <td>7.0</td>\n",
       "      <td>17.7</td>\n",
       "      <td>22.8</td>\n",
       "    </tr>\n",
       "    <tr>\n",
       "      <th>2</th>\n",
       "      <td>3</td>\n",
       "      <td>V</td>\n",
       "      <td>2</td>\n",
       "      <td>4.50</td>\n",
       "      <td>17</td>\n",
       "      <td>9.5</td>\n",
       "      <td>12.4</td>\n",
       "      <td>28.8</td>\n",
       "    </tr>\n",
       "    <tr>\n",
       "      <th>3</th>\n",
       "      <td>4</td>\n",
       "      <td>V</td>\n",
       "      <td>2</td>\n",
       "      <td>10.57</td>\n",
       "      <td>20</td>\n",
       "      <td>13.0</td>\n",
       "      <td>17.3</td>\n",
       "      <td>27.9</td>\n",
       "    </tr>\n",
       "    <tr>\n",
       "      <th>4</th>\n",
       "      <td>5</td>\n",
       "      <td>V</td>\n",
       "      <td>4</td>\n",
       "      <td>6.35</td>\n",
       "      <td>19</td>\n",
       "      <td>3.0</td>\n",
       "      <td>16.5</td>\n",
       "      <td>6.0</td>\n",
       "    </tr>\n",
       "  </tbody>\n",
       "</table>\n",
       "</div>"
      ],
      "text/plain": [
       "   ID Section  Year   CGPA  Final.A  Final.B  Quizzes  Assignments\n",
       "0   1       V     3   5.23       17      0.0      3.5         14.5\n",
       "1   2       V     3   3.78       20      7.0     17.7         22.8\n",
       "2   3       V     2   4.50       17      9.5     12.4         28.8\n",
       "3   4       V     2  10.57       20     13.0     17.3         27.9\n",
       "4   5       V     4   6.35       19      3.0     16.5          6.0"
      ]
     },
     "execution_count": 2,
     "metadata": {},
     "output_type": "execute_result"
    }
   ],
   "source": [
    "df = pd.read_csv('mathscores.csv')\n",
    "\n",
    "df.head()"
   ]
  },
  {
   "cell_type": "markdown",
   "metadata": {},
   "source": [
    "Each record consists of information for a student with a particular `ID`.  Each student's class section (either `'F'` or `'V'`), cumulative grade point average (CGPA), score for part A of the final exam, score for part B of the final exam, total over all term quizzes, and total over all term assignments are recorded.\n",
    "\n",
    "We first create an additional column that contains the total scores of the final exam."
   ]
  },
  {
   "cell_type": "code",
   "execution_count": 3,
   "metadata": {},
   "outputs": [
    {
     "data": {
      "text/html": [
       "<div>\n",
       "<style scoped>\n",
       "    .dataframe tbody tr th:only-of-type {\n",
       "        vertical-align: middle;\n",
       "    }\n",
       "\n",
       "    .dataframe tbody tr th {\n",
       "        vertical-align: top;\n",
       "    }\n",
       "\n",
       "    .dataframe thead th {\n",
       "        text-align: right;\n",
       "    }\n",
       "</style>\n",
       "<table border=\"1\" class=\"dataframe\">\n",
       "  <thead>\n",
       "    <tr style=\"text-align: right;\">\n",
       "      <th></th>\n",
       "      <th>ID</th>\n",
       "      <th>Section</th>\n",
       "      <th>Year</th>\n",
       "      <th>CGPA</th>\n",
       "      <th>Final.A</th>\n",
       "      <th>Final.B</th>\n",
       "      <th>Quizzes</th>\n",
       "      <th>Assignments</th>\n",
       "      <th>Final</th>\n",
       "    </tr>\n",
       "  </thead>\n",
       "  <tbody>\n",
       "    <tr>\n",
       "      <th>0</th>\n",
       "      <td>1</td>\n",
       "      <td>V</td>\n",
       "      <td>3</td>\n",
       "      <td>5.23</td>\n",
       "      <td>17</td>\n",
       "      <td>0.0</td>\n",
       "      <td>3.5</td>\n",
       "      <td>14.5</td>\n",
       "      <td>17.0</td>\n",
       "    </tr>\n",
       "    <tr>\n",
       "      <th>1</th>\n",
       "      <td>2</td>\n",
       "      <td>V</td>\n",
       "      <td>3</td>\n",
       "      <td>3.78</td>\n",
       "      <td>20</td>\n",
       "      <td>7.0</td>\n",
       "      <td>17.7</td>\n",
       "      <td>22.8</td>\n",
       "      <td>27.0</td>\n",
       "    </tr>\n",
       "    <tr>\n",
       "      <th>2</th>\n",
       "      <td>3</td>\n",
       "      <td>V</td>\n",
       "      <td>2</td>\n",
       "      <td>4.50</td>\n",
       "      <td>17</td>\n",
       "      <td>9.5</td>\n",
       "      <td>12.4</td>\n",
       "      <td>28.8</td>\n",
       "      <td>26.5</td>\n",
       "    </tr>\n",
       "    <tr>\n",
       "      <th>3</th>\n",
       "      <td>4</td>\n",
       "      <td>V</td>\n",
       "      <td>2</td>\n",
       "      <td>10.57</td>\n",
       "      <td>20</td>\n",
       "      <td>13.0</td>\n",
       "      <td>17.3</td>\n",
       "      <td>27.9</td>\n",
       "      <td>33.0</td>\n",
       "    </tr>\n",
       "    <tr>\n",
       "      <th>4</th>\n",
       "      <td>5</td>\n",
       "      <td>V</td>\n",
       "      <td>4</td>\n",
       "      <td>6.35</td>\n",
       "      <td>19</td>\n",
       "      <td>3.0</td>\n",
       "      <td>16.5</td>\n",
       "      <td>6.0</td>\n",
       "      <td>22.0</td>\n",
       "    </tr>\n",
       "  </tbody>\n",
       "</table>\n",
       "</div>"
      ],
      "text/plain": [
       "   ID Section  Year   CGPA  Final.A  Final.B  Quizzes  Assignments  Final\n",
       "0   1       V     3   5.23       17      0.0      3.5         14.5   17.0\n",
       "1   2       V     3   3.78       20      7.0     17.7         22.8   27.0\n",
       "2   3       V     2   4.50       17      9.5     12.4         28.8   26.5\n",
       "3   4       V     2  10.57       20     13.0     17.3         27.9   33.0\n",
       "4   5       V     4   6.35       19      3.0     16.5          6.0   22.0"
      ]
     },
     "execution_count": 3,
     "metadata": {},
     "output_type": "execute_result"
    }
   ],
   "source": [
    "df['Final'] = df['Final.A'] + df['Final.B']\n",
    "df.head()"
   ]
  },
  {
   "cell_type": "markdown",
   "metadata": {},
   "source": [
    "We can obtain the Pearson product-moment correlation coefficients on `Final` and `CGPA` as follows:"
   ]
  },
  {
   "cell_type": "code",
   "execution_count": 4,
   "metadata": {},
   "outputs": [
    {
     "data": {
      "text/plain": [
       "array([[1.        , 0.74757844],\n",
       "       [0.74757844, 1.        ]])"
      ]
     },
     "execution_count": 4,
     "metadata": {},
     "output_type": "execute_result"
    }
   ],
   "source": [
    "np.corrcoef(df['Final'], df['CGPA'])"
   ]
  },
  {
   "cell_type": "markdown",
   "metadata": {},
   "source": [
    "And the covariance matrix is obtained thus:"
   ]
  },
  {
   "cell_type": "code",
   "execution_count": 5,
   "metadata": {},
   "outputs": [
    {
     "data": {
      "text/plain": [
       "array([[101.5401404 ,  19.87115485],\n",
       "       [ 19.87115485,   6.95816819]])"
      ]
     },
     "execution_count": 5,
     "metadata": {},
     "output_type": "execute_result"
    }
   ],
   "source": [
    "np.cov(df['Final'], df['CGPA'])"
   ]
  },
  {
   "cell_type": "markdown",
   "metadata": {},
   "source": [
    "## Ordinary least squares\n",
    "\n",
    "We now perform a linear regression with `Final` as the dependent variable and `CGPA` and `Quizzes` as independent variables."
   ]
  },
  {
   "cell_type": "code",
   "execution_count": 6,
   "metadata": {},
   "outputs": [],
   "source": [
    "fit = smf.ols(formula='Final ~ CGPA + Quizzes', data=df).fit()"
   ]
  },
  {
   "cell_type": "markdown",
   "metadata": {},
   "source": [
    "As in R, we can obtain a summary."
   ]
  },
  {
   "cell_type": "code",
   "execution_count": 7,
   "metadata": {},
   "outputs": [
    {
     "name": "stdout",
     "output_type": "stream",
     "text": [
      "                            OLS Regression Results                            \n",
      "==============================================================================\n",
      "Dep. Variable:                  Final   R-squared:                       0.589\n",
      "Model:                            OLS   Adj. R-squared:                  0.580\n",
      "Method:                 Least Squares   F-statistic:                     69.38\n",
      "Date:                Mon, 26 Nov 2018   Prob (F-statistic):           1.97e-19\n",
      "Time:                        02:24:35   Log-Likelihood:                -328.01\n",
      "No. Observations:                 100   AIC:                             662.0\n",
      "Df Residuals:                      97   BIC:                             669.8\n",
      "Df Model:                           2                                         \n",
      "Covariance Type:            nonrobust                                         \n",
      "==============================================================================\n",
      "                 coef    std err          t      P>|t|      [0.025      0.975]\n",
      "------------------------------------------------------------------------------\n",
      "Intercept      6.6760      2.426      2.752      0.007       1.862      11.490\n",
      "CGPA           2.4049      0.302      7.974      0.000       1.806       3.003\n",
      "Quizzes        0.4636      0.175      2.645      0.010       0.116       0.811\n",
      "==============================================================================\n",
      "Omnibus:                        3.137   Durbin-Watson:                   1.971\n",
      "Prob(Omnibus):                  0.208   Jarque-Bera (JB):                2.591\n",
      "Skew:                           0.256   Prob(JB):                        0.274\n",
      "Kurtosis:                       3.600   Cond. No.                         66.4\n",
      "==============================================================================\n",
      "\n",
      "Warnings:\n",
      "[1] Standard Errors assume that the covariance matrix of the errors is correctly specified.\n"
     ]
    }
   ],
   "source": [
    "print(fit.summary())"
   ]
  },
  {
   "cell_type": "markdown",
   "metadata": {},
   "source": [
    "To see just the fitted values, we do the following:"
   ]
  },
  {
   "cell_type": "code",
   "execution_count": 8,
   "metadata": {},
   "outputs": [
    {
     "data": {
      "text/plain": [
       "0    20.876025\n",
       "1    23.971430\n",
       "2    23.246104\n",
       "3    40.115204\n",
       "4    29.595728\n",
       "dtype: float64"
      ]
     },
     "execution_count": 8,
     "metadata": {},
     "output_type": "execute_result"
    }
   ],
   "source": [
    "fit.fittedvalues[0:5]  # List the first five fitted values"
   ]
  },
  {
   "cell_type": "markdown",
   "metadata": {},
   "source": [
    "To predict with the model, we need to set up a dictionary of NumPy one-dimensional arrays of the same length, one for each independent variable and then call `predict` from the fitted model."
   ]
  },
  {
   "cell_type": "code",
   "execution_count": 9,
   "metadata": {},
   "outputs": [
    {
     "data": {
      "text/plain": [
       "0    16.938634\n",
       "1    34.021748\n",
       "dtype: float64"
      ]
     },
     "execution_count": 9,
     "metadata": {},
     "output_type": "execute_result"
    }
   ],
   "source": [
    "# Specify two new observations for prediction.\n",
    "# The first new observation has CGPA 3.4 and Quizzes score 4.5\n",
    "# The second new observation has CGPA 9.0 and Quizzes score 12.3\n",
    "newObs = {'CGPA': np.array([3.4,9.0]), 'Quizzes' : np.array([4.5,12.3])}\n",
    "\n",
    "fit.predict(newObs) # Predict the final marks for the two observations specified in newObs"
   ]
  },
  {
   "cell_type": "markdown",
   "metadata": {},
   "source": [
    "We can see a list of attributes of the fitted model with the following:"
   ]
  },
  {
   "cell_type": "code",
   "execution_count": 10,
   "metadata": {},
   "outputs": [
    {
     "data": {
      "text/plain": [
       "['HC0_se',\n",
       " 'HC1_se',\n",
       " 'HC2_se',\n",
       " 'HC3_se',\n",
       " '_HCCM',\n",
       " '__class__',\n",
       " '__delattr__',\n",
       " '__dict__',\n",
       " '__dir__',\n",
       " '__doc__',\n",
       " '__eq__',\n",
       " '__format__',\n",
       " '__ge__',\n",
       " '__getattribute__',\n",
       " '__gt__',\n",
       " '__hash__',\n",
       " '__init__',\n",
       " '__init_subclass__',\n",
       " '__le__',\n",
       " '__lt__',\n",
       " '__module__',\n",
       " '__ne__',\n",
       " '__new__',\n",
       " '__reduce__',\n",
       " '__reduce_ex__',\n",
       " '__repr__',\n",
       " '__setattr__',\n",
       " '__sizeof__',\n",
       " '__str__',\n",
       " '__subclasshook__',\n",
       " '__weakref__',\n",
       " '_cache',\n",
       " '_data_attr',\n",
       " '_get_robustcov_results',\n",
       " '_is_nested',\n",
       " '_wexog_singular_values',\n",
       " 'aic',\n",
       " 'bic',\n",
       " 'bse',\n",
       " 'centered_tss',\n",
       " 'compare_f_test',\n",
       " 'compare_lm_test',\n",
       " 'compare_lr_test',\n",
       " 'condition_number',\n",
       " 'conf_int',\n",
       " 'conf_int_el',\n",
       " 'cov_HC0',\n",
       " 'cov_HC1',\n",
       " 'cov_HC2',\n",
       " 'cov_HC3',\n",
       " 'cov_kwds',\n",
       " 'cov_params',\n",
       " 'cov_type',\n",
       " 'df_model',\n",
       " 'df_resid',\n",
       " 'diagn',\n",
       " 'eigenvals',\n",
       " 'el_test',\n",
       " 'ess',\n",
       " 'f_pvalue',\n",
       " 'f_test',\n",
       " 'fittedvalues',\n",
       " 'fvalue',\n",
       " 'get_influence',\n",
       " 'get_prediction',\n",
       " 'get_robustcov_results',\n",
       " 'initialize',\n",
       " 'k_constant',\n",
       " 'llf',\n",
       " 'load',\n",
       " 'model',\n",
       " 'mse_model',\n",
       " 'mse_resid',\n",
       " 'mse_total',\n",
       " 'nobs',\n",
       " 'normalized_cov_params',\n",
       " 'outlier_test',\n",
       " 'params',\n",
       " 'predict',\n",
       " 'pvalues',\n",
       " 'remove_data',\n",
       " 'resid',\n",
       " 'resid_pearson',\n",
       " 'rsquared',\n",
       " 'rsquared_adj',\n",
       " 'save',\n",
       " 'scale',\n",
       " 'ssr',\n",
       " 'summary',\n",
       " 'summary2',\n",
       " 't_test',\n",
       " 'tvalues',\n",
       " 'uncentered_tss',\n",
       " 'use_t',\n",
       " 'wald_test',\n",
       " 'wald_test_terms',\n",
       " 'wresid']"
      ]
     },
     "execution_count": 10,
     "metadata": {},
     "output_type": "execute_result"
    }
   ],
   "source": [
    "dir(fit)"
   ]
  },
  {
   "cell_type": "markdown",
   "metadata": {},
   "source": [
    "Most of the attributes that are functions have associated docstring.  For example, we can get info on `conf_int` by doing the following:"
   ]
  },
  {
   "cell_type": "code",
   "execution_count": 11,
   "metadata": {},
   "outputs": [
    {
     "name": "stdout",
     "output_type": "stream",
     "text": [
      "Help on method conf_int in module statsmodels.regression.linear_model:\n",
      "\n",
      "conf_int(alpha=0.05, cols=None) method of statsmodels.regression.linear_model.RegressionResultsWrapper instance\n",
      "    conf_int(self, alpha=0.05, cols=None)\n",
      "    \n",
      "    Returns the confidence interval of the fitted parameters.\n",
      "    \n",
      "    Parameters\n",
      "    ----------\n",
      "    alpha : float, optional\n",
      "        The `alpha` level for the confidence interval.\n",
      "        ie., The default `alpha` = .05 returns a 95% confidence interval.\n",
      "    cols : array-like, optional\n",
      "        `cols` specifies which confidence intervals to return\n",
      "    \n",
      "    Notes\n",
      "    -----\n",
      "    The confidence interval is based on Student's t-distribution.\n",
      "\n"
     ]
    }
   ],
   "source": [
    "help(fit.conf_int)"
   ]
  },
  {
   "cell_type": "markdown",
   "metadata": {},
   "source": [
    "## Exercise\n",
    "\n",
    "Obtain the adjusted R-squaredfor the model `fit."
   ]
  },
  {
   "cell_type": "code",
   "execution_count": 12,
   "metadata": {},
   "outputs": [],
   "source": [
    "# Your code here"
   ]
  },
  {
   "cell_type": "markdown",
   "metadata": {},
   "source": [
    "Categorical variables must be within `C( )`."
   ]
  },
  {
   "cell_type": "code",
   "execution_count": 13,
   "metadata": {},
   "outputs": [
    {
     "name": "stdout",
     "output_type": "stream",
     "text": [
      "                            OLS Regression Results                            \n",
      "==============================================================================\n",
      "Dep. Variable:                  Final   R-squared:                       0.563\n",
      "Model:                            OLS   Adj. R-squared:                  0.544\n",
      "Method:                 Least Squares   F-statistic:                     30.58\n",
      "Date:                Mon, 26 Nov 2018   Prob (F-statistic):           2.37e-16\n",
      "Time:                        02:24:35   Log-Likelihood:                -331.04\n",
      "No. Observations:                 100   AIC:                             672.1\n",
      "Df Residuals:                      95   BIC:                             685.1\n",
      "Df Model:                           4                                         \n",
      "Covariance Type:            nonrobust                                         \n",
      "================================================================================\n",
      "                   coef    std err          t      P>|t|      [0.025      0.975]\n",
      "--------------------------------------------------------------------------------\n",
      "Intercept       10.4746      2.022      5.179      0.000       6.460      14.490\n",
      "C(Year)[T.2]     0.7455      1.574      0.474      0.637      -2.379       3.870\n",
      "C(Year)[T.3]     1.6516      2.074      0.796      0.428      -2.465       5.768\n",
      "C(Year)[T.4]    -0.8598      3.546     -0.242      0.809      -7.900       6.180\n",
      "CGPA             2.8279      0.264     10.718      0.000       2.304       3.352\n",
      "==============================================================================\n",
      "Omnibus:                        1.670   Durbin-Watson:                   1.881\n",
      "Prob(Omnibus):                  0.434   Jarque-Bera (JB):                1.183\n",
      "Skew:                          -0.031   Prob(JB):                        0.554\n",
      "Kurtosis:                       3.529   Cond. No.                         40.4\n",
      "==============================================================================\n",
      "\n",
      "Warnings:\n",
      "[1] Standard Errors assume that the covariance matrix of the errors is correctly specified.\n"
     ]
    }
   ],
   "source": [
    "f = 'Final ~ CGPA + C(Year)'\n",
    "\n",
    "fit2 = smf.ols(formula=f, data=df).fit()\n",
    "print(fit2.summary())"
   ]
  },
  {
   "cell_type": "markdown",
   "metadata": {},
   "source": [
    "One can see that `Year` is not statistically significant and one might want to drop it from the model."
   ]
  },
  {
   "cell_type": "markdown",
   "metadata": {},
   "source": [
    "## Exercise\n",
    "\n",
    "Try to fit a variety of models with different choices of independent variables, keeping `Final` as the dependant variable."
   ]
  },
  {
   "cell_type": "code",
   "execution_count": 14,
   "metadata": {},
   "outputs": [],
   "source": [
    "# Your code here"
   ]
  },
  {
   "cell_type": "markdown",
   "metadata": {},
   "source": [
    "## Logistic regression\n",
    "\n",
    "We add a binary column `Pass` to our data frame so that 1 indicates a final exam score of 27 or above and 0 otherwise."
   ]
  },
  {
   "cell_type": "code",
   "execution_count": 15,
   "metadata": {},
   "outputs": [
    {
     "data": {
      "text/html": [
       "<div>\n",
       "<style scoped>\n",
       "    .dataframe tbody tr th:only-of-type {\n",
       "        vertical-align: middle;\n",
       "    }\n",
       "\n",
       "    .dataframe tbody tr th {\n",
       "        vertical-align: top;\n",
       "    }\n",
       "\n",
       "    .dataframe thead th {\n",
       "        text-align: right;\n",
       "    }\n",
       "</style>\n",
       "<table border=\"1\" class=\"dataframe\">\n",
       "  <thead>\n",
       "    <tr style=\"text-align: right;\">\n",
       "      <th></th>\n",
       "      <th>ID</th>\n",
       "      <th>Section</th>\n",
       "      <th>Year</th>\n",
       "      <th>CGPA</th>\n",
       "      <th>Final.A</th>\n",
       "      <th>Final.B</th>\n",
       "      <th>Quizzes</th>\n",
       "      <th>Assignments</th>\n",
       "      <th>Final</th>\n",
       "      <th>Pass</th>\n",
       "    </tr>\n",
       "  </thead>\n",
       "  <tbody>\n",
       "    <tr>\n",
       "      <th>0</th>\n",
       "      <td>1</td>\n",
       "      <td>V</td>\n",
       "      <td>3</td>\n",
       "      <td>5.23</td>\n",
       "      <td>17</td>\n",
       "      <td>0.0</td>\n",
       "      <td>3.5</td>\n",
       "      <td>14.5</td>\n",
       "      <td>17.0</td>\n",
       "      <td>0</td>\n",
       "    </tr>\n",
       "    <tr>\n",
       "      <th>1</th>\n",
       "      <td>2</td>\n",
       "      <td>V</td>\n",
       "      <td>3</td>\n",
       "      <td>3.78</td>\n",
       "      <td>20</td>\n",
       "      <td>7.0</td>\n",
       "      <td>17.7</td>\n",
       "      <td>22.8</td>\n",
       "      <td>27.0</td>\n",
       "      <td>1</td>\n",
       "    </tr>\n",
       "    <tr>\n",
       "      <th>2</th>\n",
       "      <td>3</td>\n",
       "      <td>V</td>\n",
       "      <td>2</td>\n",
       "      <td>4.50</td>\n",
       "      <td>17</td>\n",
       "      <td>9.5</td>\n",
       "      <td>12.4</td>\n",
       "      <td>28.8</td>\n",
       "      <td>26.5</td>\n",
       "      <td>0</td>\n",
       "    </tr>\n",
       "    <tr>\n",
       "      <th>3</th>\n",
       "      <td>4</td>\n",
       "      <td>V</td>\n",
       "      <td>2</td>\n",
       "      <td>10.57</td>\n",
       "      <td>20</td>\n",
       "      <td>13.0</td>\n",
       "      <td>17.3</td>\n",
       "      <td>27.9</td>\n",
       "      <td>33.0</td>\n",
       "      <td>1</td>\n",
       "    </tr>\n",
       "    <tr>\n",
       "      <th>4</th>\n",
       "      <td>5</td>\n",
       "      <td>V</td>\n",
       "      <td>4</td>\n",
       "      <td>6.35</td>\n",
       "      <td>19</td>\n",
       "      <td>3.0</td>\n",
       "      <td>16.5</td>\n",
       "      <td>6.0</td>\n",
       "      <td>22.0</td>\n",
       "      <td>0</td>\n",
       "    </tr>\n",
       "  </tbody>\n",
       "</table>\n",
       "</div>"
      ],
      "text/plain": [
       "   ID Section  Year   CGPA  Final.A  Final.B  Quizzes  Assignments  Final  \\\n",
       "0   1       V     3   5.23       17      0.0      3.5         14.5   17.0   \n",
       "1   2       V     3   3.78       20      7.0     17.7         22.8   27.0   \n",
       "2   3       V     2   4.50       17      9.5     12.4         28.8   26.5   \n",
       "3   4       V     2  10.57       20     13.0     17.3         27.9   33.0   \n",
       "4   5       V     4   6.35       19      3.0     16.5          6.0   22.0   \n",
       "\n",
       "   Pass  \n",
       "0     0  \n",
       "1     1  \n",
       "2     0  \n",
       "3     1  \n",
       "4     0  "
      ]
     },
     "execution_count": 15,
     "metadata": {},
     "output_type": "execute_result"
    }
   ],
   "source": [
    "df['Pass'] = df['Final'].map(lambda x : 1 if x >= 27 else 0) # Here, we used a conditional expression\n",
    "df.head()"
   ]
  },
  {
   "cell_type": "markdown",
   "metadata": {},
   "source": [
    "We now perform logistic regression with the formula `Pass ~ Quizzes + Assignments + C(Section)`."
   ]
  },
  {
   "cell_type": "code",
   "execution_count": 16,
   "metadata": {},
   "outputs": [
    {
     "name": "stdout",
     "output_type": "stream",
     "text": [
      "Optimization terminated successfully.\n",
      "         Current function value: 0.460543\n",
      "         Iterations 6\n",
      "                        Results: Logit\n",
      "===============================================================\n",
      "Model:              Logit            No. Iterations:   6.0000  \n",
      "Dependent Variable: Pass             Pseudo R-squared: 0.301   \n",
      "Date:               2018-11-26 02:24 AIC:              100.1085\n",
      "No. Observations:   100              BIC:              110.5292\n",
      "Df Model:           3                Log-Likelihood:   -46.054 \n",
      "Df Residuals:       96               LL-Null:          -65.896 \n",
      "Converged:          1.0000           Scale:            1.0000  \n",
      "---------------------------------------------------------------\n",
      "                 Coef.  Std.Err.    z    P>|z|   [0.025  0.975]\n",
      "---------------------------------------------------------------\n",
      "Intercept       -4.8343   1.2936 -3.7370 0.0002 -7.3698 -2.2988\n",
      "C(Section)[T.V]  0.0297   0.5280  0.0562 0.9552 -1.0052  1.0645\n",
      "Quizzes          0.2506   0.0830  3.0187 0.0025  0.0879  0.4132\n",
      "Assignments      0.0761   0.0339  2.2415 0.0250  0.0096  0.1426\n",
      "===============================================================\n",
      "\n"
     ]
    }
   ],
   "source": [
    "f = 'Pass ~ Quizzes + Assignments + C(Section)'\n",
    "\n",
    "logitfit = smf.logit(formula=f, data=df).fit()\n",
    "print(logitfit.summary2())"
   ]
  },
  {
   "cell_type": "markdown",
   "metadata": {},
   "source": [
    "Let us do some predictions with the model obtained."
   ]
  },
  {
   "cell_type": "code",
   "execution_count": 17,
   "metadata": {},
   "outputs": [
    {
     "data": {
      "text/plain": [
       "0    0.850332\n",
       "dtype: float64"
      ]
     },
     "execution_count": 17,
     "metadata": {},
     "output_type": "execute_result"
    }
   ],
   "source": [
    "ob1 = pd.DataFrame({'Quizzes': 17, 'Assignments':30, 'Section': 'V'}, index=[0])\n",
    "\n",
    "logitfit.predict(ob1) # A pass should be predicted"
   ]
  },
  {
   "cell_type": "code",
   "execution_count": 18,
   "metadata": {},
   "outputs": [
    {
     "data": {
      "text/plain": [
       "0    0.089513\n",
       "dtype: float64"
      ]
     },
     "execution_count": 18,
     "metadata": {},
     "output_type": "execute_result"
    }
   ],
   "source": [
    "ob2 = pd.DataFrame({'Quizzes': 7, 'Assignments':10, 'Section': 'F'}, index=[0])\n",
    "\n",
    "logitfit.predict(ob2) # A fail should be predicted"
   ]
  },
  {
   "cell_type": "markdown",
   "metadata": {},
   "source": [
    "## Exercise\n",
    "\n",
    "Redo the logistic regression above replacing `Section` with `Year` and `Assignments` with `CGPA`.  Use the resulting model to obtain a predictions for the following:\n",
    "\n",
    "| **Year** | **CGPA** | **Quizzes** |\n",
    "|:--------:|:--------:|:-----------:|\n",
    "|    1     |   8.9    |       13    |\n",
    "|    2     |  10.3    |       20    |\n",
    "|    3     |   5.8    |       9     |\n",
    "\n",
    "The output of the predicted values should be:\n",
    "```\n",
    "0    0.838238\n",
    "1    0.986977\n",
    "2    0.325480\n",
    "dtype: float64\n",
    "```"
   ]
  },
  {
   "cell_type": "code",
   "execution_count": 19,
   "metadata": {},
   "outputs": [],
   "source": [
    "# Your code here"
   ]
  }
 ],
 "metadata": {
  "kernelspec": {
   "display_name": "Python 3 (Ubuntu Linux)",
   "language": "python",
   "name": "python3"
  },
  "language_info": {
   "codemirror_mode": {
    "name": "ipython",
    "version": 3
   },
   "file_extension": ".py",
   "mimetype": "text/x-python",
   "name": "python",
   "nbconvert_exporter": "python",
   "pygments_lexer": "ipython3",
   "version": "3.6.6"
  }
 },
 "nbformat": 4,
 "nbformat_minor": 1
}
