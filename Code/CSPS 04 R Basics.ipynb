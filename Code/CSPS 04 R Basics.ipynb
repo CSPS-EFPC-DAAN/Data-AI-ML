{
 "cells": [
  {
   "cell_type": "markdown",
   "metadata": {
    "collapsed": false,
    "slideshow": {
     "slide_type": "slide"
    }
   },
   "source": [
    "# R BASICS <a name=top></a>\n",
    "Many software packages and libraries are available to the data analyst. R not only has the advantage that we can easily use its available packages, but it provides enough flexibility for the analyst who wants to get dirty with the data. It's also widely used, and thus fairly portable: most analysts speak some level of R (or something that sounds and looks an awful lot like R). \n",
    "\n",
    "In this notebook, you will find examples and tips that highlight R's data manipulation features. It is not meant to be a complete introduction, or even a showcase of good programming practices.\n",
    "\n",
    "#### TUTORIAL OUTLINE\n",
    "\n",
    "1. [Installing Packages and Libraries](#packages)\n",
    "2. [Commonly Used Libraries](#libraries)\n",
    "3. [Help & Documentation](#help)\n",
    "4. The R Workspace: \n",
    " - [Loading a Built-in Dataset](#workspace_load_internal)\n",
    " - [Loading an External Dataset](#workspace_load_external)\n",
    " - [Removing and Storing Workspace Elements](#workspace_removing)\n",
    "5. Simple Data Manipulation\n",
    "  - [Assigning Data](#data_manip_ass)\n",
    "  - [Data Types and Conversion](#data_manip_conv)\n",
    "6. [Writing Functions](#functions)\n",
    "7. Exploring Data\n",
    "  - [`swiss` Dataset](#exploring_swiss)\n",
    "8. [A Word About NAs](#exploring_NAs)\n",
    "9. [Data Wrangling](#wrangling)"
   ]
  },
  {
   "cell_type": "markdown",
   "metadata": {
    "collapsed": false,
    "slideshow": {
     "slide_type": "slide"
    }
   },
   "source": [
    "---\n",
    "[Back to top](#top)\n",
    "## 1. PACKAGES AND LIBRARIES <a name=packages></a>\n",
    "\n",
    "While it is possible to write command line functions in R (we'll have a few in subsequent modules), we will mostly use routines and functions which are available through various packages and libraries. \n",
    "\n",
    "With an Internet connection, is is fairly straightforward to install and/or update R packages."
   ]
  },
  {
   "cell_type": "code",
   "execution_count": 1,
   "metadata": {
    "collapsed": false,
    "scrolled": true,
    "slideshow": {
     "slide_type": "subslide"
    }
   },
   "outputs": [
    {
     "name": "stderr",
     "output_type": "stream",
     "text": [
      "WARNING: Some output was deleted.\n"
     ]
    }
   ],
   "source": [
    "installed.packages() # see what packages are currently installed\n",
    "# update.packages() # to update the currently installed packages\n",
    "\n",
    "# install.packages(\"specific_package_name\") to install a specific package"
   ]
  },
  {
   "cell_type": "markdown",
   "metadata": {
    "collapsed": false,
    "slideshow": {
     "slide_type": "slide"
    }
   },
   "source": [
    "---\n",
    "[Back to top](#top)\n",
    "## 2. COMMONLY USED LIBRARIES <a name=libraries></a>\n",
    "\n",
    "- Outlier Detection: outlier, EVIR\n",
    "- Feature Selection: Features, RRF\n",
    "- Data Transformation: plyr, data.table\n",
    "- Data Visualization: ggplot2, googleVis, graphics, GGally\n",
    "- Text Mining: tm, wordcloud\n",
    "- Dimension Reduction: factoMiner, CCP\n",
    "- Imputation: MissForest, MissMDA\n",
    "- Association Rules: arules, arulesViz\n",
    "- Decision Trees: rpart, party, rattle, rpart.plot, randomForest, RGtk2, ctree\n",
    "- Clustering: stats, cluster, apcluster\n",
    "- ANNs: nnet, neuralnet\n",
    "- SVMs: e1071, libsvm, kernlab \n",
    "- Summary Statistics: psych\n",
    "- Analysis: stats\n",
    "- Baseball: lahman\n",
    "- Other: stringr"
   ]
  },
  {
   "cell_type": "markdown",
   "metadata": {
    "collapsed": false,
    "slideshow": {
     "slide_type": "slide"
    }
   },
   "source": [
    "---\n",
    "[Back to top](#top)\n",
    "## 3. HELP & DOCUMENTATION <a name=help></a>\n",
    "\n",
    "R's various help files and demos can be accessed using the following commands (where function_name and search_term correspond to the desired function and/or term): \n",
    "\n",
    "- `?function_name`\n",
    "- `example(function_name)`\n",
    "- `args(function_name)`\n",
    "- `??search_term`"
   ]
  },
  {
   "cell_type": "code",
   "execution_count": 2,
   "metadata": {
    "collapsed": false,
    "slideshow": {
     "slide_type": "subslide"
    }
   },
   "outputs": [
    {
     "data": {
      "text/html": [
       "\n",
       "<table width=\"100%\" summary=\"page for glm {stats}\"><tr><td>glm {stats}</td><td style=\"text-align: right;\">R Documentation</td></tr></table>\n",
       "\n",
       "<h2>Fitting Generalized Linear Models</h2>\n",
       "\n",
       "<h3>Description</h3>\n",
       "\n",
       "<p><code>glm</code> is used to fit generalized linear models, specified by\n",
       "giving a symbolic description of the linear predictor and a\n",
       "description of the error distribution.\n",
       "</p>\n",
       "\n",
       "\n",
       "<h3>Usage</h3>\n",
       "\n",
       "<pre>\n",
       "glm(formula, family = gaussian, data, weights, subset,\n",
       "    na.action, start = NULL, etastart, mustart, offset,\n",
       "    control = list(...), model = TRUE, method = \"glm.fit\",\n",
       "    x = FALSE, y = TRUE, contrasts = NULL, ...)\n",
       "\n",
       "glm.fit(x, y, weights = rep(1, nobs),\n",
       "        start = NULL, etastart = NULL, mustart = NULL,\n",
       "        offset = rep(0, nobs), family = gaussian(),\n",
       "        control = list(), intercept = TRUE)\n",
       "\n",
       "## S3 method for class 'glm'\n",
       "weights(object, type = c(\"prior\", \"working\"), ...)\n",
       "</pre>\n",
       "\n",
       "\n",
       "<h3>Arguments</h3>\n",
       "\n",
       "<table summary=\"R argblock\">\n",
       "<tr valign=\"top\"><td><code>formula</code></td>\n",
       "<td>\n",
       "<p>an object of class <code>\"formula\"</code> (or one that\n",
       "can be coerced to that class): a symbolic description of the\n",
       "model to be fitted.  The details of model specification are given\n",
       "under &lsquo;Details&rsquo;.</p>\n",
       "</td></tr>\n",
       "<tr valign=\"top\"><td><code>family</code></td>\n",
       "<td>\n",
       "<p>a description of the error distribution and link\n",
       "function to be used in the model.  For <code>glm</code> this can be a\n",
       "character string naming a family function, a family function or the\n",
       "result of a call to a family function.  For <code>glm.fit</code> only the\n",
       "third option is supported.  (See <code>family</code> for details of\n",
       "family functions.)</p>\n",
       "</td></tr>\n",
       "<tr valign=\"top\"><td><code>data</code></td>\n",
       "<td>\n",
       "<p>an optional data frame, list or environment (or object\n",
       "coercible by <code>as.data.frame</code> to a data frame) containing\n",
       "the variables in the model.  If not found in <code>data</code>, the\n",
       "variables are taken from <code>environment(formula)</code>,\n",
       "typically the environment from which <code>glm</code> is called.</p>\n",
       "</td></tr>\n",
       "<tr valign=\"top\"><td><code>weights</code></td>\n",
       "<td>\n",
       "<p>an optional vector of &lsquo;prior weights&rsquo; to be used\n",
       "in the fitting process.  Should be <code>NULL</code> or a numeric vector.</p>\n",
       "</td></tr>\n",
       "<tr valign=\"top\"><td><code>subset</code></td>\n",
       "<td>\n",
       "<p>an optional vector specifying a subset of observations\n",
       "to be used in the fitting process.</p>\n",
       "</td></tr>\n",
       "<tr valign=\"top\"><td><code>na.action</code></td>\n",
       "<td>\n",
       "<p>a function which indicates what should happen\n",
       "when the data contain <code>NA</code>s.  The default is set by\n",
       "the <code>na.action</code> setting of <code>options</code>, and is\n",
       "<code>na.fail</code> if that is unset.  The &lsquo;factory-fresh&rsquo;\n",
       "default is <code>na.omit</code>.  Another possible value is\n",
       "<code>NULL</code>, no action.  Value <code>na.exclude</code> can be useful.</p>\n",
       "</td></tr>\n",
       "<tr valign=\"top\"><td><code>start</code></td>\n",
       "<td>\n",
       "<p>starting values for the parameters in the linear predictor.</p>\n",
       "</td></tr>\n",
       "<tr valign=\"top\"><td><code>etastart</code></td>\n",
       "<td>\n",
       "<p>starting values for the linear predictor.</p>\n",
       "</td></tr>\n",
       "<tr valign=\"top\"><td><code>mustart</code></td>\n",
       "<td>\n",
       "<p>starting values for the vector of means.</p>\n",
       "</td></tr>\n",
       "<tr valign=\"top\"><td><code>offset</code></td>\n",
       "<td>\n",
       "<p>this can be used to specify an <em>a priori</em> known\n",
       "component to be included in the linear predictor during fitting.\n",
       "This should be <code>NULL</code> or a numeric vector of length equal to\n",
       "the number of cases.  One or more <code>offset</code> terms can be\n",
       "included in the formula instead or as well, and if more than one is\n",
       "specified their sum is used.  See <code>model.offset</code>.</p>\n",
       "</td></tr>\n",
       "<tr valign=\"top\"><td><code>control</code></td>\n",
       "<td>\n",
       "<p>a list of parameters for controlling the fitting\n",
       "process.  For <code>glm.fit</code> this is passed to\n",
       "<code>glm.control</code>.</p>\n",
       "</td></tr>\n",
       "<tr valign=\"top\"><td><code>model</code></td>\n",
       "<td>\n",
       "<p>a logical value indicating whether <em>model frame</em>\n",
       "should be included as a component of the returned value.</p>\n",
       "</td></tr>\n",
       "<tr valign=\"top\"><td><code>method</code></td>\n",
       "<td>\n",
       "<p>the method to be used in fitting the model.  The default\n",
       "method <code>\"glm.fit\"</code> uses iteratively reweighted least squares\n",
       "(IWLS): the alternative <code>\"model.frame\"</code> returns the model frame\n",
       "and does no fitting.\n",
       "</p>\n",
       "<p>User-supplied fitting functions can be supplied either as a function\n",
       "or a character string naming a function, with a function which takes\n",
       "the same arguments as <code>glm.fit</code>.  If specified as a character\n",
       "string it is looked up from within the <span class=\"pkg\">stats</span> namespace.\n",
       "</p>\n",
       "</td></tr>\n",
       "<tr valign=\"top\"><td><code>x, y</code></td>\n",
       "<td>\n",
       "<p>For <code>glm</code>:\n",
       "logical values indicating whether the response vector and model\n",
       "matrix used in the fitting process should be returned as components\n",
       "of the returned value.\n",
       "</p>\n",
       "<p>For <code>glm.fit</code>: <code>x</code> is a design matrix of dimension\n",
       "<code>n * p</code>, and <code>y</code> is a vector of observations of length\n",
       "<code>n</code>.\n",
       "</p>\n",
       "</td></tr>\n",
       "<tr valign=\"top\"><td><code>contrasts</code></td>\n",
       "<td>\n",
       "<p>an optional list. See the <code>contrasts.arg</code>\n",
       "of <code>model.matrix.default</code>.</p>\n",
       "</td></tr>\n",
       "<tr valign=\"top\"><td><code>intercept</code></td>\n",
       "<td>\n",
       "<p>logical. Should an intercept be included in the\n",
       "<em>null</em> model?</p>\n",
       "</td></tr>\n",
       "<tr valign=\"top\"><td><code>object</code></td>\n",
       "<td>\n",
       "<p>an object inheriting from class <code>\"glm\"</code>.</p>\n",
       "</td></tr>\n",
       "<tr valign=\"top\"><td><code>type</code></td>\n",
       "<td>\n",
       "<p>character, partial matching allowed.  Type of weights to\n",
       "extract from the fitted model object.  Can be abbreviated.</p>\n",
       "</td></tr>\n",
       "<tr valign=\"top\"><td><code>...</code></td>\n",
       "<td>\n",
       "\n",
       "<p>For <code>glm</code>: arguments to be used to form the default\n",
       "<code>control</code> argument if it is not supplied directly.\n",
       "</p>\n",
       "<p>For <code>weights</code>: further arguments passed to or from other methods.\n",
       "</p>\n",
       "</td></tr>\n",
       "</table>\n",
       "\n",
       "\n",
       "<h3>Details</h3>\n",
       "\n",
       "<p>A typical predictor has the form <code>response ~ terms</code> where\n",
       "<code>response</code> is the (numeric) response vector and <code>terms</code> is a\n",
       "series of terms which specifies a linear predictor for\n",
       "<code>response</code>.  For <code>binomial</code> and <code>quasibinomial</code>\n",
       "families the response can also be specified as a <code>factor</code>\n",
       "(when the first level denotes failure and all others success) or as a\n",
       "two-column matrix with the columns giving the numbers of successes and\n",
       "failures.  A terms specification of the form <code>first + second</code>\n",
       "indicates all the terms in <code>first</code> together with all the terms in\n",
       "<code>second</code> with any duplicates removed.\n",
       "</p>\n",
       "<p>A specification of the form <code>first:second</code> indicates the set\n",
       "of terms obtained by taking the interactions of all terms in\n",
       "<code>first</code> with all terms in <code>second</code>.  The specification\n",
       "<code>first*second</code> indicates the <em>cross</em> of <code>first</code> and\n",
       "<code>second</code>.  This is the same as <code>first + second +\n",
       "  first:second</code>.\n",
       "</p>\n",
       "<p>The terms in the formula will be re-ordered so that main effects come\n",
       "first, followed by the interactions, all second-order, all third-order\n",
       "and so on: to avoid this pass a <code>terms</code> object as the formula.\n",
       "</p>\n",
       "<p>Non-<code>NULL</code> <code>weights</code> can be used to indicate that different\n",
       "observations have different dispersions (with the values in\n",
       "<code>weights</code> being inversely proportional to the dispersions); or\n",
       "equivalently, when the elements of <code>weights</code> are positive\n",
       "integers <i>w_i</i>, that each response <i>y_i</i> is the mean of\n",
       "<i>w_i</i> unit-weight observations.  For a binomial GLM prior weights\n",
       "are used to give the number of trials when the response is the\n",
       "proportion of successes: they would rarely be used for a Poisson GLM.\n",
       "</p>\n",
       "<p><code>glm.fit</code> is the workhorse function: it is not normally called\n",
       "directly but can be more efficient where the response vector, design\n",
       "matrix and family have already been calculated.\n",
       "</p>\n",
       "<p>If more than one of <code>etastart</code>, <code>start</code> and <code>mustart</code>\n",
       "is specified, the first in the list will be used.  It is often\n",
       "advisable to supply starting values for a <code>quasi</code> family,\n",
       "and also for families with unusual links such as <code>gaussian(\"log\")</code>.\n",
       "</p>\n",
       "<p>All of <code>weights</code>, <code>subset</code>, <code>offset</code>, <code>etastart</code>\n",
       "and <code>mustart</code> are evaluated in the same way as variables in\n",
       "<code>formula</code>, that is first in <code>data</code> and then in the\n",
       "environment of <code>formula</code>.\n",
       "</p>\n",
       "<p>For the background to warning messages about &lsquo;fitted probabilities\n",
       "numerically 0 or 1 occurred&rsquo; for binomial GLMs, see Venables &amp;\n",
       "Ripley (2002, pp. 197&ndash;8).\n",
       "</p>\n",
       "\n",
       "\n",
       "<h3>Value</h3>\n",
       "\n",
       "<p><code>glm</code> returns an object of class inheriting from <code>\"glm\"</code>\n",
       "which inherits from the class <code>\"lm\"</code>. See later in this section.\n",
       "If a non-standard <code>method</code> is used, the object will also inherit\n",
       "from the class (if any) returned by that function.\n",
       "</p>\n",
       "<p>The function <code>summary</code> (i.e., <code>summary.glm</code>) can\n",
       "be used to obtain or print a summary of the results and the function\n",
       "<code>anova</code> (i.e., <code>anova.glm</code>)\n",
       "to produce an analysis of variance table.\n",
       "</p>\n",
       "<p>The generic accessor functions <code>coefficients</code>,\n",
       "<code>effects</code>, <code>fitted.values</code> and <code>residuals</code> can be used to\n",
       "extract various useful features of the value returned by <code>glm</code>.\n",
       "</p>\n",
       "<p><code>weights</code> extracts a vector of weights, one for each case in the\n",
       "fit (after subsetting and <code>na.action</code>).\n",
       "</p>\n",
       "<p>An object of class <code>\"glm\"</code> is a list containing at least the\n",
       "following components:\n",
       "</p>\n",
       "<table summary=\"R valueblock\">\n",
       "<tr valign=\"top\"><td><code>coefficients</code></td>\n",
       "<td>\n",
       "<p>a named vector of coefficients</p>\n",
       "</td></tr>\n",
       "<tr valign=\"top\"><td><code>residuals</code></td>\n",
       "<td>\n",
       "<p>the <em>working</em> residuals, that is the residuals\n",
       "in the final iteration of the IWLS fit.  Since cases with zero\n",
       "weights are omitted, their working residuals are <code>NA</code>.</p>\n",
       "</td></tr>\n",
       "<tr valign=\"top\"><td><code>fitted.values</code></td>\n",
       "<td>\n",
       "<p>the fitted mean values, obtained by transforming\n",
       "the linear predictors by the inverse of the link function.</p>\n",
       "</td></tr>\n",
       "<tr valign=\"top\"><td><code>rank</code></td>\n",
       "<td>\n",
       "<p>the numeric rank of the fitted linear model.</p>\n",
       "</td></tr>\n",
       "<tr valign=\"top\"><td><code>family</code></td>\n",
       "<td>\n",
       "<p>the <code>family</code> object used.</p>\n",
       "</td></tr>\n",
       "<tr valign=\"top\"><td><code>linear.predictors</code></td>\n",
       "<td>\n",
       "<p>the linear fit on link scale.</p>\n",
       "</td></tr>\n",
       "<tr valign=\"top\"><td><code>deviance</code></td>\n",
       "<td>\n",
       "<p>up to a constant, minus twice the maximized\n",
       "log-likelihood.  Where sensible, the constant is chosen so that a\n",
       "saturated model has deviance zero.</p>\n",
       "</td></tr>\n",
       "<tr valign=\"top\"><td><code>aic</code></td>\n",
       "<td>\n",
       "<p>A version of Akaike's <em>An Information Criterion</em>,\n",
       "minus twice the maximized log-likelihood plus twice the number of\n",
       "parameters, computed by the <code>aic</code> component of the family.\n",
       "For binomial and Poison families the dispersion is\n",
       "fixed at one and the number of parameters is the number of\n",
       "coefficients. For gaussian, Gamma and inverse gaussian families the\n",
       "dispersion is estimated from the residual deviance, and the number\n",
       "of parameters is the number of coefficients plus one.  For a\n",
       "gaussian family the MLE of the dispersion is used so this is a valid\n",
       "value of AIC, but for Gamma and inverse gaussian families it is not.\n",
       "For families fitted by quasi-likelihood the value is <code>NA</code>.</p>\n",
       "</td></tr>\n",
       "<tr valign=\"top\"><td><code>null.deviance</code></td>\n",
       "<td>\n",
       "<p>The deviance for the null model, comparable with\n",
       "<code>deviance</code>. The null model will include the offset, and an\n",
       "intercept if there is one in the model.  Note that this will be\n",
       "incorrect if the link function depends on the data other than\n",
       "through the fitted mean: specify a zero offset to force a correct\n",
       "calculation.</p>\n",
       "</td></tr>\n",
       "<tr valign=\"top\"><td><code>iter</code></td>\n",
       "<td>\n",
       "<p>the number of iterations of IWLS used.</p>\n",
       "</td></tr>\n",
       "<tr valign=\"top\"><td><code>weights</code></td>\n",
       "<td>\n",
       "<p>the <em>working</em> weights, that is the weights\n",
       "in the final iteration of the IWLS fit.</p>\n",
       "</td></tr>\n",
       "<tr valign=\"top\"><td><code>prior.weights</code></td>\n",
       "<td>\n",
       "<p>the weights initially supplied, a vector of\n",
       "<code>1</code>s if none were.</p>\n",
       "</td></tr>\n",
       "<tr valign=\"top\"><td><code>df.residual</code></td>\n",
       "<td>\n",
       "<p>the residual degrees of freedom.</p>\n",
       "</td></tr>\n",
       "<tr valign=\"top\"><td><code>df.null</code></td>\n",
       "<td>\n",
       "<p>the residual degrees of freedom for the null model.</p>\n",
       "</td></tr>\n",
       "<tr valign=\"top\"><td><code>y</code></td>\n",
       "<td>\n",
       "<p>if requested (the default) the <code>y</code> vector\n",
       "used. (It is a vector even for a binomial model.)</p>\n",
       "</td></tr>\n",
       "<tr valign=\"top\"><td><code>x</code></td>\n",
       "<td>\n",
       "<p>if requested, the model matrix.</p>\n",
       "</td></tr>\n",
       "<tr valign=\"top\"><td><code>model</code></td>\n",
       "<td>\n",
       "<p>if requested (the default), the model frame.</p>\n",
       "</td></tr>\n",
       "<tr valign=\"top\"><td><code>converged</code></td>\n",
       "<td>\n",
       "<p>logical. Was the IWLS algorithm judged to have converged?</p>\n",
       "</td></tr>\n",
       "<tr valign=\"top\"><td><code>boundary</code></td>\n",
       "<td>\n",
       "<p>logical. Is the fitted value on the boundary of the\n",
       "attainable values?</p>\n",
       "</td></tr>\n",
       "<tr valign=\"top\"><td><code>call</code></td>\n",
       "<td>\n",
       "<p>the matched call.</p>\n",
       "</td></tr>\n",
       "<tr valign=\"top\"><td><code>formula</code></td>\n",
       "<td>\n",
       "<p>the formula supplied.</p>\n",
       "</td></tr>\n",
       "<tr valign=\"top\"><td><code>terms</code></td>\n",
       "<td>\n",
       "<p>the <code>terms</code> object used.</p>\n",
       "</td></tr>\n",
       "<tr valign=\"top\"><td><code>data</code></td>\n",
       "<td>\n",
       "<p>the <code>data argument</code>.</p>\n",
       "</td></tr>\n",
       "<tr valign=\"top\"><td><code>offset</code></td>\n",
       "<td>\n",
       "<p>the offset vector used.</p>\n",
       "</td></tr>\n",
       "<tr valign=\"top\"><td><code>control</code></td>\n",
       "<td>\n",
       "<p>the value of the <code>control</code> argument used.</p>\n",
       "</td></tr>\n",
       "<tr valign=\"top\"><td><code>method</code></td>\n",
       "<td>\n",
       "<p>the name of the fitter function used, currently always\n",
       "<code>\"glm.fit\"</code>.</p>\n",
       "</td></tr>\n",
       "<tr valign=\"top\"><td><code>contrasts</code></td>\n",
       "<td>\n",
       "<p>(where relevant) the contrasts used.</p>\n",
       "</td></tr>\n",
       "<tr valign=\"top\"><td><code>xlevels</code></td>\n",
       "<td>\n",
       "<p>(where relevant) a record of the levels of the factors\n",
       "used in fitting.</p>\n",
       "</td></tr>\n",
       "<tr valign=\"top\"><td><code>na.action</code></td>\n",
       "<td>\n",
       "<p>(where relevant) information returned by\n",
       "<code>model.frame</code> on the special handling of <code>NA</code>s.</p>\n",
       "</td></tr>\n",
       "</table>\n",
       "<p>In addition, non-empty fits will have components <code>qr</code>, <code>R</code>\n",
       "and <code>effects</code> relating to the final weighted linear fit.\n",
       "</p>\n",
       "<p>Objects of class <code>\"glm\"</code> are normally of class <code>c(\"glm\",\n",
       "    \"lm\")</code>, that is inherit from class <code>\"lm\"</code>, and well-designed\n",
       "methods for class <code>\"lm\"</code> will be applied to the weighted linear\n",
       "model at the final iteration of IWLS.  However, care is needed, as\n",
       "extractor functions for class <code>\"glm\"</code> such as\n",
       "<code>residuals</code> and <code>weights</code> do <b>not</b> just pick out\n",
       "the component of the fit with the same name.\n",
       "</p>\n",
       "<p>If a <code>binomial</code> <code>glm</code> model was specified by giving a\n",
       "two-column response, the weights returned by <code>prior.weights</code> are\n",
       "the total numbers of cases (factored by the supplied case weights) and\n",
       "the component <code>y</code> of the result is the proportion of successes.\n",
       "</p>\n",
       "\n",
       "\n",
       "<h3>Fitting functions</h3>\n",
       "\n",
       "<p>The argument <code>method</code> serves two purposes.  One is to allow the\n",
       "model frame to be recreated with no fitting.  The other is to allow\n",
       "the default fitting function <code>glm.fit</code> to be replaced by a\n",
       "function which takes the same arguments and uses a different fitting\n",
       "algorithm.  If <code>glm.fit</code> is supplied as a character string it is\n",
       "used to search for a function of that name, starting in the\n",
       "<span class=\"pkg\">stats</span> namespace.\n",
       "</p>\n",
       "<p>The class of the object return by the fitter (if any) will be\n",
       "prepended to the class returned by <code>glm</code>.\n",
       "</p>\n",
       "\n",
       "\n",
       "<h3>Author(s)</h3>\n",
       "\n",
       "<p>The original <span style=\"font-family: Courier New, Courier; color: #666666;\"><b>R</b></span> implementation of <code>glm</code> was written by Simon\n",
       "Davies working for Ross Ihaka at the University of Auckland, but has\n",
       "since been extensively re-written by members of the R Core team.\n",
       "</p>\n",
       "<p>The design was inspired by the S function of the same name described\n",
       "in Hastie &amp; Pregibon (1992).\n",
       "</p>\n",
       "\n",
       "\n",
       "<h3>References</h3>\n",
       "\n",
       "<p>Dobson, A. J. (1990)\n",
       "<em>An Introduction to Generalized Linear Models.</em>\n",
       "London: Chapman and Hall.\n",
       "</p>\n",
       "<p>Hastie, T. J. and Pregibon, D. (1992)\n",
       "<em>Generalized linear models.</em>\n",
       "Chapter 6 of <em>Statistical Models in S</em>\n",
       "eds J. M. Chambers and T. J. Hastie, Wadsworth &amp; Brooks/Cole.\n",
       "</p>\n",
       "<p>McCullagh P. and Nelder, J. A. (1989)\n",
       "<em>Generalized Linear Models.</em>\n",
       "London: Chapman and Hall.\n",
       "</p>\n",
       "<p>Venables, W. N. and Ripley, B. D. (2002)\n",
       "<em>Modern Applied Statistics with S.</em>\n",
       "New York: Springer.\n",
       "</p>\n",
       "\n",
       "\n",
       "<h3>See Also</h3>\n",
       "\n",
       "<p><code>anova.glm</code>, <code>summary.glm</code>, etc. for\n",
       "<code>glm</code> methods,\n",
       "and the generic functions <code>anova</code>, <code>summary</code>,\n",
       "<code>effects</code>, <code>fitted.values</code>,\n",
       "and <code>residuals</code>.\n",
       "</p>\n",
       "<p><code>lm</code> for non-generalized <em>linear</em> models (which SAS\n",
       "calls GLMs, for &lsquo;general&rsquo; linear models).\n",
       "</p>\n",
       "<p><code>loglin</code> and <code>loglm</code> (package\n",
       "<a href=\"https://CRAN.R-project.org/package=MASS\"><span class=\"pkg\">MASS</span></a>) for fitting log-linear models (which binomial and\n",
       "Poisson GLMs are) to contingency tables.\n",
       "</p>\n",
       "<p><code>bigglm</code> in package <a href=\"https://CRAN.R-project.org/package=biglm\"><span class=\"pkg\">biglm</span></a> for an alternative\n",
       "way to fit GLMs to large datasets (especially those with many cases).\n",
       "</p>\n",
       "<p><code>esoph</code>, <code>infert</code> and\n",
       "<code>predict.glm</code> have examples of fitting binomial glms.\n",
       "</p>\n",
       "\n",
       "\n",
       "<h3>Examples</h3>\n",
       "\n",
       "<pre>\n",
       "## Dobson (1990) Page 93: Randomized Controlled Trial :\n",
       "counts &lt;- c(18,17,15,20,10,20,25,13,12)\n",
       "outcome &lt;- gl(3,1,9)\n",
       "treatment &lt;- gl(3,3)\n",
       "print(d.AD &lt;- data.frame(treatment, outcome, counts))\n",
       "glm.D93 &lt;- glm(counts ~ outcome + treatment, family = poisson())\n",
       "anova(glm.D93)\n",
       "summary(glm.D93)\n",
       "\n",
       "## an example with offsets from Venables &amp; Ripley (2002, p.189)\n",
       "utils::data(anorexia, package = \"MASS\")\n",
       "\n",
       "anorex.1 &lt;- glm(Postwt ~ Prewt + Treat + offset(Prewt),\n",
       "                family = gaussian, data = anorexia)\n",
       "summary(anorex.1)\n",
       "\n",
       "\n",
       "# A Gamma example, from McCullagh &amp; Nelder (1989, pp. 300-2)\n",
       "clotting &lt;- data.frame(\n",
       "    u = c(5,10,15,20,30,40,60,80,100),\n",
       "    lot1 = c(118,58,42,35,27,25,21,19,18),\n",
       "    lot2 = c(69,35,26,21,18,16,13,12,12))\n",
       "summary(glm(lot1 ~ log(u), data = clotting, family = Gamma))\n",
       "summary(glm(lot2 ~ log(u), data = clotting, family = Gamma))\n",
       "\n",
       "## Not run: \n",
       "## for an example of the use of a terms object as a formula\n",
       "demo(glm.vr)\n",
       "\n",
       "## End(Not run)</pre>\n",
       "\n",
       "<hr /><div style=\"text-align: center;\">[Package <em>stats</em> version 3.4.4 ]</div>"
      ]
     },
     "execution_count": 2,
     "metadata": {
     },
     "output_type": "execute_result"
    }
   ],
   "source": [
    "?glm"
   ]
  },
  {
   "cell_type": "code",
   "execution_count": 3,
   "metadata": {
    "collapsed": false,
    "slideshow": {
     "slide_type": "subslide"
    }
   },
   "outputs": [
    {
     "name": "stdout",
     "output_type": "stream",
     "text": [
      "\n",
      "glm> ## Dobson (1990) Page 93: Randomized Controlled Trial :\n",
      "glm> counts <- c(18,17,15,20,10,20,25,13,12)\n",
      "\n",
      "glm> outcome <- gl(3,1,9)\n",
      "\n",
      "glm> treatment <- gl(3,3)\n",
      "\n",
      "glm> print(d.AD <- data.frame(treatment, outcome, counts))\n",
      "  treatment outcome counts\n",
      "1         1       1     18\n",
      "2         1       2     17\n",
      "3         1       3     15\n",
      "4         2       1     20\n",
      "5         2       2     10\n",
      "6         2       3     20\n",
      "7         3       1     25\n",
      "8         3       2     13\n",
      "9         3       3     12\n",
      "\n",
      "glm> glm.D93 <- glm(counts ~ outcome + treatment, family = poisson())\n",
      "\n",
      "glm> anova(glm.D93)\n",
      "Analysis of Deviance Table\n",
      "\n",
      "Model: poisson, link: log\n",
      "\n",
      "Response: counts\n",
      "\n",
      "Terms added sequentially (first to last)\n",
      "\n",
      "\n",
      "          Df Deviance Resid. Df Resid. Dev\n",
      "NULL                          8    10.5814\n",
      "outcome    2   5.4523         6     5.1291\n",
      "treatment  2   0.0000         4     5.1291\n",
      "\n",
      "glm> ## No test: \n",
      "glm> ##D summary(glm.D93)\n",
      "glm> ## End(No test)\n",
      "glm> \n",
      "glm> ## No test: \n",
      "glm> ##D ## an example with offsets from Venables & Ripley (2002, p.189)\n",
      "glm> ##D utils::data(anorexia, package = \"MASS\")\n",
      "glm> ##D \n",
      "glm> ##D anorex.1 <- glm(Postwt ~ Prewt + Treat + offset(Prewt),\n",
      "glm> ##D                 family = gaussian, data = anorexia)\n",
      "glm> ##D summary(anorex.1)\n",
      "glm> ## End(No test)\n",
      "glm> \n",
      "glm> # A Gamma example, from McCullagh & Nelder (1989, pp. 300-2)\n",
      "glm> clotting <- data.frame(\n",
      "glm+     u = c(5,10,15,20,30,40,60,80,100),\n",
      "glm+     lot1 = c(118,58,42,35,27,25,21,19,18),\n",
      "glm+     lot2 = c(69,35,26,21,18,16,13,12,12))\n",
      "\n",
      "glm> summary(glm(lot1 ~ log(u), data = clotting, family = Gamma))\n",
      "\n",
      "Call:\n",
      "glm(formula = lot1 ~ log(u), family = Gamma, data = clotting)\n",
      "\n",
      "Deviance Residuals: \n",
      "     Min        1Q    Median        3Q       Max  \n",
      "-0.04008  -0.03756  -0.02637   0.02905   0.08641  \n",
      "\n",
      "Coefficients:\n",
      "              Estimate Std. Error t value Pr(>|t|)    \n",
      "(Intercept) -0.0165544  0.0009275  -17.85 4.28e-07 ***\n",
      "log(u)       0.0153431  0.0004150   36.98 2.75e-09 ***\n",
      "---\n",
      "Signif. codes:  0 ‘***’ 0.001 ‘**’ 0.01 ‘*’ 0.05 ‘.’ 0.1 ‘ ’ 1\n",
      "\n",
      "(Dispersion parameter for Gamma family taken to be 0.002446059)\n",
      "\n",
      "    Null deviance: 3.51283  on 8  degrees of freedom\n",
      "Residual deviance: 0.01673  on 7  degrees of freedom\n",
      "AIC: 37.99\n",
      "\n",
      "Number of Fisher Scoring iterations: 3\n",
      "\n",
      "\n",
      "glm> summary(glm(lot2 ~ log(u), data = clotting, family = Gamma))\n",
      "\n",
      "Call:\n",
      "glm(formula = lot2 ~ log(u), family = Gamma, data = clotting)\n",
      "\n",
      "Deviance Residuals: \n",
      "     Min        1Q    Median        3Q       Max  \n",
      "-0.05574  -0.02925   0.01030   0.01714   0.06371  \n",
      "\n",
      "Coefficients:\n",
      "              Estimate Std. Error t value Pr(>|t|)    \n",
      "(Intercept) -0.0239085  0.0013265  -18.02 4.00e-07 ***\n",
      "log(u)       0.0235992  0.0005768   40.91 1.36e-09 ***\n",
      "---\n",
      "Signif. codes:  0 ‘***’ 0.001 ‘**’ 0.01 ‘*’ 0.05 ‘.’ 0.1 ‘ ’ 1\n",
      "\n",
      "(Dispersion parameter for Gamma family taken to be 0.001813354)\n",
      "\n",
      "    Null deviance: 3.118557  on 8  degrees of freedom\n",
      "Residual deviance: 0.012672  on 7  degrees of freedom\n",
      "AIC: 27.032\n",
      "\n",
      "Number of Fisher Scoring iterations: 3\n",
      "\n",
      "\n",
      "glm> ## Not run: \n",
      "glm> ##D ## for an example of the use of a terms object as a formula\n",
      "glm> ##D demo(glm.vr)\n",
      "glm> ## End(Not run)\n",
      "glm> \n",
      "glm> \n"
     ]
    }
   ],
   "source": [
    "example(glm)"
   ]
  },
  {
   "cell_type": "code",
   "execution_count": 4,
   "metadata": {
    "collapsed": false
   },
   "outputs": [
    {
     "name": "stdout",
     "output_type": "stream",
     "text": [
      "  treatment outcome counts\n",
      "1         1       1     18\n",
      "2         1       2     17\n",
      "3         1       3     15\n",
      "4         2       1     20\n",
      "5         2       2     10\n",
      "6         2       3     20\n",
      "7         3       1     25\n",
      "8         3       2     13\n",
      "9         3       3     12\n"
     ]
    },
    {
     "data": {
      "text/html": [
       "<table>\n",
       "<thead><tr><th></th><th scope=col>Df</th><th scope=col>Deviance</th><th scope=col>Resid. Df</th><th scope=col>Resid. Dev</th></tr></thead>\n",
       "<tbody>\n",
       "\t<tr><th scope=row>NULL</th><td>NA          </td><td>          NA</td><td>8           </td><td>10.581446   </td></tr>\n",
       "\t<tr><th scope=row>outcome</th><td> 2          </td><td>5.452305e+00</td><td>6           </td><td> 5.129141   </td></tr>\n",
       "\t<tr><th scope=row>treatment</th><td> 2          </td><td>7.105427e-15</td><td>4           </td><td> 5.129141   </td></tr>\n",
       "</tbody>\n",
       "</table>\n"
      ]
     },
     "execution_count": 4,
     "metadata": {
     },
     "output_type": "execute_result"
    },
    {
     "data": {
      "text/plain": [
       "\n",
       "Call:\n",
       "glm(formula = counts ~ outcome + treatment, family = poisson())\n",
       "\n",
       "Deviance Residuals: \n",
       "       1         2         3         4         5         6         7         8  \n",
       "-0.67125   0.96272  -0.16965  -0.21999  -0.95552   1.04939   0.84715  -0.09167  \n",
       "       9  \n",
       "-0.96656  \n",
       "\n",
       "Coefficients:\n",
       "              Estimate Std. Error z value Pr(>|z|)    \n",
       "(Intercept)  3.045e+00  1.709e-01  17.815   <2e-16 ***\n",
       "outcome2    -4.543e-01  2.022e-01  -2.247   0.0246 *  \n",
       "outcome3    -2.930e-01  1.927e-01  -1.520   0.1285    \n",
       "treatment2   1.011e-15  2.000e-01   0.000   1.0000    \n",
       "treatment3   7.105e-16  2.000e-01   0.000   1.0000    \n",
       "---\n",
       "Signif. codes:  0 ‘***’ 0.001 ‘**’ 0.01 ‘*’ 0.05 ‘.’ 0.1 ‘ ’ 1\n",
       "\n",
       "(Dispersion parameter for poisson family taken to be 1)\n",
       "\n",
       "    Null deviance: 10.5814  on 8  degrees of freedom\n",
       "Residual deviance:  5.1291  on 4  degrees of freedom\n",
       "AIC: 56.761\n",
       "\n",
       "Number of Fisher Scoring iterations: 4\n"
      ]
     },
     "execution_count": 4,
     "metadata": {
     },
     "output_type": "execute_result"
    }
   ],
   "source": [
    "counts <- c(18,17,15,20,10,20,25,13,12)\n",
    "outcome <- gl(3,1,9)\n",
    "treatment <- gl(3,3)\n",
    "print(d.AD <- data.frame(treatment, outcome, counts))\n",
    "glm.D93 <- glm(counts ~ outcome + treatment, family = poisson())\n",
    "anova(glm.D93)\n",
    "summary(glm.D93)"
   ]
  },
  {
   "cell_type": "code",
   "execution_count": 5,
   "metadata": {
    "collapsed": false,
    "slideshow": {
     "slide_type": "subslide"
    }
   },
   "outputs": [
    {
     "data": {
      "text/html": [
       "<pre class=language-r><code>function (formula, family = gaussian, data, weights, subset, \n",
       "<span style=white-space:pre-wrap>    na.action, start = NULL, etastart, mustart, offset, control = list(...), </span>\n",
       "<span style=white-space:pre-wrap>    model = TRUE, method = \"glm.fit\", x = FALSE, y = TRUE, contrasts = NULL, </span>\n",
       "<span style=white-space:pre-wrap>    ...) </span>\n",
       "NULL</code></pre>"
      ]
     },
     "execution_count": 5,
     "metadata": {
     },
     "output_type": "execute_result"
    }
   ],
   "source": [
    "args(glm)"
   ]
  },
  {
   "cell_type": "code",
   "execution_count": 6,
   "metadata": {
    "collapsed": false,
    "slideshow": {
     "slide_type": "subslide"
    }
   },
   "outputs": [
    {
     "name": "stderr",
     "output_type": "stream",
     "text": [
      "WARNING: Some output was deleted.\n"
     ]
    }
   ],
   "source": [
    "??neural"
   ]
  },
  {
   "cell_type": "markdown",
   "metadata": {
    "collapsed": false,
    "slideshow": {
     "slide_type": "slide"
    }
   },
   "source": [
    "---\n",
    "[Back to top](#top)\n",
    "## 4. THE R WORKSPACE\n",
    "How do we arrange for data to be made available in the R workspace? \n",
    "\n",
    "We can either use built-in datasets, or we can load data from external sources. "
   ]
  },
  {
   "cell_type": "markdown",
   "metadata": {
    "collapsed": false,
    "slideshow": {
     "slide_type": "subslide"
    }
   },
   "source": [
    "### 4.1 LOADING A BUILT-IN DATASET <a name=workspace_load_internal></a>"
   ]
  },
  {
   "cell_type": "code",
   "execution_count": 7,
   "metadata": {
    "collapsed": false,
    "slideshow": {
     "slide_type": "subslide"
    }
   },
   "outputs": [
    {
     "name": "stderr",
     "output_type": "stream",
     "text": [
      "WARNING: Some output was deleted.\n"
     ]
    }
   ],
   "source": [
    "data() # lists datasets in the datasets package"
   ]
  },
  {
   "cell_type": "code",
   "execution_count": 8,
   "metadata": {
    "collapsed": false
   },
   "outputs": [
    {
     "name": "stderr",
     "output_type": "stream",
     "text": [
      "Warning message in data(package = .packages(all.available = TRUE)):\n",
      "“datasets have been moved from package 'base' to package 'datasets'”"
     ]
    },
    {
     "name": "stderr",
     "output_type": "stream",
     "text": [
      "Warning message in data(package = .packages(all.available = TRUE)):\n",
      "“datasets have been moved from package 'stats' to package 'datasets'”"
     ]
    },
    {
     "name": "stderr",
     "output_type": "stream",
     "text": [
      "WARNING: Some output was deleted.\n"
     ]
    }
   ],
   "source": [
    "data(package = .packages(all.available = TRUE)) # lists datasets in all available packages"
   ]
  },
  {
   "cell_type": "markdown",
   "metadata": {
    "collapsed": false,
    "slideshow": {
     "slide_type": "subslide"
    }
   },
   "source": [
    "Let's look at three datasets:\n",
    "\n",
    "- swiss\n",
    "- volcano\n",
    "- InsectSprays"
   ]
  },
  {
   "cell_type": "code",
   "execution_count": 9,
   "metadata": {
    "collapsed": false,
    "slideshow": {
     "slide_type": "slide"
    }
   },
   "outputs": [
    {
     "data": {
      "text/html": [
       "<table>\n",
       "<thead><tr><th></th><th scope=col>Fertility</th><th scope=col>Agriculture</th><th scope=col>Examination</th><th scope=col>Education</th><th scope=col>Catholic</th><th scope=col>Infant.Mortality</th></tr></thead>\n",
       "<tbody>\n",
       "\t<tr><th scope=row>Courtelary</th><td>80.2  </td><td>17.0  </td><td>15    </td><td>12    </td><td>  9.96</td><td>22.2  </td></tr>\n",
       "\t<tr><th scope=row>Delemont</th><td>83.1  </td><td>45.1  </td><td> 6    </td><td> 9    </td><td> 84.84</td><td>22.2  </td></tr>\n",
       "\t<tr><th scope=row>Franches-Mnt</th><td>92.5  </td><td>39.7  </td><td> 5    </td><td> 5    </td><td> 93.40</td><td>20.2  </td></tr>\n",
       "\t<tr><th scope=row>Moutier</th><td>85.8  </td><td>36.5  </td><td>12    </td><td> 7    </td><td> 33.77</td><td>20.3  </td></tr>\n",
       "\t<tr><th scope=row>Neuveville</th><td>76.9  </td><td>43.5  </td><td>17    </td><td>15    </td><td>  5.16</td><td>20.6  </td></tr>\n",
       "\t<tr><th scope=row>Porrentruy</th><td>76.1  </td><td>35.3  </td><td> 9    </td><td> 7    </td><td> 90.57</td><td>26.6  </td></tr>\n",
       "\t<tr><th scope=row>Broye</th><td>83.8  </td><td>70.2  </td><td>16    </td><td> 7    </td><td> 92.85</td><td>23.6  </td></tr>\n",
       "\t<tr><th scope=row>Glane</th><td>92.4  </td><td>67.8  </td><td>14    </td><td> 8    </td><td> 97.16</td><td>24.9  </td></tr>\n",
       "\t<tr><th scope=row>Gruyere</th><td>82.4  </td><td>53.3  </td><td>12    </td><td> 7    </td><td> 97.67</td><td>21.0  </td></tr>\n",
       "\t<tr><th scope=row>Sarine</th><td>82.9  </td><td>45.2  </td><td>16    </td><td>13    </td><td> 91.38</td><td>24.4  </td></tr>\n",
       "\t<tr><th scope=row>Veveyse</th><td>87.1  </td><td>64.5  </td><td>14    </td><td> 6    </td><td> 98.61</td><td>24.5  </td></tr>\n",
       "\t<tr><th scope=row>Aigle</th><td>64.1  </td><td>62.0  </td><td>21    </td><td>12    </td><td>  8.52</td><td>16.5  </td></tr>\n",
       "\t<tr><th scope=row>Aubonne</th><td>66.9  </td><td>67.5  </td><td>14    </td><td> 7    </td><td>  2.27</td><td>19.1  </td></tr>\n",
       "\t<tr><th scope=row>Avenches</th><td>68.9  </td><td>60.7  </td><td>19    </td><td>12    </td><td>  4.43</td><td>22.7  </td></tr>\n",
       "\t<tr><th scope=row>Cossonay</th><td>61.7  </td><td>69.3  </td><td>22    </td><td> 5    </td><td>  2.82</td><td>18.7  </td></tr>\n",
       "\t<tr><th scope=row>Echallens</th><td>68.3  </td><td>72.6  </td><td>18    </td><td> 2    </td><td> 24.20</td><td>21.2  </td></tr>\n",
       "\t<tr><th scope=row>Grandson</th><td>71.7  </td><td>34.0  </td><td>17    </td><td> 8    </td><td>  3.30</td><td>20.0  </td></tr>\n",
       "\t<tr><th scope=row>Lausanne</th><td>55.7  </td><td>19.4  </td><td>26    </td><td>28    </td><td> 12.11</td><td>20.2  </td></tr>\n",
       "\t<tr><th scope=row>La Vallee</th><td>54.3  </td><td>15.2  </td><td>31    </td><td>20    </td><td>  2.15</td><td>10.8  </td></tr>\n",
       "\t<tr><th scope=row>Lavaux</th><td>65.1  </td><td>73.0  </td><td>19    </td><td> 9    </td><td>  2.84</td><td>20.0  </td></tr>\n",
       "\t<tr><th scope=row>Morges</th><td>65.5  </td><td>59.8  </td><td>22    </td><td>10    </td><td>  5.23</td><td>18.0  </td></tr>\n",
       "\t<tr><th scope=row>Moudon</th><td>65.0  </td><td>55.1  </td><td>14    </td><td> 3    </td><td>  4.52</td><td>22.4  </td></tr>\n",
       "\t<tr><th scope=row>Nyone</th><td>56.6  </td><td>50.9  </td><td>22    </td><td>12    </td><td> 15.14</td><td>16.7  </td></tr>\n",
       "\t<tr><th scope=row>Orbe</th><td>57.4  </td><td>54.1  </td><td>20    </td><td> 6    </td><td>  4.20</td><td>15.3  </td></tr>\n",
       "\t<tr><th scope=row>Oron</th><td>72.5  </td><td>71.2  </td><td>12    </td><td> 1    </td><td>  2.40</td><td>21.0  </td></tr>\n",
       "\t<tr><th scope=row>Payerne</th><td>74.2  </td><td>58.1  </td><td>14    </td><td> 8    </td><td>  5.23</td><td>23.8  </td></tr>\n",
       "\t<tr><th scope=row>Paysd'enhaut</th><td>72.0  </td><td>63.5  </td><td> 6    </td><td> 3    </td><td>  2.56</td><td>18.0  </td></tr>\n",
       "\t<tr><th scope=row>Rolle</th><td>60.5  </td><td>60.8  </td><td>16    </td><td>10    </td><td>  7.72</td><td>16.3  </td></tr>\n",
       "\t<tr><th scope=row>Vevey</th><td>58.3  </td><td>26.8  </td><td>25    </td><td>19    </td><td> 18.46</td><td>20.9  </td></tr>\n",
       "\t<tr><th scope=row>Yverdon</th><td>65.4  </td><td>49.5  </td><td>15    </td><td> 8    </td><td>  6.10</td><td>22.5  </td></tr>\n",
       "\t<tr><th scope=row>Conthey</th><td>75.5  </td><td>85.9  </td><td> 3    </td><td> 2    </td><td> 99.71</td><td>15.1  </td></tr>\n",
       "\t<tr><th scope=row>Entremont</th><td>69.3  </td><td>84.9  </td><td> 7    </td><td> 6    </td><td> 99.68</td><td>19.8  </td></tr>\n",
       "\t<tr><th scope=row>Herens</th><td>77.3  </td><td>89.7  </td><td> 5    </td><td> 2    </td><td>100.00</td><td>18.3  </td></tr>\n",
       "\t<tr><th scope=row>Martigwy</th><td>70.5  </td><td>78.2  </td><td>12    </td><td> 6    </td><td> 98.96</td><td>19.4  </td></tr>\n",
       "\t<tr><th scope=row>Monthey</th><td>79.4  </td><td>64.9  </td><td> 7    </td><td> 3    </td><td> 98.22</td><td>20.2  </td></tr>\n",
       "\t<tr><th scope=row>St Maurice</th><td>65.0  </td><td>75.9  </td><td> 9    </td><td> 9    </td><td> 99.06</td><td>17.8  </td></tr>\n",
       "\t<tr><th scope=row>Sierre</th><td>92.2  </td><td>84.6  </td><td> 3    </td><td> 3    </td><td> 99.46</td><td>16.3  </td></tr>\n",
       "\t<tr><th scope=row>Sion</th><td>79.3  </td><td>63.1  </td><td>13    </td><td>13    </td><td> 96.83</td><td>18.1  </td></tr>\n",
       "\t<tr><th scope=row>Boudry</th><td>70.4  </td><td>38.4  </td><td>26    </td><td>12    </td><td>  5.62</td><td>20.3  </td></tr>\n",
       "\t<tr><th scope=row>La Chauxdfnd</th><td>65.7  </td><td> 7.7  </td><td>29    </td><td>11    </td><td> 13.79</td><td>20.5  </td></tr>\n",
       "\t<tr><th scope=row>Le Locle</th><td>72.7  </td><td>16.7  </td><td>22    </td><td>13    </td><td> 11.22</td><td>18.9  </td></tr>\n",
       "\t<tr><th scope=row>Neuchatel</th><td>64.4  </td><td>17.6  </td><td>35    </td><td>32    </td><td> 16.92</td><td>23.0  </td></tr>\n",
       "\t<tr><th scope=row>Val de Ruz</th><td>77.6  </td><td>37.6  </td><td>15    </td><td> 7    </td><td>  4.97</td><td>20.0  </td></tr>\n",
       "\t<tr><th scope=row>ValdeTravers</th><td>67.6  </td><td>18.7  </td><td>25    </td><td> 7    </td><td>  8.65</td><td>19.5  </td></tr>\n",
       "\t<tr><th scope=row>V. De Geneve</th><td>35.0  </td><td> 1.2  </td><td>37    </td><td>53    </td><td> 42.34</td><td>18.0  </td></tr>\n",
       "\t<tr><th scope=row>Rive Droite</th><td>44.7  </td><td>46.6  </td><td>16    </td><td>29    </td><td> 50.43</td><td>18.2  </td></tr>\n",
       "\t<tr><th scope=row>Rive Gauche</th><td>42.8  </td><td>27.7  </td><td>22    </td><td>29    </td><td> 58.33</td><td>19.3  </td></tr>\n",
       "</tbody>\n",
       "</table>\n"
      ]
     },
     "execution_count": 9,
     "metadata": {
     },
     "output_type": "execute_result"
    }
   ],
   "source": [
    "swiss"
   ]
  },
  {
   "cell_type": "code",
   "execution_count": 10,
   "metadata": {
    "collapsed": false,
    "slideshow": {
     "slide_type": "slide"
    }
   },
   "outputs": [
    {
     "data": {
      "text/html": [
       "<table>\n",
       "<thead><tr><th></th><th scope=col>Fertility</th><th scope=col>Agriculture</th><th scope=col>Examination</th><th scope=col>Education</th><th scope=col>Catholic</th><th scope=col>Infant.Mortality</th></tr></thead>\n",
       "<tbody>\n",
       "\t<tr><th scope=row>Courtelary</th><td>80.2 </td><td>17.0 </td><td>15   </td><td>12   </td><td> 9.96</td><td>22.2 </td></tr>\n",
       "\t<tr><th scope=row>Delemont</th><td>83.1 </td><td>45.1 </td><td> 6   </td><td> 9   </td><td>84.84</td><td>22.2 </td></tr>\n",
       "\t<tr><th scope=row>Franches-Mnt</th><td>92.5 </td><td>39.7 </td><td> 5   </td><td> 5   </td><td>93.40</td><td>20.2 </td></tr>\n",
       "\t<tr><th scope=row>Moutier</th><td>85.8 </td><td>36.5 </td><td>12   </td><td> 7   </td><td>33.77</td><td>20.3 </td></tr>\n",
       "\t<tr><th scope=row>Neuveville</th><td>76.9 </td><td>43.5 </td><td>17   </td><td>15   </td><td> 5.16</td><td>20.6 </td></tr>\n",
       "\t<tr><th scope=row>Porrentruy</th><td>76.1 </td><td>35.3 </td><td> 9   </td><td> 7   </td><td>90.57</td><td>26.6 </td></tr>\n",
       "\t<tr><th scope=row>Broye</th><td>83.8 </td><td>70.2 </td><td>16   </td><td> 7   </td><td>92.85</td><td>23.6 </td></tr>\n",
       "\t<tr><th scope=row>Glane</th><td>92.4 </td><td>67.8 </td><td>14   </td><td> 8   </td><td>97.16</td><td>24.9 </td></tr>\n",
       "\t<tr><th scope=row>Gruyere</th><td>82.4 </td><td>53.3 </td><td>12   </td><td> 7   </td><td>97.67</td><td>21.0 </td></tr>\n",
       "\t<tr><th scope=row>Sarine</th><td>82.9 </td><td>45.2 </td><td>16   </td><td>13   </td><td>91.38</td><td>24.4 </td></tr>\n",
       "</tbody>\n",
       "</table>\n"
      ]
     },
     "execution_count": 10,
     "metadata": {
     },
     "output_type": "execute_result"
    },
    {
     "data": {
      "text/html": [
       "\n",
       "<table width=\"100%\" summary=\"page for swiss {datasets}\"><tr><td>swiss {datasets}</td><td style=\"text-align: right;\">R Documentation</td></tr></table>\n",
       "\n",
       "<h2>Swiss Fertility and Socioeconomic Indicators (1888) Data</h2>\n",
       "\n",
       "<h3>Description</h3>\n",
       "\n",
       "<p>Standardized fertility measure and socio-economic indicators for each\n",
       "of 47 French-speaking provinces of Switzerland at about 1888.\n",
       "</p>\n",
       "\n",
       "\n",
       "<h3>Usage</h3>\n",
       "\n",
       "<pre>swiss</pre>\n",
       "\n",
       "\n",
       "<h3>Format</h3>\n",
       "\n",
       "<p>A data frame with 47 observations on 6 variables, <em>each</em> of which\n",
       "is in percent, i.e., in <i>[0, 100]</i>.\n",
       "</p>\n",
       "\n",
       "<table summary=\"Rd table\">\n",
       "<tr>\n",
       " <td style=\"text-align: right;\">\n",
       "    [,1] </td><td style=\"text-align: left;\"> Fertility </td><td style=\"text-align: left;\"> <i>Ig</i>, &lsquo;common standardized\n",
       "fertility measure&rsquo;</td>\n",
       "</tr>\n",
       "<tr>\n",
       " <td style=\"text-align: right;\">\n",
       "    [,2] </td><td style=\"text-align: left;\"> Agriculture</td><td style=\"text-align: left;\"> % of males involved in agriculture\n",
       "    as occupation</td>\n",
       "</tr>\n",
       "<tr>\n",
       " <td style=\"text-align: right;\">\n",
       "    [,3] </td><td style=\"text-align: left;\"> Examination</td><td style=\"text-align: left;\"> % draftees receiving highest mark\n",
       "    on army examination</td>\n",
       "</tr>\n",
       "<tr>\n",
       " <td style=\"text-align: right;\">\n",
       "    [,4] </td><td style=\"text-align: left;\"> Education </td><td style=\"text-align: left;\"> % education beyond primary school for draftees.</td>\n",
       "</tr>\n",
       "<tr>\n",
       " <td style=\"text-align: right;\">\n",
       "    [,5] </td><td style=\"text-align: left;\"> Catholic </td><td style=\"text-align: left;\"> % &lsquo;catholic&rsquo; (as opposed to &lsquo;protestant&rsquo;).</td>\n",
       "</tr>\n",
       "<tr>\n",
       " <td style=\"text-align: right;\">\n",
       "    [,6] </td><td style=\"text-align: left;\"> Infant.Mortality</td><td style=\"text-align: left;\"> live births who live less than 1\n",
       "    year.\n",
       "  </td>\n",
       "</tr>\n",
       "\n",
       "</table>\n",
       "\n",
       "<p>All variables but &lsquo;Fertility&rsquo; give proportions of the\n",
       "population.\n",
       "</p>\n",
       "\n",
       "\n",
       "<h3>Details</h3>\n",
       "\n",
       "<p>(paraphrasing Mosteller and Tukey):\n",
       "</p>\n",
       "<p>Switzerland, in 1888, was entering a period known as the\n",
       "<em>demographic transition</em>; i.e., its fertility was beginning to\n",
       "fall from the high level typical of underdeveloped countries.\n",
       "</p>\n",
       "<p>The data collected are for 47 French-speaking &ldquo;provinces&rdquo; at\n",
       "about 1888.\n",
       "</p>\n",
       "<p>Here, all variables are scaled to <i>[0, 100]</i>, where in the\n",
       "original, all but <code>\"Catholic\"</code> were scaled to <i>[0, 1]</i>.\n",
       "</p>\n",
       "\n",
       "\n",
       "<h3>Note</h3>\n",
       "\n",
       "<p>Files for all 182 districts in 1888 and other years have been available at\n",
       "<a href=\"https://opr.princeton.edu/archive/pefp/switz.aspx\">https://opr.princeton.edu/archive/pefp/switz.aspx</a>.\n",
       "</p>\n",
       "<p>They state that variables <code>Examination</code> and <code>Education</code>\n",
       "are averages for 1887, 1888 and 1889.\n",
       "</p>\n",
       "\n",
       "\n",
       "<h3>Source</h3>\n",
       "\n",
       "<p>Project &ldquo;16P5&rdquo;, pages 549&ndash;551 in\n",
       "</p>\n",
       "<p>Mosteller, F. and Tukey, J. W. (1977)\n",
       "<em>Data Analysis and Regression: A Second Course in Statistics</em>.\n",
       "Addison-Wesley, Reading Mass.\n",
       "</p>\n",
       "<p>indicating their source as\n",
       "&ldquo;Data used by permission of Franice van de Walle. Office of\n",
       "Population Research, Princeton University, 1976.  Unpublished data\n",
       "assembled under NICHD contract number No 1-HD-O-2077.&rdquo;\n",
       "</p>\n",
       "\n",
       "\n",
       "<h3>References</h3>\n",
       "\n",
       "<p>Becker, R. A., Chambers, J. M. and Wilks, A. R. (1988)\n",
       "<em>The New S Language</em>.\n",
       "Wadsworth &amp; Brooks/Cole.\n",
       "</p>\n",
       "\n",
       "\n",
       "<h3>Examples</h3>\n",
       "\n",
       "<pre>\n",
       "require(stats); require(graphics)\n",
       "pairs(swiss, panel = panel.smooth, main = \"swiss data\",\n",
       "      col = 3 + (swiss$Catholic &gt; 50))\n",
       "summary(lm(Fertility ~ . , data = swiss))\n",
       "</pre>\n",
       "\n",
       "<hr /><div style=\"text-align: center;\">[Package <em>datasets</em> version 3.4.4 ]</div>"
      ]
     },
     "execution_count": 10,
     "metadata": {
     },
     "output_type": "execute_result"
    }
   ],
   "source": [
    "head(swiss,10)\n",
    "?swiss"
   ]
  },
  {
   "cell_type": "code",
   "execution_count": 11,
   "metadata": {
    "collapsed": false,
    "slideshow": {
     "slide_type": "slide"
    }
   },
   "outputs": [
    {
     "data": {
      "text/html": [
       "\n",
       "<table width=\"100%\" summary=\"page for volcano {datasets}\"><tr><td>volcano {datasets}</td><td style=\"text-align: right;\">R Documentation</td></tr></table>\n",
       "\n",
       "<h2>Topographic Information on Auckland's Maunga Whau Volcano</h2>\n",
       "\n",
       "<h3>Description</h3>\n",
       "\n",
       "<p>Maunga Whau (Mt Eden) is one of about 50 volcanos in the Auckland\n",
       "volcanic field.  This data set gives topographic information for\n",
       "Maunga Whau on a 10m by 10m grid.\n",
       "</p>\n",
       "\n",
       "\n",
       "<h3>Usage</h3>\n",
       "\n",
       "<pre>volcano</pre>\n",
       "\n",
       "\n",
       "<h3>Format</h3>\n",
       "\n",
       "<p>A matrix with 87 rows and 61 columns, rows corresponding to grid lines\n",
       "running east to west and columns to grid lines running south to\n",
       "north.</p>\n",
       "\n",
       "\n",
       "<h3>Source</h3>\n",
       "\n",
       "<p>Digitized from a topographic map by Ross Ihaka.\n",
       "These data should not be regarded as accurate.\n",
       "</p>\n",
       "\n",
       "\n",
       "<h3>See Also</h3>\n",
       "\n",
       "<p><code>filled.contour</code> for a nice plot.</p>\n",
       "\n",
       "\n",
       "<h3>Examples</h3>\n",
       "\n",
       "<pre>\n",
       "require(grDevices); require(graphics)\n",
       "filled.contour(volcano, color.palette = terrain.colors, asp = 1)\n",
       "title(main = \"volcano data: filled contour map\")\n",
       "</pre>\n",
       "\n",
       "<hr /><div style=\"text-align: center;\">[Package <em>datasets</em> version 3.4.4 ]</div>"
      ]
     },
     "execution_count": 11,
     "metadata": {
     },
     "output_type": "execute_result"
    }
   ],
   "source": [
    "?volcano"
   ]
  },
  {
   "cell_type": "code",
   "execution_count": 12,
   "metadata": {
    "collapsed": false,
    "slideshow": {
     "slide_type": "slide"
    }
   },
   "outputs": [
    {
     "data": {
      "text/html": [
       "<table>\n",
       "<tbody>\n",
       "\t<tr><td>100</td><td>100</td><td>101</td><td>101</td><td>101</td><td>101</td><td>101</td><td>100</td><td>100</td><td>100</td><td>⋯  </td><td>107</td><td>107</td><td>107</td><td>106</td><td>106</td><td>105</td><td>105</td><td>104</td><td>104</td><td>103</td></tr>\n",
       "\t<tr><td>101</td><td>101</td><td>102</td><td>102</td><td>102</td><td>102</td><td>102</td><td>101</td><td>101</td><td>101</td><td>⋯  </td><td>108</td><td>108</td><td>107</td><td>107</td><td>106</td><td>106</td><td>105</td><td>105</td><td>104</td><td>104</td></tr>\n",
       "\t<tr><td>102</td><td>102</td><td>103</td><td>103</td><td>103</td><td>103</td><td>103</td><td>102</td><td>102</td><td>102</td><td>⋯  </td><td>109</td><td>108</td><td>108</td><td>107</td><td>107</td><td>106</td><td>106</td><td>105</td><td>105</td><td>104</td></tr>\n",
       "\t<tr><td>103</td><td>103</td><td>104</td><td>104</td><td>104</td><td>104</td><td>104</td><td>103</td><td>103</td><td>103</td><td>⋯  </td><td>109</td><td>109</td><td>108</td><td>108</td><td>107</td><td>107</td><td>106</td><td>106</td><td>105</td><td>105</td></tr>\n",
       "\t<tr><td>104</td><td>104</td><td>105</td><td>105</td><td>105</td><td>105</td><td>105</td><td>104</td><td>104</td><td>103</td><td>⋯  </td><td>110</td><td>109</td><td>109</td><td>108</td><td>107</td><td>107</td><td>107</td><td>106</td><td>106</td><td>105</td></tr>\n",
       "\t<tr><td>105</td><td>105</td><td>105</td><td>106</td><td>106</td><td>106</td><td>106</td><td>105</td><td>105</td><td>104</td><td>⋯  </td><td>110</td><td>110</td><td>109</td><td>108</td><td>108</td><td>108</td><td>107</td><td>107</td><td>106</td><td>106</td></tr>\n",
       "\t<tr><td>105</td><td>106</td><td>106</td><td>107</td><td>107</td><td>107</td><td>107</td><td>106</td><td>106</td><td>105</td><td>⋯  </td><td>110</td><td>111</td><td>110</td><td>109</td><td>109</td><td>108</td><td>108</td><td>107</td><td>107</td><td>106</td></tr>\n",
       "\t<tr><td>106</td><td>107</td><td>107</td><td>108</td><td>108</td><td>108</td><td>108</td><td>107</td><td>107</td><td>106</td><td>⋯  </td><td>113</td><td>112</td><td>110</td><td>110</td><td>109</td><td>109</td><td>108</td><td>108</td><td>107</td><td>106</td></tr>\n",
       "\t<tr><td>107</td><td>108</td><td>108</td><td>109</td><td>109</td><td>109</td><td>109</td><td>108</td><td>108</td><td>107</td><td>⋯  </td><td>115</td><td>114</td><td>112</td><td>110</td><td>110</td><td>109</td><td>109</td><td>108</td><td>107</td><td>107</td></tr>\n",
       "\t<tr><td>108</td><td>109</td><td>109</td><td>110</td><td>110</td><td>110</td><td>110</td><td>109</td><td>109</td><td>108</td><td>⋯  </td><td>117</td><td>115</td><td>113</td><td>111</td><td>110</td><td>110</td><td>109</td><td>108</td><td>107</td><td>107</td></tr>\n",
       "\t<tr><td>109</td><td>110</td><td>110</td><td>111</td><td>111</td><td>111</td><td>111</td><td>110</td><td>110</td><td>110</td><td>⋯  </td><td>118</td><td>116</td><td>114</td><td>112</td><td>111</td><td>110</td><td>109</td><td>108</td><td>107</td><td>106</td></tr>\n",
       "\t<tr><td>110</td><td>110</td><td>111</td><td>113</td><td>112</td><td>111</td><td>113</td><td>112</td><td>112</td><td>114</td><td>⋯  </td><td>119</td><td>117</td><td>115</td><td>113</td><td>111</td><td>110</td><td>109</td><td>108</td><td>107</td><td>106</td></tr>\n",
       "\t<tr><td>110</td><td>111</td><td>113</td><td>115</td><td>114</td><td>113</td><td>114</td><td>114</td><td>115</td><td>117</td><td>⋯  </td><td>120</td><td>118</td><td>116</td><td>114</td><td>112</td><td>110</td><td>109</td><td>108</td><td>107</td><td>105</td></tr>\n",
       "\t<tr><td>111</td><td>113</td><td>115</td><td>117</td><td>116</td><td>115</td><td>116</td><td>117</td><td>117</td><td>119</td><td>⋯  </td><td>123</td><td>119</td><td>117</td><td>115</td><td>113</td><td>111</td><td>110</td><td>108</td><td>106</td><td>105</td></tr>\n",
       "\t<tr><td>114</td><td>115</td><td>117</td><td>117</td><td>117</td><td>118</td><td>119</td><td>119</td><td>120</td><td>121</td><td>⋯  </td><td>126</td><td>121</td><td>117</td><td>114</td><td>112</td><td>110</td><td>110</td><td>108</td><td>106</td><td>104</td></tr>\n",
       "\t<tr><td>116</td><td>118</td><td>118</td><td>118</td><td>120</td><td>121</td><td>121</td><td>122</td><td>122</td><td>123</td><td>⋯  </td><td>129</td><td>125</td><td>120</td><td>115</td><td>111</td><td>110</td><td>110</td><td>108</td><td>106</td><td>104</td></tr>\n",
       "\t<tr><td>118</td><td>120</td><td>120</td><td>121</td><td>122</td><td>123</td><td>124</td><td>124</td><td>125</td><td>126</td><td>⋯  </td><td>131</td><td>125</td><td>120</td><td>116</td><td>111</td><td>110</td><td>110</td><td>108</td><td>106</td><td>104</td></tr>\n",
       "\t<tr><td>120</td><td>121</td><td>122</td><td>123</td><td>124</td><td>125</td><td>126</td><td>127</td><td>127</td><td>128</td><td>⋯  </td><td>134</td><td>127</td><td>121</td><td>116</td><td>112</td><td>110</td><td>110</td><td>108</td><td>106</td><td>104</td></tr>\n",
       "\t<tr><td>120</td><td>122</td><td>125</td><td>126</td><td>126</td><td>127</td><td>128</td><td>129</td><td>130</td><td>130</td><td>⋯  </td><td>139</td><td>131</td><td>123</td><td>119</td><td>115</td><td>111</td><td>110</td><td>108</td><td>106</td><td>105</td></tr>\n",
       "\t<tr><td>121</td><td>124</td><td>126</td><td>128</td><td>129</td><td>129</td><td>130</td><td>131</td><td>132</td><td>133</td><td>⋯  </td><td>142</td><td>136</td><td>129</td><td>123</td><td>118</td><td>114</td><td>110</td><td>108</td><td>108</td><td>107</td></tr>\n",
       "\t<tr><td>122</td><td>125</td><td>127</td><td>130</td><td>130</td><td>131</td><td>133</td><td>134</td><td>135</td><td>136</td><td>⋯  </td><td>144</td><td>140</td><td>134</td><td>125</td><td>118</td><td>115</td><td>111</td><td>110</td><td>108</td><td>107</td></tr>\n",
       "\t<tr><td>122</td><td>125</td><td>128</td><td>130</td><td>132</td><td>133</td><td>135</td><td>136</td><td>137</td><td>139</td><td>⋯  </td><td>145</td><td>141</td><td>136</td><td>130</td><td>119</td><td>116</td><td>112</td><td>110</td><td>108</td><td>106</td></tr>\n",
       "\t<tr><td>123</td><td>126</td><td>129</td><td>131</td><td>133</td><td>135</td><td>137</td><td>138</td><td>139</td><td>141</td><td>⋯  </td><td>147</td><td>142</td><td>138</td><td>133</td><td>126</td><td>121</td><td>115</td><td>110</td><td>106</td><td>105</td></tr>\n",
       "\t<tr><td>124</td><td>127</td><td>130</td><td>132</td><td>135</td><td>137</td><td>138</td><td>140</td><td>142</td><td>144</td><td>⋯  </td><td>148</td><td>144</td><td>139</td><td>134</td><td>128</td><td>121</td><td>115</td><td>110</td><td>106</td><td>105</td></tr>\n",
       "\t<tr><td>123</td><td>128</td><td>131</td><td>133</td><td>136</td><td>138</td><td>140</td><td>142</td><td>144</td><td>146</td><td>⋯  </td><td>150</td><td>144</td><td>139</td><td>134</td><td>128</td><td>121</td><td>115</td><td>110</td><td>108</td><td>107</td></tr>\n",
       "\t<tr><td>123</td><td>127</td><td>131</td><td>134</td><td>136</td><td>138</td><td>140</td><td>142</td><td>144</td><td>147</td><td>⋯  </td><td>152</td><td>145</td><td>139</td><td>134</td><td>127</td><td>121</td><td>115</td><td>110</td><td>109</td><td>108</td></tr>\n",
       "\t<tr><td>120</td><td>124</td><td>128</td><td>131</td><td>134</td><td>137</td><td>139</td><td>142</td><td>144</td><td>146</td><td>⋯  </td><td>154</td><td>148</td><td>140</td><td>134</td><td>128</td><td>121</td><td>115</td><td>110</td><td>110</td><td>109</td></tr>\n",
       "\t<tr><td>118</td><td>121</td><td>125</td><td>129</td><td>132</td><td>134</td><td>137</td><td>140</td><td>142</td><td>145</td><td>⋯  </td><td>154</td><td>149</td><td>142</td><td>135</td><td>128</td><td>122</td><td>116</td><td>111</td><td>110</td><td>110</td></tr>\n",
       "\t<tr><td>117</td><td>120</td><td>121</td><td>125</td><td>129</td><td>132</td><td>135</td><td>138</td><td>140</td><td>143</td><td>⋯  </td><td>153</td><td>148</td><td>142</td><td>135</td><td>129</td><td>123</td><td>116</td><td>113</td><td>112</td><td>110</td></tr>\n",
       "\t<tr><td>115</td><td>118</td><td>120</td><td>122</td><td>126</td><td>130</td><td>133</td><td>136</td><td>138</td><td>141</td><td>⋯  </td><td>154</td><td>147</td><td>141</td><td>136</td><td>130</td><td>124</td><td>117</td><td>115</td><td>112</td><td>110</td></tr>\n",
       "\t<tr><td>⋮</td><td>⋮</td><td>⋮</td><td>⋮</td><td>⋮</td><td>⋮</td><td>⋮</td><td>⋮</td><td>⋮</td><td>⋮</td><td>⋱</td><td>⋮</td><td>⋮</td><td>⋮</td><td>⋮</td><td>⋮</td><td>⋮</td><td>⋮</td><td>⋮</td><td>⋮</td><td>⋮</td></tr>\n",
       "\t<tr><td>112</td><td>113</td><td>113</td><td>114</td><td>115</td><td>116</td><td>117</td><td>119</td><td>122</td><td>127</td><td>⋯  </td><td>106</td><td>105</td><td>105</td><td>106</td><td>105</td><td>104</td><td>104</td><td>103</td><td>103</td><td>103</td></tr>\n",
       "\t<tr><td>112</td><td>113</td><td>114</td><td>114</td><td>116</td><td>117</td><td>118</td><td>120</td><td>122</td><td>128</td><td>⋯  </td><td>106</td><td>105</td><td>105</td><td>105</td><td>104</td><td>104</td><td>103</td><td>103</td><td>103</td><td>102</td></tr>\n",
       "\t<tr><td>112</td><td>114</td><td>114</td><td>115</td><td>116</td><td>117</td><td>119</td><td>120</td><td>122</td><td>128</td><td>⋯  </td><td>105</td><td>103</td><td>104</td><td>104</td><td>104</td><td>104</td><td>103</td><td>103</td><td>102</td><td>102</td></tr>\n",
       "\t<tr><td>113</td><td>114</td><td>115</td><td>116</td><td>116</td><td>117</td><td>118</td><td>120</td><td>123</td><td>129</td><td>⋯  </td><td>104</td><td>103</td><td>104</td><td>104</td><td>104</td><td>103</td><td>103</td><td>102</td><td>102</td><td>101</td></tr>\n",
       "\t<tr><td>114</td><td>115</td><td>115</td><td>116</td><td>117</td><td>118</td><td>118</td><td>120</td><td>123</td><td>129</td><td>⋯  </td><td>103</td><td>102</td><td>104</td><td>104</td><td>103</td><td>103</td><td>102</td><td>102</td><td>101</td><td>101</td></tr>\n",
       "\t<tr><td>114</td><td>115</td><td>116</td><td>117</td><td>117</td><td>119</td><td>118</td><td>120</td><td>123</td><td>128</td><td>⋯  </td><td>102</td><td>102</td><td>103</td><td>103</td><td>103</td><td>102</td><td>102</td><td>102</td><td>101</td><td>100</td></tr>\n",
       "\t<tr><td>115</td><td>116</td><td>116</td><td>117</td><td>118</td><td>119</td><td>119</td><td>120</td><td>124</td><td>128</td><td>⋯  </td><td>101</td><td>102</td><td>103</td><td>103</td><td>102</td><td>102</td><td>102</td><td>101</td><td>100</td><td>100</td></tr>\n",
       "\t<tr><td>115</td><td>116</td><td>117</td><td>118</td><td>118</td><td>119</td><td>120</td><td>123</td><td>125</td><td>128</td><td>⋯  </td><td>101</td><td>103</td><td>103</td><td>103</td><td>102</td><td>102</td><td>101</td><td>100</td><td>100</td><td>100</td></tr>\n",
       "\t<tr><td>116</td><td>117</td><td>118</td><td>118</td><td>119</td><td>120</td><td>122</td><td>123</td><td>125</td><td>128</td><td>⋯  </td><td>100</td><td>101</td><td>101</td><td>102</td><td>102</td><td>101</td><td>100</td><td>100</td><td>100</td><td>100</td></tr>\n",
       "\t<tr><td>116</td><td>117</td><td>118</td><td>119</td><td>120</td><td>121</td><td>123</td><td>124</td><td>126</td><td>128</td><td>⋯  </td><td>100</td><td>100</td><td>100</td><td>101</td><td>101</td><td>100</td><td>100</td><td>100</td><td>100</td><td>100</td></tr>\n",
       "\t<tr><td>117</td><td>118</td><td>119</td><td>119</td><td>120</td><td>121</td><td>123</td><td>124</td><td>126</td><td>128</td><td>⋯  </td><td>100</td><td>100</td><td>100</td><td>100</td><td>100</td><td>100</td><td> 99</td><td> 99</td><td> 99</td><td> 99</td></tr>\n",
       "\t<tr><td>117</td><td>118</td><td>119</td><td>120</td><td>120</td><td>121</td><td>123</td><td>124</td><td>125</td><td>126</td><td>⋯  </td><td>100</td><td>100</td><td> 99</td><td> 99</td><td> 99</td><td> 99</td><td> 99</td><td> 99</td><td> 99</td><td> 98</td></tr>\n",
       "\t<tr><td>116</td><td>117</td><td>118</td><td>120</td><td>120</td><td>121</td><td>122</td><td>123</td><td>124</td><td>125</td><td>⋯  </td><td> 99</td><td> 99</td><td> 99</td><td> 99</td><td> 99</td><td> 99</td><td> 98</td><td> 98</td><td> 98</td><td> 97</td></tr>\n",
       "\t<tr><td>114</td><td>115</td><td>116</td><td>117</td><td>119</td><td>119</td><td>120</td><td>121</td><td>122</td><td>123</td><td>⋯  </td><td> 99</td><td> 98</td><td> 98</td><td> 98</td><td> 98</td><td> 98</td><td> 97</td><td> 97</td><td> 97</td><td> 97</td></tr>\n",
       "\t<tr><td>112</td><td>113</td><td>114</td><td>115</td><td>116</td><td>116</td><td>117</td><td>119</td><td>120</td><td>122</td><td>⋯  </td><td> 98</td><td> 98</td><td> 97</td><td> 97</td><td> 97</td><td> 97</td><td> 97</td><td> 97</td><td> 97</td><td> 96</td></tr>\n",
       "\t<tr><td>109</td><td>111</td><td>112</td><td>112</td><td>113</td><td>113</td><td>113</td><td>114</td><td>116</td><td>119</td><td>⋯  </td><td> 97</td><td> 97</td><td> 96</td><td> 96</td><td> 96</td><td> 96</td><td> 96</td><td> 96</td><td> 96</td><td> 96</td></tr>\n",
       "\t<tr><td>106</td><td>107</td><td>108</td><td>108</td><td>109</td><td>110</td><td>110</td><td>112</td><td>113</td><td>114</td><td>⋯  </td><td> 96</td><td> 96</td><td> 96</td><td> 96</td><td> 96</td><td> 96</td><td> 96</td><td> 96</td><td> 96</td><td> 96</td></tr>\n",
       "\t<tr><td>104</td><td>105</td><td>105</td><td>106</td><td>106</td><td>107</td><td>108</td><td>108</td><td>109</td><td>109</td><td>⋯  </td><td> 96</td><td> 96</td><td> 96</td><td> 96</td><td> 96</td><td> 96</td><td> 96</td><td> 96</td><td> 96</td><td> 96</td></tr>\n",
       "\t<tr><td>102</td><td>103</td><td>103</td><td>104</td><td>104</td><td>105</td><td>106</td><td>106</td><td>107</td><td>108</td><td>⋯  </td><td> 96</td><td> 96</td><td> 96</td><td> 96</td><td> 96</td><td> 96</td><td> 96</td><td> 96</td><td> 96</td><td> 96</td></tr>\n",
       "\t<tr><td>101</td><td>102</td><td>103</td><td>103</td><td>104</td><td>105</td><td>105</td><td>106</td><td>106</td><td>107</td><td>⋯  </td><td> 96</td><td> 96</td><td> 96</td><td> 96</td><td> 96</td><td> 96</td><td> 96</td><td> 96</td><td> 96</td><td> 96</td></tr>\n",
       "\t<tr><td>100</td><td>101</td><td>102</td><td>102</td><td>103</td><td>103</td><td>104</td><td>104</td><td>105</td><td>106</td><td>⋯  </td><td> 96</td><td> 96</td><td> 96</td><td> 96</td><td> 96</td><td> 96</td><td> 96</td><td> 96</td><td> 96</td><td> 96</td></tr>\n",
       "\t<tr><td>100</td><td>101</td><td>101</td><td>102</td><td>102</td><td>103</td><td>103</td><td>104</td><td>104</td><td>105</td><td>⋯  </td><td> 96</td><td> 96</td><td> 96</td><td> 96</td><td> 96</td><td> 96</td><td> 96</td><td> 96</td><td> 96</td><td> 95</td></tr>\n",
       "\t<tr><td> 99</td><td>100</td><td>101</td><td>102</td><td>102</td><td>103</td><td>103</td><td>103</td><td>104</td><td>104</td><td>⋯  </td><td> 96</td><td> 96</td><td> 96</td><td> 96</td><td> 96</td><td> 96</td><td> 96</td><td> 96</td><td> 95</td><td> 95</td></tr>\n",
       "\t<tr><td> 99</td><td>100</td><td>100</td><td>101</td><td>101</td><td>102</td><td>102</td><td>102</td><td>103</td><td>103</td><td>⋯  </td><td> 96</td><td> 96</td><td> 96</td><td> 95</td><td> 95</td><td> 95</td><td> 95</td><td> 95</td><td> 95</td><td> 95</td></tr>\n",
       "\t<tr><td> 99</td><td>100</td><td>100</td><td>100</td><td>101</td><td>101</td><td>101</td><td>102</td><td>102</td><td>103</td><td>⋯  </td><td> 95</td><td> 95</td><td> 95</td><td> 95</td><td> 95</td><td> 95</td><td> 95</td><td> 95</td><td> 95</td><td> 94</td></tr>\n",
       "\t<tr><td> 99</td><td> 99</td><td> 99</td><td> 99</td><td>100</td><td>100</td><td>101</td><td>101</td><td>102</td><td>102</td><td>⋯  </td><td> 95</td><td> 95</td><td> 95</td><td> 95</td><td> 94</td><td> 94</td><td> 94</td><td> 94</td><td> 94</td><td> 94</td></tr>\n",
       "\t<tr><td> 98</td><td> 99</td><td> 99</td><td> 99</td><td> 99</td><td>100</td><td>100</td><td>101</td><td>101</td><td>102</td><td>⋯  </td><td> 95</td><td> 95</td><td> 94</td><td> 94</td><td> 94</td><td> 94</td><td> 94</td><td> 94</td><td> 94</td><td> 94</td></tr>\n",
       "\t<tr><td> 98</td><td> 98</td><td> 98</td><td> 99</td><td> 99</td><td> 99</td><td>100</td><td>100</td><td>101</td><td>101</td><td>⋯  </td><td> 94</td><td> 94</td><td> 94</td><td> 94</td><td> 94</td><td> 94</td><td> 94</td><td> 94</td><td> 94</td><td> 94</td></tr>\n",
       "\t<tr><td> 97</td><td> 98</td><td> 98</td><td> 98</td><td> 99</td><td> 99</td><td> 99</td><td>100</td><td>100</td><td>100</td><td>⋯  </td><td> 94</td><td> 94</td><td> 94</td><td> 94</td><td> 94</td><td> 94</td><td> 94</td><td> 94</td><td> 94</td><td> 94</td></tr>\n",
       "\t<tr><td> 97</td><td> 97</td><td> 97</td><td> 98</td><td> 98</td><td> 99</td><td> 99</td><td> 99</td><td>100</td><td>100</td><td>⋯  </td><td> 94</td><td> 94</td><td> 94</td><td> 94</td><td> 94</td><td> 94</td><td> 94</td><td> 94</td><td> 94</td><td> 94</td></tr>\n",
       "</tbody>\n",
       "</table>\n"
      ]
     },
     "execution_count": 12,
     "metadata": {
     },
     "output_type": "execute_result"
    }
   ],
   "source": [
    "volcano"
   ]
  },
  {
   "cell_type": "code",
   "execution_count": 13,
   "metadata": {
    "collapsed": false,
    "slideshow": {
     "slide_type": "slide"
    }
   },
   "outputs": [
    {
     "data": {
      "text/html": [
       "\n",
       "<table width=\"100%\" summary=\"page for InsectSprays {datasets}\"><tr><td>InsectSprays {datasets}</td><td style=\"text-align: right;\">R Documentation</td></tr></table>\n",
       "\n",
       "<h2>Effectiveness of Insect Sprays</h2>\n",
       "\n",
       "<h3>Description</h3>\n",
       "\n",
       "<p>The counts of insects in agricultural experimental units treated with\n",
       "different insecticides.\n",
       "</p>\n",
       "\n",
       "\n",
       "<h3>Usage</h3>\n",
       "\n",
       "<pre>InsectSprays</pre>\n",
       "\n",
       "\n",
       "<h3>Format</h3>\n",
       "\n",
       "<p>A data frame with 72 observations on 2 variables.\n",
       "</p>\n",
       "\n",
       "<table summary=\"Rd table\">\n",
       "<tr>\n",
       " <td style=\"text-align: right;\">\n",
       "    [,1]  </td><td style=\"text-align: left;\"> count  </td><td style=\"text-align: left;\"> numeric  </td><td style=\"text-align: left;\"> Insect count</td>\n",
       "</tr>\n",
       "<tr>\n",
       " <td style=\"text-align: right;\">\n",
       "    [,2]  </td><td style=\"text-align: left;\"> spray  </td><td style=\"text-align: left;\"> factor   </td><td style=\"text-align: left;\"> The type of spray\n",
       "  </td>\n",
       "</tr>\n",
       "\n",
       "</table>\n",
       "\n",
       "\n",
       "\n",
       "<h3>Source</h3>\n",
       "\n",
       "<p>Beall, G., (1942)\n",
       "The Transformation of data from entomological field experiments,\n",
       "<em>Biometrika</em>, <b>29</b>, 243&ndash;262.\n",
       "</p>\n",
       "\n",
       "\n",
       "<h3>References</h3>\n",
       "\n",
       "<p>McNeil, D. (1977) <em>Interactive Data Analysis</em>.\n",
       "New York: Wiley.\n",
       "</p>\n",
       "\n",
       "\n",
       "<h3>Examples</h3>\n",
       "\n",
       "<pre>\n",
       "require(stats); require(graphics)\n",
       "boxplot(count ~ spray, data = InsectSprays,\n",
       "        xlab = \"Type of spray\", ylab = \"Insect count\",\n",
       "        main = \"InsectSprays data\", varwidth = TRUE, col = \"lightgray\")\n",
       "fm1 &lt;- aov(count ~ spray, data = InsectSprays)\n",
       "summary(fm1)\n",
       "opar &lt;- par(mfrow = c(2, 2), oma = c(0, 0, 1.1, 0))\n",
       "plot(fm1)\n",
       "fm2 &lt;- aov(sqrt(count) ~ spray, data = InsectSprays)\n",
       "summary(fm2)\n",
       "plot(fm2)\n",
       "par(opar)\n",
       "</pre>\n",
       "\n",
       "<hr /><div style=\"text-align: center;\">[Package <em>datasets</em> version 3.4.4 ]</div>"
      ]
     },
     "execution_count": 13,
     "metadata": {
     },
     "output_type": "execute_result"
    }
   ],
   "source": [
    "?InsectSprays"
   ]
  },
  {
   "cell_type": "code",
   "execution_count": 14,
   "metadata": {
    "collapsed": false,
    "slideshow": {
     "slide_type": "slide"
    }
   },
   "outputs": [
    {
     "data": {
      "text/html": [
       "<table>\n",
       "<thead><tr><th scope=col>count</th><th scope=col>spray</th></tr></thead>\n",
       "<tbody>\n",
       "\t<tr><td>10</td><td>A </td></tr>\n",
       "\t<tr><td> 7</td><td>A </td></tr>\n",
       "\t<tr><td>20</td><td>A </td></tr>\n",
       "\t<tr><td>14</td><td>A </td></tr>\n",
       "\t<tr><td>14</td><td>A </td></tr>\n",
       "\t<tr><td>12</td><td>A </td></tr>\n",
       "\t<tr><td>10</td><td>A </td></tr>\n",
       "\t<tr><td>23</td><td>A </td></tr>\n",
       "\t<tr><td>17</td><td>A </td></tr>\n",
       "\t<tr><td>20</td><td>A </td></tr>\n",
       "\t<tr><td>14</td><td>A </td></tr>\n",
       "\t<tr><td>13</td><td>A </td></tr>\n",
       "\t<tr><td>11</td><td>B </td></tr>\n",
       "\t<tr><td>17</td><td>B </td></tr>\n",
       "\t<tr><td>21</td><td>B </td></tr>\n",
       "\t<tr><td>11</td><td>B </td></tr>\n",
       "\t<tr><td>16</td><td>B </td></tr>\n",
       "\t<tr><td>14</td><td>B </td></tr>\n",
       "\t<tr><td>17</td><td>B </td></tr>\n",
       "\t<tr><td>17</td><td>B </td></tr>\n",
       "\t<tr><td>19</td><td>B </td></tr>\n",
       "\t<tr><td>21</td><td>B </td></tr>\n",
       "\t<tr><td> 7</td><td>B </td></tr>\n",
       "\t<tr><td>13</td><td>B </td></tr>\n",
       "\t<tr><td> 0</td><td>C </td></tr>\n",
       "\t<tr><td> 1</td><td>C </td></tr>\n",
       "\t<tr><td> 7</td><td>C </td></tr>\n",
       "\t<tr><td> 2</td><td>C </td></tr>\n",
       "\t<tr><td> 3</td><td>C </td></tr>\n",
       "\t<tr><td> 1</td><td>C </td></tr>\n",
       "\t<tr><td>⋮</td><td>⋮</td></tr>\n",
       "\t<tr><td> 5</td><td>D </td></tr>\n",
       "\t<tr><td> 5</td><td>D </td></tr>\n",
       "\t<tr><td> 5</td><td>D </td></tr>\n",
       "\t<tr><td> 5</td><td>D </td></tr>\n",
       "\t<tr><td> 2</td><td>D </td></tr>\n",
       "\t<tr><td> 4</td><td>D </td></tr>\n",
       "\t<tr><td> 3</td><td>E </td></tr>\n",
       "\t<tr><td> 5</td><td>E </td></tr>\n",
       "\t<tr><td> 3</td><td>E </td></tr>\n",
       "\t<tr><td> 5</td><td>E </td></tr>\n",
       "\t<tr><td> 3</td><td>E </td></tr>\n",
       "\t<tr><td> 6</td><td>E </td></tr>\n",
       "\t<tr><td> 1</td><td>E </td></tr>\n",
       "\t<tr><td> 1</td><td>E </td></tr>\n",
       "\t<tr><td> 3</td><td>E </td></tr>\n",
       "\t<tr><td> 2</td><td>E </td></tr>\n",
       "\t<tr><td> 6</td><td>E </td></tr>\n",
       "\t<tr><td> 4</td><td>E </td></tr>\n",
       "\t<tr><td>11</td><td>F </td></tr>\n",
       "\t<tr><td> 9</td><td>F </td></tr>\n",
       "\t<tr><td>15</td><td>F </td></tr>\n",
       "\t<tr><td>22</td><td>F </td></tr>\n",
       "\t<tr><td>15</td><td>F </td></tr>\n",
       "\t<tr><td>16</td><td>F </td></tr>\n",
       "\t<tr><td>13</td><td>F </td></tr>\n",
       "\t<tr><td>10</td><td>F </td></tr>\n",
       "\t<tr><td>26</td><td>F </td></tr>\n",
       "\t<tr><td>26</td><td>F </td></tr>\n",
       "\t<tr><td>24</td><td>F </td></tr>\n",
       "\t<tr><td>13</td><td>F </td></tr>\n",
       "</tbody>\n",
       "</table>\n"
      ]
     },
     "execution_count": 14,
     "metadata": {
     },
     "output_type": "execute_result"
    }
   ],
   "source": [
    "InsectSprays"
   ]
  },
  {
   "cell_type": "markdown",
   "metadata": {
    "collapsed": false,
    "slideshow": {
     "slide_type": "slide"
    }
   },
   "source": [
    "### 4.2 LOADING AN EXTERNAL DATASET <a name=workspace_load_external></a>"
   ]
  },
  {
   "cell_type": "markdown",
   "metadata": {
    "collapsed": false,
    "slideshow": {
     "slide_type": "subslide"
    }
   },
   "source": [
    "`Data <- read.csv(\"path_name/file_name\", header=TRUE, sep=\",\")` #CSV file\n",
    "\n",
    "`Data <- read.table(\"path_name/file_name\", sep=\"\\t\", header=TRUE)` #tab separated\n",
    "\n",
    "`Data <- read.table(file = \"clipboard\", sep=\"\\t\", header=TRUE)` #clipboard\n",
    "\n",
    "`Data <- read.csv(\"http://dns/path_name/file\")` #web"
   ]
  },
  {
   "cell_type": "code",
   "execution_count": 1,
   "metadata": {
    "collapsed": false
   },
   "outputs": [
    {
     "name": "stderr",
     "output_type": "stream",
     "text": [
      "Warning message in file(file, \"rt\"):\n",
      "“cannot open file 'Data/car.csv': No such file or directory”"
     ]
    },
    {
     "ename": "ERROR",
     "evalue": "Error in file(file, \"rt\"): cannot open the connection\n",
     "output_type": "error",
     "traceback": [
      "Error in file(file, \"rt\"): cannot open the connection\nTraceback:\n",
      "1. read.csv(\"Data/car.csv\", header = TRUE, sep = \",\")",
      "2. read.table(file = file, header = header, sep = sep, quote = quote, \n .     dec = dec, fill = fill, comment.char = comment.char, ...)",
      "3. file(file, \"rt\")"
     ]
    }
   ],
   "source": [
    "# Read in the file car.csv found in the folder 'Path' and save to: car.data\n",
    "car.data <- read.csv(\"Data/car.csv\", header=TRUE, sep=\",\")\n",
    "\n",
    "?car.data"
   ]
  },
  {
   "cell_type": "markdown",
   "metadata": {
    "collapsed": false,
    "slideshow": {
     "slide_type": "slide"
    }
   },
   "source": [
    "### 4.3 REMOVING AND SAVING WORKSPACE ELEMENTS <a name=workspace_removing></a>"
   ]
  },
  {
   "cell_type": "markdown",
   "metadata": {
    "collapsed": false,
    "slideshow": {
     "slide_type": "subslide"
    }
   },
   "source": [
    "`rm(variable_x)`   #removing variable_x from the workspace\n",
    "\n",
    "`save.image()`   #saving entire workspace\n",
    "\n",
    "`save(variable_name, file=\"file_name.rda\")`  #saving a specific object\n",
    "\n",
    "`load(\"file_name.rda\")`   #saving a specific object"
   ]
  },
  {
   "cell_type": "markdown",
   "metadata": {
    "collapsed": false,
    "slideshow": {
     "slide_type": "slide"
    }
   },
   "source": [
    "---\n",
    "[Back to top](#top)\n",
    "## 5. SIMPLE DATA MANIPULATION\n",
    "So what can we actually do with R?"
   ]
  },
  {
   "cell_type": "markdown",
   "metadata": {
    "collapsed": false,
    "slideshow": {
     "slide_type": "slide"
    }
   },
   "source": [
    "### 5.1 ASSIGNING DATA <a name=data_manip_ass></a>"
   ]
  },
  {
   "cell_type": "code",
   "execution_count": 16,
   "metadata": {
    "collapsed": false,
    "slideshow": {
     "slide_type": "subslide"
    }
   },
   "outputs": [
   ],
   "source": [
    "x<-1:3   # creating a vector of a sequence of numbers "
   ]
  },
  {
   "cell_type": "code",
   "execution_count": 17,
   "metadata": {
    "collapsed": false,
    "slideshow": {
     "slide_type": "subslide"
    }
   },
   "outputs": [
    {
     "data": {
      "text/html": [
       "<ol class=list-inline>\n",
       "\t<li>1</li>\n",
       "\t<li>2</li>\n",
       "\t<li>3</li>\n",
       "</ol>\n"
      ]
     },
     "execution_count": 17,
     "metadata": {
     },
     "output_type": "execute_result"
    }
   ],
   "source": [
    "(x <- 1:3)   # assigning this vector to a variable"
   ]
  },
  {
   "cell_type": "code",
   "execution_count": 18,
   "metadata": {
    "collapsed": false,
    "slideshow": {
     "slide_type": "subslide"
    }
   },
   "outputs": [
    {
     "data": {
      "text/html": [
       "<ol class=list-inline>\n",
       "\t<li>1</li>\n",
       "\t<li>2</li>\n",
       "\t<li>3</li>\n",
       "</ol>\n"
      ]
     },
     "execution_count": 18,
     "metadata": {
     },
     "output_type": "execute_result"
    }
   ],
   "source": [
    "x   # displaying the vector"
   ]
  },
  {
   "cell_type": "code",
   "execution_count": 19,
   "metadata": {
    "collapsed": false,
    "slideshow": {
     "slide_type": "subslide"
    }
   },
   "outputs": [
   ],
   "source": [
    "y = 4:6   # another assignment"
   ]
  },
  {
   "cell_type": "code",
   "execution_count": 20,
   "metadata": {
    "collapsed": false,
    "slideshow": {
     "slide_type": "subslide"
    }
   },
   "outputs": [
    {
     "data": {
      "text/html": [
       "<ol class=list-inline>\n",
       "\t<li>7</li>\n",
       "\t<li>8</li>\n",
       "\t<li>9</li>\n",
       "</ol>\n"
      ]
     },
     "execution_count": 20,
     "metadata": {
     },
     "output_type": "execute_result"
    }
   ],
   "source": [
    "(z = 7:9)   # another way to display, with yet another assignment"
   ]
  },
  {
   "cell_type": "code",
   "execution_count": 21,
   "metadata": {
    "collapsed": false,
    "slideshow": {
     "slide_type": "subslide"
    }
   },
   "outputs": [
    {
     "data": {
      "text/html": [
       "<ol class=list-inline>\n",
       "\t<li>12</li>\n",
       "\t<li>-9</li>\n",
       "</ol>\n"
      ]
     },
     "execution_count": 21,
     "metadata": {
     },
     "output_type": "execute_result"
    }
   ],
   "source": [
    "(w <- c(12,-9))   # assignment of non-sequential numbers"
   ]
  },
  {
   "cell_type": "code",
   "execution_count": 22,
   "metadata": {
    "collapsed": false,
    "slideshow": {
     "slide_type": "subslide"
    }
   },
   "outputs": [
    {
     "data": {
      "text/html": [
       "<ol class=list-inline>\n",
       "\t<li>'12'</li>\n",
       "\t<li>'-9'</li>\n",
       "\t<li>'pamplemousse'</li>\n",
       "</ol>\n"
      ]
     },
     "execution_count": 22,
     "metadata": {
     },
     "output_type": "execute_result"
    }
   ],
   "source": [
    "(v = c(w,\"pamplemousse\"))   # assignment of mixed objects"
   ]
  },
  {
   "cell_type": "code",
   "execution_count": 23,
   "metadata": {
    "collapsed": false,
    "slideshow": {
     "slide_type": "subslide"
    }
   },
   "outputs": [
    {
     "data": {
      "text/html": [
       "<table>\n",
       "<tbody>\n",
       "\t<tr><td>1 </td><td> 2</td></tr>\n",
       "\t<tr><td>3 </td><td> 4</td></tr>\n",
       "\t<tr><td>5 </td><td> 6</td></tr>\n",
       "\t<tr><td>7 </td><td> 8</td></tr>\n",
       "\t<tr><td>9 </td><td>10</td></tr>\n",
       "</tbody>\n",
       "</table>\n"
      ]
     },
     "execution_count": 23,
     "metadata": {
     },
     "output_type": "execute_result"
    }
   ],
   "source": [
    "(u = t(matrix(1:10,ncol=5)))   # assignment of a matrix"
   ]
  },
  {
   "cell_type": "markdown",
   "metadata": {
    "collapsed": false,
    "slideshow": {
     "slide_type": "slide"
    }
   },
   "source": [
    "### 5.2 DATA TYPES AND CONVERSION <a name=data_manip_conv></a>"
   ]
  },
  {
   "cell_type": "code",
   "execution_count": 24,
   "metadata": {
    "collapsed": false,
    "slideshow": {
     "slide_type": "subslide"
    }
   },
   "outputs": [
    {
     "data": {
      "text/html": [
       "TRUE"
      ]
     },
     "execution_count": 24,
     "metadata": {
     },
     "output_type": "execute_result"
    },
    {
     "data": {
      "text/html": [
       "FALSE"
      ]
     },
     "execution_count": 24,
     "metadata": {
     },
     "output_type": "execute_result"
    },
    {
     "data": {
      "text/html": [
       "TRUE"
      ]
     },
     "execution_count": 24,
     "metadata": {
     },
     "output_type": "execute_result"
    },
    {
     "data": {
      "text/html": [
       "FALSE"
      ]
     },
     "execution_count": 24,
     "metadata": {
     },
     "output_type": "execute_result"
    },
    {
     "data": {
      "text/html": [
       "FALSE"
      ]
     },
     "execution_count": 24,
     "metadata": {
     },
     "output_type": "execute_result"
    }
   ],
   "source": [
    "# test if an object is of a certain type I\n",
    "is.numeric(x)\n",
    "is.character(x)\n",
    "is.vector(x)\n",
    "is.matrix(x)\n",
    "is.data.frame(x)"
   ]
  },
  {
   "cell_type": "code",
   "execution_count": 25,
   "metadata": {
    "collapsed": false,
    "slideshow": {
     "slide_type": "subslide"
    }
   },
   "outputs": [
    {
     "data": {
      "text/html": [
       "FALSE"
      ]
     },
     "execution_count": 25,
     "metadata": {
     },
     "output_type": "execute_result"
    },
    {
     "data": {
      "text/html": [
       "TRUE"
      ]
     },
     "execution_count": 25,
     "metadata": {
     },
     "output_type": "execute_result"
    },
    {
     "data": {
      "text/html": [
       "TRUE"
      ]
     },
     "execution_count": 25,
     "metadata": {
     },
     "output_type": "execute_result"
    }
   ],
   "source": [
    "# test if an object is of a certain type II\n",
    "is.character(w)\n",
    "is.character(v)\n",
    "is.data.frame(swiss)"
   ]
  },
  {
   "cell_type": "code",
   "execution_count": 26,
   "metadata": {
    "collapsed": false,
    "slideshow": {
     "slide_type": "subslide"
    }
   },
   "outputs": [
    {
     "data": {
      "text/html": [
       "<ol class=list-inline>\n",
       "\t<li>1</li>\n",
       "\t<li>2</li>\n",
       "\t<li>3</li>\n",
       "</ol>\n"
      ]
     },
     "execution_count": 26,
     "metadata": {
     },
     "output_type": "execute_result"
    },
    {
     "data": {
      "text/html": [
       "<ol class=list-inline>\n",
       "\t<li>'1'</li>\n",
       "\t<li>'2'</li>\n",
       "\t<li>'3'</li>\n",
       "</ol>\n"
      ]
     },
     "execution_count": 26,
     "metadata": {
     },
     "output_type": "execute_result"
    },
    {
     "data": {
      "text/html": [
       "<ol class=list-inline>\n",
       "\t<li>1</li>\n",
       "\t<li>2</li>\n",
       "\t<li>3</li>\n",
       "</ol>\n"
      ]
     },
     "execution_count": 26,
     "metadata": {
     },
     "output_type": "execute_result"
    },
    {
     "data": {
      "text/html": [
       "<table>\n",
       "<tbody>\n",
       "\t<tr><td>1</td></tr>\n",
       "\t<tr><td>2</td></tr>\n",
       "\t<tr><td>3</td></tr>\n",
       "</tbody>\n",
       "</table>\n"
      ]
     },
     "execution_count": 26,
     "metadata": {
     },
     "output_type": "execute_result"
    },
    {
     "data": {
      "text/html": [
       "<table>\n",
       "<thead><tr><th scope=col>x</th></tr></thead>\n",
       "<tbody>\n",
       "\t<tr><td>1</td></tr>\n",
       "\t<tr><td>2</td></tr>\n",
       "\t<tr><td>3</td></tr>\n",
       "</tbody>\n",
       "</table>\n"
      ]
     },
     "execution_count": 26,
     "metadata": {
     },
     "output_type": "execute_result"
    }
   ],
   "source": [
    "# set an object as a specific type\n",
    "as.numeric(x)\n",
    "as.character(x)\n",
    "as.vector(x)\n",
    "as.matrix(x)\n",
    "as.data.frame(x)"
   ]
  },
  {
   "cell_type": "code",
   "execution_count": 27,
   "metadata": {
    "collapsed": false,
    "slideshow": {
     "slide_type": "slide"
    }
   },
   "outputs": [
    {
     "data": {
      "text/html": [
       "<ol class=list-inline>\n",
       "\t<li>4</li>\n",
       "\t<li>5</li>\n",
       "\t<li>6</li>\n",
       "\t<li>7</li>\n",
       "\t<li>8</li>\n",
       "\t<li>9</li>\n",
       "</ol>\n"
      ]
     },
     "execution_count": 27,
     "metadata": {
     },
     "output_type": "execute_result"
    },
    {
     "data": {
      "text/html": [
       "<table>\n",
       "<thead><tr><th scope=col>x</th><th scope=col>y</th></tr></thead>\n",
       "<tbody>\n",
       "\t<tr><td>1</td><td>4</td></tr>\n",
       "\t<tr><td>2</td><td>5</td></tr>\n",
       "\t<tr><td>3</td><td>6</td></tr>\n",
       "</tbody>\n",
       "</table>\n"
      ]
     },
     "execution_count": 27,
     "metadata": {
     },
     "output_type": "execute_result"
    },
    {
     "data": {
      "text/html": [
       "<table>\n",
       "<tbody>\n",
       "\t<tr><th scope=row>x</th><td>1</td><td>2</td><td>3</td></tr>\n",
       "\t<tr><th scope=row>y</th><td>4</td><td>5</td><td>6</td></tr>\n",
       "</tbody>\n",
       "</table>\n"
      ]
     },
     "execution_count": 27,
     "metadata": {
     },
     "output_type": "execute_result"
    },
    {
     "data": {
      "text/html": [
       "<table>\n",
       "<thead><tr><th scope=col>x</th><th scope=col>y</th></tr></thead>\n",
       "<tbody>\n",
       "\t<tr><td>1</td><td>4</td></tr>\n",
       "\t<tr><td>2</td><td>5</td></tr>\n",
       "\t<tr><td>3</td><td>6</td></tr>\n",
       "</tbody>\n",
       "</table>\n"
      ]
     },
     "execution_count": 27,
     "metadata": {
     },
     "output_type": "execute_result"
    }
   ],
   "source": [
    "# combine vectors into single vector\n",
    "c(y,z)\n",
    "\n",
    "# convert vectors to matrix\n",
    "cbind(x,y)\n",
    "rbind(x,y)\n",
    "\n",
    "# convert vectors to data.frame\n",
    "data.frame(x,y)"
   ]
  },
  {
   "cell_type": "code",
   "execution_count": 28,
   "metadata": {
    "collapsed": false,
    "slideshow": {
     "slide_type": "subslide"
    }
   },
   "outputs": [
    {
     "data": {
      "text/html": [
       "<ol class=list-inline>\n",
       "\t<li>1</li>\n",
       "\t<li>3</li>\n",
       "\t<li>5</li>\n",
       "\t<li>7</li>\n",
       "\t<li>9</li>\n",
       "\t<li>2</li>\n",
       "\t<li>4</li>\n",
       "\t<li>6</li>\n",
       "\t<li>8</li>\n",
       "\t<li>10</li>\n",
       "</ol>\n"
      ]
     },
     "execution_count": 28,
     "metadata": {
     },
     "output_type": "execute_result"
    },
    {
     "data": {
      "text/html": [
       "<table>\n",
       "<thead><tr><th scope=col>V1</th><th scope=col>V2</th></tr></thead>\n",
       "<tbody>\n",
       "\t<tr><td>1 </td><td> 2</td></tr>\n",
       "\t<tr><td>3 </td><td> 4</td></tr>\n",
       "\t<tr><td>5 </td><td> 6</td></tr>\n",
       "\t<tr><td>7 </td><td> 8</td></tr>\n",
       "\t<tr><td>9 </td><td>10</td></tr>\n",
       "</tbody>\n",
       "</table>\n"
      ]
     },
     "execution_count": 28,
     "metadata": {
     },
     "output_type": "execute_result"
    }
   ],
   "source": [
    "# convert matrix to vector\n",
    "as.vector(u)\n",
    "\n",
    "# convert matrix to data frame\n",
    "as.data.frame(u)"
   ]
  },
  {
   "cell_type": "code",
   "execution_count": 29,
   "metadata": {
    "collapsed": false,
    "slideshow": {
     "slide_type": "subslide"
    }
   },
   "outputs": [
    {
     "data": {
      "text/html": [
       "<table>\n",
       "<thead><tr><th></th><th scope=col>Fertility</th><th scope=col>Agriculture</th><th scope=col>Examination</th><th scope=col>Education</th><th scope=col>Catholic</th><th scope=col>Infant.Mortality</th></tr></thead>\n",
       "<tbody>\n",
       "\t<tr><th scope=row>Courtelary</th><td>80.2  </td><td>17.0  </td><td>15    </td><td>12    </td><td>  9.96</td><td>22.2  </td></tr>\n",
       "\t<tr><th scope=row>Delemont</th><td>83.1  </td><td>45.1  </td><td> 6    </td><td> 9    </td><td> 84.84</td><td>22.2  </td></tr>\n",
       "\t<tr><th scope=row>Franches-Mnt</th><td>92.5  </td><td>39.7  </td><td> 5    </td><td> 5    </td><td> 93.40</td><td>20.2  </td></tr>\n",
       "\t<tr><th scope=row>Moutier</th><td>85.8  </td><td>36.5  </td><td>12    </td><td> 7    </td><td> 33.77</td><td>20.3  </td></tr>\n",
       "\t<tr><th scope=row>Neuveville</th><td>76.9  </td><td>43.5  </td><td>17    </td><td>15    </td><td>  5.16</td><td>20.6  </td></tr>\n",
       "\t<tr><th scope=row>Porrentruy</th><td>76.1  </td><td>35.3  </td><td> 9    </td><td> 7    </td><td> 90.57</td><td>26.6  </td></tr>\n",
       "\t<tr><th scope=row>Broye</th><td>83.8  </td><td>70.2  </td><td>16    </td><td> 7    </td><td> 92.85</td><td>23.6  </td></tr>\n",
       "\t<tr><th scope=row>Glane</th><td>92.4  </td><td>67.8  </td><td>14    </td><td> 8    </td><td> 97.16</td><td>24.9  </td></tr>\n",
       "\t<tr><th scope=row>Gruyere</th><td>82.4  </td><td>53.3  </td><td>12    </td><td> 7    </td><td> 97.67</td><td>21.0  </td></tr>\n",
       "\t<tr><th scope=row>Sarine</th><td>82.9  </td><td>45.2  </td><td>16    </td><td>13    </td><td> 91.38</td><td>24.4  </td></tr>\n",
       "\t<tr><th scope=row>Veveyse</th><td>87.1  </td><td>64.5  </td><td>14    </td><td> 6    </td><td> 98.61</td><td>24.5  </td></tr>\n",
       "\t<tr><th scope=row>Aigle</th><td>64.1  </td><td>62.0  </td><td>21    </td><td>12    </td><td>  8.52</td><td>16.5  </td></tr>\n",
       "\t<tr><th scope=row>Aubonne</th><td>66.9  </td><td>67.5  </td><td>14    </td><td> 7    </td><td>  2.27</td><td>19.1  </td></tr>\n",
       "\t<tr><th scope=row>Avenches</th><td>68.9  </td><td>60.7  </td><td>19    </td><td>12    </td><td>  4.43</td><td>22.7  </td></tr>\n",
       "\t<tr><th scope=row>Cossonay</th><td>61.7  </td><td>69.3  </td><td>22    </td><td> 5    </td><td>  2.82</td><td>18.7  </td></tr>\n",
       "\t<tr><th scope=row>Echallens</th><td>68.3  </td><td>72.6  </td><td>18    </td><td> 2    </td><td> 24.20</td><td>21.2  </td></tr>\n",
       "\t<tr><th scope=row>Grandson</th><td>71.7  </td><td>34.0  </td><td>17    </td><td> 8    </td><td>  3.30</td><td>20.0  </td></tr>\n",
       "\t<tr><th scope=row>Lausanne</th><td>55.7  </td><td>19.4  </td><td>26    </td><td>28    </td><td> 12.11</td><td>20.2  </td></tr>\n",
       "\t<tr><th scope=row>La Vallee</th><td>54.3  </td><td>15.2  </td><td>31    </td><td>20    </td><td>  2.15</td><td>10.8  </td></tr>\n",
       "\t<tr><th scope=row>Lavaux</th><td>65.1  </td><td>73.0  </td><td>19    </td><td> 9    </td><td>  2.84</td><td>20.0  </td></tr>\n",
       "\t<tr><th scope=row>Morges</th><td>65.5  </td><td>59.8  </td><td>22    </td><td>10    </td><td>  5.23</td><td>18.0  </td></tr>\n",
       "\t<tr><th scope=row>Moudon</th><td>65.0  </td><td>55.1  </td><td>14    </td><td> 3    </td><td>  4.52</td><td>22.4  </td></tr>\n",
       "\t<tr><th scope=row>Nyone</th><td>56.6  </td><td>50.9  </td><td>22    </td><td>12    </td><td> 15.14</td><td>16.7  </td></tr>\n",
       "\t<tr><th scope=row>Orbe</th><td>57.4  </td><td>54.1  </td><td>20    </td><td> 6    </td><td>  4.20</td><td>15.3  </td></tr>\n",
       "\t<tr><th scope=row>Oron</th><td>72.5  </td><td>71.2  </td><td>12    </td><td> 1    </td><td>  2.40</td><td>21.0  </td></tr>\n",
       "\t<tr><th scope=row>Payerne</th><td>74.2  </td><td>58.1  </td><td>14    </td><td> 8    </td><td>  5.23</td><td>23.8  </td></tr>\n",
       "\t<tr><th scope=row>Paysd'enhaut</th><td>72.0  </td><td>63.5  </td><td> 6    </td><td> 3    </td><td>  2.56</td><td>18.0  </td></tr>\n",
       "\t<tr><th scope=row>Rolle</th><td>60.5  </td><td>60.8  </td><td>16    </td><td>10    </td><td>  7.72</td><td>16.3  </td></tr>\n",
       "\t<tr><th scope=row>Vevey</th><td>58.3  </td><td>26.8  </td><td>25    </td><td>19    </td><td> 18.46</td><td>20.9  </td></tr>\n",
       "\t<tr><th scope=row>Yverdon</th><td>65.4  </td><td>49.5  </td><td>15    </td><td> 8    </td><td>  6.10</td><td>22.5  </td></tr>\n",
       "\t<tr><th scope=row>Conthey</th><td>75.5  </td><td>85.9  </td><td> 3    </td><td> 2    </td><td> 99.71</td><td>15.1  </td></tr>\n",
       "\t<tr><th scope=row>Entremont</th><td>69.3  </td><td>84.9  </td><td> 7    </td><td> 6    </td><td> 99.68</td><td>19.8  </td></tr>\n",
       "\t<tr><th scope=row>Herens</th><td>77.3  </td><td>89.7  </td><td> 5    </td><td> 2    </td><td>100.00</td><td>18.3  </td></tr>\n",
       "\t<tr><th scope=row>Martigwy</th><td>70.5  </td><td>78.2  </td><td>12    </td><td> 6    </td><td> 98.96</td><td>19.4  </td></tr>\n",
       "\t<tr><th scope=row>Monthey</th><td>79.4  </td><td>64.9  </td><td> 7    </td><td> 3    </td><td> 98.22</td><td>20.2  </td></tr>\n",
       "\t<tr><th scope=row>St Maurice</th><td>65.0  </td><td>75.9  </td><td> 9    </td><td> 9    </td><td> 99.06</td><td>17.8  </td></tr>\n",
       "\t<tr><th scope=row>Sierre</th><td>92.2  </td><td>84.6  </td><td> 3    </td><td> 3    </td><td> 99.46</td><td>16.3  </td></tr>\n",
       "\t<tr><th scope=row>Sion</th><td>79.3  </td><td>63.1  </td><td>13    </td><td>13    </td><td> 96.83</td><td>18.1  </td></tr>\n",
       "\t<tr><th scope=row>Boudry</th><td>70.4  </td><td>38.4  </td><td>26    </td><td>12    </td><td>  5.62</td><td>20.3  </td></tr>\n",
       "\t<tr><th scope=row>La Chauxdfnd</th><td>65.7  </td><td> 7.7  </td><td>29    </td><td>11    </td><td> 13.79</td><td>20.5  </td></tr>\n",
       "\t<tr><th scope=row>Le Locle</th><td>72.7  </td><td>16.7  </td><td>22    </td><td>13    </td><td> 11.22</td><td>18.9  </td></tr>\n",
       "\t<tr><th scope=row>Neuchatel</th><td>64.4  </td><td>17.6  </td><td>35    </td><td>32    </td><td> 16.92</td><td>23.0  </td></tr>\n",
       "\t<tr><th scope=row>Val de Ruz</th><td>77.6  </td><td>37.6  </td><td>15    </td><td> 7    </td><td>  4.97</td><td>20.0  </td></tr>\n",
       "\t<tr><th scope=row>ValdeTravers</th><td>67.6  </td><td>18.7  </td><td>25    </td><td> 7    </td><td>  8.65</td><td>19.5  </td></tr>\n",
       "\t<tr><th scope=row>V. De Geneve</th><td>35.0  </td><td> 1.2  </td><td>37    </td><td>53    </td><td> 42.34</td><td>18.0  </td></tr>\n",
       "\t<tr><th scope=row>Rive Droite</th><td>44.7  </td><td>46.6  </td><td>16    </td><td>29    </td><td> 50.43</td><td>18.2  </td></tr>\n",
       "\t<tr><th scope=row>Rive Gauche</th><td>42.8  </td><td>27.7  </td><td>22    </td><td>29    </td><td> 58.33</td><td>19.3  </td></tr>\n",
       "</tbody>\n",
       "</table>\n"
      ]
     },
     "execution_count": 29,
     "metadata": {
     },
     "output_type": "execute_result"
    }
   ],
   "source": [
    "# convert data frame to matrix\n",
    "(swiss_matrix=as.matrix(swiss))"
   ]
  },
  {
   "cell_type": "markdown",
   "metadata": {
    "collapsed": false,
    "slideshow": {
     "slide_type": "slide"
    }
   },
   "source": [
    "---\n",
    "[Back to top](#top)\n",
    "### 6. WRITING FUNCTIONS <a name=functions></a>\n",
    "What if we're interested in writing our own functions in R?\n",
    "\n",
    "The template for all functions is a block of code that looks like: \n",
    "\n",
    "`my.function <- function(arg1,arg2, ..., argn) {`\n",
    "     `# what my.function does, typically involving the arguments`\n",
    "`}`\n",
    "\n",
    "Here are some simple examples:"
   ]
  },
  {
   "cell_type": "code",
   "execution_count": 30,
   "metadata": {
    "collapsed": false
   },
   "outputs": [
    {
     "data": {
      "text/html": [
       "-24"
      ]
     },
     "execution_count": 30,
     "metadata": {
     },
     "output_type": "execute_result"
    },
    {
     "data": {
      "text/html": [
       "-24"
      ]
     },
     "execution_count": 30,
     "metadata": {
     },
     "output_type": "execute_result"
    },
    {
     "data": {
      "text/html": [
       "-24"
      ]
     },
     "execution_count": 30,
     "metadata": {
     },
     "output_type": "execute_result"
    },
    {
     "data": {
      "text/html": [
       "-24"
      ]
     },
     "execution_count": 30,
     "metadata": {
     },
     "output_type": "execute_result"
    }
   ],
   "source": [
    "# Function my.product which computes the product of two arguments x and y\n",
    "my.product <- function (x,y) {\n",
    "    x*y\n",
    "}\n",
    "\n",
    "# call my.product for x=12 and y=-2\n",
    "my.product(12,-2)\n",
    "my.product(x=12,y=-2)\n",
    "my.product(y=-2,x=12)\n",
    "my.product(-2,12) ## ok, because the product is commutative"
   ]
  },
  {
   "cell_type": "code",
   "execution_count": 31,
   "metadata": {
    "collapsed": false
   },
   "outputs": [
    {
     "data": {
      "text/html": [
       "-6"
      ]
     },
     "execution_count": 31,
     "metadata": {
     },
     "output_type": "execute_result"
    },
    {
     "data": {
      "text/html": [
       "-6"
      ]
     },
     "execution_count": 31,
     "metadata": {
     },
     "output_type": "execute_result"
    },
    {
     "data": {
      "text/html": [
       "-6"
      ]
     },
     "execution_count": 31,
     "metadata": {
     },
     "output_type": "execute_result"
    },
    {
     "data": {
      "text/html": [
       "-0.166666666666667"
      ]
     },
     "execution_count": 31,
     "metadata": {
     },
     "output_type": "execute_result"
    },
    {
     "data": {
      "text/html": [
       "Inf"
      ]
     },
     "execution_count": 31,
     "metadata": {
     },
     "output_type": "execute_result"
    }
   ],
   "source": [
    "# Function my.ratio which computes the quotient x / y\n",
    "my.quotient <- function (x,y) {\n",
    "    x/y\n",
    "}\n",
    "\n",
    "# call my.quotient for x=12 and y=-2\n",
    "my.quotient(12,-2)\n",
    "my.quotient(x=12,y=-2)\n",
    "my.quotient(y=-2,x=12)\n",
    "my.quotient(-2,12) ## what's happening here?\n",
    "\n",
    "# call my.quotient for x=12 and y=0\n",
    "my.quotient(12,0)"
   ]
  },
  {
   "cell_type": "markdown",
   "metadata": {
    "collapsed": false
   },
   "source": [
    "---\n",
    "[Back to top](#top)\n",
    "## 7. EXPLORING DATA\n",
    "Let's take a look at the swiss dataset in detail."
   ]
  },
  {
   "cell_type": "markdown",
   "metadata": {
    "collapsed": false
   },
   "source": [
    "### 7.1 `swiss` DATASET  <a name=exploring_swiss></a>"
   ]
  },
  {
   "cell_type": "code",
   "execution_count": 32,
   "metadata": {
    "collapsed": false,
    "slideshow": {
     "slide_type": "subslide"
    }
   },
   "outputs": [
    {
     "data": {
      "text/html": [
       "<table>\n",
       "<thead><tr><th></th><th scope=col>Fertility</th><th scope=col>Agriculture</th><th scope=col>Examination</th><th scope=col>Education</th><th scope=col>Catholic</th><th scope=col>Infant.Mortality</th></tr></thead>\n",
       "<tbody>\n",
       "\t<tr><th scope=row>Courtelary</th><td>80.2 </td><td>17.0 </td><td>15   </td><td>12   </td><td> 9.96</td><td>22.2 </td></tr>\n",
       "\t<tr><th scope=row>Delemont</th><td>83.1 </td><td>45.1 </td><td> 6   </td><td> 9   </td><td>84.84</td><td>22.2 </td></tr>\n",
       "\t<tr><th scope=row>Franches-Mnt</th><td>92.5 </td><td>39.7 </td><td> 5   </td><td> 5   </td><td>93.40</td><td>20.2 </td></tr>\n",
       "\t<tr><th scope=row>Moutier</th><td>85.8 </td><td>36.5 </td><td>12   </td><td> 7   </td><td>33.77</td><td>20.3 </td></tr>\n",
       "\t<tr><th scope=row>Neuveville</th><td>76.9 </td><td>43.5 </td><td>17   </td><td>15   </td><td> 5.16</td><td>20.6 </td></tr>\n",
       "\t<tr><th scope=row>Porrentruy</th><td>76.1 </td><td>35.3 </td><td> 9   </td><td> 7   </td><td>90.57</td><td>26.6 </td></tr>\n",
       "</tbody>\n",
       "</table>\n"
      ]
     },
     "execution_count": 32,
     "metadata": {
     },
     "output_type": "execute_result"
    },
    {
     "data": {
      "text/html": [
       "<table>\n",
       "<thead><tr><th></th><th scope=col>Fertility</th><th scope=col>Agriculture</th><th scope=col>Examination</th><th scope=col>Education</th><th scope=col>Catholic</th><th scope=col>Infant.Mortality</th></tr></thead>\n",
       "<tbody>\n",
       "\t<tr><th scope=row>Courtelary</th><td>80.2 </td><td>17.0 </td><td>15   </td><td>12   </td><td> 9.96</td><td>22.2 </td></tr>\n",
       "\t<tr><th scope=row>Delemont</th><td>83.1 </td><td>45.1 </td><td> 6   </td><td> 9   </td><td>84.84</td><td>22.2 </td></tr>\n",
       "\t<tr><th scope=row>Franches-Mnt</th><td>92.5 </td><td>39.7 </td><td> 5   </td><td> 5   </td><td>93.40</td><td>20.2 </td></tr>\n",
       "\t<tr><th scope=row>Moutier</th><td>85.8 </td><td>36.5 </td><td>12   </td><td> 7   </td><td>33.77</td><td>20.3 </td></tr>\n",
       "\t<tr><th scope=row>Neuveville</th><td>76.9 </td><td>43.5 </td><td>17   </td><td>15   </td><td> 5.16</td><td>20.6 </td></tr>\n",
       "\t<tr><th scope=row>Porrentruy</th><td>76.1 </td><td>35.3 </td><td> 9   </td><td> 7   </td><td>90.57</td><td>26.6 </td></tr>\n",
       "\t<tr><th scope=row>Broye</th><td>83.8 </td><td>70.2 </td><td>16   </td><td> 7   </td><td>92.85</td><td>23.6 </td></tr>\n",
       "\t<tr><th scope=row>Glane</th><td>92.4 </td><td>67.8 </td><td>14   </td><td> 8   </td><td>97.16</td><td>24.9 </td></tr>\n",
       "\t<tr><th scope=row>Gruyere</th><td>82.4 </td><td>53.3 </td><td>12   </td><td> 7   </td><td>97.67</td><td>21.0 </td></tr>\n",
       "\t<tr><th scope=row>Sarine</th><td>82.9 </td><td>45.2 </td><td>16   </td><td>13   </td><td>91.38</td><td>24.4 </td></tr>\n",
       "</tbody>\n",
       "</table>\n"
      ]
     },
     "execution_count": 32,
     "metadata": {
     },
     "output_type": "execute_result"
    }
   ],
   "source": [
    "# Display the first few entries of the dataset\n",
    "head(swiss)   # default is 6 observations\n",
    "head(swiss,10)   # setting a different number of observations, 10 in this case"
   ]
  },
  {
   "cell_type": "code",
   "execution_count": 33,
   "metadata": {
    "collapsed": false,
    "slideshow": {
     "slide_type": "subslide"
    }
   },
   "outputs": [
    {
     "data": {
      "text/html": [
       "<table>\n",
       "<thead><tr><th></th><th scope=col>Fertility</th><th scope=col>Agriculture</th><th scope=col>Examination</th><th scope=col>Education</th><th scope=col>Catholic</th><th scope=col>Infant.Mortality</th></tr></thead>\n",
       "<tbody>\n",
       "\t<tr><th scope=row>Neuchatel</th><td>64.4 </td><td>17.6 </td><td>35   </td><td>32   </td><td>16.92</td><td>23.0 </td></tr>\n",
       "\t<tr><th scope=row>Val de Ruz</th><td>77.6 </td><td>37.6 </td><td>15   </td><td> 7   </td><td> 4.97</td><td>20.0 </td></tr>\n",
       "\t<tr><th scope=row>ValdeTravers</th><td>67.6 </td><td>18.7 </td><td>25   </td><td> 7   </td><td> 8.65</td><td>19.5 </td></tr>\n",
       "\t<tr><th scope=row>V. De Geneve</th><td>35.0 </td><td> 1.2 </td><td>37   </td><td>53   </td><td>42.34</td><td>18.0 </td></tr>\n",
       "\t<tr><th scope=row>Rive Droite</th><td>44.7 </td><td>46.6 </td><td>16   </td><td>29   </td><td>50.43</td><td>18.2 </td></tr>\n",
       "\t<tr><th scope=row>Rive Gauche</th><td>42.8 </td><td>27.7 </td><td>22   </td><td>29   </td><td>58.33</td><td>19.3 </td></tr>\n",
       "</tbody>\n",
       "</table>\n"
      ]
     },
     "execution_count": 33,
     "metadata": {
     },
     "output_type": "execute_result"
    },
    {
     "data": {
      "text/html": [
       "<table>\n",
       "<thead><tr><th></th><th scope=col>Fertility</th><th scope=col>Agriculture</th><th scope=col>Examination</th><th scope=col>Education</th><th scope=col>Catholic</th><th scope=col>Infant.Mortality</th></tr></thead>\n",
       "<tbody>\n",
       "\t<tr><th scope=row>Sion</th><td>79.3 </td><td>63.1 </td><td>13   </td><td>13   </td><td>96.83</td><td>18.1 </td></tr>\n",
       "\t<tr><th scope=row>Boudry</th><td>70.4 </td><td>38.4 </td><td>26   </td><td>12   </td><td> 5.62</td><td>20.3 </td></tr>\n",
       "\t<tr><th scope=row>La Chauxdfnd</th><td>65.7 </td><td> 7.7 </td><td>29   </td><td>11   </td><td>13.79</td><td>20.5 </td></tr>\n",
       "\t<tr><th scope=row>Le Locle</th><td>72.7 </td><td>16.7 </td><td>22   </td><td>13   </td><td>11.22</td><td>18.9 </td></tr>\n",
       "\t<tr><th scope=row>Neuchatel</th><td>64.4 </td><td>17.6 </td><td>35   </td><td>32   </td><td>16.92</td><td>23.0 </td></tr>\n",
       "\t<tr><th scope=row>Val de Ruz</th><td>77.6 </td><td>37.6 </td><td>15   </td><td> 7   </td><td> 4.97</td><td>20.0 </td></tr>\n",
       "\t<tr><th scope=row>ValdeTravers</th><td>67.6 </td><td>18.7 </td><td>25   </td><td> 7   </td><td> 8.65</td><td>19.5 </td></tr>\n",
       "\t<tr><th scope=row>V. De Geneve</th><td>35.0 </td><td> 1.2 </td><td>37   </td><td>53   </td><td>42.34</td><td>18.0 </td></tr>\n",
       "\t<tr><th scope=row>Rive Droite</th><td>44.7 </td><td>46.6 </td><td>16   </td><td>29   </td><td>50.43</td><td>18.2 </td></tr>\n",
       "\t<tr><th scope=row>Rive Gauche</th><td>42.8 </td><td>27.7 </td><td>22   </td><td>29   </td><td>58.33</td><td>19.3 </td></tr>\n",
       "</tbody>\n",
       "</table>\n"
      ]
     },
     "execution_count": 33,
     "metadata": {
     },
     "output_type": "execute_result"
    },
    {
     "name": "stdout",
     "output_type": "stream",
     "text": [
      "'data.frame':\t47 obs. of  6 variables:\n",
      " $ Fertility       : num  80.2 83.1 92.5 85.8 76.9 76.1 83.8 92.4 82.4 82.9 ...\n",
      " $ Agriculture     : num  17 45.1 39.7 36.5 43.5 35.3 70.2 67.8 53.3 45.2 ...\n",
      " $ Examination     : int  15 6 5 12 17 9 16 14 12 16 ...\n",
      " $ Education       : int  12 9 5 7 15 7 7 8 7 13 ...\n",
      " $ Catholic        : num  9.96 84.84 93.4 33.77 5.16 ...\n",
      " $ Infant.Mortality: num  22.2 22.2 20.2 20.3 20.6 26.6 23.6 24.9 21 24.4 ...\n"
     ]
    }
   ],
   "source": [
    "# Display the last few entries of the dataset\n",
    "tail(swiss)\n",
    "tail(swiss,10)\n",
    "str(swiss)"
   ]
  },
  {
   "cell_type": "code",
   "execution_count": 34,
   "metadata": {
    "collapsed": false,
    "slideshow": {
     "slide_type": "subslide"
    }
   },
   "outputs": [
    {
     "data": {
      "text/html": [
       "<ol class=list-inline>\n",
       "\t<li>12</li>\n",
       "\t<li>9</li>\n",
       "\t<li>5</li>\n",
       "\t<li>7</li>\n",
       "\t<li>15</li>\n",
       "\t<li>7</li>\n",
       "\t<li>7</li>\n",
       "\t<li>8</li>\n",
       "\t<li>7</li>\n",
       "\t<li>13</li>\n",
       "\t<li>6</li>\n",
       "\t<li>12</li>\n",
       "\t<li>7</li>\n",
       "\t<li>12</li>\n",
       "\t<li>5</li>\n",
       "\t<li>2</li>\n",
       "\t<li>8</li>\n",
       "\t<li>28</li>\n",
       "\t<li>20</li>\n",
       "\t<li>9</li>\n",
       "\t<li>10</li>\n",
       "\t<li>3</li>\n",
       "\t<li>12</li>\n",
       "\t<li>6</li>\n",
       "\t<li>1</li>\n",
       "\t<li>8</li>\n",
       "\t<li>3</li>\n",
       "\t<li>10</li>\n",
       "\t<li>19</li>\n",
       "\t<li>8</li>\n",
       "\t<li>2</li>\n",
       "\t<li>6</li>\n",
       "\t<li>2</li>\n",
       "\t<li>6</li>\n",
       "\t<li>3</li>\n",
       "\t<li>9</li>\n",
       "\t<li>3</li>\n",
       "\t<li>13</li>\n",
       "\t<li>12</li>\n",
       "\t<li>11</li>\n",
       "\t<li>13</li>\n",
       "\t<li>32</li>\n",
       "\t<li>7</li>\n",
       "\t<li>7</li>\n",
       "\t<li>53</li>\n",
       "\t<li>29</li>\n",
       "\t<li>29</li>\n",
       "</ol>\n"
      ]
     },
     "execution_count": 34,
     "metadata": {
     },
     "output_type": "execute_result"
    },
    {
     "data": {
      "text/html": [
       "<dl class=dl-horizontal>\n",
       "\t<dt>Courtelary</dt>\n",
       "\t\t<dd>12</dd>\n",
       "\t<dt>Delemont</dt>\n",
       "\t\t<dd>9</dd>\n",
       "\t<dt>Franches-Mnt</dt>\n",
       "\t\t<dd>5</dd>\n",
       "\t<dt>Moutier</dt>\n",
       "\t\t<dd>7</dd>\n",
       "\t<dt>Neuveville</dt>\n",
       "\t\t<dd>15</dd>\n",
       "\t<dt>Porrentruy</dt>\n",
       "\t\t<dd>7</dd>\n",
       "\t<dt>Broye</dt>\n",
       "\t\t<dd>7</dd>\n",
       "\t<dt>Glane</dt>\n",
       "\t\t<dd>8</dd>\n",
       "\t<dt>Gruyere</dt>\n",
       "\t\t<dd>7</dd>\n",
       "\t<dt>Sarine</dt>\n",
       "\t\t<dd>13</dd>\n",
       "\t<dt>Veveyse</dt>\n",
       "\t\t<dd>6</dd>\n",
       "\t<dt>Aigle</dt>\n",
       "\t\t<dd>12</dd>\n",
       "\t<dt>Aubonne</dt>\n",
       "\t\t<dd>7</dd>\n",
       "\t<dt>Avenches</dt>\n",
       "\t\t<dd>12</dd>\n",
       "\t<dt>Cossonay</dt>\n",
       "\t\t<dd>5</dd>\n",
       "\t<dt>Echallens</dt>\n",
       "\t\t<dd>2</dd>\n",
       "\t<dt>Grandson</dt>\n",
       "\t\t<dd>8</dd>\n",
       "\t<dt>Lausanne</dt>\n",
       "\t\t<dd>28</dd>\n",
       "\t<dt>La Vallee</dt>\n",
       "\t\t<dd>20</dd>\n",
       "\t<dt>Lavaux</dt>\n",
       "\t\t<dd>9</dd>\n",
       "\t<dt>Morges</dt>\n",
       "\t\t<dd>10</dd>\n",
       "\t<dt>Moudon</dt>\n",
       "\t\t<dd>3</dd>\n",
       "\t<dt>Nyone</dt>\n",
       "\t\t<dd>12</dd>\n",
       "\t<dt>Orbe</dt>\n",
       "\t\t<dd>6</dd>\n",
       "\t<dt>Oron</dt>\n",
       "\t\t<dd>1</dd>\n",
       "\t<dt>Payerne</dt>\n",
       "\t\t<dd>8</dd>\n",
       "\t<dt>Paysd'enhaut</dt>\n",
       "\t\t<dd>3</dd>\n",
       "\t<dt>Rolle</dt>\n",
       "\t\t<dd>10</dd>\n",
       "\t<dt>Vevey</dt>\n",
       "\t\t<dd>19</dd>\n",
       "\t<dt>Yverdon</dt>\n",
       "\t\t<dd>8</dd>\n",
       "\t<dt>Conthey</dt>\n",
       "\t\t<dd>2</dd>\n",
       "\t<dt>Entremont</dt>\n",
       "\t\t<dd>6</dd>\n",
       "\t<dt>Herens</dt>\n",
       "\t\t<dd>2</dd>\n",
       "\t<dt>Martigwy</dt>\n",
       "\t\t<dd>6</dd>\n",
       "\t<dt>Monthey</dt>\n",
       "\t\t<dd>3</dd>\n",
       "\t<dt>St Maurice</dt>\n",
       "\t\t<dd>9</dd>\n",
       "\t<dt>Sierre</dt>\n",
       "\t\t<dd>3</dd>\n",
       "\t<dt>Sion</dt>\n",
       "\t\t<dd>13</dd>\n",
       "\t<dt>Boudry</dt>\n",
       "\t\t<dd>12</dd>\n",
       "\t<dt>La Chauxdfnd</dt>\n",
       "\t\t<dd>11</dd>\n",
       "\t<dt>Le Locle</dt>\n",
       "\t\t<dd>13</dd>\n",
       "\t<dt>Neuchatel</dt>\n",
       "\t\t<dd>32</dd>\n",
       "\t<dt>Val de Ruz</dt>\n",
       "\t\t<dd>7</dd>\n",
       "\t<dt>ValdeTravers</dt>\n",
       "\t\t<dd>7</dd>\n",
       "\t<dt>V. De Geneve</dt>\n",
       "\t\t<dd>53</dd>\n",
       "\t<dt>Rive Droite</dt>\n",
       "\t\t<dd>29</dd>\n",
       "\t<dt>Rive Gauche</dt>\n",
       "\t\t<dd>29</dd>\n",
       "</dl>\n"
      ]
     },
     "execution_count": 34,
     "metadata": {
     },
     "output_type": "execute_result"
    }
   ],
   "source": [
    "# Display a specific column as a data frame\n",
    "swiss$Education   # extracting a specific colum with the $ operator\n",
    "#swiss_matrix$Education   # this cannot be done to a matrix\n",
    "swiss_matrix[,4]"
   ]
  },
  {
   "cell_type": "code",
   "execution_count": 35,
   "metadata": {
    "collapsed": false,
    "scrolled": true,
    "slideshow": {
     "slide_type": "slide"
    }
   },
   "outputs": [
    {
     "data": {
      "text/html": [
       "80.2"
      ]
     },
     "execution_count": 35,
     "metadata": {
     },
     "output_type": "execute_result"
    },
    {
     "data": {
      "text/html": [
       "<table>\n",
       "<thead><tr><th></th><th scope=col>Fertility</th><th scope=col>Agriculture</th><th scope=col>Examination</th><th scope=col>Education</th><th scope=col>Catholic</th><th scope=col>Infant.Mortality</th></tr></thead>\n",
       "<tbody>\n",
       "\t<tr><th scope=row>Courtelary</th><td>80.2</td><td>17  </td><td>15  </td><td>12  </td><td>9.96</td><td>22.2</td></tr>\n",
       "</tbody>\n",
       "</table>\n"
      ]
     },
     "execution_count": 35,
     "metadata": {
     },
     "output_type": "execute_result"
    },
    {
     "data": {
      "text/html": [
       "<ol class=list-inline>\n",
       "\t<li>17</li>\n",
       "\t<li>45.1</li>\n",
       "\t<li>39.7</li>\n",
       "\t<li>36.5</li>\n",
       "\t<li>43.5</li>\n",
       "\t<li>35.3</li>\n",
       "\t<li>70.2</li>\n",
       "\t<li>67.8</li>\n",
       "\t<li>53.3</li>\n",
       "\t<li>45.2</li>\n",
       "\t<li>64.5</li>\n",
       "\t<li>62</li>\n",
       "\t<li>67.5</li>\n",
       "\t<li>60.7</li>\n",
       "\t<li>69.3</li>\n",
       "\t<li>72.6</li>\n",
       "\t<li>34</li>\n",
       "\t<li>19.4</li>\n",
       "\t<li>15.2</li>\n",
       "\t<li>73</li>\n",
       "\t<li>59.8</li>\n",
       "\t<li>55.1</li>\n",
       "\t<li>50.9</li>\n",
       "\t<li>54.1</li>\n",
       "\t<li>71.2</li>\n",
       "\t<li>58.1</li>\n",
       "\t<li>63.5</li>\n",
       "\t<li>60.8</li>\n",
       "\t<li>26.8</li>\n",
       "\t<li>49.5</li>\n",
       "\t<li>85.9</li>\n",
       "\t<li>84.9</li>\n",
       "\t<li>89.7</li>\n",
       "\t<li>78.2</li>\n",
       "\t<li>64.9</li>\n",
       "\t<li>75.9</li>\n",
       "\t<li>84.6</li>\n",
       "\t<li>63.1</li>\n",
       "\t<li>38.4</li>\n",
       "\t<li>7.7</li>\n",
       "\t<li>16.7</li>\n",
       "\t<li>17.6</li>\n",
       "\t<li>37.6</li>\n",
       "\t<li>18.7</li>\n",
       "\t<li>1.2</li>\n",
       "\t<li>46.6</li>\n",
       "\t<li>27.7</li>\n",
       "</ol>\n"
      ]
     },
     "execution_count": 35,
     "metadata": {
     },
     "output_type": "execute_result"
    },
    {
     "data": {
      "text/html": [
       "<table>\n",
       "<thead><tr><th></th><th scope=col>Fertility</th><th scope=col>Agriculture</th><th scope=col>Examination</th><th scope=col>Education</th><th scope=col>Catholic</th><th scope=col>Infant.Mortality</th></tr></thead>\n",
       "<tbody>\n",
       "\t<tr><th scope=row>Delemont</th><td>83.1 </td><td>45.1 </td><td> 6   </td><td>9    </td><td>84.84</td><td>22.2 </td></tr>\n",
       "\t<tr><th scope=row>Moutier</th><td>85.8 </td><td>36.5 </td><td>12   </td><td>7    </td><td>33.77</td><td>20.3 </td></tr>\n",
       "</tbody>\n",
       "</table>\n"
      ]
     },
     "execution_count": 35,
     "metadata": {
     },
     "output_type": "execute_result"
    },
    {
     "data": {
      "text/html": [
       "<table>\n",
       "<thead><tr><th></th><th scope=col>Agriculture</th><th scope=col>Education</th></tr></thead>\n",
       "<tbody>\n",
       "\t<tr><th scope=row>Courtelary</th><td>17.0</td><td>12  </td></tr>\n",
       "\t<tr><th scope=row>Delemont</th><td>45.1</td><td> 9  </td></tr>\n",
       "\t<tr><th scope=row>Franches-Mnt</th><td>39.7</td><td> 5  </td></tr>\n",
       "\t<tr><th scope=row>Moutier</th><td>36.5</td><td> 7  </td></tr>\n",
       "\t<tr><th scope=row>Neuveville</th><td>43.5</td><td>15  </td></tr>\n",
       "\t<tr><th scope=row>Porrentruy</th><td>35.3</td><td> 7  </td></tr>\n",
       "\t<tr><th scope=row>Broye</th><td>70.2</td><td> 7  </td></tr>\n",
       "\t<tr><th scope=row>Glane</th><td>67.8</td><td> 8  </td></tr>\n",
       "\t<tr><th scope=row>Gruyere</th><td>53.3</td><td> 7  </td></tr>\n",
       "\t<tr><th scope=row>Sarine</th><td>45.2</td><td>13  </td></tr>\n",
       "\t<tr><th scope=row>Veveyse</th><td>64.5</td><td> 6  </td></tr>\n",
       "\t<tr><th scope=row>Aigle</th><td>62.0</td><td>12  </td></tr>\n",
       "\t<tr><th scope=row>Aubonne</th><td>67.5</td><td> 7  </td></tr>\n",
       "\t<tr><th scope=row>Avenches</th><td>60.7</td><td>12  </td></tr>\n",
       "\t<tr><th scope=row>Cossonay</th><td>69.3</td><td> 5  </td></tr>\n",
       "\t<tr><th scope=row>Echallens</th><td>72.6</td><td> 2  </td></tr>\n",
       "\t<tr><th scope=row>Grandson</th><td>34.0</td><td> 8  </td></tr>\n",
       "\t<tr><th scope=row>Lausanne</th><td>19.4</td><td>28  </td></tr>\n",
       "\t<tr><th scope=row>La Vallee</th><td>15.2</td><td>20  </td></tr>\n",
       "\t<tr><th scope=row>Lavaux</th><td>73.0</td><td> 9  </td></tr>\n",
       "\t<tr><th scope=row>Morges</th><td>59.8</td><td>10  </td></tr>\n",
       "\t<tr><th scope=row>Moudon</th><td>55.1</td><td> 3  </td></tr>\n",
       "\t<tr><th scope=row>Nyone</th><td>50.9</td><td>12  </td></tr>\n",
       "\t<tr><th scope=row>Orbe</th><td>54.1</td><td> 6  </td></tr>\n",
       "\t<tr><th scope=row>Oron</th><td>71.2</td><td> 1  </td></tr>\n",
       "\t<tr><th scope=row>Payerne</th><td>58.1</td><td> 8  </td></tr>\n",
       "\t<tr><th scope=row>Paysd'enhaut</th><td>63.5</td><td> 3  </td></tr>\n",
       "\t<tr><th scope=row>Rolle</th><td>60.8</td><td>10  </td></tr>\n",
       "\t<tr><th scope=row>Vevey</th><td>26.8</td><td>19  </td></tr>\n",
       "\t<tr><th scope=row>Yverdon</th><td>49.5</td><td> 8  </td></tr>\n",
       "\t<tr><th scope=row>Conthey</th><td>85.9</td><td> 2  </td></tr>\n",
       "\t<tr><th scope=row>Entremont</th><td>84.9</td><td> 6  </td></tr>\n",
       "\t<tr><th scope=row>Herens</th><td>89.7</td><td> 2  </td></tr>\n",
       "\t<tr><th scope=row>Martigwy</th><td>78.2</td><td> 6  </td></tr>\n",
       "\t<tr><th scope=row>Monthey</th><td>64.9</td><td> 3  </td></tr>\n",
       "\t<tr><th scope=row>St Maurice</th><td>75.9</td><td> 9  </td></tr>\n",
       "\t<tr><th scope=row>Sierre</th><td>84.6</td><td> 3  </td></tr>\n",
       "\t<tr><th scope=row>Sion</th><td>63.1</td><td>13  </td></tr>\n",
       "\t<tr><th scope=row>Boudry</th><td>38.4</td><td>12  </td></tr>\n",
       "\t<tr><th scope=row>La Chauxdfnd</th><td> 7.7</td><td>11  </td></tr>\n",
       "\t<tr><th scope=row>Le Locle</th><td>16.7</td><td>13  </td></tr>\n",
       "\t<tr><th scope=row>Neuchatel</th><td>17.6</td><td>32  </td></tr>\n",
       "\t<tr><th scope=row>Val de Ruz</th><td>37.6</td><td> 7  </td></tr>\n",
       "\t<tr><th scope=row>ValdeTravers</th><td>18.7</td><td> 7  </td></tr>\n",
       "\t<tr><th scope=row>V. De Geneve</th><td> 1.2</td><td>53  </td></tr>\n",
       "\t<tr><th scope=row>Rive Droite</th><td>46.6</td><td>29  </td></tr>\n",
       "\t<tr><th scope=row>Rive Gauche</th><td>27.7</td><td>29  </td></tr>\n",
       "</tbody>\n",
       "</table>\n"
      ]
     },
     "execution_count": 35,
     "metadata": {
     },
     "output_type": "execute_result"
    },
    {
     "data": {
      "text/html": [
       "<table>\n",
       "<thead><tr><th></th><th scope=col>Fertility</th><th scope=col>Examination</th><th scope=col>Education</th><th scope=col>Catholic</th><th scope=col>Infant.Mortality</th></tr></thead>\n",
       "<tbody>\n",
       "\t<tr><th scope=row>Courtelary</th><td>80.2  </td><td>15    </td><td>12    </td><td>  9.96</td><td>22.2  </td></tr>\n",
       "\t<tr><th scope=row>Delemont</th><td>83.1  </td><td> 6    </td><td> 9    </td><td> 84.84</td><td>22.2  </td></tr>\n",
       "\t<tr><th scope=row>Franches-Mnt</th><td>92.5  </td><td> 5    </td><td> 5    </td><td> 93.40</td><td>20.2  </td></tr>\n",
       "\t<tr><th scope=row>Moutier</th><td>85.8  </td><td>12    </td><td> 7    </td><td> 33.77</td><td>20.3  </td></tr>\n",
       "\t<tr><th scope=row>Neuveville</th><td>76.9  </td><td>17    </td><td>15    </td><td>  5.16</td><td>20.6  </td></tr>\n",
       "\t<tr><th scope=row>Porrentruy</th><td>76.1  </td><td> 9    </td><td> 7    </td><td> 90.57</td><td>26.6  </td></tr>\n",
       "\t<tr><th scope=row>Broye</th><td>83.8  </td><td>16    </td><td> 7    </td><td> 92.85</td><td>23.6  </td></tr>\n",
       "\t<tr><th scope=row>Glane</th><td>92.4  </td><td>14    </td><td> 8    </td><td> 97.16</td><td>24.9  </td></tr>\n",
       "\t<tr><th scope=row>Gruyere</th><td>82.4  </td><td>12    </td><td> 7    </td><td> 97.67</td><td>21.0  </td></tr>\n",
       "\t<tr><th scope=row>Sarine</th><td>82.9  </td><td>16    </td><td>13    </td><td> 91.38</td><td>24.4  </td></tr>\n",
       "\t<tr><th scope=row>Veveyse</th><td>87.1  </td><td>14    </td><td> 6    </td><td> 98.61</td><td>24.5  </td></tr>\n",
       "\t<tr><th scope=row>Aigle</th><td>64.1  </td><td>21    </td><td>12    </td><td>  8.52</td><td>16.5  </td></tr>\n",
       "\t<tr><th scope=row>Aubonne</th><td>66.9  </td><td>14    </td><td> 7    </td><td>  2.27</td><td>19.1  </td></tr>\n",
       "\t<tr><th scope=row>Avenches</th><td>68.9  </td><td>19    </td><td>12    </td><td>  4.43</td><td>22.7  </td></tr>\n",
       "\t<tr><th scope=row>Cossonay</th><td>61.7  </td><td>22    </td><td> 5    </td><td>  2.82</td><td>18.7  </td></tr>\n",
       "\t<tr><th scope=row>Echallens</th><td>68.3  </td><td>18    </td><td> 2    </td><td> 24.20</td><td>21.2  </td></tr>\n",
       "\t<tr><th scope=row>Grandson</th><td>71.7  </td><td>17    </td><td> 8    </td><td>  3.30</td><td>20.0  </td></tr>\n",
       "\t<tr><th scope=row>Lausanne</th><td>55.7  </td><td>26    </td><td>28    </td><td> 12.11</td><td>20.2  </td></tr>\n",
       "\t<tr><th scope=row>La Vallee</th><td>54.3  </td><td>31    </td><td>20    </td><td>  2.15</td><td>10.8  </td></tr>\n",
       "\t<tr><th scope=row>Lavaux</th><td>65.1  </td><td>19    </td><td> 9    </td><td>  2.84</td><td>20.0  </td></tr>\n",
       "\t<tr><th scope=row>Morges</th><td>65.5  </td><td>22    </td><td>10    </td><td>  5.23</td><td>18.0  </td></tr>\n",
       "\t<tr><th scope=row>Moudon</th><td>65.0  </td><td>14    </td><td> 3    </td><td>  4.52</td><td>22.4  </td></tr>\n",
       "\t<tr><th scope=row>Nyone</th><td>56.6  </td><td>22    </td><td>12    </td><td> 15.14</td><td>16.7  </td></tr>\n",
       "\t<tr><th scope=row>Orbe</th><td>57.4  </td><td>20    </td><td> 6    </td><td>  4.20</td><td>15.3  </td></tr>\n",
       "\t<tr><th scope=row>Oron</th><td>72.5  </td><td>12    </td><td> 1    </td><td>  2.40</td><td>21.0  </td></tr>\n",
       "\t<tr><th scope=row>Payerne</th><td>74.2  </td><td>14    </td><td> 8    </td><td>  5.23</td><td>23.8  </td></tr>\n",
       "\t<tr><th scope=row>Paysd'enhaut</th><td>72.0  </td><td> 6    </td><td> 3    </td><td>  2.56</td><td>18.0  </td></tr>\n",
       "\t<tr><th scope=row>Rolle</th><td>60.5  </td><td>16    </td><td>10    </td><td>  7.72</td><td>16.3  </td></tr>\n",
       "\t<tr><th scope=row>Vevey</th><td>58.3  </td><td>25    </td><td>19    </td><td> 18.46</td><td>20.9  </td></tr>\n",
       "\t<tr><th scope=row>Yverdon</th><td>65.4  </td><td>15    </td><td> 8    </td><td>  6.10</td><td>22.5  </td></tr>\n",
       "\t<tr><th scope=row>Conthey</th><td>75.5  </td><td> 3    </td><td> 2    </td><td> 99.71</td><td>15.1  </td></tr>\n",
       "\t<tr><th scope=row>Entremont</th><td>69.3  </td><td> 7    </td><td> 6    </td><td> 99.68</td><td>19.8  </td></tr>\n",
       "\t<tr><th scope=row>Herens</th><td>77.3  </td><td> 5    </td><td> 2    </td><td>100.00</td><td>18.3  </td></tr>\n",
       "\t<tr><th scope=row>Martigwy</th><td>70.5  </td><td>12    </td><td> 6    </td><td> 98.96</td><td>19.4  </td></tr>\n",
       "\t<tr><th scope=row>Monthey</th><td>79.4  </td><td> 7    </td><td> 3    </td><td> 98.22</td><td>20.2  </td></tr>\n",
       "\t<tr><th scope=row>St Maurice</th><td>65.0  </td><td> 9    </td><td> 9    </td><td> 99.06</td><td>17.8  </td></tr>\n",
       "\t<tr><th scope=row>Sierre</th><td>92.2  </td><td> 3    </td><td> 3    </td><td> 99.46</td><td>16.3  </td></tr>\n",
       "\t<tr><th scope=row>Sion</th><td>79.3  </td><td>13    </td><td>13    </td><td> 96.83</td><td>18.1  </td></tr>\n",
       "\t<tr><th scope=row>Boudry</th><td>70.4  </td><td>26    </td><td>12    </td><td>  5.62</td><td>20.3  </td></tr>\n",
       "\t<tr><th scope=row>La Chauxdfnd</th><td>65.7  </td><td>29    </td><td>11    </td><td> 13.79</td><td>20.5  </td></tr>\n",
       "\t<tr><th scope=row>Le Locle</th><td>72.7  </td><td>22    </td><td>13    </td><td> 11.22</td><td>18.9  </td></tr>\n",
       "\t<tr><th scope=row>Neuchatel</th><td>64.4  </td><td>35    </td><td>32    </td><td> 16.92</td><td>23.0  </td></tr>\n",
       "\t<tr><th scope=row>Val de Ruz</th><td>77.6  </td><td>15    </td><td> 7    </td><td>  4.97</td><td>20.0  </td></tr>\n",
       "\t<tr><th scope=row>ValdeTravers</th><td>67.6  </td><td>25    </td><td> 7    </td><td>  8.65</td><td>19.5  </td></tr>\n",
       "\t<tr><th scope=row>V. De Geneve</th><td>35.0  </td><td>37    </td><td>53    </td><td> 42.34</td><td>18.0  </td></tr>\n",
       "\t<tr><th scope=row>Rive Droite</th><td>44.7  </td><td>16    </td><td>29    </td><td> 50.43</td><td>18.2  </td></tr>\n",
       "\t<tr><th scope=row>Rive Gauche</th><td>42.8  </td><td>22    </td><td>29    </td><td> 58.33</td><td>19.3  </td></tr>\n",
       "</tbody>\n",
       "</table>\n"
      ]
     },
     "execution_count": 35,
     "metadata": {
     },
     "output_type": "execute_result"
    },
    {
     "data": {
      "text/html": [
       "<table>\n",
       "<thead><tr><th></th><th scope=col>Fertility</th><th scope=col>Agriculture</th><th scope=col>Examination</th><th scope=col>Education</th><th scope=col>Catholic</th><th scope=col>Infant.Mortality</th></tr></thead>\n",
       "<tbody>\n",
       "\t<tr><th scope=row>Courtelary</th><td>80.2  </td><td>17.0  </td><td>15    </td><td>12    </td><td>  9.96</td><td>22.2  </td></tr>\n",
       "\t<tr><th scope=row>Delemont</th><td>83.1  </td><td>45.1  </td><td> 6    </td><td> 9    </td><td> 84.84</td><td>22.2  </td></tr>\n",
       "\t<tr><th scope=row>Moutier</th><td>85.8  </td><td>36.5  </td><td>12    </td><td> 7    </td><td> 33.77</td><td>20.3  </td></tr>\n",
       "\t<tr><th scope=row>Neuveville</th><td>76.9  </td><td>43.5  </td><td>17    </td><td>15    </td><td>  5.16</td><td>20.6  </td></tr>\n",
       "\t<tr><th scope=row>Porrentruy</th><td>76.1  </td><td>35.3  </td><td> 9    </td><td> 7    </td><td> 90.57</td><td>26.6  </td></tr>\n",
       "\t<tr><th scope=row>Broye</th><td>83.8  </td><td>70.2  </td><td>16    </td><td> 7    </td><td> 92.85</td><td>23.6  </td></tr>\n",
       "\t<tr><th scope=row>Glane</th><td>92.4  </td><td>67.8  </td><td>14    </td><td> 8    </td><td> 97.16</td><td>24.9  </td></tr>\n",
       "\t<tr><th scope=row>Gruyere</th><td>82.4  </td><td>53.3  </td><td>12    </td><td> 7    </td><td> 97.67</td><td>21.0  </td></tr>\n",
       "\t<tr><th scope=row>Sarine</th><td>82.9  </td><td>45.2  </td><td>16    </td><td>13    </td><td> 91.38</td><td>24.4  </td></tr>\n",
       "\t<tr><th scope=row>Veveyse</th><td>87.1  </td><td>64.5  </td><td>14    </td><td> 6    </td><td> 98.61</td><td>24.5  </td></tr>\n",
       "\t<tr><th scope=row>Aigle</th><td>64.1  </td><td>62.0  </td><td>21    </td><td>12    </td><td>  8.52</td><td>16.5  </td></tr>\n",
       "\t<tr><th scope=row>Aubonne</th><td>66.9  </td><td>67.5  </td><td>14    </td><td> 7    </td><td>  2.27</td><td>19.1  </td></tr>\n",
       "\t<tr><th scope=row>Avenches</th><td>68.9  </td><td>60.7  </td><td>19    </td><td>12    </td><td>  4.43</td><td>22.7  </td></tr>\n",
       "\t<tr><th scope=row>Cossonay</th><td>61.7  </td><td>69.3  </td><td>22    </td><td> 5    </td><td>  2.82</td><td>18.7  </td></tr>\n",
       "\t<tr><th scope=row>Echallens</th><td>68.3  </td><td>72.6  </td><td>18    </td><td> 2    </td><td> 24.20</td><td>21.2  </td></tr>\n",
       "\t<tr><th scope=row>Grandson</th><td>71.7  </td><td>34.0  </td><td>17    </td><td> 8    </td><td>  3.30</td><td>20.0  </td></tr>\n",
       "\t<tr><th scope=row>Lausanne</th><td>55.7  </td><td>19.4  </td><td>26    </td><td>28    </td><td> 12.11</td><td>20.2  </td></tr>\n",
       "\t<tr><th scope=row>La Vallee</th><td>54.3  </td><td>15.2  </td><td>31    </td><td>20    </td><td>  2.15</td><td>10.8  </td></tr>\n",
       "\t<tr><th scope=row>Lavaux</th><td>65.1  </td><td>73.0  </td><td>19    </td><td> 9    </td><td>  2.84</td><td>20.0  </td></tr>\n",
       "\t<tr><th scope=row>Morges</th><td>65.5  </td><td>59.8  </td><td>22    </td><td>10    </td><td>  5.23</td><td>18.0  </td></tr>\n",
       "\t<tr><th scope=row>Moudon</th><td>65.0  </td><td>55.1  </td><td>14    </td><td> 3    </td><td>  4.52</td><td>22.4  </td></tr>\n",
       "\t<tr><th scope=row>Nyone</th><td>56.6  </td><td>50.9  </td><td>22    </td><td>12    </td><td> 15.14</td><td>16.7  </td></tr>\n",
       "\t<tr><th scope=row>Orbe</th><td>57.4  </td><td>54.1  </td><td>20    </td><td> 6    </td><td>  4.20</td><td>15.3  </td></tr>\n",
       "\t<tr><th scope=row>Oron</th><td>72.5  </td><td>71.2  </td><td>12    </td><td> 1    </td><td>  2.40</td><td>21.0  </td></tr>\n",
       "\t<tr><th scope=row>Payerne</th><td>74.2  </td><td>58.1  </td><td>14    </td><td> 8    </td><td>  5.23</td><td>23.8  </td></tr>\n",
       "\t<tr><th scope=row>Paysd'enhaut</th><td>72.0  </td><td>63.5  </td><td> 6    </td><td> 3    </td><td>  2.56</td><td>18.0  </td></tr>\n",
       "\t<tr><th scope=row>Rolle</th><td>60.5  </td><td>60.8  </td><td>16    </td><td>10    </td><td>  7.72</td><td>16.3  </td></tr>\n",
       "\t<tr><th scope=row>Vevey</th><td>58.3  </td><td>26.8  </td><td>25    </td><td>19    </td><td> 18.46</td><td>20.9  </td></tr>\n",
       "\t<tr><th scope=row>Yverdon</th><td>65.4  </td><td>49.5  </td><td>15    </td><td> 8    </td><td>  6.10</td><td>22.5  </td></tr>\n",
       "\t<tr><th scope=row>Conthey</th><td>75.5  </td><td>85.9  </td><td> 3    </td><td> 2    </td><td> 99.71</td><td>15.1  </td></tr>\n",
       "\t<tr><th scope=row>Entremont</th><td>69.3  </td><td>84.9  </td><td> 7    </td><td> 6    </td><td> 99.68</td><td>19.8  </td></tr>\n",
       "\t<tr><th scope=row>Herens</th><td>77.3  </td><td>89.7  </td><td> 5    </td><td> 2    </td><td>100.00</td><td>18.3  </td></tr>\n",
       "\t<tr><th scope=row>Martigwy</th><td>70.5  </td><td>78.2  </td><td>12    </td><td> 6    </td><td> 98.96</td><td>19.4  </td></tr>\n",
       "\t<tr><th scope=row>Monthey</th><td>79.4  </td><td>64.9  </td><td> 7    </td><td> 3    </td><td> 98.22</td><td>20.2  </td></tr>\n",
       "\t<tr><th scope=row>St Maurice</th><td>65.0  </td><td>75.9  </td><td> 9    </td><td> 9    </td><td> 99.06</td><td>17.8  </td></tr>\n",
       "\t<tr><th scope=row>Sierre</th><td>92.2  </td><td>84.6  </td><td> 3    </td><td> 3    </td><td> 99.46</td><td>16.3  </td></tr>\n",
       "\t<tr><th scope=row>Sion</th><td>79.3  </td><td>63.1  </td><td>13    </td><td>13    </td><td> 96.83</td><td>18.1  </td></tr>\n",
       "\t<tr><th scope=row>Boudry</th><td>70.4  </td><td>38.4  </td><td>26    </td><td>12    </td><td>  5.62</td><td>20.3  </td></tr>\n",
       "\t<tr><th scope=row>La Chauxdfnd</th><td>65.7  </td><td> 7.7  </td><td>29    </td><td>11    </td><td> 13.79</td><td>20.5  </td></tr>\n",
       "\t<tr><th scope=row>Le Locle</th><td>72.7  </td><td>16.7  </td><td>22    </td><td>13    </td><td> 11.22</td><td>18.9  </td></tr>\n",
       "\t<tr><th scope=row>Neuchatel</th><td>64.4  </td><td>17.6  </td><td>35    </td><td>32    </td><td> 16.92</td><td>23.0  </td></tr>\n",
       "\t<tr><th scope=row>Val de Ruz</th><td>77.6  </td><td>37.6  </td><td>15    </td><td> 7    </td><td>  4.97</td><td>20.0  </td></tr>\n",
       "\t<tr><th scope=row>ValdeTravers</th><td>67.6  </td><td>18.7  </td><td>25    </td><td> 7    </td><td>  8.65</td><td>19.5  </td></tr>\n",
       "\t<tr><th scope=row>V. De Geneve</th><td>35.0  </td><td> 1.2  </td><td>37    </td><td>53    </td><td> 42.34</td><td>18.0  </td></tr>\n",
       "\t<tr><th scope=row>Rive Droite</th><td>44.7  </td><td>46.6  </td><td>16    </td><td>29    </td><td> 50.43</td><td>18.2  </td></tr>\n",
       "\t<tr><th scope=row>Rive Gauche</th><td>42.8  </td><td>27.7  </td><td>22    </td><td>29    </td><td> 58.33</td><td>19.3  </td></tr>\n",
       "</tbody>\n",
       "</table>\n"
      ]
     },
     "execution_count": 35,
     "metadata": {
     },
     "output_type": "execute_result"
    }
   ],
   "source": [
    "# Displaying specific entries, rows, and columns using matrix notation\n",
    "swiss[1,1] # 1st row, 1st column\n",
    "swiss[1,] # 1st row\n",
    "swiss[,2] # 2nd column\n",
    "swiss[c(2,4),] # 2nd and 4th rows\n",
    "swiss[,c(2,4)] # 2nd and 4th columns\n",
    "swiss[,-2] # all rows without the 2nd column\n",
    "swiss[-3,] # all columns without the 3rd row"
   ]
  },
  {
   "cell_type": "code",
   "execution_count": 36,
   "metadata": {
    "collapsed": false,
    "slideshow": {
     "slide_type": "slide"
    }
   },
   "outputs": [
    {
     "data": {
      "text/html": [
       "<ol class=list-inline>\n",
       "\t<li>'Fertility'</li>\n",
       "\t<li>'Agriculture'</li>\n",
       "\t<li>'Examination'</li>\n",
       "\t<li>'Education'</li>\n",
       "\t<li>'Catholic'</li>\n",
       "\t<li>'Infant.Mortality'</li>\n",
       "</ol>\n"
      ]
     },
     "execution_count": 36,
     "metadata": {
     },
     "output_type": "execute_result"
    },
    {
     "data": {
      "text/html": [
       "<ol class=list-inline>\n",
       "\t<li>'Courtelary'</li>\n",
       "\t<li>'Delemont'</li>\n",
       "\t<li>'Franches-Mnt'</li>\n",
       "\t<li>'Moutier'</li>\n",
       "\t<li>'Neuveville'</li>\n",
       "\t<li>'Porrentruy'</li>\n",
       "\t<li>'Broye'</li>\n",
       "\t<li>'Glane'</li>\n",
       "\t<li>'Gruyere'</li>\n",
       "\t<li>'Sarine'</li>\n",
       "\t<li>'Veveyse'</li>\n",
       "\t<li>'Aigle'</li>\n",
       "\t<li>'Aubonne'</li>\n",
       "\t<li>'Avenches'</li>\n",
       "\t<li>'Cossonay'</li>\n",
       "\t<li>'Echallens'</li>\n",
       "\t<li>'Grandson'</li>\n",
       "\t<li>'Lausanne'</li>\n",
       "\t<li>'La Vallee'</li>\n",
       "\t<li>'Lavaux'</li>\n",
       "\t<li>'Morges'</li>\n",
       "\t<li>'Moudon'</li>\n",
       "\t<li>'Nyone'</li>\n",
       "\t<li>'Orbe'</li>\n",
       "\t<li>'Oron'</li>\n",
       "\t<li>'Payerne'</li>\n",
       "\t<li>'Paysd\\'enhaut'</li>\n",
       "\t<li>'Rolle'</li>\n",
       "\t<li>'Vevey'</li>\n",
       "\t<li>'Yverdon'</li>\n",
       "\t<li>'Conthey'</li>\n",
       "\t<li>'Entremont'</li>\n",
       "\t<li>'Herens'</li>\n",
       "\t<li>'Martigwy'</li>\n",
       "\t<li>'Monthey'</li>\n",
       "\t<li>'St Maurice'</li>\n",
       "\t<li>'Sierre'</li>\n",
       "\t<li>'Sion'</li>\n",
       "\t<li>'Boudry'</li>\n",
       "\t<li>'La Chauxdfnd'</li>\n",
       "\t<li>'Le Locle'</li>\n",
       "\t<li>'Neuchatel'</li>\n",
       "\t<li>'Val de Ruz'</li>\n",
       "\t<li>'ValdeTravers'</li>\n",
       "\t<li>'V. De Geneve'</li>\n",
       "\t<li>'Rive Droite'</li>\n",
       "\t<li>'Rive Gauche'</li>\n",
       "</ol>\n"
      ]
     },
     "execution_count": 36,
     "metadata": {
     },
     "output_type": "execute_result"
    },
    {
     "name": "stdout",
     "output_type": "stream",
     "text": [
      "'data.frame':\t47 obs. of  6 variables:\n",
      " $ Fertility       : num  80.2 83.1 92.5 85.8 76.9 76.1 83.8 92.4 82.4 82.9 ...\n",
      " $ Agriculture     : num  17 45.1 39.7 36.5 43.5 35.3 70.2 67.8 53.3 45.2 ...\n",
      " $ Examination     : int  15 6 5 12 17 9 16 14 12 16 ...\n",
      " $ Education       : int  12 9 5 7 15 7 7 8 7 13 ...\n",
      " $ Catholic        : num  9.96 84.84 93.4 33.77 5.16 ...\n",
      " $ Infant.Mortality: num  22.2 22.2 20.2 20.3 20.6 26.6 23.6 24.9 21 24.4 ...\n"
     ]
    },
    {
     "data": {
      "text/plain": [
       "   Fertility      Agriculture     Examination      Education    \n",
       " Min.   :35.00   Min.   : 1.20   Min.   : 3.00   Min.   : 1.00  \n",
       " 1st Qu.:64.70   1st Qu.:35.90   1st Qu.:12.00   1st Qu.: 6.00  \n",
       " Median :70.40   Median :54.10   Median :16.00   Median : 8.00  \n",
       " Mean   :70.14   Mean   :50.66   Mean   :16.49   Mean   :10.98  \n",
       " 3rd Qu.:78.45   3rd Qu.:67.65   3rd Qu.:22.00   3rd Qu.:12.00  \n",
       " Max.   :92.50   Max.   :89.70   Max.   :37.00   Max.   :53.00  \n",
       "    Catholic       Infant.Mortality\n",
       " Min.   :  2.150   Min.   :10.80   \n",
       " 1st Qu.:  5.195   1st Qu.:18.15   \n",
       " Median : 15.140   Median :20.00   \n",
       " Mean   : 41.144   Mean   :19.94   \n",
       " 3rd Qu.: 93.125   3rd Qu.:21.70   \n",
       " Max.   :100.000   Max.   :26.60   "
      ]
     },
     "execution_count": 36,
     "metadata": {
     },
     "output_type": "execute_result"
    },
    {
     "data": {
      "text/html": [
       "<table>\n",
       "<thead><tr><th></th><th scope=col>vars</th><th scope=col>n</th><th scope=col>mean</th><th scope=col>sd</th><th scope=col>median</th><th scope=col>trimmed</th><th scope=col>mad</th><th scope=col>min</th><th scope=col>max</th><th scope=col>range</th><th scope=col>skew</th><th scope=col>kurtosis</th><th scope=col>se</th></tr></thead>\n",
       "<tbody>\n",
       "\t<tr><th scope=row>Fertility</th><td>1         </td><td>47        </td><td>70.14255  </td><td>12.491697 </td><td>70.40     </td><td>70.658974 </td><td>10.22994  </td><td>35.00     </td><td> 92.5     </td><td>57.50     </td><td>-0.4556871</td><td> 0.2599542</td><td>1.8221013 </td></tr>\n",
       "\t<tr><th scope=row>Agriculture</th><td>2         </td><td>47        </td><td>50.65957  </td><td>22.711218 </td><td>54.10     </td><td>51.156410 </td><td>23.86986  </td><td> 1.20     </td><td> 89.7     </td><td>88.50     </td><td>-0.3203637</td><td>-0.8855271</td><td>3.3127716 </td></tr>\n",
       "\t<tr><th scope=row>Examination</th><td>3         </td><td>47        </td><td>16.48936  </td><td> 7.977883 </td><td>16.00     </td><td>16.076923 </td><td> 7.41300  </td><td> 3.00     </td><td> 37.0     </td><td>34.00     </td><td> 0.4463996</td><td>-0.1369364</td><td>1.1636939 </td></tr>\n",
       "\t<tr><th scope=row>Education</th><td>4         </td><td>47        </td><td>10.97872  </td><td> 9.615407 </td><td> 8.00     </td><td> 9.384615 </td><td> 5.93040  </td><td> 1.00     </td><td> 53.0     </td><td>52.00     </td><td> 2.2684389</td><td> 6.1397347</td><td>1.4025513 </td></tr>\n",
       "\t<tr><th scope=row>Catholic</th><td>5         </td><td>47        </td><td>41.14383  </td><td>41.704850 </td><td>15.14     </td><td>39.116154 </td><td>18.65111  </td><td> 2.15     </td><td>100.0     </td><td>97.85     </td><td> 0.4789257</td><td>-1.6654195</td><td>6.0832776 </td></tr>\n",
       "\t<tr><th scope=row>Infant.Mortality</th><td>6         </td><td>47        </td><td>19.94255  </td><td> 2.912697 </td><td>20.00     </td><td>19.984615 </td><td> 2.81694  </td><td>10.80     </td><td> 26.6     </td><td>15.80     </td><td>-0.3314326</td><td> 0.7772868</td><td>0.4248605 </td></tr>\n",
       "</tbody>\n",
       "</table>\n"
      ]
     },
     "execution_count": 36,
     "metadata": {
     },
     "output_type": "execute_result"
    },
    {
     "data": {
      "text/html": [
       "<table>\n",
       "<thead><tr><th></th><th scope=col>Fertility</th><th scope=col>Agriculture</th><th scope=col>Examination</th><th scope=col>Education</th><th scope=col>Catholic</th><th scope=col>Infant.Mortality</th></tr></thead>\n",
       "<tbody>\n",
       "\t<tr><th scope=row>Fertility</th><td> 1.0000000 </td><td> 0.35307918</td><td>-0.6458827 </td><td>-0.66378886</td><td> 0.4636847 </td><td> 0.41655603</td></tr>\n",
       "\t<tr><th scope=row>Agriculture</th><td> 0.3530792 </td><td> 1.00000000</td><td>-0.6865422 </td><td>-0.63952252</td><td> 0.4010951 </td><td>-0.06085861</td></tr>\n",
       "\t<tr><th scope=row>Examination</th><td>-0.6458827 </td><td>-0.68654221</td><td> 1.0000000 </td><td> 0.69841530</td><td>-0.5727418 </td><td>-0.11402160</td></tr>\n",
       "\t<tr><th scope=row>Education</th><td>-0.6637889 </td><td>-0.63952252</td><td> 0.6984153 </td><td> 1.00000000</td><td>-0.1538589 </td><td>-0.09932185</td></tr>\n",
       "\t<tr><th scope=row>Catholic</th><td> 0.4636847 </td><td> 0.40109505</td><td>-0.5727418 </td><td>-0.15385892</td><td> 1.0000000 </td><td> 0.17549591</td></tr>\n",
       "\t<tr><th scope=row>Infant.Mortality</th><td> 0.4165560 </td><td>-0.06085861</td><td>-0.1140216 </td><td>-0.09932185</td><td> 0.1754959 </td><td> 1.00000000</td></tr>\n",
       "</tbody>\n",
       "</table>\n"
      ]
     },
     "execution_count": 36,
     "metadata": {
     },
     "output_type": "execute_result"
    }
   ],
   "source": [
    "# Summary statistics\n",
    "colnames(swiss)   # column names\n",
    "rownames(swiss)   # row names\n",
    "str(swiss)   # structure of the data frame\n",
    "summary(swiss)   # summary statistics of the data frame (5pt-summary + mean for numeric variables )\n",
    "\n",
    "library(psych)\n",
    "describe(swiss)   # matrix of data fame statistics: n, mean, sd, median, min, max, range, skew, kurtosis, se, + others\n",
    "cor(swiss)   # correlation matrix of the data"
   ]
  },
  {
   "cell_type": "code",
   "execution_count": 37,
   "metadata": {
    "collapsed": false,
    "slideshow": {
     "slide_type": "slide"
    }
   },
   "outputs": [
    {
     "data": {
      "text/plain": [
       "     count       spray \n",
       " Min.   : 0.00   A:12  \n",
       " 1st Qu.: 3.00   B:12  \n",
       " Median : 7.00   C:12  \n",
       " Mean   : 9.50   D:12  \n",
       " 3rd Qu.:14.25   E:12  \n",
       " Max.   :26.00   F:12  "
      ]
     },
     "execution_count": 37,
     "metadata": {
     },
     "output_type": "execute_result"
    },
    {
     "data": {
      "text/plain": [
       "     spray\n",
       "count A B C D E F\n",
       "   0  0 0 2 0 0 0\n",
       "   1  0 0 4 0 2 0\n",
       "   2  0 0 2 1 1 0\n",
       "   3  0 0 2 2 4 0\n",
       "   4  0 0 1 2 1 0\n",
       "   5  0 0 0 5 2 0\n",
       "   6  0 0 0 1 2 0\n",
       "   7  1 1 1 0 0 0\n",
       "   9  0 0 0 0 0 1\n",
       "   10 2 0 0 0 0 1\n",
       "   11 0 2 0 0 0 1\n",
       "   12 1 0 0 1 0 0\n",
       "   13 1 1 0 0 0 2\n",
       "   14 3 1 0 0 0 0\n",
       "   15 0 0 0 0 0 2\n",
       "   16 0 1 0 0 0 1\n",
       "   17 1 3 0 0 0 0\n",
       "   19 0 1 0 0 0 0\n",
       "   20 2 0 0 0 0 0\n",
       "   21 0 2 0 0 0 0\n",
       "   22 0 0 0 0 0 1\n",
       "   23 1 0 0 0 0 0\n",
       "   24 0 0 0 0 0 1\n",
       "   26 0 0 0 0 0 2"
      ]
     },
     "execution_count": 37,
     "metadata": {
     },
     "output_type": "execute_result"
    },
    {
     "name": "stdout",
     "output_type": "stream",
     "text": [
      "'data.frame':\t72 obs. of  2 variables:\n",
      " $ count: num  10 7 20 14 14 12 10 23 17 20 ...\n",
      " $ spray: Factor w/ 6 levels \"A\",\"B\",\"C\",\"D\",..: 1 1 1 1 1 1 1 1 1 1 ...\n"
     ]
    },
    {
     "data": {
      "text/html": [
       "<table>\n",
       "<thead><tr><th></th><th scope=col>vars</th><th scope=col>n</th><th scope=col>mean</th><th scope=col>sd</th><th scope=col>median</th><th scope=col>trimmed</th><th scope=col>mad</th><th scope=col>min</th><th scope=col>max</th><th scope=col>range</th><th scope=col>skew</th><th scope=col>kurtosis</th><th scope=col>se</th></tr></thead>\n",
       "<tbody>\n",
       "\t<tr><th scope=row>count</th><td>1         </td><td>72        </td><td>9.5       </td><td>7.203286  </td><td>7.0       </td><td>8.896552  </td><td>7.4130    </td><td>0         </td><td>26        </td><td>26        </td><td>0.5590721 </td><td>-0.8356673</td><td>0.8489154 </td></tr>\n",
       "\t<tr><th scope=row>spray*</th><td>2         </td><td>72        </td><td>3.5       </td><td>1.719810  </td><td>3.5       </td><td>3.500000  </td><td>2.2239    </td><td>1         </td><td> 6        </td><td> 5        </td><td>0.0000000 </td><td>-1.3163327</td><td>0.2026816 </td></tr>\n",
       "</tbody>\n",
       "</table>\n"
      ]
     },
     "execution_count": 37,
     "metadata": {
     },
     "output_type": "execute_result"
    },
    {
     "ename": "ERROR",
     "evalue": "Error in cor(InsectSprays): 'x' must be numeric\n",
     "output_type": "error",
     "traceback": [
      "Error in cor(InsectSprays): 'x' must be numeric\nTraceback:\n",
      "1. cor(InsectSprays)",
      "2. stop(\"'x' must be numeric\")"
     ]
    }
   ],
   "source": [
    "# Contrast: dataset with categorical variables\n",
    "summary(InsectSprays)   # count for categorical variables\n",
    "table(InsectSprays)   # joint empirical distribution\n",
    "str(InsectSprays)\n",
    "describe(InsectSprays)   # look at the statistics for the categorical variable\n",
    "cor(InsectSprays)   # what happens if there are categorical variables?"
   ]
  },
  {
   "cell_type": "code",
   "execution_count": 38,
   "metadata": {
    "collapsed": false,
    "slideshow": {
     "slide_type": "slide"
    }
   },
   "outputs": [
    {
     "data": {
      "text/html": [
       "47"
      ]
     },
     "execution_count": 38,
     "metadata": {
     },
     "output_type": "execute_result"
    }
   ],
   "source": [
    "# number of rows/observations \n",
    "nrow(swiss)"
   ]
  },
  {
   "cell_type": "code",
   "execution_count": 39,
   "metadata": {
    "collapsed": false,
    "slideshow": {
     "slide_type": "slide"
    }
   },
   "outputs": [
    {
     "data": {
      "text/plain": [
       "   Min. 1st Qu.  Median    Mean 3rd Qu.    Max. \n",
       "  35.00   64.70   70.40   70.14   78.45   92.50 "
      ]
     },
     "execution_count": 39,
     "metadata": {
     },
     "output_type": "execute_result"
    }
   ],
   "source": [
    "# summary of a single feature\n",
    "summary(swiss$Fertility)"
   ]
  },
  {
   "cell_type": "code",
   "execution_count": 40,
   "metadata": {
    "collapsed": false,
    "slideshow": {
     "slide_type": "slide"
    }
   },
   "outputs": [
    {
     "data": {
      "text/html": [
       "<ol class=list-inline>\n",
       "\t<li>TRUE</li>\n",
       "\t<li>TRUE</li>\n",
       "\t<li>TRUE</li>\n",
       "\t<li>TRUE</li>\n",
       "\t<li>TRUE</li>\n",
       "\t<li>TRUE</li>\n",
       "\t<li>TRUE</li>\n",
       "\t<li>TRUE</li>\n",
       "\t<li>TRUE</li>\n",
       "\t<li>TRUE</li>\n",
       "\t<li>TRUE</li>\n",
       "\t<li>TRUE</li>\n",
       "\t<li>TRUE</li>\n",
       "\t<li>TRUE</li>\n",
       "\t<li>TRUE</li>\n",
       "\t<li>TRUE</li>\n",
       "\t<li>TRUE</li>\n",
       "\t<li>TRUE</li>\n",
       "\t<li>TRUE</li>\n",
       "\t<li>TRUE</li>\n",
       "\t<li>TRUE</li>\n",
       "\t<li>TRUE</li>\n",
       "\t<li>TRUE</li>\n",
       "\t<li>TRUE</li>\n",
       "\t<li>TRUE</li>\n",
       "\t<li>TRUE</li>\n",
       "\t<li>TRUE</li>\n",
       "\t<li>TRUE</li>\n",
       "\t<li>TRUE</li>\n",
       "\t<li>TRUE</li>\n",
       "\t<li>TRUE</li>\n",
       "\t<li>TRUE</li>\n",
       "\t<li>TRUE</li>\n",
       "\t<li>TRUE</li>\n",
       "\t<li>TRUE</li>\n",
       "\t<li>TRUE</li>\n",
       "\t<li>TRUE</li>\n",
       "\t<li>TRUE</li>\n",
       "\t<li>TRUE</li>\n",
       "\t<li>TRUE</li>\n",
       "\t<li>TRUE</li>\n",
       "\t<li>TRUE</li>\n",
       "\t<li>TRUE</li>\n",
       "\t<li>TRUE</li>\n",
       "\t<li>FALSE</li>\n",
       "\t<li>FALSE</li>\n",
       "\t<li>FALSE</li>\n",
       "</ol>\n"
      ]
     },
     "execution_count": 40,
     "metadata": {
     },
     "output_type": "execute_result"
    }
   ],
   "source": [
    "# finding all observations for which a feature takes on a value greater than a threshold\n",
    "swiss$Fertility>50"
   ]
  },
  {
   "cell_type": "code",
   "execution_count": 41,
   "metadata": {
    "collapsed": false,
    "slideshow": {
     "slide_type": "slide"
    }
   },
   "outputs": [
    {
     "data": {
      "text/plain": [
       "   Mode   FALSE    TRUE \n",
       "logical       3      44 "
      ]
     },
     "execution_count": 41,
     "metadata": {
     },
     "output_type": "execute_result"
    }
   ],
   "source": [
    "#summary of a logical vector\n",
    "summary(swiss$Fertility>50)"
   ]
  },
  {
   "cell_type": "code",
   "execution_count": 42,
   "metadata": {
    "collapsed": false,
    "slideshow": {
     "slide_type": "slide"
    }
   },
   "outputs": [
    {
     "data": {
      "text/html": [
       "<table>\n",
       "<thead><tr><th></th><th scope=col>Fertility</th><th scope=col>Agriculture</th><th scope=col>Examination</th><th scope=col>Education</th><th scope=col>Catholic</th><th scope=col>Infant.Mortality</th></tr></thead>\n",
       "<tbody>\n",
       "\t<tr><th scope=row>Courtelary</th><td>80.2  </td><td>17.0  </td><td>15    </td><td>12    </td><td>  9.96</td><td>22.2  </td></tr>\n",
       "\t<tr><th scope=row>Delemont</th><td>83.1  </td><td>45.1  </td><td> 6    </td><td> 9    </td><td> 84.84</td><td>22.2  </td></tr>\n",
       "\t<tr><th scope=row>Franches-Mnt</th><td>92.5  </td><td>39.7  </td><td> 5    </td><td> 5    </td><td> 93.40</td><td>20.2  </td></tr>\n",
       "\t<tr><th scope=row>Moutier</th><td>85.8  </td><td>36.5  </td><td>12    </td><td> 7    </td><td> 33.77</td><td>20.3  </td></tr>\n",
       "\t<tr><th scope=row>Neuveville</th><td>76.9  </td><td>43.5  </td><td>17    </td><td>15    </td><td>  5.16</td><td>20.6  </td></tr>\n",
       "\t<tr><th scope=row>Porrentruy</th><td>76.1  </td><td>35.3  </td><td> 9    </td><td> 7    </td><td> 90.57</td><td>26.6  </td></tr>\n",
       "\t<tr><th scope=row>Broye</th><td>83.8  </td><td>70.2  </td><td>16    </td><td> 7    </td><td> 92.85</td><td>23.6  </td></tr>\n",
       "\t<tr><th scope=row>Glane</th><td>92.4  </td><td>67.8  </td><td>14    </td><td> 8    </td><td> 97.16</td><td>24.9  </td></tr>\n",
       "\t<tr><th scope=row>Gruyere</th><td>82.4  </td><td>53.3  </td><td>12    </td><td> 7    </td><td> 97.67</td><td>21.0  </td></tr>\n",
       "\t<tr><th scope=row>Sarine</th><td>82.9  </td><td>45.2  </td><td>16    </td><td>13    </td><td> 91.38</td><td>24.4  </td></tr>\n",
       "\t<tr><th scope=row>Veveyse</th><td>87.1  </td><td>64.5  </td><td>14    </td><td> 6    </td><td> 98.61</td><td>24.5  </td></tr>\n",
       "\t<tr><th scope=row>Aigle</th><td>64.1  </td><td>62.0  </td><td>21    </td><td>12    </td><td>  8.52</td><td>16.5  </td></tr>\n",
       "\t<tr><th scope=row>Aubonne</th><td>66.9  </td><td>67.5  </td><td>14    </td><td> 7    </td><td>  2.27</td><td>19.1  </td></tr>\n",
       "\t<tr><th scope=row>Avenches</th><td>68.9  </td><td>60.7  </td><td>19    </td><td>12    </td><td>  4.43</td><td>22.7  </td></tr>\n",
       "\t<tr><th scope=row>Cossonay</th><td>61.7  </td><td>69.3  </td><td>22    </td><td> 5    </td><td>  2.82</td><td>18.7  </td></tr>\n",
       "\t<tr><th scope=row>Echallens</th><td>68.3  </td><td>72.6  </td><td>18    </td><td> 2    </td><td> 24.20</td><td>21.2  </td></tr>\n",
       "\t<tr><th scope=row>Grandson</th><td>71.7  </td><td>34.0  </td><td>17    </td><td> 8    </td><td>  3.30</td><td>20.0  </td></tr>\n",
       "\t<tr><th scope=row>Lausanne</th><td>55.7  </td><td>19.4  </td><td>26    </td><td>28    </td><td> 12.11</td><td>20.2  </td></tr>\n",
       "\t<tr><th scope=row>La Vallee</th><td>54.3  </td><td>15.2  </td><td>31    </td><td>20    </td><td>  2.15</td><td>10.8  </td></tr>\n",
       "\t<tr><th scope=row>Lavaux</th><td>65.1  </td><td>73.0  </td><td>19    </td><td> 9    </td><td>  2.84</td><td>20.0  </td></tr>\n",
       "\t<tr><th scope=row>Morges</th><td>65.5  </td><td>59.8  </td><td>22    </td><td>10    </td><td>  5.23</td><td>18.0  </td></tr>\n",
       "\t<tr><th scope=row>Moudon</th><td>65.0  </td><td>55.1  </td><td>14    </td><td> 3    </td><td>  4.52</td><td>22.4  </td></tr>\n",
       "\t<tr><th scope=row>Nyone</th><td>56.6  </td><td>50.9  </td><td>22    </td><td>12    </td><td> 15.14</td><td>16.7  </td></tr>\n",
       "\t<tr><th scope=row>Orbe</th><td>57.4  </td><td>54.1  </td><td>20    </td><td> 6    </td><td>  4.20</td><td>15.3  </td></tr>\n",
       "\t<tr><th scope=row>Oron</th><td>72.5  </td><td>71.2  </td><td>12    </td><td> 1    </td><td>  2.40</td><td>21.0  </td></tr>\n",
       "\t<tr><th scope=row>Payerne</th><td>74.2  </td><td>58.1  </td><td>14    </td><td> 8    </td><td>  5.23</td><td>23.8  </td></tr>\n",
       "\t<tr><th scope=row>Paysd'enhaut</th><td>72.0  </td><td>63.5  </td><td> 6    </td><td> 3    </td><td>  2.56</td><td>18.0  </td></tr>\n",
       "\t<tr><th scope=row>Rolle</th><td>60.5  </td><td>60.8  </td><td>16    </td><td>10    </td><td>  7.72</td><td>16.3  </td></tr>\n",
       "\t<tr><th scope=row>Vevey</th><td>58.3  </td><td>26.8  </td><td>25    </td><td>19    </td><td> 18.46</td><td>20.9  </td></tr>\n",
       "\t<tr><th scope=row>Yverdon</th><td>65.4  </td><td>49.5  </td><td>15    </td><td> 8    </td><td>  6.10</td><td>22.5  </td></tr>\n",
       "\t<tr><th scope=row>Conthey</th><td>75.5  </td><td>85.9  </td><td> 3    </td><td> 2    </td><td> 99.71</td><td>15.1  </td></tr>\n",
       "\t<tr><th scope=row>Entremont</th><td>69.3  </td><td>84.9  </td><td> 7    </td><td> 6    </td><td> 99.68</td><td>19.8  </td></tr>\n",
       "\t<tr><th scope=row>Herens</th><td>77.3  </td><td>89.7  </td><td> 5    </td><td> 2    </td><td>100.00</td><td>18.3  </td></tr>\n",
       "\t<tr><th scope=row>Martigwy</th><td>70.5  </td><td>78.2  </td><td>12    </td><td> 6    </td><td> 98.96</td><td>19.4  </td></tr>\n",
       "\t<tr><th scope=row>Monthey</th><td>79.4  </td><td>64.9  </td><td> 7    </td><td> 3    </td><td> 98.22</td><td>20.2  </td></tr>\n",
       "\t<tr><th scope=row>St Maurice</th><td>65.0  </td><td>75.9  </td><td> 9    </td><td> 9    </td><td> 99.06</td><td>17.8  </td></tr>\n",
       "\t<tr><th scope=row>Sierre</th><td>92.2  </td><td>84.6  </td><td> 3    </td><td> 3    </td><td> 99.46</td><td>16.3  </td></tr>\n",
       "\t<tr><th scope=row>Sion</th><td>79.3  </td><td>63.1  </td><td>13    </td><td>13    </td><td> 96.83</td><td>18.1  </td></tr>\n",
       "\t<tr><th scope=row>Boudry</th><td>70.4  </td><td>38.4  </td><td>26    </td><td>12    </td><td>  5.62</td><td>20.3  </td></tr>\n",
       "\t<tr><th scope=row>La Chauxdfnd</th><td>65.7  </td><td> 7.7  </td><td>29    </td><td>11    </td><td> 13.79</td><td>20.5  </td></tr>\n",
       "\t<tr><th scope=row>Le Locle</th><td>72.7  </td><td>16.7  </td><td>22    </td><td>13    </td><td> 11.22</td><td>18.9  </td></tr>\n",
       "\t<tr><th scope=row>Neuchatel</th><td>64.4  </td><td>17.6  </td><td>35    </td><td>32    </td><td> 16.92</td><td>23.0  </td></tr>\n",
       "\t<tr><th scope=row>Val de Ruz</th><td>77.6  </td><td>37.6  </td><td>15    </td><td> 7    </td><td>  4.97</td><td>20.0  </td></tr>\n",
       "\t<tr><th scope=row>ValdeTravers</th><td>67.6  </td><td>18.7  </td><td>25    </td><td> 7    </td><td>  8.65</td><td>19.5  </td></tr>\n",
       "</tbody>\n",
       "</table>\n"
      ]
     },
     "execution_count": 42,
     "metadata": {
     },
     "output_type": "execute_result"
    },
    {
     "data": {
      "text/html": [
       "44"
      ]
     },
     "execution_count": 42,
     "metadata": {
     },
     "output_type": "execute_result"
    }
   ],
   "source": [
    "# historical cantons for which Fertility was > 50\n",
    "swiss[swiss$Fertility>50,]\n",
    "\n",
    "# number of such historical cantons\n",
    "nrow(swiss[swiss$Fertility>50,])   # should be at most as large as the number of observations"
   ]
  },
  {
   "cell_type": "code",
   "execution_count": 43,
   "metadata": {
    "collapsed": false,
    "slideshow": {
     "slide_type": "slide"
    }
   },
   "outputs": [
    {
     "data": {
      "text/html": [
       "<table>\n",
       "<thead><tr><th></th><th scope=col>Fertility</th><th scope=col>Agriculture</th><th scope=col>Examination</th><th scope=col>Education</th><th scope=col>Catholic</th><th scope=col>Infant.Mortality</th></tr></thead>\n",
       "<tbody>\n",
       "\t<tr><th scope=row>Courtelary</th><td>80.2  </td><td>17.0  </td><td>15    </td><td>12    </td><td>  9.96</td><td>22.2  </td></tr>\n",
       "\t<tr><th scope=row>Delemont</th><td>83.1  </td><td>45.1  </td><td> 6    </td><td> 9    </td><td> 84.84</td><td>22.2  </td></tr>\n",
       "\t<tr><th scope=row>Franches-Mnt</th><td>92.5  </td><td>39.7  </td><td> 5    </td><td> 5    </td><td> 93.40</td><td>20.2  </td></tr>\n",
       "\t<tr><th scope=row>Moutier</th><td>85.8  </td><td>36.5  </td><td>12    </td><td> 7    </td><td> 33.77</td><td>20.3  </td></tr>\n",
       "\t<tr><th scope=row>Neuveville</th><td>76.9  </td><td>43.5  </td><td>17    </td><td>15    </td><td>  5.16</td><td>20.6  </td></tr>\n",
       "\t<tr><th scope=row>Porrentruy</th><td>76.1  </td><td>35.3  </td><td> 9    </td><td> 7    </td><td> 90.57</td><td>26.6  </td></tr>\n",
       "\t<tr><th scope=row>Broye</th><td>83.8  </td><td>70.2  </td><td>16    </td><td> 7    </td><td> 92.85</td><td>23.6  </td></tr>\n",
       "\t<tr><th scope=row>Glane</th><td>92.4  </td><td>67.8  </td><td>14    </td><td> 8    </td><td> 97.16</td><td>24.9  </td></tr>\n",
       "\t<tr><th scope=row>Gruyere</th><td>82.4  </td><td>53.3  </td><td>12    </td><td> 7    </td><td> 97.67</td><td>21.0  </td></tr>\n",
       "\t<tr><th scope=row>Sarine</th><td>82.9  </td><td>45.2  </td><td>16    </td><td>13    </td><td> 91.38</td><td>24.4  </td></tr>\n",
       "\t<tr><th scope=row>Veveyse</th><td>87.1  </td><td>64.5  </td><td>14    </td><td> 6    </td><td> 98.61</td><td>24.5  </td></tr>\n",
       "\t<tr><th scope=row>Grandson</th><td>71.7  </td><td>34.0  </td><td>17    </td><td> 8    </td><td>  3.30</td><td>20.0  </td></tr>\n",
       "\t<tr><th scope=row>Oron</th><td>72.5  </td><td>71.2  </td><td>12    </td><td> 1    </td><td>  2.40</td><td>21.0  </td></tr>\n",
       "\t<tr><th scope=row>Payerne</th><td>74.2  </td><td>58.1  </td><td>14    </td><td> 8    </td><td>  5.23</td><td>23.8  </td></tr>\n",
       "\t<tr><th scope=row>Paysd'enhaut</th><td>72.0  </td><td>63.5  </td><td> 6    </td><td> 3    </td><td>  2.56</td><td>18.0  </td></tr>\n",
       "\t<tr><th scope=row>Conthey</th><td>75.5  </td><td>85.9  </td><td> 3    </td><td> 2    </td><td> 99.71</td><td>15.1  </td></tr>\n",
       "\t<tr><th scope=row>Herens</th><td>77.3  </td><td>89.7  </td><td> 5    </td><td> 2    </td><td>100.00</td><td>18.3  </td></tr>\n",
       "\t<tr><th scope=row>Martigwy</th><td>70.5  </td><td>78.2  </td><td>12    </td><td> 6    </td><td> 98.96</td><td>19.4  </td></tr>\n",
       "\t<tr><th scope=row>Monthey</th><td>79.4  </td><td>64.9  </td><td> 7    </td><td> 3    </td><td> 98.22</td><td>20.2  </td></tr>\n",
       "\t<tr><th scope=row>Sierre</th><td>92.2  </td><td>84.6  </td><td> 3    </td><td> 3    </td><td> 99.46</td><td>16.3  </td></tr>\n",
       "\t<tr><th scope=row>Sion</th><td>79.3  </td><td>63.1  </td><td>13    </td><td>13    </td><td> 96.83</td><td>18.1  </td></tr>\n",
       "\t<tr><th scope=row>Le Locle</th><td>72.7  </td><td>16.7  </td><td>22    </td><td>13    </td><td> 11.22</td><td>18.9  </td></tr>\n",
       "\t<tr><th scope=row>Val de Ruz</th><td>77.6  </td><td>37.6  </td><td>15    </td><td> 7    </td><td>  4.97</td><td>20.0  </td></tr>\n",
       "</tbody>\n",
       "</table>\n"
      ]
     },
     "execution_count": 43,
     "metadata": {
     },
     "output_type": "execute_result"
    },
    {
     "data": {
      "text/html": [
       "<table>\n",
       "<thead><tr><th></th><th scope=col>Fertility</th><th scope=col>Education</th></tr></thead>\n",
       "<tbody>\n",
       "\t<tr><th scope=row>Courtelary</th><td>80.2</td><td>12  </td></tr>\n",
       "\t<tr><th scope=row>Delemont</th><td>83.1</td><td> 9  </td></tr>\n",
       "\t<tr><th scope=row>Franches-Mnt</th><td>92.5</td><td> 5  </td></tr>\n",
       "\t<tr><th scope=row>Moutier</th><td>85.8</td><td> 7  </td></tr>\n",
       "\t<tr><th scope=row>Neuveville</th><td>76.9</td><td>15  </td></tr>\n",
       "\t<tr><th scope=row>Porrentruy</th><td>76.1</td><td> 7  </td></tr>\n",
       "\t<tr><th scope=row>Broye</th><td>83.8</td><td> 7  </td></tr>\n",
       "\t<tr><th scope=row>Glane</th><td>92.4</td><td> 8  </td></tr>\n",
       "\t<tr><th scope=row>Gruyere</th><td>82.4</td><td> 7  </td></tr>\n",
       "\t<tr><th scope=row>Sarine</th><td>82.9</td><td>13  </td></tr>\n",
       "\t<tr><th scope=row>Veveyse</th><td>87.1</td><td> 6  </td></tr>\n",
       "\t<tr><th scope=row>Grandson</th><td>71.7</td><td> 8  </td></tr>\n",
       "\t<tr><th scope=row>Oron</th><td>72.5</td><td> 1  </td></tr>\n",
       "\t<tr><th scope=row>Payerne</th><td>74.2</td><td> 8  </td></tr>\n",
       "\t<tr><th scope=row>Paysd'enhaut</th><td>72.0</td><td> 3  </td></tr>\n",
       "\t<tr><th scope=row>Conthey</th><td>75.5</td><td> 2  </td></tr>\n",
       "\t<tr><th scope=row>Herens</th><td>77.3</td><td> 2  </td></tr>\n",
       "\t<tr><th scope=row>Martigwy</th><td>70.5</td><td> 6  </td></tr>\n",
       "\t<tr><th scope=row>Monthey</th><td>79.4</td><td> 3  </td></tr>\n",
       "\t<tr><th scope=row>Sierre</th><td>92.2</td><td> 3  </td></tr>\n",
       "\t<tr><th scope=row>Sion</th><td>79.3</td><td>13  </td></tr>\n",
       "\t<tr><th scope=row>Le Locle</th><td>72.7</td><td>13  </td></tr>\n",
       "\t<tr><th scope=row>Val de Ruz</th><td>77.6</td><td> 7  </td></tr>\n",
       "</tbody>\n",
       "</table>\n"
      ]
     },
     "execution_count": 43,
     "metadata": {
     },
     "output_type": "execute_result"
    },
    {
     "data": {
      "text/html": [
       "<table>\n",
       "<thead><tr><th></th><th scope=col>Fertility</th><th scope=col>Education</th></tr></thead>\n",
       "<tbody>\n",
       "\t<tr><th scope=row>Courtelary</th><td>80.2</td><td>12  </td></tr>\n",
       "\t<tr><th scope=row>Delemont</th><td>83.1</td><td> 9  </td></tr>\n",
       "\t<tr><th scope=row>Franches-Mnt</th><td>92.5</td><td> 5  </td></tr>\n",
       "\t<tr><th scope=row>Moutier</th><td>85.8</td><td> 7  </td></tr>\n",
       "\t<tr><th scope=row>Neuveville</th><td>76.9</td><td>15  </td></tr>\n",
       "\t<tr><th scope=row>Porrentruy</th><td>76.1</td><td> 7  </td></tr>\n",
       "\t<tr><th scope=row>Broye</th><td>83.8</td><td> 7  </td></tr>\n",
       "\t<tr><th scope=row>Glane</th><td>92.4</td><td> 8  </td></tr>\n",
       "\t<tr><th scope=row>Gruyere</th><td>82.4</td><td> 7  </td></tr>\n",
       "\t<tr><th scope=row>Sarine</th><td>82.9</td><td>13  </td></tr>\n",
       "\t<tr><th scope=row>Veveyse</th><td>87.1</td><td> 6  </td></tr>\n",
       "\t<tr><th scope=row>Grandson</th><td>71.7</td><td> 8  </td></tr>\n",
       "\t<tr><th scope=row>Oron</th><td>72.5</td><td> 1  </td></tr>\n",
       "\t<tr><th scope=row>Payerne</th><td>74.2</td><td> 8  </td></tr>\n",
       "\t<tr><th scope=row>Paysd'enhaut</th><td>72.0</td><td> 3  </td></tr>\n",
       "\t<tr><th scope=row>Conthey</th><td>75.5</td><td> 2  </td></tr>\n",
       "\t<tr><th scope=row>Herens</th><td>77.3</td><td> 2  </td></tr>\n",
       "\t<tr><th scope=row>Martigwy</th><td>70.5</td><td> 6  </td></tr>\n",
       "\t<tr><th scope=row>Monthey</th><td>79.4</td><td> 3  </td></tr>\n",
       "\t<tr><th scope=row>Sierre</th><td>92.2</td><td> 3  </td></tr>\n",
       "\t<tr><th scope=row>Sion</th><td>79.3</td><td>13  </td></tr>\n",
       "\t<tr><th scope=row>Le Locle</th><td>72.7</td><td>13  </td></tr>\n",
       "\t<tr><th scope=row>Val de Ruz</th><td>77.6</td><td> 7  </td></tr>\n",
       "</tbody>\n",
       "</table>\n"
      ]
     },
     "execution_count": 43,
     "metadata": {
     },
     "output_type": "execute_result"
    },
    {
     "data": {
      "text/html": [
       "<table>\n",
       "<thead><tr><th></th><th scope=col>Fertility</th><th scope=col>Agriculture</th><th scope=col>Examination</th><th scope=col>Education</th><th scope=col>Catholic</th><th scope=col>Infant.Mortality</th></tr></thead>\n",
       "<tbody>\n",
       "\t<tr><th scope=row>Franches-Mnt</th><td>92.5</td><td>39.7</td><td>5   </td><td>5   </td><td>93.4</td><td>20.2</td></tr>\n",
       "</tbody>\n",
       "</table>\n"
      ]
     },
     "execution_count": 43,
     "metadata": {
     },
     "output_type": "execute_result"
    }
   ],
   "source": [
    "# historical cantons data where Fertility is in the top 50%\n",
    "swiss[swiss$Fertility>median(swiss$Fertility),]\n",
    "\n",
    "# Fertiliy and Education variables for historical cantons where Fertility is in the top 50%\n",
    "swiss[swiss$Fertility>median(swiss$Fertility),c(1,4)]   # matrix option\n",
    "swiss[swiss$Fertility>median(swiss$Fertility),c(\"Fertility\",\"Education\")]   # data frame call\n",
    "\n",
    "# historical canton(s) data where Fertility is maximal\n",
    "swiss[swiss$Fertility == max(swiss$Fertility),]"
   ]
  },
  {
   "cell_type": "code",
   "execution_count": 44,
   "metadata": {
    "collapsed": false,
    "slideshow": {
     "slide_type": "slide"
    }
   },
   "outputs": [
    {
     "data": {
      "text/plain": [
       "\n",
       "FALSE  TRUE \n",
       "   24    23 "
      ]
     },
     "execution_count": 44,
     "metadata": {
     },
     "output_type": "execute_result"
    },
    {
     "data": {
      "text/plain": [
       "\n",
       "FALSE  TRUE \n",
       "   25    22 "
      ]
     },
     "execution_count": 44,
     "metadata": {
     },
     "output_type": "execute_result"
    },
    {
     "data": {
      "text/plain": [
       "       \n",
       "        FALSE TRUE\n",
       "  FALSE     8   16\n",
       "  TRUE     17    6"
      ]
     },
     "execution_count": 44,
     "metadata": {
     },
     "output_type": "execute_result"
    }
   ],
   "source": [
    "swiss$var1 <- swiss[,1]>median(swiss[,1])   # find the historical cantons for which the first variable is in the top 50%\n",
    "swiss$var4 <- swiss[,4]>median(swiss[,4])   # find the historical cantons for which the fourth variable is in the top 50%\n",
    "table(swiss$var1)   # distribution of cantons about the median of the first variable\n",
    "table(swiss$var4)   # distribution of cantons about the median of the fourth variable\n",
    "table(swiss$var1,swiss$var4)   # what's going on here? rows = first variable, columns = second variable"
   ]
  },
  {
   "cell_type": "markdown",
   "metadata": {
    "collapsed": false,
    "slideshow": {
     "slide_type": "slide"
    }
   },
   "source": [
    "---\n",
    "[Back to top](#top)\n",
    "## 8. A WORD ABOUT NAs <a name=exploring_NAs></a>\n",
    "NA values in R can create some havoc. Be careful!"
   ]
  },
  {
   "cell_type": "code",
   "execution_count": 45,
   "metadata": {
    "collapsed": false,
    "slideshow": {
     "slide_type": "slide"
    }
   },
   "outputs": [
    {
     "data": {
      "text/plain": [
       "   Min. 1st Qu.  Median    Mean 3rd Qu.    Max.    NA's \n",
       "  1.000   1.000   2.000   2.506   4.000   4.000      21 "
      ]
     },
     "execution_count": 45,
     "metadata": {
     },
     "output_type": "execute_result"
    },
    {
     "data": {
      "text/html": [
       "&lt;NA&gt;"
      ]
     },
     "execution_count": 45,
     "metadata": {
     },
     "output_type": "execute_result"
    },
    {
     "data": {
      "text/html": [
       "2.50632911392405"
      ]
     },
     "execution_count": 45,
     "metadata": {
     },
     "output_type": "execute_result"
    }
   ],
   "source": [
    "test = sample(c(1:4,NA),100, replace=TRUE)   # pick 100 values (with replacement) among the values {1,2,3,4,NA}\n",
    "summary(test)   # 5pt summary + mean + number of NAs\n",
    "mean(test)   # mean of test data without removal of the NAs\n",
    "mean(test, na.rm=TRUE)   # mean of test data with removal of the NAs"
   ]
  },
  {
   "cell_type": "code",
   "execution_count": 46,
   "metadata": {
    "collapsed": false,
    "slideshow": {
     "slide_type": "slide"
    }
   },
   "outputs": [
    {
     "data": {
      "text/html": [
       "2"
      ]
     },
     "execution_count": 46,
     "metadata": {
     },
     "output_type": "execute_result"
    },
    {
     "data": {
      "text/html": [
       "1"
      ]
     },
     "execution_count": 46,
     "metadata": {
     },
     "output_type": "execute_result"
    },
    {
     "data": {
      "text/html": [
       "4"
      ]
     },
     "execution_count": 46,
     "metadata": {
     },
     "output_type": "execute_result"
    },
    {
     "data": {
      "text/html": [
       "<dl class=dl-horizontal>\n",
       "\t<dt>0%</dt>\n",
       "\t\t<dd>1</dd>\n",
       "\t<dt>25%</dt>\n",
       "\t\t<dd>1</dd>\n",
       "\t<dt>50%</dt>\n",
       "\t\t<dd>2</dd>\n",
       "\t<dt>75%</dt>\n",
       "\t\t<dd>4</dd>\n",
       "\t<dt>100%</dt>\n",
       "\t\t<dd>4</dd>\n",
       "</dl>\n"
      ]
     },
     "execution_count": 46,
     "metadata": {
     },
     "output_type": "execute_result"
    }
   ],
   "source": [
    "median(test, na.rm=TRUE)   # median of test data with removal of the NAs\n",
    "min(test, na.rm=TRUE)   # minimum of test data with removal of the NAs\n",
    "max(test, na.rm=TRUE)   # maximum of test data with removal of the NAs\n",
    "quantile(test, na.rm=TRUE)   # quantiles of test data with removal of the NAs"
   ]
  },
  {
   "cell_type": "markdown",
   "metadata": {
    "collapsed": false
   },
   "source": [
    "---\n",
    "[Back to top](#top)\n",
    "## 9. DATA WRANGLING <a name=wrangling></a>\n",
    "This section is based on _Data Wrangling with R: How to work with the structures of your data_ by G. Grolemund (Slides available at:\n",
    "bit.ly/wrangling-webinar)."
   ]
  },
  {
   "cell_type": "code",
   "execution_count": 34,
   "metadata": {
    "collapsed": false
   },
   "outputs": [
   ],
   "source": [
    "library(tidyr)\n",
    "library(dplyr)\n",
    "# library(EDAWR) \n",
    "# the datasets that we use are found in the package EDAWR, but that package is not available on cocalc "
   ]
  },
  {
   "cell_type": "markdown",
   "metadata": {
    "collapsed": false
   },
   "source": [
    "In particular, we will work with the following datasets:\n",
    "\n",
    "- `storms`\n",
    "- `cases`\n",
    "- `pollution`\n",
    "- `tb`"
   ]
  },
  {
   "cell_type": "code",
   "execution_count": 35,
   "metadata": {
    "collapsed": false
   },
   "outputs": [
    {
     "name": "stdout",
     "output_type": "stream",
     "text": [
      "Classes ‘tbl_df’, ‘tbl’ and 'data.frame':\t10010 obs. of  13 variables:\n",
      " $ name       : chr  \"Amy\" \"Amy\" \"Amy\" \"Amy\" ...\n",
      " $ year       : num  1975 1975 1975 1975 1975 ...\n",
      " $ month      : num  6 6 6 6 6 6 6 6 6 6 ...\n",
      " $ day        : int  27 27 27 27 28 28 28 28 29 29 ...\n",
      " $ hour       : num  0 6 12 18 0 6 12 18 0 6 ...\n",
      " $ lat        : num  27.5 28.5 29.5 30.5 31.5 32.4 33.3 34 34.4 34 ...\n",
      " $ long       : num  -79 -79 -79 -79 -78.8 -78.7 -78 -77 -75.8 -74.8 ...\n",
      " $ status     : chr  \"tropical depression\" \"tropical depression\" \"tropical depression\" \"tropical depression\" ...\n",
      " $ category   : Ord.factor w/ 7 levels \"-1\"<\"0\"<\"1\"<\"2\"<..: 1 1 1 1 1 1 1 1 2 2 ...\n",
      " $ wind       : int  25 25 25 25 25 25 25 30 35 40 ...\n",
      " $ pressure   : int  1013 1013 1013 1013 1012 1012 1011 1006 1004 1002 ...\n",
      " $ ts_diameter: num  NA NA NA NA NA NA NA NA NA NA ...\n",
      " $ hu_diameter: num  NA NA NA NA NA NA NA NA NA NA ...\n"
     ]
    }
   ],
   "source": [
    "str(storms)"
   ]
  },
  {
   "cell_type": "code",
   "execution_count": 36,
   "metadata": {
    "collapsed": false,
    "scrolled": true
   },
   "outputs": [
    {
     "data": {
      "text/html": [
       "<table>\n",
       "<thead><tr><th scope=col>country</th><th scope=col>X2011</th><th scope=col>X2012</th><th scope=col>X2013</th></tr></thead>\n",
       "<tbody>\n",
       "\t<tr><td>FR   </td><td> 7000</td><td> 6900</td><td> 7000</td></tr>\n",
       "\t<tr><td>DE   </td><td> 5800</td><td> 6000</td><td> 6200</td></tr>\n",
       "\t<tr><td>US   </td><td>15000</td><td>14000</td><td>13000</td></tr>\n",
       "</tbody>\n",
       "</table>\n"
      ]
     },
     "execution_count": 36,
     "metadata": {
     },
     "output_type": "execute_result"
    }
   ],
   "source": [
    "cases <- read.csv(\"Data/cases.csv\")\n",
    "cases"
   ]
  },
  {
   "cell_type": "code",
   "execution_count": 54,
   "metadata": {
    "collapsed": false
   },
   "outputs": [
    {
     "data": {
      "text/html": [
       "<table>\n",
       "<thead><tr><th scope=col>city</th><th scope=col>size</th><th scope=col>amount</th></tr></thead>\n",
       "<tbody>\n",
       "\t<tr><td>New York</td><td>large   </td><td> 23     </td></tr>\n",
       "\t<tr><td>New York</td><td>small   </td><td> 14     </td></tr>\n",
       "\t<tr><td>London  </td><td>large   </td><td> 22     </td></tr>\n",
       "\t<tr><td>London  </td><td>small   </td><td> 16     </td></tr>\n",
       "\t<tr><td>Beijing </td><td>large   </td><td>121     </td></tr>\n",
       "\t<tr><td>Beijing </td><td>small   </td><td> 56     </td></tr>\n",
       "</tbody>\n",
       "</table>\n"
      ]
     },
     "execution_count": 54,
     "metadata": {
     },
     "output_type": "execute_result"
    }
   ],
   "source": [
    "pollution <- read.csv(\"Data/pollution.csv\")\n",
    "pollution"
   ]
  },
  {
   "cell_type": "code",
   "execution_count": 55,
   "metadata": {
    "collapsed": false,
    "scrolled": true
   },
   "outputs": [
    {
     "name": "stdout",
     "output_type": "stream",
     "text": [
      "'data.frame':\t3800 obs. of  6 variables:\n",
      " $ country: Factor w/ 100 levels \"Afghanistan\",..: 1 1 1 1 1 1 1 1 1 1 ...\n",
      " $ year   : int  1995 1995 1996 1996 1997 1997 1998 1998 1999 1999 ...\n",
      " $ sex    : Factor w/ 2 levels \"female\",\"male\": 1 2 1 2 1 2 1 2 1 2 ...\n",
      " $ child  : int  NA NA NA NA 5 0 45 30 25 8 ...\n",
      " $ adult  : int  NA NA NA NA 96 26 1142 500 484 212 ...\n",
      " $ elderly: int  NA NA NA NA 1 0 20 41 8 8 ...\n"
     ]
    },
    {
     "data": {
      "text/html": [
       "<table>\n",
       "<thead><tr><th scope=col>country</th><th scope=col>year</th><th scope=col>sex</th><th scope=col>child</th><th scope=col>adult</th><th scope=col>elderly</th></tr></thead>\n",
       "<tbody>\n",
       "\t<tr><td>Afghanistan</td><td>1995       </td><td>female     </td><td>NA         </td><td>NA         </td><td>NA         </td></tr>\n",
       "\t<tr><td>Afghanistan</td><td>1995       </td><td>male       </td><td>NA         </td><td>NA         </td><td>NA         </td></tr>\n",
       "\t<tr><td>Afghanistan</td><td>1996       </td><td>female     </td><td>NA         </td><td>NA         </td><td>NA         </td></tr>\n",
       "\t<tr><td>Afghanistan</td><td>1996       </td><td>male       </td><td>NA         </td><td>NA         </td><td>NA         </td></tr>\n",
       "\t<tr><td>Afghanistan</td><td>1997       </td><td>female     </td><td> 5         </td><td>96         </td><td> 1         </td></tr>\n",
       "\t<tr><td>Afghanistan</td><td>1997       </td><td>male       </td><td> 0         </td><td>26         </td><td> 0         </td></tr>\n",
       "</tbody>\n",
       "</table>\n"
      ]
     },
     "execution_count": 55,
     "metadata": {
     },
     "output_type": "execute_result"
    }
   ],
   "source": [
    "tb <- read.csv(\"Data/tb.csv\")\n",
    "str(tb)\n",
    "head(tb)\n",
    "\n",
    "#'' TB data\n",
    "#'\n",
    "#' A subset of data from the World Health Organization Global \n",
    "#' Tuberculosis Report.\n",
    "#'\n",
    "#' @format A dataset with the variables\n",
    "#' \\describe{\n",
    "#' \\item{country}{}\n",
    "#' \\item{year}{}\n",
    "#' \\item{sex}{}\n",
    "#' \\item{child}{Number of new cases reported among people 0 - 14 years of age.}\n",
    "#' \\item{adult}{Number of new cases reported among people 15 - 64 years of age.}\n",
    "#' \\item{elderly}{Number of new cases reported among people over 64 years of age.}\n",
    "#' }\n",
    "#' \n",
    "#' @source \\url{http://www.who.int/tb/country/data/download/en/}\n",
    "#'\n"
   ]
  },
  {
   "cell_type": "markdown",
   "metadata": {
    "collapsed": false
   },
   "source": [
    "### 9.1 PIPELINE OPERATOR `%>%`\n",
    "\n",
    "R is a functional language, which means nested parentheses, which make code hard difficult to read. The **pipeline operator** `%>%` and the package `dplyr` can be used to remedy the situation. \n",
    "\n",
    "Hadley Wickham provided an example in 2014 to illustrate how it works (don't run the next bit of code, it won't execute):\n",
    "\n"
   ]
  },
  {
   "cell_type": "code",
   "execution_count": 39,
   "metadata": {
    "collapsed": false
   },
   "outputs": [
    {
     "ename": "ERROR",
     "evalue": "Error in filter(flights, !is.na(dep_delay)): object 'flights' not found\n",
     "output_type": "error",
     "traceback": [
      "Error in filter(flights, !is.na(dep_delay)): object 'flights' not found\nTraceback:\n",
      "1. filter(summarise(group_by(filter(flights, !is.na(dep_delay)), \n .     date, hour), delay = mean(dep_delay), n = n()), n > 10)",
      "2. summarise(group_by(filter(flights, !is.na(dep_delay)), date, \n .     hour), delay = mean(dep_delay), n = n())",
      "3. group_by(filter(flights, !is.na(dep_delay)), date, hour)",
      "4. filter(flights, !is.na(dep_delay))"
     ]
    }
   ],
   "source": [
    "hourly_delay <- filter(\n",
    "  summarise(\n",
    "    group_by( \n",
    "      filter(\n",
    "        flights, \n",
    "        !is.na(dep_delay)\n",
    "      ), \n",
    "      date, hour\n",
    "    ), \n",
    "    delay = mean(dep_delay), \n",
    "    n = n()\n",
    "  ), \n",
    "  n > 10 \n",
    ")"
   ]
  },
  {
   "cell_type": "markdown",
   "metadata": {
    "collapsed": false
   },
   "source": [
    "Take some time to figure out what is supposed to be happening here. \n",
    "\n",
    "The pipeline operator eschews nesting function calls in favor of passing data from one function to the next (also won't run):\n"
   ]
  },
  {
   "cell_type": "code",
   "execution_count": 40,
   "metadata": {
    "collapsed": false
   },
   "outputs": [
    {
     "ename": "ERROR",
     "evalue": "Error in eval(lhs, parent, parent): object 'flights' not found\n",
     "output_type": "error",
     "traceback": [
      "Error in eval(lhs, parent, parent): object 'flights' not found\nTraceback:\n",
      "1. flights %>% filter(!is.na(dep_delay)) %>% group_by(date, hour) %>% \n .     summarise(delay = mean(dep_delay), n = n()) %>% filter(n > \n .     10)",
      "2. eval(lhs, parent, parent)",
      "3. eval(lhs, parent, parent)"
     ]
    }
   ],
   "source": [
    "hourly_delay <- flights %>% \n",
    "   filter(!is.na(dep_delay)) %>% \n",
    "   group_by(date, hour) %>% \n",
    "   summarise(delay = mean(dep_delay),n = n()) %>% \n",
    "   filter(n > 10)"
   ]
  },
  {
   "cell_type": "markdown",
   "metadata": {
    "collapsed": false
   },
   "source": [
    "The beauty of this approach is that it can be 'read' aloud to discover what the block of code is meant to do. \n",
    "\n",
    "The flights data frame is \n",
    "\n",
    "    1. filtered (to remove missing values of the dep_delay variable)\n",
    "    2. grouped by hours within days\n",
    "    3. the mean delay is calculated within groups, and \n",
    "    4. the mean delay is returned for those hours with more than n > 10 flights.\n",
    "\n",
    "The **pipeline rules** are simple: the object on the left hand side is passed as the *first* argument to the function on the right hand side. \n",
    "\n",
    "- `data %>% function` is the same as `function(data)`\n",
    "- `data %>% function(arg=value)` is the same as `function(data, arg=value)`\n",
    "\n",
    "**References:** https://cran.r-project.org/web/packages/magrittr/vignettes/magrittr.html"
   ]
  },
  {
   "cell_type": "markdown",
   "metadata": {
    "collapsed": false
   },
   "source": [
    "### 9.2 TIDY DATA\n",
    "\n",
    "Tidy data has specific structure:\n",
    "- Each variable is a column\n",
    "- Each observation is a row\n",
    "- Each type of observational unit is a table\n",
    "\n",
    "There are two functions in package `tidyr` to reshape tables to a tidy format: `gather()` and `spread()`. \n",
    "\n",
    "`gather()` requires a data frame to reshape, a **key** column (against which to reshape), a **value** column (which will contain the new variable of interest), and the indices of the columns that need to be collapsed. For instance, in a tidy format, the `cases` dataset would look like:"
   ]
  },
  {
   "cell_type": "code",
   "execution_count": 41,
   "metadata": {
    "collapsed": false
   },
   "outputs": [
    {
     "data": {
      "text/html": [
       "<table>\n",
       "<thead><tr><th scope=col>country</th><th scope=col>year</th><th scope=col>n</th></tr></thead>\n",
       "<tbody>\n",
       "\t<tr><td>FR   </td><td>X2011</td><td> 7000</td></tr>\n",
       "\t<tr><td>DE   </td><td>X2011</td><td> 5800</td></tr>\n",
       "\t<tr><td>US   </td><td>X2011</td><td>15000</td></tr>\n",
       "\t<tr><td>FR   </td><td>X2012</td><td> 6900</td></tr>\n",
       "\t<tr><td>DE   </td><td>X2012</td><td> 6000</td></tr>\n",
       "\t<tr><td>US   </td><td>X2012</td><td>14000</td></tr>\n",
       "\t<tr><td>FR   </td><td>X2013</td><td> 7000</td></tr>\n",
       "\t<tr><td>DE   </td><td>X2013</td><td> 6200</td></tr>\n",
       "\t<tr><td>US   </td><td>X2013</td><td>13000</td></tr>\n",
       "</tbody>\n",
       "</table>\n"
      ]
     },
     "execution_count": 41,
     "metadata": {
     },
     "output_type": "execute_result"
    }
   ],
   "source": [
    "gather(cases,\"year\",\"n\",2:4)"
   ]
  },
  {
   "cell_type": "markdown",
   "metadata": {
    "collapsed": false
   },
   "source": [
    "`spread()`, on the other hand, generates multiple columns from two columns; it requires a data frame to reshape, a key column, and values in the value column to become new values. For instance, in a tidy format, the `pollution` dataset would look like:"
   ]
  },
  {
   "cell_type": "code",
   "execution_count": 42,
   "metadata": {
    "collapsed": false
   },
   "outputs": [
    {
     "data": {
      "text/html": [
       "<table>\n",
       "<thead><tr><th scope=col>city</th><th scope=col>large</th><th scope=col>small</th></tr></thead>\n",
       "<tbody>\n",
       "\t<tr><td>Beijing </td><td>121     </td><td>56      </td></tr>\n",
       "\t<tr><td>London  </td><td> 22     </td><td>16      </td></tr>\n",
       "\t<tr><td>New York</td><td> 23     </td><td>14      </td></tr>\n",
       "</tbody>\n",
       "</table>\n"
      ]
     },
     "execution_count": 42,
     "metadata": {
     },
     "output_type": "execute_result"
    }
   ],
   "source": [
    "spread(pollution,size,amount)"
   ]
  },
  {
   "cell_type": "markdown",
   "metadata": {
    "collapsed": false
   },
   "source": [
    "`gather()` and `spread()` are inverses of one another. Other useful wrangling functions include `separate()` and `unite()`. What do you think these do? "
   ]
  },
  {
   "cell_type": "markdown",
   "metadata": {
    "collapsed": false
   },
   "source": [
    "### 9.3 THE `dplyr` PACKAGE\n",
    "\n",
    "The `dplyr` package is useful when it comes to transforming tabular data, and is compatible withthe pipeline operator %>%. Its most useful functions are:\n",
    "- `select()`: to extract a subset of variables from the data frame\n",
    "- `filter()`: to extract a subset of observations from the data frame\n",
    "- `arrange()`: to sort the data frame\n",
    "- `mutate()`: to create new variables from existing variables\n",
    "- `summarise()`: to create so-called **pivot tables**\n",
    "- `group_by()`: ... self-evident?\n",
    "\n",
    "We will showcase these functions with the help of various examples."
   ]
  },
  {
   "cell_type": "code",
   "execution_count": 43,
   "metadata": {
    "collapsed": false
   },
   "outputs": [
    {
     "data": {
      "text/html": [
       "<table>\n",
       "<thead><tr><th scope=col>name</th><th scope=col>year</th><th scope=col>month</th><th scope=col>day</th><th scope=col>hour</th><th scope=col>lat</th><th scope=col>long</th><th scope=col>status</th><th scope=col>category</th><th scope=col>wind</th><th scope=col>pressure</th><th scope=col>ts_diameter</th><th scope=col>hu_diameter</th></tr></thead>\n",
       "<tbody>\n",
       "\t<tr><td>Amy                </td><td>1975               </td><td>6                  </td><td>27                 </td><td> 0                 </td><td>27.5               </td><td>-79.0              </td><td>tropical depression</td><td>-1                 </td><td>25                 </td><td>1013               </td><td>NA                 </td><td>NA                 </td></tr>\n",
       "\t<tr><td>Amy                </td><td>1975               </td><td>6                  </td><td>27                 </td><td> 6                 </td><td>28.5               </td><td>-79.0              </td><td>tropical depression</td><td>-1                 </td><td>25                 </td><td>1013               </td><td>NA                 </td><td>NA                 </td></tr>\n",
       "\t<tr><td>Amy                </td><td>1975               </td><td>6                  </td><td>27                 </td><td>12                 </td><td>29.5               </td><td>-79.0              </td><td>tropical depression</td><td>-1                 </td><td>25                 </td><td>1013               </td><td>NA                 </td><td>NA                 </td></tr>\n",
       "\t<tr><td>Amy                </td><td>1975               </td><td>6                  </td><td>27                 </td><td>18                 </td><td>30.5               </td><td>-79.0              </td><td>tropical depression</td><td>-1                 </td><td>25                 </td><td>1013               </td><td>NA                 </td><td>NA                 </td></tr>\n",
       "\t<tr><td>Amy                </td><td>1975               </td><td>6                  </td><td>28                 </td><td> 0                 </td><td>31.5               </td><td>-78.8              </td><td>tropical depression</td><td>-1                 </td><td>25                 </td><td>1012               </td><td>NA                 </td><td>NA                 </td></tr>\n",
       "\t<tr><td>Amy                </td><td>1975               </td><td>6                  </td><td>28                 </td><td> 6                 </td><td>32.4               </td><td>-78.7              </td><td>tropical depression</td><td>-1                 </td><td>25                 </td><td>1012               </td><td>NA                 </td><td>NA                 </td></tr>\n",
       "</tbody>\n",
       "</table>\n"
      ]
     },
     "execution_count": 43,
     "metadata": {
     },
     "output_type": "execute_result"
    },
    {
     "data": {
      "text/html": [
       "<table>\n",
       "<thead><tr><th scope=col>name</th><th scope=col>pressure</th></tr></thead>\n",
       "<tbody>\n",
       "\t<tr><td>Amy </td><td>1013</td></tr>\n",
       "\t<tr><td>Amy </td><td>1013</td></tr>\n",
       "\t<tr><td>Amy </td><td>1013</td></tr>\n",
       "\t<tr><td>Amy </td><td>1013</td></tr>\n",
       "\t<tr><td>Amy </td><td>1012</td></tr>\n",
       "\t<tr><td>Amy </td><td>1012</td></tr>\n",
       "</tbody>\n",
       "</table>\n"
      ]
     },
     "execution_count": 43,
     "metadata": {
     },
     "output_type": "execute_result"
    },
    {
     "data": {
      "text/html": [
       "<table>\n",
       "<thead><tr><th scope=col>year</th><th scope=col>month</th><th scope=col>day</th><th scope=col>hour</th><th scope=col>lat</th><th scope=col>long</th><th scope=col>status</th><th scope=col>category</th><th scope=col>wind</th><th scope=col>pressure</th><th scope=col>ts_diameter</th><th scope=col>hu_diameter</th></tr></thead>\n",
       "<tbody>\n",
       "\t<tr><td>1975               </td><td>6                  </td><td>27                 </td><td> 0                 </td><td>27.5               </td><td>-79.0              </td><td>tropical depression</td><td>-1                 </td><td>25                 </td><td>1013               </td><td>NA                 </td><td>NA                 </td></tr>\n",
       "\t<tr><td>1975               </td><td>6                  </td><td>27                 </td><td> 6                 </td><td>28.5               </td><td>-79.0              </td><td>tropical depression</td><td>-1                 </td><td>25                 </td><td>1013               </td><td>NA                 </td><td>NA                 </td></tr>\n",
       "\t<tr><td>1975               </td><td>6                  </td><td>27                 </td><td>12                 </td><td>29.5               </td><td>-79.0              </td><td>tropical depression</td><td>-1                 </td><td>25                 </td><td>1013               </td><td>NA                 </td><td>NA                 </td></tr>\n",
       "\t<tr><td>1975               </td><td>6                  </td><td>27                 </td><td>18                 </td><td>30.5               </td><td>-79.0              </td><td>tropical depression</td><td>-1                 </td><td>25                 </td><td>1013               </td><td>NA                 </td><td>NA                 </td></tr>\n",
       "\t<tr><td>1975               </td><td>6                  </td><td>28                 </td><td> 0                 </td><td>31.5               </td><td>-78.8              </td><td>tropical depression</td><td>-1                 </td><td>25                 </td><td>1012               </td><td>NA                 </td><td>NA                 </td></tr>\n",
       "\t<tr><td>1975               </td><td>6                  </td><td>28                 </td><td> 6                 </td><td>32.4               </td><td>-78.7              </td><td>tropical depression</td><td>-1                 </td><td>25                 </td><td>1012               </td><td>NA                 </td><td>NA                 </td></tr>\n",
       "</tbody>\n",
       "</table>\n"
      ]
     },
     "execution_count": 43,
     "metadata": {
     },
     "output_type": "execute_result"
    },
    {
     "data": {
      "text/html": [
       "<table>\n",
       "<thead><tr><th scope=col>lat</th><th scope=col>long</th><th scope=col>status</th><th scope=col>category</th><th scope=col>wind</th><th scope=col>pressure</th></tr></thead>\n",
       "<tbody>\n",
       "\t<tr><td>27.5               </td><td>-79.0              </td><td>tropical depression</td><td>-1                 </td><td>25                 </td><td>1013               </td></tr>\n",
       "\t<tr><td>28.5               </td><td>-79.0              </td><td>tropical depression</td><td>-1                 </td><td>25                 </td><td>1013               </td></tr>\n",
       "\t<tr><td>29.5               </td><td>-79.0              </td><td>tropical depression</td><td>-1                 </td><td>25                 </td><td>1013               </td></tr>\n",
       "\t<tr><td>30.5               </td><td>-79.0              </td><td>tropical depression</td><td>-1                 </td><td>25                 </td><td>1013               </td></tr>\n",
       "\t<tr><td>31.5               </td><td>-78.8              </td><td>tropical depression</td><td>-1                 </td><td>25                 </td><td>1012               </td></tr>\n",
       "\t<tr><td>32.4               </td><td>-78.7              </td><td>tropical depression</td><td>-1                 </td><td>25                 </td><td>1012               </td></tr>\n",
       "</tbody>\n",
       "</table>\n"
      ]
     },
     "execution_count": 43,
     "metadata": {
     },
     "output_type": "execute_result"
    }
   ],
   "source": [
    "storms.2 <- select(storms, name,pressure)\n",
    "storms.3 <- select(storms, -name)\n",
    "storms.4 <- select(storms, lat:pressure)\n",
    "head(storms)\n",
    "head(storms.2)\n",
    "head(storms.3)\n",
    "head(storms.4)"
   ]
  },
  {
   "cell_type": "code",
   "execution_count": 44,
   "metadata": {
    "collapsed": false
   },
   "outputs": [
    {
     "data": {
      "text/html": [
       "10010"
      ]
     },
     "execution_count": 44,
     "metadata": {
     },
     "output_type": "execute_result"
    },
    {
     "data": {
      "text/html": [
       "5738"
      ]
     },
     "execution_count": 44,
     "metadata": {
     },
     "output_type": "execute_result"
    },
    {
     "data": {
      "text/html": [
       "123"
      ]
     },
     "execution_count": 44,
     "metadata": {
     },
     "output_type": "execute_result"
    }
   ],
   "source": [
    "storms.5 <- filter(storms, wind>40)\n",
    "storms.6 <- filter(storms, wind>40, name %in% c(\"Amy\", \"Alberto\", \"Alexis\", \"Allison\"))\n",
    "nrow(storms)\n",
    "nrow(storms.5)\n",
    "nrow(storms.6)"
   ]
  },
  {
   "cell_type": "code",
   "execution_count": 45,
   "metadata": {
    "collapsed": false
   },
   "outputs": [
    {
     "data": {
      "text/html": [
       "<table>\n",
       "<thead><tr><th scope=col>name</th><th scope=col>year</th><th scope=col>month</th><th scope=col>day</th><th scope=col>hour</th><th scope=col>lat</th><th scope=col>long</th><th scope=col>status</th><th scope=col>category</th><th scope=col>wind</th><th scope=col>pressure</th><th scope=col>ts_diameter</th><th scope=col>hu_diameter</th><th scope=col>quotient</th></tr></thead>\n",
       "<tbody>\n",
       "\t<tr><td>Amy                </td><td>1975               </td><td>6                  </td><td>27                 </td><td> 0                 </td><td>27.5               </td><td>-79.0              </td><td>tropical depression</td><td>-1                 </td><td>25                 </td><td>1013               </td><td>NA                 </td><td>NA                 </td><td>0.02467917         </td></tr>\n",
       "\t<tr><td>Amy                </td><td>1975               </td><td>6                  </td><td>27                 </td><td> 6                 </td><td>28.5               </td><td>-79.0              </td><td>tropical depression</td><td>-1                 </td><td>25                 </td><td>1013               </td><td>NA                 </td><td>NA                 </td><td>0.02467917         </td></tr>\n",
       "\t<tr><td>Amy                </td><td>1975               </td><td>6                  </td><td>27                 </td><td>12                 </td><td>29.5               </td><td>-79.0              </td><td>tropical depression</td><td>-1                 </td><td>25                 </td><td>1013               </td><td>NA                 </td><td>NA                 </td><td>0.02467917         </td></tr>\n",
       "\t<tr><td>Amy                </td><td>1975               </td><td>6                  </td><td>27                 </td><td>18                 </td><td>30.5               </td><td>-79.0              </td><td>tropical depression</td><td>-1                 </td><td>25                 </td><td>1013               </td><td>NA                 </td><td>NA                 </td><td>0.02467917         </td></tr>\n",
       "\t<tr><td>Amy                </td><td>1975               </td><td>6                  </td><td>28                 </td><td> 0                 </td><td>31.5               </td><td>-78.8              </td><td>tropical depression</td><td>-1                 </td><td>25                 </td><td>1012               </td><td>NA                 </td><td>NA                 </td><td>0.02470356         </td></tr>\n",
       "\t<tr><td>Amy                </td><td>1975               </td><td>6                  </td><td>28                 </td><td> 6                 </td><td>32.4               </td><td>-78.7              </td><td>tropical depression</td><td>-1                 </td><td>25                 </td><td>1012               </td><td>NA                 </td><td>NA                 </td><td>0.02470356         </td></tr>\n",
       "</tbody>\n",
       "</table>\n"
      ]
     },
     "execution_count": 45,
     "metadata": {
     },
     "output_type": "execute_result"
    },
    {
     "data": {
      "text/html": [
       "<table>\n",
       "<thead><tr><th scope=col>name</th><th scope=col>year</th><th scope=col>month</th><th scope=col>day</th><th scope=col>hour</th><th scope=col>lat</th><th scope=col>long</th><th scope=col>status</th><th scope=col>category</th><th scope=col>wind</th><th scope=col>pressure</th><th scope=col>ts_diameter</th><th scope=col>hu_diameter</th><th scope=col>quotient</th><th scope=col>inv</th></tr></thead>\n",
       "<tbody>\n",
       "\t<tr><td>Amy                </td><td>1975               </td><td>6                  </td><td>27                 </td><td> 0                 </td><td>27.5               </td><td>-79.0              </td><td>tropical depression</td><td>-1                 </td><td>25                 </td><td>1013               </td><td>NA                 </td><td>NA                 </td><td>0.02467917         </td><td>40.52              </td></tr>\n",
       "\t<tr><td>Amy                </td><td>1975               </td><td>6                  </td><td>27                 </td><td> 6                 </td><td>28.5               </td><td>-79.0              </td><td>tropical depression</td><td>-1                 </td><td>25                 </td><td>1013               </td><td>NA                 </td><td>NA                 </td><td>0.02467917         </td><td>40.52              </td></tr>\n",
       "\t<tr><td>Amy                </td><td>1975               </td><td>6                  </td><td>27                 </td><td>12                 </td><td>29.5               </td><td>-79.0              </td><td>tropical depression</td><td>-1                 </td><td>25                 </td><td>1013               </td><td>NA                 </td><td>NA                 </td><td>0.02467917         </td><td>40.52              </td></tr>\n",
       "\t<tr><td>Amy                </td><td>1975               </td><td>6                  </td><td>27                 </td><td>18                 </td><td>30.5               </td><td>-79.0              </td><td>tropical depression</td><td>-1                 </td><td>25                 </td><td>1013               </td><td>NA                 </td><td>NA                 </td><td>0.02467917         </td><td>40.52              </td></tr>\n",
       "\t<tr><td>Amy                </td><td>1975               </td><td>6                  </td><td>28                 </td><td> 0                 </td><td>31.5               </td><td>-78.8              </td><td>tropical depression</td><td>-1                 </td><td>25                 </td><td>1012               </td><td>NA                 </td><td>NA                 </td><td>0.02470356         </td><td>40.48              </td></tr>\n",
       "\t<tr><td>Amy                </td><td>1975               </td><td>6                  </td><td>28                 </td><td> 6                 </td><td>32.4               </td><td>-78.7              </td><td>tropical depression</td><td>-1                 </td><td>25                 </td><td>1012               </td><td>NA                 </td><td>NA                 </td><td>0.02470356         </td><td>40.48              </td></tr>\n",
       "</tbody>\n",
       "</table>\n"
      ]
     },
     "execution_count": 45,
     "metadata": {
     },
     "output_type": "execute_result"
    }
   ],
   "source": [
    "storms.7 <- mutate(storms, quotient = wind/pressure)\n",
    "storms.8 <- mutate(storms, quotient = wind/pressure, inv = 1/quotient)\n",
    "head(storms.7)\n",
    "head(storms.8)"
   ]
  },
  {
   "cell_type": "code",
   "execution_count": 46,
   "metadata": {
    "collapsed": false
   },
   "outputs": [
    {
     "data": {
      "text/html": [
       "<table>\n",
       "<thead><tr><th scope=col>median</th><th scope=col>variance</th></tr></thead>\n",
       "<tbody>\n",
       "\t<tr><td>22.5  </td><td>1731.6</td></tr>\n",
       "</tbody>\n",
       "</table>\n"
      ]
     },
     "execution_count": 46,
     "metadata": {
     },
     "output_type": "execute_result"
    },
    {
     "data": {
      "text/html": [
       "<table>\n",
       "<thead><tr><th scope=col>mean</th><th scope=col>sum</th><th scope=col>n</th></tr></thead>\n",
       "<tbody>\n",
       "\t<tr><td>42 </td><td>252</td><td>6  </td></tr>\n",
       "</tbody>\n",
       "</table>\n"
      ]
     },
     "execution_count": 46,
     "metadata": {
     },
     "output_type": "execute_result"
    }
   ],
   "source": [
    "pollution %>% summarise(median=median(amount), variance=var(amount))\n",
    "pollution %>% summarise(mean=mean(amount), sum=sum(amount), n=n()) # n() doesn't take arguments"
   ]
  },
  {
   "cell_type": "code",
   "execution_count": 47,
   "metadata": {
    "collapsed": false
   },
   "outputs": [
    {
     "data": {
      "text/html": [
       "<table>\n",
       "<thead><tr><th scope=col>name</th><th scope=col>year</th><th scope=col>month</th><th scope=col>day</th><th scope=col>hour</th><th scope=col>lat</th><th scope=col>long</th><th scope=col>status</th><th scope=col>category</th><th scope=col>wind</th><th scope=col>pressure</th><th scope=col>ts_diameter</th><th scope=col>hu_diameter</th></tr></thead>\n",
       "<tbody>\n",
       "\t<tr><td>Bonnie             </td><td>1986               </td><td>6                  </td><td>28                 </td><td> 6                 </td><td>36.5               </td><td>-91.3              </td><td>tropical depression</td><td>-1                 </td><td>10                 </td><td>1013               </td><td>NA                 </td><td>NA                 </td></tr>\n",
       "\t<tr><td>Bonnie             </td><td>1986               </td><td>6                  </td><td>28                 </td><td>12                 </td><td>37.2               </td><td>-90.0              </td><td>tropical depression</td><td>-1                 </td><td>10                 </td><td>1012               </td><td>NA                 </td><td>NA                 </td></tr>\n",
       "\t<tr><td>AL031987           </td><td>1987               </td><td>8                  </td><td>16                 </td><td>18                 </td><td>30.9               </td><td>-83.2              </td><td>tropical depression</td><td>-1                 </td><td>10                 </td><td>1014               </td><td>NA                 </td><td>NA                 </td></tr>\n",
       "\t<tr><td>AL031987           </td><td>1987               </td><td>8                  </td><td>17                 </td><td> 0                 </td><td>31.4               </td><td>-82.9              </td><td>tropical depression</td><td>-1                 </td><td>10                 </td><td>1015               </td><td>NA                 </td><td>NA                 </td></tr>\n",
       "\t<tr><td>AL031987           </td><td>1987               </td><td>8                  </td><td>17                 </td><td> 6                 </td><td>31.8               </td><td>-82.3              </td><td>tropical depression</td><td>-1                 </td><td>10                 </td><td>1015               </td><td>NA                 </td><td>NA                 </td></tr>\n",
       "\t<tr><td>Alberto            </td><td>1994               </td><td>7                  </td><td> 7                 </td><td> 0                 </td><td>32.7               </td><td>-86.3              </td><td>tropical depression</td><td>-1                 </td><td>10                 </td><td>1012               </td><td>NA                 </td><td>NA                 </td></tr>\n",
       "</tbody>\n",
       "</table>\n"
      ]
     },
     "execution_count": 47,
     "metadata": {
     },
     "output_type": "execute_result"
    },
    {
     "data": {
      "text/html": [
       "<table>\n",
       "<thead><tr><th scope=col>name</th><th scope=col>year</th><th scope=col>month</th><th scope=col>day</th><th scope=col>hour</th><th scope=col>lat</th><th scope=col>long</th><th scope=col>status</th><th scope=col>category</th><th scope=col>wind</th><th scope=col>pressure</th><th scope=col>ts_diameter</th><th scope=col>hu_diameter</th></tr></thead>\n",
       "<tbody>\n",
       "\t<tr><td>Gilbert  </td><td>1988     </td><td> 9       </td><td>14       </td><td> 0       </td><td>19.7     </td><td>-83.8    </td><td>hurricane</td><td>5        </td><td>160      </td><td>888      </td><td>      NA </td><td>     NA  </td></tr>\n",
       "\t<tr><td>Wilma    </td><td>2005     </td><td>10       </td><td>19       </td><td>12       </td><td>17.3     </td><td>-82.8    </td><td>hurricane</td><td>5        </td><td>160      </td><td>882      </td><td>304.9567 </td><td>74.8007  </td></tr>\n",
       "\t<tr><td>Gilbert  </td><td>1988     </td><td> 9       </td><td>14       </td><td> 6       </td><td>19.9     </td><td>-85.3    </td><td>hurricane</td><td>5        </td><td>155      </td><td>889      </td><td>      NA </td><td>     NA  </td></tr>\n",
       "\t<tr><td>Mitch    </td><td>1998     </td><td>10       </td><td>26       </td><td>18       </td><td>16.9     </td><td>-83.1    </td><td>hurricane</td><td>5        </td><td>155      </td><td>905      </td><td>      NA </td><td>     NA  </td></tr>\n",
       "\t<tr><td>Mitch    </td><td>1998     </td><td>10       </td><td>27       </td><td> 0       </td><td>17.2     </td><td>-83.8    </td><td>hurricane</td><td>5        </td><td>155      </td><td>910      </td><td>      NA </td><td>     NA  </td></tr>\n",
       "\t<tr><td>Rita     </td><td>2005     </td><td> 9       </td><td>22       </td><td> 3       </td><td>24.7     </td><td>-87.3    </td><td>hurricane</td><td>5        </td><td>155      </td><td>895      </td><td>      NA </td><td>     NA  </td></tr>\n",
       "</tbody>\n",
       "</table>\n"
      ]
     },
     "execution_count": 47,
     "metadata": {
     },
     "output_type": "execute_result"
    },
    {
     "data": {
      "text/html": [
       "<table>\n",
       "<thead><tr><th scope=col>name</th><th scope=col>year</th><th scope=col>month</th><th scope=col>day</th><th scope=col>hour</th><th scope=col>lat</th><th scope=col>long</th><th scope=col>status</th><th scope=col>category</th><th scope=col>wind</th><th scope=col>pressure</th><th scope=col>ts_diameter</th><th scope=col>hu_diameter</th></tr></thead>\n",
       "<tbody>\n",
       "\t<tr><td>Alberto            </td><td>1994               </td><td>7                  </td><td> 7                 </td><td> 0                 </td><td>32.7               </td><td>-86.3              </td><td>tropical depression</td><td>-1                 </td><td>10                 </td><td>1012               </td><td>NA                 </td><td>NA                 </td></tr>\n",
       "\t<tr><td>Alberto            </td><td>1994               </td><td>7                  </td><td> 7                 </td><td> 6                 </td><td>32.7               </td><td>-86.6              </td><td>tropical depression</td><td>-1                 </td><td>10                 </td><td>1012               </td><td>NA                 </td><td>NA                 </td></tr>\n",
       "\t<tr><td>Alberto            </td><td>1994               </td><td>7                  </td><td> 7                 </td><td>12                 </td><td>32.8               </td><td>-86.8              </td><td>tropical depression</td><td>-1                 </td><td>10                 </td><td>1012               </td><td>NA                 </td><td>NA                 </td></tr>\n",
       "\t<tr><td>Alberto            </td><td>1994               </td><td>7                  </td><td> 7                 </td><td>18                 </td><td>33.0               </td><td>-87.0              </td><td>tropical depression</td><td>-1                 </td><td>10                 </td><td>1013               </td><td>NA                 </td><td>NA                 </td></tr>\n",
       "\t<tr><td>AL031987           </td><td>1987               </td><td>8                  </td><td>16                 </td><td>18                 </td><td>30.9               </td><td>-83.2              </td><td>tropical depression</td><td>-1                 </td><td>10                 </td><td>1014               </td><td>NA                 </td><td>NA                 </td></tr>\n",
       "\t<tr><td>AL031987           </td><td>1987               </td><td>8                  </td><td>17                 </td><td> 0                 </td><td>31.4               </td><td>-82.9              </td><td>tropical depression</td><td>-1                 </td><td>10                 </td><td>1015               </td><td>NA                 </td><td>NA                 </td></tr>\n",
       "</tbody>\n",
       "</table>\n"
      ]
     },
     "execution_count": 47,
     "metadata": {
     },
     "output_type": "execute_result"
    }
   ],
   "source": [
    "storms.9 <- arrange(storms, wind)\n",
    "storms.10 <- arrange(storms, desc(wind))\n",
    "storms.11 <- arrange(storms, wind, desc(year),month,day)\n",
    "head(storms.9)\n",
    "head(storms.10)\n",
    "head(storms.11)"
   ]
  },
  {
   "cell_type": "code",
   "execution_count": 48,
   "metadata": {
    "collapsed": false
   },
   "outputs": [
    {
     "data": {
      "text/html": [
       "<table>\n",
       "<thead><tr><th scope=col>name</th><th scope=col>pressure</th></tr></thead>\n",
       "<tbody>\n",
       "\t<tr><td>Amy </td><td>1013</td></tr>\n",
       "\t<tr><td>Amy </td><td>1013</td></tr>\n",
       "\t<tr><td>Amy </td><td>1013</td></tr>\n",
       "\t<tr><td>Amy </td><td>1013</td></tr>\n",
       "\t<tr><td>Amy </td><td>1012</td></tr>\n",
       "\t<tr><td>Amy </td><td>1012</td></tr>\n",
       "\t<tr><td>Amy </td><td>1011</td></tr>\n",
       "\t<tr><td>Amy </td><td>1006</td></tr>\n",
       "\t<tr><td>Amy </td><td>1004</td></tr>\n",
       "\t<tr><td>Amy </td><td>1002</td></tr>\n",
       "\t<tr><td>Amy </td><td>1000</td></tr>\n",
       "\t<tr><td>Amy </td><td> 998</td></tr>\n",
       "\t<tr><td>Amy </td><td> 998</td></tr>\n",
       "\t<tr><td>Amy </td><td> 998</td></tr>\n",
       "\t<tr><td>Amy </td><td> 987</td></tr>\n",
       "\t<tr><td>Amy </td><td> 987</td></tr>\n",
       "\t<tr><td>Amy </td><td> 984</td></tr>\n",
       "\t<tr><td>Amy </td><td> 984</td></tr>\n",
       "\t<tr><td>Amy </td><td> 984</td></tr>\n",
       "\t<tr><td>Amy </td><td> 984</td></tr>\n",
       "\t<tr><td>Amy </td><td> 984</td></tr>\n",
       "\t<tr><td>Amy </td><td> 984</td></tr>\n",
       "\t<tr><td>Amy </td><td> 981</td></tr>\n",
       "\t<tr><td>Amy </td><td> 986</td></tr>\n",
       "\t<tr><td>Amy </td><td> 986</td></tr>\n",
       "\t<tr><td>Amy </td><td> 986</td></tr>\n",
       "\t<tr><td>Amy </td><td> 986</td></tr>\n",
       "\t<tr><td>Amy </td><td> 986</td></tr>\n",
       "\t<tr><td>Amy </td><td> 986</td></tr>\n",
       "\t<tr><td>Amy </td><td> 986</td></tr>\n",
       "\t<tr><td>⋮</td><td>⋮</td></tr>\n",
       "\t<tr><td>Joaquin</td><td> 934   </td></tr>\n",
       "\t<tr><td>Joaquin</td><td> 941   </td></tr>\n",
       "\t<tr><td>Joaquin</td><td> 949   </td></tr>\n",
       "\t<tr><td>Joaquin</td><td> 956   </td></tr>\n",
       "\t<tr><td>Joaquin</td><td> 958   </td></tr>\n",
       "\t<tr><td>Joaquin</td><td> 961   </td></tr>\n",
       "\t<tr><td>Joaquin</td><td> 964   </td></tr>\n",
       "\t<tr><td>Joaquin</td><td> 964   </td></tr>\n",
       "\t<tr><td>Joaquin</td><td> 964   </td></tr>\n",
       "\t<tr><td>Joaquin</td><td> 967   </td></tr>\n",
       "\t<tr><td>Joaquin</td><td> 970   </td></tr>\n",
       "\t<tr><td>Joaquin</td><td> 974   </td></tr>\n",
       "\t<tr><td>Joaquin</td><td> 974   </td></tr>\n",
       "\t<tr><td>Joaquin</td><td> 974   </td></tr>\n",
       "\t<tr><td>Joaquin</td><td> 977   </td></tr>\n",
       "\t<tr><td>Joaquin</td><td> 977   </td></tr>\n",
       "\t<tr><td>Joaquin</td><td> 977   </td></tr>\n",
       "\t<tr><td>Kate   </td><td>1010   </td></tr>\n",
       "\t<tr><td>Kate   </td><td>1010   </td></tr>\n",
       "\t<tr><td>Kate   </td><td>1010   </td></tr>\n",
       "\t<tr><td>Kate   </td><td>1008   </td></tr>\n",
       "\t<tr><td>Kate   </td><td>1008   </td></tr>\n",
       "\t<tr><td>Kate   </td><td>1006   </td></tr>\n",
       "\t<tr><td>Kate   </td><td>1003   </td></tr>\n",
       "\t<tr><td>Kate   </td><td> 998   </td></tr>\n",
       "\t<tr><td>Kate   </td><td> 993   </td></tr>\n",
       "\t<tr><td>Kate   </td><td> 990   </td></tr>\n",
       "\t<tr><td>Kate   </td><td> 985   </td></tr>\n",
       "\t<tr><td>Kate   </td><td> 980   </td></tr>\n",
       "\t<tr><td>Kate   </td><td> 980   </td></tr>\n",
       "</tbody>\n",
       "</table>\n"
      ]
     },
     "execution_count": 48,
     "metadata": {
     },
     "output_type": "execute_result"
    }
   ],
   "source": [
    "storms %>% select(name, pressure)"
   ]
  },
  {
   "cell_type": "code",
   "execution_count": 49,
   "metadata": {
    "collapsed": false
   },
   "outputs": [
    {
     "data": {
      "text/html": [
       "<table>\n",
       "<thead><tr><th scope=col>name</th><th scope=col>year</th><th scope=col>month</th><th scope=col>day</th><th scope=col>hour</th><th scope=col>lat</th><th scope=col>long</th><th scope=col>status</th><th scope=col>category</th><th scope=col>wind</th><th scope=col>pressure</th><th scope=col>ts_diameter</th><th scope=col>hu_diameter</th></tr></thead>\n",
       "<tbody>\n",
       "\t<tr><td>Amy           </td><td>1975          </td><td>6             </td><td>29            </td><td>12            </td><td>33.8          </td><td>-73.8         </td><td>tropical storm</td><td>0             </td><td> 45           </td><td>1000          </td><td>NA            </td><td>NA            </td></tr>\n",
       "\t<tr><td>Amy           </td><td>1975          </td><td>6             </td><td>29            </td><td>18            </td><td>33.8          </td><td>-72.8         </td><td>tropical storm</td><td>0             </td><td> 50           </td><td> 998          </td><td>NA            </td><td>NA            </td></tr>\n",
       "\t<tr><td>Amy           </td><td>1975          </td><td>6             </td><td>30            </td><td> 0            </td><td>34.3          </td><td>-71.6         </td><td>tropical storm</td><td>0             </td><td> 50           </td><td> 998          </td><td>NA            </td><td>NA            </td></tr>\n",
       "\t<tr><td>Amy           </td><td>1975          </td><td>6             </td><td>30            </td><td> 6            </td><td>35.6          </td><td>-70.8         </td><td>tropical storm</td><td>0             </td><td> 55           </td><td> 998          </td><td>NA            </td><td>NA            </td></tr>\n",
       "\t<tr><td>Amy           </td><td>1975          </td><td>6             </td><td>30            </td><td>12            </td><td>35.9          </td><td>-70.5         </td><td>tropical storm</td><td>0             </td><td> 60           </td><td> 987          </td><td>NA            </td><td>NA            </td></tr>\n",
       "\t<tr><td>Amy           </td><td>1975          </td><td>6             </td><td>30            </td><td>18            </td><td>36.2          </td><td>-70.2         </td><td>tropical storm</td><td>0             </td><td> 60           </td><td> 987          </td><td>NA            </td><td>NA            </td></tr>\n",
       "\t<tr><td>Amy           </td><td>1975          </td><td>7             </td><td> 1            </td><td> 0            </td><td>36.2          </td><td>-69.8         </td><td>tropical storm</td><td>0             </td><td> 60           </td><td> 984          </td><td>NA            </td><td>NA            </td></tr>\n",
       "\t<tr><td>Amy           </td><td>1975          </td><td>7             </td><td> 1            </td><td> 6            </td><td>36.2          </td><td>-69.4         </td><td>tropical storm</td><td>0             </td><td> 60           </td><td> 984          </td><td>NA            </td><td>NA            </td></tr>\n",
       "\t<tr><td>Amy           </td><td>1975          </td><td>7             </td><td> 1            </td><td>12            </td><td>36.2          </td><td>-68.3         </td><td>tropical storm</td><td>0             </td><td> 60           </td><td> 984          </td><td>NA            </td><td>NA            </td></tr>\n",
       "\t<tr><td>Amy           </td><td>1975          </td><td>7             </td><td> 1            </td><td>18            </td><td>36.7          </td><td>-67.2         </td><td>tropical storm</td><td>0             </td><td> 60           </td><td> 984          </td><td>NA            </td><td>NA            </td></tr>\n",
       "\t<tr><td>Amy           </td><td>1975          </td><td>7             </td><td> 2            </td><td> 0            </td><td>37.4          </td><td>-66.7         </td><td>tropical storm</td><td>0             </td><td> 60           </td><td> 984          </td><td>NA            </td><td>NA            </td></tr>\n",
       "\t<tr><td>Amy           </td><td>1975          </td><td>7             </td><td> 2            </td><td> 6            </td><td>37.3          </td><td>-65.9         </td><td>tropical storm</td><td>0             </td><td> 60           </td><td> 984          </td><td>NA            </td><td>NA            </td></tr>\n",
       "\t<tr><td>Amy           </td><td>1975          </td><td>7             </td><td> 2            </td><td>12            </td><td>37.3          </td><td>-65.1         </td><td>tropical storm</td><td>0             </td><td> 60           </td><td> 981          </td><td>NA            </td><td>NA            </td></tr>\n",
       "\t<tr><td>Amy           </td><td>1975          </td><td>7             </td><td> 2            </td><td>18            </td><td>37.3          </td><td>-64.1         </td><td>tropical storm</td><td>0             </td><td> 60           </td><td> 986          </td><td>NA            </td><td>NA            </td></tr>\n",
       "\t<tr><td>Amy           </td><td>1975          </td><td>7             </td><td> 3            </td><td> 0            </td><td>37.7          </td><td>-62.8         </td><td>tropical storm</td><td>0             </td><td> 55           </td><td> 986          </td><td>NA            </td><td>NA            </td></tr>\n",
       "\t<tr><td>Amy           </td><td>1975          </td><td>7             </td><td> 3            </td><td> 6            </td><td>38.2          </td><td>-61.2         </td><td>tropical storm</td><td>0             </td><td> 55           </td><td> 986          </td><td>NA            </td><td>NA            </td></tr>\n",
       "\t<tr><td>Amy           </td><td>1975          </td><td>7             </td><td> 3            </td><td>12            </td><td>39.3          </td><td>-59.6         </td><td>tropical storm</td><td>0             </td><td> 55           </td><td> 986          </td><td>NA            </td><td>NA            </td></tr>\n",
       "\t<tr><td>Amy           </td><td>1975          </td><td>7             </td><td> 3            </td><td>18            </td><td>40.5          </td><td>-58.0         </td><td>tropical storm</td><td>0             </td><td> 50           </td><td> 986          </td><td>NA            </td><td>NA            </td></tr>\n",
       "\t<tr><td>Amy           </td><td>1975          </td><td>7             </td><td> 4            </td><td> 0            </td><td>42.5          </td><td>-54.8         </td><td>tropical storm</td><td>0             </td><td> 50           </td><td> 986          </td><td>NA            </td><td>NA            </td></tr>\n",
       "\t<tr><td>Amy           </td><td>1975          </td><td>7             </td><td> 4            </td><td> 6            </td><td>44.5          </td><td>-51.6         </td><td>tropical storm</td><td>0             </td><td> 50           </td><td> 986          </td><td>NA            </td><td>NA            </td></tr>\n",
       "\t<tr><td>Caroline      </td><td>1975          </td><td>8             </td><td>29            </td><td>18            </td><td>23.2          </td><td>-93.6         </td><td>tropical storm</td><td>0             </td><td> 50           </td><td> 994          </td><td>NA            </td><td>NA            </td></tr>\n",
       "\t<tr><td>Caroline      </td><td>1975          </td><td>8             </td><td>30            </td><td> 0            </td><td>23.3          </td><td>-94.2         </td><td>hurricane     </td><td>1             </td><td> 65           </td><td> 990          </td><td>NA            </td><td>NA            </td></tr>\n",
       "\t<tr><td>Caroline      </td><td>1975          </td><td>8             </td><td>30            </td><td> 6            </td><td>23.5          </td><td>-94.9         </td><td>hurricane     </td><td>1             </td><td> 65           </td><td> 990          </td><td>NA            </td><td>NA            </td></tr>\n",
       "\t<tr><td>Caroline      </td><td>1975          </td><td>8             </td><td>30            </td><td>12            </td><td>23.7          </td><td>-95.6         </td><td>hurricane     </td><td>1             </td><td> 65           </td><td> 989          </td><td>NA            </td><td>NA            </td></tr>\n",
       "\t<tr><td>Caroline      </td><td>1975          </td><td>8             </td><td>30            </td><td>18            </td><td>23.8          </td><td>-96.3         </td><td>hurricane     </td><td>1             </td><td> 70           </td><td> 987          </td><td>NA            </td><td>NA            </td></tr>\n",
       "\t<tr><td>Caroline      </td><td>1975          </td><td>8             </td><td>31            </td><td> 0            </td><td>24.0          </td><td>-97.0         </td><td>hurricane     </td><td>3             </td><td>100           </td><td> 973          </td><td>NA            </td><td>NA            </td></tr>\n",
       "\t<tr><td>Caroline      </td><td>1975          </td><td>8             </td><td>31            </td><td> 6            </td><td>24.1          </td><td>-97.5         </td><td>hurricane     </td><td>3             </td><td>100           </td><td> 963          </td><td>NA            </td><td>NA            </td></tr>\n",
       "\t<tr><td>Caroline      </td><td>1975          </td><td>8             </td><td>31            </td><td>12            </td><td>24.3          </td><td>-97.8         </td><td>hurricane     </td><td>2             </td><td> 90           </td><td> 963          </td><td>NA            </td><td>NA            </td></tr>\n",
       "\t<tr><td>Caroline      </td><td>1975          </td><td>8             </td><td>31            </td><td>18            </td><td>24.8          </td><td>-98.0         </td><td>tropical storm</td><td>0             </td><td> 55           </td><td> 993          </td><td>NA            </td><td>NA            </td></tr>\n",
       "\t<tr><td>Doris         </td><td>1975          </td><td>8             </td><td>29            </td><td>12            </td><td>34.9          </td><td>-48.9         </td><td>tropical storm</td><td>0             </td><td> 45           </td><td>1005          </td><td>NA            </td><td>NA            </td></tr>\n",
       "\t<tr><td>⋮</td><td>⋮</td><td>⋮</td><td>⋮</td><td>⋮</td><td>⋮</td><td>⋮</td><td>⋮</td><td>⋮</td><td>⋮</td><td>⋮</td><td>⋮</td><td>⋮</td></tr>\n",
       "\t<tr><td>Joaquin       </td><td>2015          </td><td>10            </td><td> 2            </td><td>21            </td><td>24.1          </td><td>-74.5         </td><td>hurricane     </td><td>3             </td><td>110           </td><td> 942          </td><td>345.2340      </td><td>109.3241      </td></tr>\n",
       "\t<tr><td>Joaquin       </td><td>2015          </td><td>10            </td><td> 3            </td><td> 0            </td><td>24.3          </td><td>-74.3         </td><td>hurricane     </td><td>4             </td><td>115           </td><td> 943          </td><td>345.2340      </td><td>109.3241      </td></tr>\n",
       "\t<tr><td>Joaquin       </td><td>2015          </td><td>10            </td><td> 3            </td><td> 6            </td><td>24.8          </td><td>-73.6         </td><td>hurricane     </td><td>4             </td><td>120           </td><td> 945          </td><td>345.2340      </td><td>109.3241      </td></tr>\n",
       "\t<tr><td>Joaquin       </td><td>2015          </td><td>10            </td><td> 3            </td><td>12            </td><td>25.4          </td><td>-72.6         </td><td>hurricane     </td><td>4             </td><td>135           </td><td> 934          </td><td>333.7262      </td><td>109.3241      </td></tr>\n",
       "\t<tr><td>Joaquin       </td><td>2015          </td><td>10            </td><td> 3            </td><td>18            </td><td>26.3          </td><td>-71.0         </td><td>hurricane     </td><td>4             </td><td>130           </td><td> 934          </td><td>333.7262      </td><td>109.3241      </td></tr>\n",
       "\t<tr><td>Joaquin       </td><td>2015          </td><td>10            </td><td> 4            </td><td> 0            </td><td>27.4          </td><td>-69.5         </td><td>hurricane     </td><td>4             </td><td>115           </td><td> 941          </td><td>333.7262      </td><td> 97.8163      </td></tr>\n",
       "\t<tr><td>Joaquin       </td><td>2015          </td><td>10            </td><td> 4            </td><td> 6            </td><td>28.9          </td><td>-68.3         </td><td>hurricane     </td><td>3             </td><td>105           </td><td> 949          </td><td>333.7262      </td><td> 92.0624      </td></tr>\n",
       "\t<tr><td>Joaquin       </td><td>2015          </td><td>10            </td><td> 4            </td><td>12            </td><td>30.4          </td><td>-67.2         </td><td>hurricane     </td><td>2             </td><td> 95           </td><td> 956          </td><td>322.2184      </td><td> 92.0624      </td></tr>\n",
       "\t<tr><td>Joaquin       </td><td>2015          </td><td>10            </td><td> 4            </td><td>18            </td><td>31.6          </td><td>-66.5         </td><td>hurricane     </td><td>2             </td><td> 85           </td><td> 958          </td><td>333.7262      </td><td> 80.5546      </td></tr>\n",
       "\t<tr><td>Joaquin       </td><td>2015          </td><td>10            </td><td> 5            </td><td> 0            </td><td>32.6          </td><td>-66.0         </td><td>hurricane     </td><td>1             </td><td> 75           </td><td> 961          </td><td>345.2340      </td><td> 74.8007      </td></tr>\n",
       "\t<tr><td>Joaquin       </td><td>2015          </td><td>10            </td><td> 5            </td><td> 6            </td><td>33.6          </td><td>-65.6         </td><td>hurricane     </td><td>1             </td><td> 75           </td><td> 964          </td><td>345.2340      </td><td> 74.8007      </td></tr>\n",
       "\t<tr><td>Joaquin       </td><td>2015          </td><td>10            </td><td> 5            </td><td>12            </td><td>34.4          </td><td>-65.2         </td><td>hurricane     </td><td>1             </td><td> 75           </td><td> 964          </td><td>356.7418      </td><td> 74.8007      </td></tr>\n",
       "\t<tr><td>Joaquin       </td><td>2015          </td><td>10            </td><td> 5            </td><td>18            </td><td>35.3          </td><td>-64.5         </td><td>hurricane     </td><td>1             </td><td> 75           </td><td> 964          </td><td>368.2496      </td><td> 69.0468      </td></tr>\n",
       "\t<tr><td>Joaquin       </td><td>2015          </td><td>10            </td><td> 6            </td><td> 0            </td><td>36.2          </td><td>-63.6         </td><td>hurricane     </td><td>1             </td><td> 75           </td><td> 967          </td><td>368.2496      </td><td> 69.0468      </td></tr>\n",
       "\t<tr><td>Joaquin       </td><td>2015          </td><td>10            </td><td> 6            </td><td> 6            </td><td>37.0          </td><td>-62.3         </td><td>hurricane     </td><td>1             </td><td> 75           </td><td> 970          </td><td>379.7574      </td><td> 74.8007      </td></tr>\n",
       "\t<tr><td>Joaquin       </td><td>2015          </td><td>10            </td><td> 6            </td><td>12            </td><td>37.9          </td><td>-60.4         </td><td>hurricane     </td><td>1             </td><td> 70           </td><td> 974          </td><td>402.7730      </td><td> 80.5546      </td></tr>\n",
       "\t<tr><td>Joaquin       </td><td>2015          </td><td>10            </td><td> 6            </td><td>18            </td><td>38.8          </td><td>-58.0         </td><td>hurricane     </td><td>1             </td><td> 70           </td><td> 974          </td><td>414.2808      </td><td> 80.5546      </td></tr>\n",
       "\t<tr><td>Joaquin       </td><td>2015          </td><td>10            </td><td> 7            </td><td> 0            </td><td>39.6          </td><td>-54.9         </td><td>hurricane     </td><td>1             </td><td> 70           </td><td> 974          </td><td>437.2964      </td><td> 86.3085      </td></tr>\n",
       "\t<tr><td>Joaquin       </td><td>2015          </td><td>10            </td><td> 7            </td><td> 6            </td><td>40.3          </td><td>-51.5         </td><td>hurricane     </td><td>1             </td><td> 65           </td><td> 977          </td><td>448.8042      </td><td> 80.5546      </td></tr>\n",
       "\t<tr><td>Joaquin       </td><td>2015          </td><td>10            </td><td> 7            </td><td>12            </td><td>41.0          </td><td>-47.5         </td><td>tropical storm</td><td>0             </td><td> 60           </td><td> 977          </td><td>471.8198      </td><td>  0.0000      </td></tr>\n",
       "\t<tr><td>Joaquin       </td><td>2015          </td><td>10            </td><td> 7            </td><td>18            </td><td>41.5          </td><td>-43.3         </td><td>tropical storm</td><td>0             </td><td> 60           </td><td> 977          </td><td>483.3276      </td><td>  0.0000      </td></tr>\n",
       "\t<tr><td>Kate          </td><td>2015          </td><td>11            </td><td> 9            </td><td>18            </td><td>25.0          </td><td>-75.7         </td><td>tropical storm</td><td>0             </td><td> 45           </td><td>1008          </td><td> 80.5546      </td><td>  0.0000      </td></tr>\n",
       "\t<tr><td>Kate          </td><td>2015          </td><td>11            </td><td>10            </td><td> 0            </td><td>26.4          </td><td>-76.2         </td><td>tropical storm</td><td>0             </td><td> 50           </td><td>1006          </td><td> 80.5546      </td><td>  0.0000      </td></tr>\n",
       "\t<tr><td>Kate          </td><td>2015          </td><td>11            </td><td>10            </td><td> 6            </td><td>28.0          </td><td>-76.2         </td><td>tropical storm</td><td>0             </td><td> 55           </td><td>1003          </td><td>103.5702      </td><td>  0.0000      </td></tr>\n",
       "\t<tr><td>Kate          </td><td>2015          </td><td>11            </td><td>10            </td><td>12            </td><td>29.5          </td><td>-75.4         </td><td>tropical storm</td><td>0             </td><td> 60           </td><td> 998          </td><td>103.5702      </td><td>  0.0000      </td></tr>\n",
       "\t<tr><td>Kate          </td><td>2015          </td><td>11            </td><td>10            </td><td>18            </td><td>31.2          </td><td>-74.0         </td><td>tropical storm</td><td>0             </td><td> 60           </td><td> 993          </td><td>103.5702      </td><td>  0.0000      </td></tr>\n",
       "\t<tr><td>Kate          </td><td>2015          </td><td>11            </td><td>11            </td><td> 0            </td><td>33.1          </td><td>-71.3         </td><td>hurricane     </td><td>1             </td><td> 65           </td><td> 990          </td><td>161.1092      </td><td> 23.0156      </td></tr>\n",
       "\t<tr><td>Kate          </td><td>2015          </td><td>11            </td><td>11            </td><td> 6            </td><td>35.2          </td><td>-67.6         </td><td>hurricane     </td><td>1             </td><td> 70           </td><td> 985          </td><td>207.1404      </td><td> 23.0156      </td></tr>\n",
       "\t<tr><td>Kate          </td><td>2015          </td><td>11            </td><td>11            </td><td>12            </td><td>36.2          </td><td>-62.5         </td><td>hurricane     </td><td>1             </td><td> 75           </td><td> 980          </td><td>345.2340      </td><td> 34.5234      </td></tr>\n",
       "\t<tr><td>Kate          </td><td>2015          </td><td>11            </td><td>11            </td><td>18            </td><td>37.6          </td><td>-58.2         </td><td>hurricane     </td><td>1             </td><td> 65           </td><td> 980          </td><td>379.7574      </td><td> 46.0312      </td></tr>\n",
       "</tbody>\n",
       "</table>\n"
      ]
     },
     "execution_count": 49,
     "metadata": {
     },
     "output_type": "execute_result"
    }
   ],
   "source": [
    "storms %>% filter(wind>40)"
   ]
  },
  {
   "cell_type": "code",
   "execution_count": 50,
   "metadata": {
    "collapsed": false
   },
   "outputs": [
    {
     "data": {
      "text/html": [
       "<table>\n",
       "<thead><tr><th scope=col>name</th><th scope=col>pressure</th></tr></thead>\n",
       "<tbody>\n",
       "\t<tr><td>Amy     </td><td>1000    </td></tr>\n",
       "\t<tr><td>Amy     </td><td> 998    </td></tr>\n",
       "\t<tr><td>Amy     </td><td> 998    </td></tr>\n",
       "\t<tr><td>Amy     </td><td> 998    </td></tr>\n",
       "\t<tr><td>Amy     </td><td> 987    </td></tr>\n",
       "\t<tr><td>Amy     </td><td> 987    </td></tr>\n",
       "\t<tr><td>Amy     </td><td> 984    </td></tr>\n",
       "\t<tr><td>Amy     </td><td> 984    </td></tr>\n",
       "\t<tr><td>Amy     </td><td> 984    </td></tr>\n",
       "\t<tr><td>Amy     </td><td> 984    </td></tr>\n",
       "\t<tr><td>Amy     </td><td> 984    </td></tr>\n",
       "\t<tr><td>Amy     </td><td> 984    </td></tr>\n",
       "\t<tr><td>Amy     </td><td> 981    </td></tr>\n",
       "\t<tr><td>Amy     </td><td> 986    </td></tr>\n",
       "\t<tr><td>Amy     </td><td> 986    </td></tr>\n",
       "\t<tr><td>Amy     </td><td> 986    </td></tr>\n",
       "\t<tr><td>Amy     </td><td> 986    </td></tr>\n",
       "\t<tr><td>Amy     </td><td> 986    </td></tr>\n",
       "\t<tr><td>Amy     </td><td> 986    </td></tr>\n",
       "\t<tr><td>Amy     </td><td> 986    </td></tr>\n",
       "\t<tr><td>Caroline</td><td> 994    </td></tr>\n",
       "\t<tr><td>Caroline</td><td> 990    </td></tr>\n",
       "\t<tr><td>Caroline</td><td> 990    </td></tr>\n",
       "\t<tr><td>Caroline</td><td> 989    </td></tr>\n",
       "\t<tr><td>Caroline</td><td> 987    </td></tr>\n",
       "\t<tr><td>Caroline</td><td> 973    </td></tr>\n",
       "\t<tr><td>Caroline</td><td> 963    </td></tr>\n",
       "\t<tr><td>Caroline</td><td> 963    </td></tr>\n",
       "\t<tr><td>Caroline</td><td> 993    </td></tr>\n",
       "\t<tr><td>Doris   </td><td>1005    </td></tr>\n",
       "\t<tr><td>⋮</td><td>⋮</td></tr>\n",
       "\t<tr><td>Joaquin</td><td> 942   </td></tr>\n",
       "\t<tr><td>Joaquin</td><td> 943   </td></tr>\n",
       "\t<tr><td>Joaquin</td><td> 945   </td></tr>\n",
       "\t<tr><td>Joaquin</td><td> 934   </td></tr>\n",
       "\t<tr><td>Joaquin</td><td> 934   </td></tr>\n",
       "\t<tr><td>Joaquin</td><td> 941   </td></tr>\n",
       "\t<tr><td>Joaquin</td><td> 949   </td></tr>\n",
       "\t<tr><td>Joaquin</td><td> 956   </td></tr>\n",
       "\t<tr><td>Joaquin</td><td> 958   </td></tr>\n",
       "\t<tr><td>Joaquin</td><td> 961   </td></tr>\n",
       "\t<tr><td>Joaquin</td><td> 964   </td></tr>\n",
       "\t<tr><td>Joaquin</td><td> 964   </td></tr>\n",
       "\t<tr><td>Joaquin</td><td> 964   </td></tr>\n",
       "\t<tr><td>Joaquin</td><td> 967   </td></tr>\n",
       "\t<tr><td>Joaquin</td><td> 970   </td></tr>\n",
       "\t<tr><td>Joaquin</td><td> 974   </td></tr>\n",
       "\t<tr><td>Joaquin</td><td> 974   </td></tr>\n",
       "\t<tr><td>Joaquin</td><td> 974   </td></tr>\n",
       "\t<tr><td>Joaquin</td><td> 977   </td></tr>\n",
       "\t<tr><td>Joaquin</td><td> 977   </td></tr>\n",
       "\t<tr><td>Joaquin</td><td> 977   </td></tr>\n",
       "\t<tr><td>Kate   </td><td>1008   </td></tr>\n",
       "\t<tr><td>Kate   </td><td>1006   </td></tr>\n",
       "\t<tr><td>Kate   </td><td>1003   </td></tr>\n",
       "\t<tr><td>Kate   </td><td> 998   </td></tr>\n",
       "\t<tr><td>Kate   </td><td> 993   </td></tr>\n",
       "\t<tr><td>Kate   </td><td> 990   </td></tr>\n",
       "\t<tr><td>Kate   </td><td> 985   </td></tr>\n",
       "\t<tr><td>Kate   </td><td> 980   </td></tr>\n",
       "\t<tr><td>Kate   </td><td> 980   </td></tr>\n",
       "</tbody>\n",
       "</table>\n"
      ]
     },
     "execution_count": 50,
     "metadata": {
     },
     "output_type": "execute_result"
    }
   ],
   "source": [
    "storms %>% filter(wind>40) %>% select(name,pressure)"
   ]
  },
  {
   "cell_type": "code",
   "execution_count": 51,
   "metadata": {
    "collapsed": false
   },
   "outputs": [
    {
     "data": {
      "text/html": [
       "<table>\n",
       "<thead><tr><th scope=col>name</th><th scope=col>quotient</th></tr></thead>\n",
       "<tbody>\n",
       "\t<tr><td>Amy       </td><td>0.02467917</td></tr>\n",
       "\t<tr><td>Amy       </td><td>0.02467917</td></tr>\n",
       "\t<tr><td>Amy       </td><td>0.02467917</td></tr>\n",
       "\t<tr><td>Amy       </td><td>0.02467917</td></tr>\n",
       "\t<tr><td>Amy       </td><td>0.02470356</td></tr>\n",
       "\t<tr><td>Amy       </td><td>0.02470356</td></tr>\n",
       "\t<tr><td>Amy       </td><td>0.02472799</td></tr>\n",
       "\t<tr><td>Amy       </td><td>0.02982107</td></tr>\n",
       "\t<tr><td>Amy       </td><td>0.03486056</td></tr>\n",
       "\t<tr><td>Amy       </td><td>0.03992016</td></tr>\n",
       "\t<tr><td>Amy       </td><td>0.04500000</td></tr>\n",
       "\t<tr><td>Amy       </td><td>0.05010020</td></tr>\n",
       "\t<tr><td>Amy       </td><td>0.05010020</td></tr>\n",
       "\t<tr><td>Amy       </td><td>0.05511022</td></tr>\n",
       "\t<tr><td>Amy       </td><td>0.06079027</td></tr>\n",
       "\t<tr><td>Amy       </td><td>0.06079027</td></tr>\n",
       "\t<tr><td>Amy       </td><td>0.06097561</td></tr>\n",
       "\t<tr><td>Amy       </td><td>0.06097561</td></tr>\n",
       "\t<tr><td>Amy       </td><td>0.06097561</td></tr>\n",
       "\t<tr><td>Amy       </td><td>0.06097561</td></tr>\n",
       "\t<tr><td>Amy       </td><td>0.06097561</td></tr>\n",
       "\t<tr><td>Amy       </td><td>0.06097561</td></tr>\n",
       "\t<tr><td>Amy       </td><td>0.06116208</td></tr>\n",
       "\t<tr><td>Amy       </td><td>0.06085193</td></tr>\n",
       "\t<tr><td>Amy       </td><td>0.05578093</td></tr>\n",
       "\t<tr><td>Amy       </td><td>0.05578093</td></tr>\n",
       "\t<tr><td>Amy       </td><td>0.05578093</td></tr>\n",
       "\t<tr><td>Amy       </td><td>0.05070994</td></tr>\n",
       "\t<tr><td>Amy       </td><td>0.05070994</td></tr>\n",
       "\t<tr><td>Amy       </td><td>0.05070994</td></tr>\n",
       "\t<tr><td>⋮</td><td>⋮</td></tr>\n",
       "\t<tr><td>Joaquin   </td><td>0.13918630</td></tr>\n",
       "\t<tr><td>Joaquin   </td><td>0.12221041</td></tr>\n",
       "\t<tr><td>Joaquin   </td><td>0.11064278</td></tr>\n",
       "\t<tr><td>Joaquin   </td><td>0.09937238</td></tr>\n",
       "\t<tr><td>Joaquin   </td><td>0.08872651</td></tr>\n",
       "\t<tr><td>Joaquin   </td><td>0.07804370</td></tr>\n",
       "\t<tr><td>Joaquin   </td><td>0.07780083</td></tr>\n",
       "\t<tr><td>Joaquin   </td><td>0.07780083</td></tr>\n",
       "\t<tr><td>Joaquin   </td><td>0.07780083</td></tr>\n",
       "\t<tr><td>Joaquin   </td><td>0.07755946</td></tr>\n",
       "\t<tr><td>Joaquin   </td><td>0.07731959</td></tr>\n",
       "\t<tr><td>Joaquin   </td><td>0.07186858</td></tr>\n",
       "\t<tr><td>Joaquin   </td><td>0.07186858</td></tr>\n",
       "\t<tr><td>Joaquin   </td><td>0.07186858</td></tr>\n",
       "\t<tr><td>Joaquin   </td><td>0.06653019</td></tr>\n",
       "\t<tr><td>Joaquin   </td><td>0.06141249</td></tr>\n",
       "\t<tr><td>Joaquin   </td><td>0.06141249</td></tr>\n",
       "\t<tr><td>Kate      </td><td>0.02970297</td></tr>\n",
       "\t<tr><td>Kate      </td><td>0.02970297</td></tr>\n",
       "\t<tr><td>Kate      </td><td>0.03465347</td></tr>\n",
       "\t<tr><td>Kate      </td><td>0.03968254</td></tr>\n",
       "\t<tr><td>Kate      </td><td>0.04464286</td></tr>\n",
       "\t<tr><td>Kate      </td><td>0.04970179</td></tr>\n",
       "\t<tr><td>Kate      </td><td>0.05483549</td></tr>\n",
       "\t<tr><td>Kate      </td><td>0.06012024</td></tr>\n",
       "\t<tr><td>Kate      </td><td>0.06042296</td></tr>\n",
       "\t<tr><td>Kate      </td><td>0.06565657</td></tr>\n",
       "\t<tr><td>Kate      </td><td>0.07106599</td></tr>\n",
       "\t<tr><td>Kate      </td><td>0.07653061</td></tr>\n",
       "\t<tr><td>Kate      </td><td>0.06632653</td></tr>\n",
       "</tbody>\n",
       "</table>\n"
      ]
     },
     "execution_count": 51,
     "metadata": {
     },
     "output_type": "execute_result"
    }
   ],
   "source": [
    "storms %>% mutate(quotient = wind / pressure) %>% select(name, quotient) "
   ]
  },
  {
   "cell_type": "code",
   "execution_count": 52,
   "metadata": {
    "collapsed": false
   },
   "outputs": [
    {
     "data": {
      "text/html": [
       "<table>\n",
       "<thead><tr><th scope=col>name</th><th scope=col>year</th><th scope=col>mean_wind</th><th scope=col>mean_pressure</th><th scope=col>mean_ts_diameter</th><th scope=col>mean_hu_diameter</th></tr></thead>\n",
       "<tbody>\n",
       "\t<tr><td>Amy      </td><td>1975     </td><td>46.50000 </td><td> 995.1333</td><td>NaN      </td><td>NaN      </td></tr>\n",
       "\t<tr><td>Caroline </td><td>1975     </td><td>38.93939 </td><td>1002.1212</td><td>NaN      </td><td>NaN      </td></tr>\n",
       "\t<tr><td>Doris    </td><td>1975     </td><td>73.69565 </td><td> 983.2174</td><td>NaN      </td><td>NaN      </td></tr>\n",
       "\t<tr><td>Belle    </td><td>1976     </td><td>68.05556 </td><td> 981.5556</td><td>NaN      </td><td>NaN      </td></tr>\n",
       "\t<tr><td>Anita    </td><td>1977     </td><td>72.00000 </td><td> 981.5000</td><td>NaN      </td><td>NaN      </td></tr>\n",
       "\t<tr><td>Clara    </td><td>1977     </td><td>40.00000 </td><td>1004.7083</td><td>NaN      </td><td>NaN      </td></tr>\n",
       "\t<tr><td>Evelyn   </td><td>1977     </td><td>51.11111 </td><td>1001.2222</td><td>NaN      </td><td>NaN      </td></tr>\n",
       "\t<tr><td>Amelia   </td><td>1978     </td><td>34.16667 </td><td>1007.6667</td><td>NaN      </td><td>NaN      </td></tr>\n",
       "\t<tr><td>Bess     </td><td>1978     </td><td>33.46154 </td><td>1008.5385</td><td>NaN      </td><td>NaN      </td></tr>\n",
       "\t<tr><td>Cora     </td><td>1978     </td><td>47.63158 </td><td>1002.4737</td><td>NaN      </td><td>NaN      </td></tr>\n",
       "\t<tr><td>Juliet   </td><td>1978     </td><td>40.00000 </td><td>1006.9375</td><td>NaN      </td><td>NaN      </td></tr>\n",
       "\t<tr><td>David    </td><td>1979     </td><td>86.83673 </td><td> 967.1633</td><td>NaN      </td><td>NaN      </td></tr>\n",
       "\t<tr><td>Frederic </td><td>1979     </td><td>52.57576 </td><td> 993.7121</td><td>NaN      </td><td>NaN      </td></tr>\n",
       "\t<tr><td>Alicia   </td><td>1983     </td><td>56.50000 </td><td> 991.7000</td><td>NaN      </td><td>NaN      </td></tr>\n",
       "\t<tr><td>Gloria   </td><td>1985     </td><td>60.84000 </td><td> 986.5360</td><td>NaN      </td><td>NaN      </td></tr>\n",
       "\t<tr><td>AL031987 </td><td>1987     </td><td>21.25000 </td><td>1010.0312</td><td>NaN      </td><td>NaN      </td></tr>\n",
       "\t<tr><td>AL061988 </td><td>1988     </td><td>37.30769 </td><td>1004.3077</td><td>NaN      </td><td>NaN      </td></tr>\n",
       "\t<tr><td>Gilbert  </td><td>1988     </td><td>79.57447 </td><td> 967.8085</td><td>NaN      </td><td>NaN      </td></tr>\n",
       "\t<tr><td>Joan     </td><td>1988     </td><td>63.96226 </td><td> 986.9057</td><td>NaN      </td><td>NaN      </td></tr>\n",
       "\t<tr><td>Hugo     </td><td>1989     </td><td>88.11321 </td><td> 964.3962</td><td>NaN      </td><td>NaN      </td></tr>\n",
       "\t<tr><td>Diana    </td><td>1990     </td><td>57.32143 </td><td> 993.0893</td><td>NaN      </td><td>NaN      </td></tr>\n",
       "\t<tr><td>Klaus    </td><td>1990     </td><td>55.47170 </td><td> 993.0189</td><td>NaN      </td><td>NaN      </td></tr>\n",
       "\t<tr><td>AL041991 </td><td>1991     </td><td>28.57143 </td><td>1010.0000</td><td>NaN      </td><td>NaN      </td></tr>\n",
       "\t<tr><td>AL101991 </td><td>1991     </td><td>25.00000 </td><td>1009.0000</td><td>NaN      </td><td>NaN      </td></tr>\n",
       "\t<tr><td>AL121991 </td><td>1991     </td><td>53.75000 </td><td> 991.1250</td><td>NaN      </td><td>NaN      </td></tr>\n",
       "\t<tr><td>Bob      </td><td>1991     </td><td>42.74648 </td><td> 999.0986</td><td>NaN      </td><td>NaN      </td></tr>\n",
       "\t<tr><td>AL021992 </td><td>1992     </td><td>29.00000 </td><td>1007.4000</td><td>NaN      </td><td>NaN      </td></tr>\n",
       "\t<tr><td>AL031992 </td><td>1992     </td><td>26.87500 </td><td>1015.8750</td><td>NaN      </td><td>NaN      </td></tr>\n",
       "\t<tr><td>AL081992 </td><td>1992     </td><td>28.00000 </td><td>1010.9200</td><td>NaN      </td><td>NaN      </td></tr>\n",
       "\t<tr><td>Andrew   </td><td>1992     </td><td>68.04688 </td><td> 983.1094</td><td>NaN      </td><td>NaN      </td></tr>\n",
       "\t<tr><td>⋮</td><td>⋮</td><td>⋮</td><td>⋮</td><td>⋮</td><td>⋮</td></tr>\n",
       "\t<tr><td>Chantal  </td><td>2013     </td><td>43.30508 </td><td>1003.4322</td><td>129.78241</td><td> 0.000000</td></tr>\n",
       "\t<tr><td>Dorian   </td><td>2013     </td><td>38.25000 </td><td>1007.9000</td><td> 44.30503</td><td> 0.000000</td></tr>\n",
       "\t<tr><td>Eight    </td><td>2013     </td><td>28.75000 </td><td>1008.2500</td><td>  0.00000</td><td> 0.000000</td></tr>\n",
       "\t<tr><td>Erin     </td><td>2013     </td><td>53.19149 </td><td> 993.4965</td><td> 39.31832</td><td> 0.000000</td></tr>\n",
       "\t<tr><td>Fernand  </td><td>2013     </td><td>41.66667 </td><td>1003.1667</td><td> 44.11323</td><td> 0.000000</td></tr>\n",
       "\t<tr><td>Gabrielle</td><td>2013     </td><td>57.23077 </td><td> 989.1692</td><td> 63.10110</td><td> 0.000000</td></tr>\n",
       "\t<tr><td>Humberto </td><td>2013     </td><td>61.46226 </td><td> 989.9434</td><td>186.09324</td><td>12.113474</td></tr>\n",
       "\t<tr><td>Ingrid   </td><td>2013     </td><td>41.79487 </td><td> 999.5897</td><td> 70.81723</td><td> 3.983469</td></tr>\n",
       "\t<tr><td>Jerry    </td><td>2013     </td><td>36.26667 </td><td>1003.2400</td><td> 64.54375</td><td> 0.000000</td></tr>\n",
       "\t<tr><td>Karen    </td><td>2013     </td><td>41.13402 </td><td>1001.8969</td><td>149.60140</td><td> 3.416378</td></tr>\n",
       "\t<tr><td>Lorenzo  </td><td>2013     </td><td>36.04651 </td><td>1006.1628</td><td> 52.67032</td><td> 2.655646</td></tr>\n",
       "\t<tr><td>Melissa  </td><td>2013     </td><td>38.23529 </td><td> 997.6471</td><td>182.77094</td><td> 0.000000</td></tr>\n",
       "\t<tr><td>Arthur   </td><td>2014     </td><td>38.88889 </td><td>1003.2870</td><td>164.48218</td><td>22.023548</td></tr>\n",
       "\t<tr><td>Cristobal</td><td>2014     </td><td>48.79630 </td><td> 996.7593</td><td>174.30107</td><td>23.857634</td></tr>\n",
       "\t<tr><td>Edouard  </td><td>2014     </td><td>60.87248 </td><td> 984.6510</td><td>183.73249</td><td>34.000318</td></tr>\n",
       "\t<tr><td>Fay      </td><td>2014     </td><td>43.33333 </td><td> 998.5200</td><td>134.80566</td><td> 1.232979</td></tr>\n",
       "\t<tr><td>Gonzalo  </td><td>2014     </td><td>86.14286 </td><td> 969.3143</td><td>224.56650</td><td>63.786091</td></tr>\n",
       "\t<tr><td>Hanna    </td><td>2014     </td><td>44.42857 </td><td> 996.7571</td><td>232.00159</td><td> 3.039796</td></tr>\n",
       "\t<tr><td>Two      </td><td>2014     </td><td>29.33333 </td><td>1009.6667</td><td>  0.00000</td><td> 0.000000</td></tr>\n",
       "\t<tr><td>Ana      </td><td>2015     </td><td>35.90000 </td><td>1004.6500</td><td> 67.34194</td><td> 0.000000</td></tr>\n",
       "\t<tr><td>Bill     </td><td>2015     </td><td>60.39474 </td><td> 984.7500</td><td>291.41811</td><td>58.667216</td></tr>\n",
       "\t<tr><td>Claudette</td><td>2015     </td><td>43.66667 </td><td>1000.0167</td><td> 72.33474</td><td> 0.000000</td></tr>\n",
       "\t<tr><td>Danny    </td><td>2015     </td><td>44.24658 </td><td>1002.2877</td><td>132.18828</td><td> 6.510992</td></tr>\n",
       "\t<tr><td>Erika    </td><td>2015     </td><td>54.61538 </td><td> 993.2692</td><td>126.58580</td><td> 0.000000</td></tr>\n",
       "\t<tr><td>Fred     </td><td>2015     </td><td>52.15686 </td><td> 995.3333</td><td>109.43692</td><td>12.974480</td></tr>\n",
       "\t<tr><td>Henri    </td><td>2015     </td><td>34.27083 </td><td>1005.1458</td><td> 91.80086</td><td> 0.000000</td></tr>\n",
       "\t<tr><td>Ida      </td><td>2015     </td><td>43.33333 </td><td>1000.2063</td><td>122.74987</td><td> 4.749251</td></tr>\n",
       "\t<tr><td>Joaquin  </td><td>2015     </td><td>81.78571 </td><td> 964.7143</td><td>278.92715</td><td>62.744910</td></tr>\n",
       "\t<tr><td>Kate     </td><td>2015     </td><td>65.94737 </td><td> 985.4000</td><td>130.12666</td><td> 9.737369</td></tr>\n",
       "\t<tr><td>Nine     </td><td>2015     </td><td>25.76923 </td><td>1007.6154</td><td>  0.00000</td><td> 0.000000</td></tr>\n",
       "</tbody>\n",
       "</table>\n"
      ]
     },
     "execution_count": 52,
     "metadata": {
     },
     "output_type": "execute_result"
    }
   ],
   "source": [
    "storms %>% group_by(name) %>% summarise(year = max(year), mean_wind = mean(wind, na.rm=TRUE), mean_pressure = mean(pressure, na.rm=TRUE), mean_ts_diameter = mean(ts_diameter, na.rm=TRUE), mean_hu_diameter = mean(hu_diameter, na.rm=TRUE)) %>% arrange(year,name)"
   ]
  },
  {
   "cell_type": "code",
   "execution_count": 62,
   "metadata": {
    "collapsed": false
   },
   "outputs": [
    {
     "data": {
      "text/html": [
       "<table>\n",
       "<thead><tr><th scope=col>country</th><th scope=col>year</th><th scope=col>cases</th></tr></thead>\n",
       "<tbody>\n",
       "\t<tr><td>Afghanistan</td><td>1995       </td><td>    0      </td></tr>\n",
       "\t<tr><td>Afghanistan</td><td>1996       </td><td>    0      </td></tr>\n",
       "\t<tr><td>Afghanistan</td><td>1997       </td><td>  128      </td></tr>\n",
       "\t<tr><td>Afghanistan</td><td>1998       </td><td> 1778      </td></tr>\n",
       "\t<tr><td>Afghanistan</td><td>1999       </td><td>  745      </td></tr>\n",
       "\t<tr><td>Afghanistan</td><td>2000       </td><td> 2666      </td></tr>\n",
       "\t<tr><td>Afghanistan</td><td>2001       </td><td> 4639      </td></tr>\n",
       "\t<tr><td>Afghanistan</td><td>2002       </td><td> 6509      </td></tr>\n",
       "\t<tr><td>Afghanistan</td><td>2003       </td><td> 6528      </td></tr>\n",
       "\t<tr><td>Afghanistan</td><td>2004       </td><td> 8245      </td></tr>\n",
       "\t<tr><td>Afghanistan</td><td>2005       </td><td> 9949      </td></tr>\n",
       "\t<tr><td>Afghanistan</td><td>2006       </td><td>12469      </td></tr>\n",
       "\t<tr><td>Afghanistan</td><td>2007       </td><td>13213      </td></tr>\n",
       "\t<tr><td>Afghanistan</td><td>2008       </td><td>13136      </td></tr>\n",
       "\t<tr><td>Afghanistan</td><td>2009       </td><td>12503      </td></tr>\n",
       "\t<tr><td>Afghanistan</td><td>2010       </td><td>12947      </td></tr>\n",
       "\t<tr><td>Afghanistan</td><td>2011       </td><td>15542      </td></tr>\n",
       "\t<tr><td>Afghanistan</td><td>2012       </td><td>15774      </td></tr>\n",
       "\t<tr><td>Afghanistan</td><td>2013       </td><td> 3454      </td></tr>\n",
       "\t<tr><td>Algeria    </td><td>1995       </td><td>    0      </td></tr>\n",
       "\t<tr><td>Algeria    </td><td>1996       </td><td>    0      </td></tr>\n",
       "\t<tr><td>Algeria    </td><td>1997       </td><td> 8902      </td></tr>\n",
       "\t<tr><td>Algeria    </td><td>1998       </td><td>    0      </td></tr>\n",
       "\t<tr><td>Algeria    </td><td>1999       </td><td> 7088      </td></tr>\n",
       "\t<tr><td>Algeria    </td><td>2000       </td><td> 8050      </td></tr>\n",
       "\t<tr><td>Algeria    </td><td>2001       </td><td> 7953      </td></tr>\n",
       "\t<tr><td>Algeria    </td><td>2002       </td><td> 8246      </td></tr>\n",
       "\t<tr><td>Algeria    </td><td>2003       </td><td> 7641      </td></tr>\n",
       "\t<tr><td>Algeria    </td><td>2004       </td><td> 7979      </td></tr>\n",
       "\t<tr><td>Algeria    </td><td>2005       </td><td> 8654      </td></tr>\n",
       "\t<tr><td>⋮</td><td>⋮</td><td>⋮</td></tr>\n",
       "\t<tr><td>Zambia  </td><td>2003    </td><td>18934   </td></tr>\n",
       "\t<tr><td>Zambia  </td><td>2004    </td><td>17247   </td></tr>\n",
       "\t<tr><td>Zambia  </td><td>2005    </td><td>14857   </td></tr>\n",
       "\t<tr><td>Zambia  </td><td>2006    </td><td>14025   </td></tr>\n",
       "\t<tr><td>Zambia  </td><td>2007    </td><td>13378   </td></tr>\n",
       "\t<tr><td>Zambia  </td><td>2008    </td><td>13211   </td></tr>\n",
       "\t<tr><td>Zambia  </td><td>2009    </td><td>12866   </td></tr>\n",
       "\t<tr><td>Zambia  </td><td>2010    </td><td>    0   </td></tr>\n",
       "\t<tr><td>Zambia  </td><td>2011    </td><td>41958   </td></tr>\n",
       "\t<tr><td>Zambia  </td><td>2012    </td><td>38869   </td></tr>\n",
       "\t<tr><td>Zambia  </td><td>2013    </td><td>40638   </td></tr>\n",
       "\t<tr><td>Zimbabwe</td><td>1995    </td><td>    0   </td></tr>\n",
       "\t<tr><td>Zimbabwe</td><td>1996    </td><td>    0   </td></tr>\n",
       "\t<tr><td>Zimbabwe</td><td>1997    </td><td>    0   </td></tr>\n",
       "\t<tr><td>Zimbabwe</td><td>1998    </td><td>    0   </td></tr>\n",
       "\t<tr><td>Zimbabwe</td><td>1999    </td><td>    0   </td></tr>\n",
       "\t<tr><td>Zimbabwe</td><td>2000    </td><td>    0   </td></tr>\n",
       "\t<tr><td>Zimbabwe</td><td>2001    </td><td>    0   </td></tr>\n",
       "\t<tr><td>Zimbabwe</td><td>2002    </td><td>11261   </td></tr>\n",
       "\t<tr><td>Zimbabwe</td><td>2003    </td><td>14488   </td></tr>\n",
       "\t<tr><td>Zimbabwe</td><td>2004    </td><td>14581   </td></tr>\n",
       "\t<tr><td>Zimbabwe</td><td>2005    </td><td>13155   </td></tr>\n",
       "\t<tr><td>Zimbabwe</td><td>2006    </td><td>43052   </td></tr>\n",
       "\t<tr><td>Zimbabwe</td><td>2007    </td><td>38928   </td></tr>\n",
       "\t<tr><td>Zimbabwe</td><td>2008    </td><td>36060   </td></tr>\n",
       "\t<tr><td>Zimbabwe</td><td>2009    </td><td>41768   </td></tr>\n",
       "\t<tr><td>Zimbabwe</td><td>2010    </td><td>42872   </td></tr>\n",
       "\t<tr><td>Zimbabwe</td><td>2011    </td><td>36960   </td></tr>\n",
       "\t<tr><td>Zimbabwe</td><td>2012    </td><td>34391   </td></tr>\n",
       "\t<tr><td>Zimbabwe</td><td>2013    </td><td>32899   </td></tr>\n",
       "</tbody>\n",
       "</table>\n"
      ]
     },
     "execution_count": 62,
     "metadata": {
     },
     "output_type": "execute_result"
    }
   ],
   "source": [
    "tb %>% group_by(country, year) %>% summarise(cases = sum(child,adult,elderly, na.rm=TRUE))"
   ]
  },
  {
   "cell_type": "code",
   "execution_count": 63,
   "metadata": {
    "collapsed": false
   },
   "outputs": [
    {
     "data": {
      "text/html": [
       "<table>\n",
       "<thead><tr><th scope=col>country</th><th scope=col>cases</th></tr></thead>\n",
       "<tbody>\n",
       "\t<tr><td>Afghanistan                          </td><td> 140225                              </td></tr>\n",
       "\t<tr><td>Algeria                              </td><td> 128119                              </td></tr>\n",
       "\t<tr><td>Angola                               </td><td> 308365                              </td></tr>\n",
       "\t<tr><td>Argentina                            </td><td> 117156                              </td></tr>\n",
       "\t<tr><td>Azerbaijan                           </td><td>  29965                              </td></tr>\n",
       "\t<tr><td>Bangladesh                           </td><td>1524034                              </td></tr>\n",
       "\t<tr><td>Belarus                              </td><td>  37185                              </td></tr>\n",
       "\t<tr><td>Benin                                </td><td>  48821                              </td></tr>\n",
       "\t<tr><td>Bolivia (Plurinational State of)     </td><td> 122555                              </td></tr>\n",
       "\t<tr><td>Botswana                             </td><td>  71470                              </td></tr>\n",
       "\t<tr><td>Brazil                               </td><td> 898655                              </td></tr>\n",
       "\t<tr><td>Burkina Faso                         </td><td>  41190                              </td></tr>\n",
       "\t<tr><td>Burundi                              </td><td>  68010                              </td></tr>\n",
       "\t<tr><td>Cambodia                             </td><td> 298179                              </td></tr>\n",
       "\t<tr><td>Cameroon                             </td><td> 169368                              </td></tr>\n",
       "\t<tr><td>Central African Republic             </td><td>  56856                              </td></tr>\n",
       "\t<tr><td>Chad                                 </td><td>  54274                              </td></tr>\n",
       "\t<tr><td>Chile                                </td><td>  32043                              </td></tr>\n",
       "\t<tr><td>China                                </td><td>8389839                              </td></tr>\n",
       "\t<tr><td>China, Hong Kong SAR                 </td><td>  56831                              </td></tr>\n",
       "\t<tr><td>Colombia                             </td><td> 141503                              </td></tr>\n",
       "\t<tr><td>Congo                                </td><td>  40900                              </td></tr>\n",
       "\t<tr><td>Côte d'Ivoire                        </td><td> 214668                              </td></tr>\n",
       "\t<tr><td>Democratic People's Republic of Korea</td><td> 639148                              </td></tr>\n",
       "\t<tr><td>Democratic Republic of the Congo     </td><td> 960902                              </td></tr>\n",
       "\t<tr><td>Djibouti                             </td><td>  25893                              </td></tr>\n",
       "\t<tr><td>Dominican Republic                   </td><td>  42927                              </td></tr>\n",
       "\t<tr><td>Ecuador                              </td><td>  45435                              </td></tr>\n",
       "\t<tr><td>Egypt                                </td><td> 121528                              </td></tr>\n",
       "\t<tr><td>Ethiopia                             </td><td> 583292                              </td></tr>\n",
       "\t<tr><td>⋮</td><td>⋮</td></tr>\n",
       "\t<tr><td>Republic of Korea                                   </td><td> 418260                                             </td></tr>\n",
       "\t<tr><td>Republic of Moldova                                 </td><td>  38779                                             </td></tr>\n",
       "\t<tr><td>Romania                                             </td><td> 263093                                             </td></tr>\n",
       "\t<tr><td>Russian Federation                                  </td><td> 926236                                             </td></tr>\n",
       "\t<tr><td>Rwanda                                              </td><td>  56853                                             </td></tr>\n",
       "\t<tr><td>Saudi Arabia                                        </td><td>  42988                                             </td></tr>\n",
       "\t<tr><td>Senegal                                             </td><td> 117948                                             </td></tr>\n",
       "\t<tr><td>Sierra Leone                                        </td><td>  84677                                             </td></tr>\n",
       "\t<tr><td>Somalia                                             </td><td> 104224                                             </td></tr>\n",
       "\t<tr><td>South Africa                                        </td><td>3010272                                             </td></tr>\n",
       "\t<tr><td>Spain                                               </td><td>  59347                                             </td></tr>\n",
       "\t<tr><td>Sri Lanka                                           </td><td> 114433                                             </td></tr>\n",
       "\t<tr><td>Sudan                                               </td><td> 211155                                             </td></tr>\n",
       "\t<tr><td>Swaziland                                           </td><td>  60139                                             </td></tr>\n",
       "\t<tr><td>Syrian Arab Republic                                </td><td>  42506                                             </td></tr>\n",
       "\t<tr><td>Tajikistan                                          </td><td>  45385                                             </td></tr>\n",
       "\t<tr><td>Thailand                                            </td><td> 447389                                             </td></tr>\n",
       "\t<tr><td>Togo                                                </td><td>  28713                                             </td></tr>\n",
       "\t<tr><td>Turkey                                              </td><td> 133109                                             </td></tr>\n",
       "\t<tr><td>Uganda                                              </td><td> 384230                                             </td></tr>\n",
       "\t<tr><td>Ukraine                                             </td><td> 272561                                             </td></tr>\n",
       "\t<tr><td>United Kingdom of Great Britain and Northern Ireland</td><td>  72853                                             </td></tr>\n",
       "\t<tr><td>United Republic of Tanzania                         </td><td> 552705                                             </td></tr>\n",
       "\t<tr><td>United States of America                            </td><td> 159009                                             </td></tr>\n",
       "\t<tr><td>Uzbekistan                                          </td><td> 167955                                             </td></tr>\n",
       "\t<tr><td>Venezuela (Bolivarian Republic of)                  </td><td>  68137                                             </td></tr>\n",
       "\t<tr><td>Viet Nam                                            </td><td> 965665                                             </td></tr>\n",
       "\t<tr><td>Yemen                                               </td><td>  84162                                             </td></tr>\n",
       "\t<tr><td>Zambia                                              </td><td> 263838                                             </td></tr>\n",
       "\t<tr><td>Zimbabwe                                            </td><td> 360415                                             </td></tr>\n",
       "</tbody>\n",
       "</table>\n"
      ]
     },
     "execution_count": 63,
     "metadata": {
     },
     "output_type": "execute_result"
    }
   ],
   "source": [
    "tb %>% group_by(country, year) %>% summarise(cases = sum(child,adult,elderly, na.rm = TRUE)) %>% summarise(cases = sum(cases))"
   ]
  },
  {
   "cell_type": "code",
   "execution_count": 64,
   "metadata": {
    "collapsed": false
   },
   "outputs": [
    {
     "data": {
      "text/html": [
       "<table>\n",
       "<thead><tr><th scope=col>cases</th></tr></thead>\n",
       "<tbody>\n",
       "\t<tr><td>42718969</td></tr>\n",
       "</tbody>\n",
       "</table>\n"
      ]
     },
     "execution_count": 64,
     "metadata": {
     },
     "output_type": "execute_result"
    }
   ],
   "source": [
    "tb %>% group_by(country, year) %>% summarise(cases = sum(child,adult,elderly, na.rm = TRUE)) %>% summarise(cases = sum(cases)) %>% summarise(cases = sum(cases))"
   ]
  },
  {
   "cell_type": "markdown",
   "metadata": {
    "collapsed": false
   },
   "source": [
    "---\n",
    "`dplyr` also comes with \"database\" functionality (`bind_cols()`, `bind_rows()`, `union()`, `intersect()`, `setdiff()`, `left_join()`, `inner_join()`, `semi_join()`, `anti_join()`, etc.). Consult Grolemund's slides or the `dplyr` documentation for more details (a cheatsheet is available at https://www.rstudio.com/resources/cheatsheets/)."
   ]
  },
  {
   "cell_type": "code",
   "execution_count": 0,
   "metadata": {
    "collapsed": false
   },
   "outputs": [
   ],
   "source": [
   ]
  }
 ],
 "metadata": {
  "hide_input": false,
  "kernelspec": {
   "display_name": "R (R-Project)",
   "language": "r",
   "name": "ir"
  },
  "language_info": {
   "codemirror_mode": "r",
   "file_extension": ".r",
   "mimetype": "text/x-r-source",
   "name": "R",
   "pygments_lexer": "r",
   "version": "3.4.4"
  }
 },
 "nbformat": 4,
 "nbformat_minor": 0
}