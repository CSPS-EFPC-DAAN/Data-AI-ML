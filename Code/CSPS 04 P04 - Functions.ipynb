{
 "cells": [
  {
   "cell_type": "markdown",
   "metadata": {
    "collapsed": false
   },
   "source": [
    "# Functions\n",
    "\n",
    "A function is a grouped sequence of code that can be called. We've seen functions before. For example, the mathematical function `cos` and `print` are functions.  A function can have 0 or more arguments.  Note that `cos` takes one arguments whereas `print` can have up to *five* arguments (see [documentation](https://docs.python.org/3.5/library/functions.html#print) on the `print` function for details).  Note that Python functions also support flexible arguments which are not discussed here."
   ]
  },
  {
   "cell_type": "markdown",
   "metadata": {
    "collapsed": false
   },
   "source": [
    "## Named functions\n",
    "\n",
    "Functions facilitate code reuse.  A function in Python is defined with the `def` statement.  The following defines a function that returns a pair consisting of the sum and the product of its arguments."
   ]
  },
  {
   "cell_type": "code",
   "execution_count": 1,
   "metadata": {
    "collapsed": false
   },
   "outputs": [
    {
     "name": "stdout",
     "output_type": "stream",
     "text": [
      "(7, 12)\n"
     ]
    }
   ],
   "source": [
    "def sumprod(x, y):\n",
    "    return x+y, x*y  # The parentheses around the tuple are optional here\n",
    "\n",
    "print(sumprod(3,4))"
   ]
  },
  {
   "cell_type": "markdown",
   "metadata": {
    "collapsed": false
   },
   "source": [
    "Functions can also have default argument values.  In the following function, if the second argument is not supplied, it will take on the value 5."
   ]
  },
  {
   "cell_type": "code",
   "execution_count": 2,
   "metadata": {
    "collapsed": false
   },
   "outputs": [
    {
     "name": "stdout",
     "output_type": "stream",
     "text": [
      "[2, 3, 4, 5]\n",
      "[7, 8, 9]\n"
     ]
    }
   ],
   "source": [
    "def myIntegerList(start, end=5):\n",
    "    return list(range(start, end+1))\n",
    "    \n",
    "print(myIntegerList(2))\n",
    "print(myIntegerList(7,9))"
   ]
  },
  {
   "cell_type": "markdown",
   "metadata": {
    "collapsed": false
   },
   "source": [
    "## Exercises\n",
    "\n",
    "Write a function `myFunc(x)` that returns the square of `x` if `x` is of type `int` and returns `None` otherwise.  (Hint: Recall that `type(x) is int` is the syntax for testing if `x` is of type `int`.)"
   ]
  },
  {
   "cell_type": "code",
   "execution_count": 3,
   "metadata": {
    "collapsed": false
   },
   "outputs": [
   ],
   "source": [
    "def myFunc(x):\n",
    "    res = None\n",
    "    ## Your code here\n",
    "    \n",
    "    return res\n",
    "\n",
    "# Uncomment the following lines to test if myFunc passes the assert statements.\n",
    "# assert( myFunc(5) == 25 )\n",
    "# assert( myFunc('five') is None )"
   ]
  },
  {
   "cell_type": "markdown",
   "metadata": {
    "collapsed": false
   },
   "source": [
    "Write a function `mySoS` that accepts a list of floats as the only argument and returns the sum of squares of the numbers.  You may assume that the argument is indeed a list of floats."
   ]
  },
  {
   "cell_type": "code",
   "execution_count": 4,
   "metadata": {
    "collapsed": false
   },
   "outputs": [
   ],
   "source": [
    "def mySoS(ns):\n",
    "    res = 0\n",
    "    ## Your code here\n",
    "    \n",
    "    return res\n",
    "\n",
    "# Uncomment the following lines to test if myFunc passes the assert statements.\n",
    "# assert( mySoS([1.0,2.0,3.0]) == 14.0 )\n",
    "# assert( mySoS([-2.5,1.3,13.4]) == 187.5 )"
   ]
  },
  {
   "cell_type": "markdown",
   "metadata": {
    "collapsed": false
   },
   "source": [
    "## Anonymous (lambda) functions\n",
    "\n"
   ]
  },
  {
   "cell_type": "markdown",
   "metadata": {
    "collapsed": false
   },
   "source": [
    "Another way to define a function is with a `lambda` statement.  It is mostly used for defining one-line functions.  The function is anonymous because it has no name."
   ]
  },
  {
   "cell_type": "code",
   "execution_count": 5,
   "metadata": {
    "collapsed": false
   },
   "outputs": [
    {
     "name": "stdout",
     "output_type": "stream",
     "text": [
      "12\n",
      "27\n"
     ]
    }
   ],
   "source": [
    "# Applies the binary function func to arguments x and y\n",
    "def applyFunc(func, x, y):\n",
    "    return func(x,y)\n",
    "\n",
    "print(applyFunc(lambda a,b: a*b, 3,4)) # The lambda function that multiplies its arguments is the first argument\n",
    "\n",
    "add = lambda u, v: u + v\n",
    "\n",
    "print(applyFunc(add, 7, 20)) # The first argument is the lambda function assigned to add."
   ]
  },
  {
   "cell_type": "markdown",
   "metadata": {
    "collapsed": false
   },
   "source": [
    "## Exercise\n",
    "\n",
    "What is the result of the following code?\n",
    "\n",
    "```\n",
    "def mystery(func, n):\n",
    "    return [ func(i) for i in range(n) ]\n",
    "\n",
    "print(mystery( lambda x: (2*x+1)**2, 5 ))\n",
    "```\n",
    "\n",
    "Rewrite the above code using only one line of code."
   ]
  },
  {
   "cell_type": "code",
   "execution_count": 6,
   "metadata": {
    "collapsed": false
   },
   "outputs": [
   ],
   "source": [
    "## Your code here"
   ]
  }
 ],
 "metadata": {
  "kernelspec": {
   "display_name": "Python 3 (Ubuntu Linux)",
   "language": "python",
   "name": "python3"
  },
  "language_info": {
   "codemirror_mode": {
    "name": "ipython",
    "version": 3
   },
   "file_extension": ".py",
   "mimetype": "text/x-python",
   "name": "python",
   "nbconvert_exporter": "python",
   "pygments_lexer": "ipython3",
   "version": "3.6.7"
  }
 },
 "nbformat": 4,
 "nbformat_minor": 0
}