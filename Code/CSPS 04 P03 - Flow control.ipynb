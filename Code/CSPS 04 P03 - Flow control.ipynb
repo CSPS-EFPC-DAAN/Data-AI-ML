{
 "cells": [
  {
   "cell_type": "markdown",
   "metadata": {
    "collapsed": false
   },
   "source": [
    "# Flow of control\n",
    "\n",
    "In this notebook, we will look at various ways to alter flow of control in Python.  In particular, we will look at conditional and loops.\n"
   ]
  },
  {
   "cell_type": "markdown",
   "metadata": {
    "collapsed": false
   },
   "source": [
    "## If statements\n",
    "\n",
    "Python supports if-elif-else statements in various forms.  In the following example, try setting `x` to various values and see the results."
   ]
  },
  {
   "cell_type": "code",
   "execution_count": 1,
   "metadata": {
    "collapsed": false
   },
   "outputs": [
    {
     "name": "stdout",
     "output_type": "stream",
     "text": [
      "Hello\n",
      "Out of range\n",
      "Small\n"
     ]
    }
   ],
   "source": [
    "x = 4\n",
    "\n",
    "# Print 'Hello' if x is less than 5\n",
    "if x < 5:\n",
    "    print('Hello')\n",
    "    \n",
    "# Print 'Out of range' if x is less than 5 or greater than 9\n",
    "# Otherwise, print 'Within range'\n",
    "if x < 5 or x > 9:\n",
    "    print('Out of range')\n",
    "else:\n",
    "    print('Within range')\n",
    "    \n",
    "# Print 'Small' if x is positive and less than 5\n",
    "# Print 'Five' if x is 5\n",
    "# Print 'Six' if x is 6\n",
    "# Otherwise, prints '+'\n",
    "if 0 < x and x < 5:\n",
    "    print('Small')\n",
    "elif x == 5:\n",
    "    print('Five')\n",
    "elif x == 6:\n",
    "    print('Six')\n",
    "else:\n",
    "    print('+')"
   ]
  },
  {
   "cell_type": "markdown",
   "metadata": {
    "collapsed": false
   },
   "source": [
    "**Important**: Note that the code block that follows an `if` or `else` or `elif` must be properly indented.  The custom is to use four spaces for indentation. The following example illustrates the effects of different indentations."
   ]
  },
  {
   "cell_type": "code",
   "execution_count": 2,
   "metadata": {
    "collapsed": false
   },
   "outputs": [
    {
     "name": "stdout",
     "output_type": "stream",
     "text": [
      "Small\n",
      "This will be printed no matter what x is\n"
     ]
    }
   ],
   "source": [
    "x = 4\n",
    "\n",
    "if x < 5:\n",
    "    print('Small')\n",
    "else:\n",
    "    print('This string will not be printed')\n",
    "    print('Neither will this')\n",
    "print('This will be printed no matter what x is')"
   ]
  },
  {
   "cell_type": "markdown",
   "metadata": {
    "collapsed": false
   },
   "source": [
    "## Exercise\n",
    "\n",
    "Write an if-statement that prints `Odd` if `x` is odd and prints `Even` if `x` is even.  (Hint: `x % n` returns the remainder of `x` divided by `n`.)"
   ]
  },
  {
   "cell_type": "code",
   "execution_count": 3,
   "metadata": {
    "collapsed": false
   },
   "outputs": [
   ],
   "source": [
    "import random\n",
    "x = random.randint(-100,100) # Assign a random integer between -100 and 100 inclusive to x\n",
    "\n",
    "# Your code here"
   ]
  },
  {
   "cell_type": "markdown",
   "metadata": {
    "collapsed": false
   },
   "source": [
    "## Loops\n",
    "\n",
    "Loops are useful for repeatedly executing a statement or a block.  We first consider the `for` loop."
   ]
  },
  {
   "cell_type": "code",
   "execution_count": 4,
   "metadata": {
    "collapsed": false
   },
   "outputs": [
    {
     "name": "stdout",
     "output_type": "stream",
     "text": [
      "1\n",
      "9\n",
      "64\n",
      "\n",
      "45\n",
      "\n",
      "0\n",
      "2\n",
      "4\n",
      "6\n",
      "8\n"
     ]
    }
   ],
   "source": [
    "# For each value in the list [1,3,8], its square is printed.\n",
    "for i in [1,3,8]:\n",
    "    print(i**2)\n",
    "print()\n",
    "    \n",
    "# Calculate the sum 1 + 2 + 3 + 4 + 5 + 6 + 7 + 8 + 9 and print its value\n",
    "sum = 0\n",
    "for x in range(1,10):\n",
    "    sum += x  # add the value of x to sum\n",
    "print(sum)\n",
    "print()\n",
    "\n",
    "# Print the first n even nonnegative integers\n",
    "n = 5\n",
    "for n in range(0,n):\n",
    "    t = 2*n\n",
    "    print(t)"
   ]
  },
  {
   "cell_type": "markdown",
   "metadata": {
    "collapsed": false
   },
   "source": [
    "When a `for` loop is used to create a list, it is better to rewrite it using list comprehension.  The following timing comparsion illustrates the contrast."
   ]
  },
  {
   "cell_type": "code",
   "execution_count": 5,
   "metadata": {
    "collapsed": false
   },
   "outputs": [
    {
     "name": "stdout",
     "output_type": "stream",
     "text": [
      "25.8 ms ± 6.12 ms per loop (mean ± std. dev. of 7 runs, 10 loops each)\n"
     ]
    }
   ],
   "source": [
    "%%timeit\n",
    "l = []\n",
    "for i in range(100):\n",
    "    for j in range(1000):\n",
    "        l.append((i,j))"
   ]
  },
  {
   "cell_type": "code",
   "execution_count": 6,
   "metadata": {
    "collapsed": false
   },
   "outputs": [
    {
     "name": "stdout",
     "output_type": "stream",
     "text": [
      "12.7 ms ± 861 µs per loop (mean ± std. dev. of 7 runs, 100 loops each)\n"
     ]
    }
   ],
   "source": [
    "%%timeit\n",
    "l = [ (i,j) for i in range(100) for j in range(1000)]"
   ]
  },
  {
   "cell_type": "markdown",
   "metadata": {
    "collapsed": false
   },
   "source": [
    "`while` loops are useful for iterating until a condition is met."
   ]
  },
  {
   "cell_type": "code",
   "execution_count": 7,
   "metadata": {
    "collapsed": false
   },
   "outputs": [
    {
     "name": "stdout",
     "output_type": "stream",
     "text": [
      "2 4 6 8 10 12 14 16 18 20 \n",
      "abcdefghijklmnopqrstuvwxyz"
     ]
    }
   ],
   "source": [
    "# Print the first 10 even positive integers, separated by space\n",
    "i = 0\n",
    "while i < 10:  # Repeat the following block until i reaches 10 or greater\n",
    "    i += 1\n",
    "    print(2*i, end=' ')\n",
    "print()\n",
    "\n",
    "# Print the 26 alphabets in lower case in one line with no separation\n",
    "i = 0;\n",
    "while i < 26:\n",
    "    print(chr(ord('a')+i), end='') # ord returns the ordinal for a character. chr does the reverse.\n",
    "    i += 1"
   ]
  },
  {
   "cell_type": "markdown",
   "metadata": {
    "collapsed": false
   },
   "source": [
    "## Exercises\n",
    "\n",
    "Use a single `while` loop to print all pairs (x,y) such that x+y=100 and x ranges from 0 to 50."
   ]
  },
  {
   "cell_type": "code",
   "execution_count": 8,
   "metadata": {
    "collapsed": false
   },
   "outputs": [
   ],
   "source": [
    "# Your code here"
   ]
  }
 ],
 "metadata": {
  "kernelspec": {
   "display_name": "Python 3 (Ubuntu Linux)",
   "language": "python",
   "name": "python3"
  },
  "language_info": {
   "codemirror_mode": {
    "name": "ipython",
    "version": 3
   },
   "file_extension": ".py",
   "mimetype": "text/x-python",
   "name": "python",
   "nbconvert_exporter": "python",
   "pygments_lexer": "ipython3",
   "version": "3.6.7"
  }
 },
 "nbformat": 4,
 "nbformat_minor": 0
}